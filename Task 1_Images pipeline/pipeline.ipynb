{
 "cells": [
  {
   "cell_type": "code",
   "execution_count": 5,
   "metadata": {},
   "outputs": [],
   "source": [
    "from read_data import read_data\n",
    "from data_analysis import analyze_data\n",
    "from collections import Counter\n",
    "\n",
    "import matplotlib.pyplot as plt\n",
    "import numpy as np\n",
    "import os\n",
    "import joblib\n",
    "import cv2\n"
   ]
  },
  {
   "cell_type": "code",
   "execution_count": 6,
   "metadata": {},
   "outputs": [
    {
     "ename": "FileNotFoundError",
     "evalue": "[Errno 2] No such file or directory: 'big_cats_80x80px.pkl'",
     "output_type": "error",
     "traceback": [
      "\u001b[0;31m---------------------------------------------------------------------------\u001b[0m",
      "\u001b[0;31mFileNotFoundError\u001b[0m                         Traceback (most recent call last)",
      "\u001b[0;32m<ipython-input-6-1bcaa8427eb1>\u001b[0m in \u001b[0;36m<module>\u001b[0;34m\u001b[0m\n\u001b[1;32m      2\u001b[0m \u001b[0mbase_name\u001b[0m \u001b[0;34m=\u001b[0m \u001b[0;34m'big_cats'\u001b[0m\u001b[0;34m\u001b[0m\u001b[0;34m\u001b[0m\u001b[0m\n\u001b[1;32m      3\u001b[0m \u001b[0mwidth\u001b[0m \u001b[0;34m=\u001b[0m \u001b[0;36m80\u001b[0m\u001b[0;34m\u001b[0m\u001b[0;34m\u001b[0m\u001b[0m\n\u001b[0;32m----> 4\u001b[0;31m \u001b[0mdata\u001b[0m \u001b[0;34m=\u001b[0m \u001b[0mjoblib\u001b[0m\u001b[0;34m.\u001b[0m\u001b[0mload\u001b[0m\u001b[0;34m(\u001b[0m\u001b[0;34mf'{base_name}_{width}x{width}px.pkl'\u001b[0m\u001b[0;34m)\u001b[0m\u001b[0;34m\u001b[0m\u001b[0;34m\u001b[0m\u001b[0m\n\u001b[0m",
      "\u001b[0;32m/usr/local/lib/python3.8/site-packages/joblib/numpy_pickle.py\u001b[0m in \u001b[0;36mload\u001b[0;34m(filename, mmap_mode)\u001b[0m\n\u001b[1;32m    575\u001b[0m             \u001b[0mobj\u001b[0m \u001b[0;34m=\u001b[0m \u001b[0m_unpickle\u001b[0m\u001b[0;34m(\u001b[0m\u001b[0mfobj\u001b[0m\u001b[0;34m)\u001b[0m\u001b[0;34m\u001b[0m\u001b[0;34m\u001b[0m\u001b[0m\n\u001b[1;32m    576\u001b[0m     \u001b[0;32melse\u001b[0m\u001b[0;34m:\u001b[0m\u001b[0;34m\u001b[0m\u001b[0;34m\u001b[0m\u001b[0m\n\u001b[0;32m--> 577\u001b[0;31m         \u001b[0;32mwith\u001b[0m \u001b[0mopen\u001b[0m\u001b[0;34m(\u001b[0m\u001b[0mfilename\u001b[0m\u001b[0;34m,\u001b[0m \u001b[0;34m'rb'\u001b[0m\u001b[0;34m)\u001b[0m \u001b[0;32mas\u001b[0m \u001b[0mf\u001b[0m\u001b[0;34m:\u001b[0m\u001b[0;34m\u001b[0m\u001b[0;34m\u001b[0m\u001b[0m\n\u001b[0m\u001b[1;32m    578\u001b[0m             \u001b[0;32mwith\u001b[0m \u001b[0m_read_fileobject\u001b[0m\u001b[0;34m(\u001b[0m\u001b[0mf\u001b[0m\u001b[0;34m,\u001b[0m \u001b[0mfilename\u001b[0m\u001b[0;34m,\u001b[0m \u001b[0mmmap_mode\u001b[0m\u001b[0;34m)\u001b[0m \u001b[0;32mas\u001b[0m \u001b[0mfobj\u001b[0m\u001b[0;34m:\u001b[0m\u001b[0;34m\u001b[0m\u001b[0;34m\u001b[0m\u001b[0m\n\u001b[1;32m    579\u001b[0m                 \u001b[0;32mif\u001b[0m \u001b[0misinstance\u001b[0m\u001b[0;34m(\u001b[0m\u001b[0mfobj\u001b[0m\u001b[0;34m,\u001b[0m \u001b[0mstr\u001b[0m\u001b[0;34m)\u001b[0m\u001b[0;34m:\u001b[0m\u001b[0;34m\u001b[0m\u001b[0;34m\u001b[0m\u001b[0m\n",
      "\u001b[0;31mFileNotFoundError\u001b[0m: [Errno 2] No such file or directory: 'big_cats_80x80px.pkl'"
     ]
    }
   ],
   "source": [
    "# ---- Read the data ----\n",
    "base_name = 'big_cats'\n",
    "width = 80\n",
    "data = joblib.load(f'{base_name}_{width}x{width}px.pkl')"
   ]
  },
  {
   "cell_type": "code",
   "execution_count": 3,
   "metadata": {},
   "outputs": [
    {
     "ename": "NameError",
     "evalue": "name 'data' is not defined",
     "output_type": "error",
     "traceback": [
      "\u001b[0;31m---------------------------------------------------------------------------\u001b[0m",
      "\u001b[0;31mNameError\u001b[0m                                 Traceback (most recent call last)",
      "\u001b[0;32m<ipython-input-3-f1583b0efa19>\u001b[0m in \u001b[0;36m<module>\u001b[0;34m\u001b[0m\n\u001b[1;32m      1\u001b[0m \u001b[0;32mfrom\u001b[0m \u001b[0mfeature_extraction\u001b[0m \u001b[0;32mimport\u001b[0m \u001b[0mapply_sift\u001b[0m\u001b[0;34m\u001b[0m\u001b[0;34m\u001b[0m\u001b[0m\n\u001b[1;32m      2\u001b[0m \u001b[0;31m# https://citeseerx.ist.psu.edu/viewdoc/download?doi=10.1.1.313.1996&rep=rep1&type=pdf\u001b[0m\u001b[0;34m\u001b[0m\u001b[0;34m\u001b[0m\u001b[0;34m\u001b[0m\u001b[0m\n\u001b[0;32m----> 3\u001b[0;31m \u001b[0mdata\u001b[0m \u001b[0;34m=\u001b[0m \u001b[0mapply_sift\u001b[0m\u001b[0;34m(\u001b[0m\u001b[0mdata\u001b[0m\u001b[0;34m)\u001b[0m\u001b[0;34m\u001b[0m\u001b[0;34m\u001b[0m\u001b[0m\n\u001b[0m\u001b[1;32m      4\u001b[0m \u001b[0;34m\u001b[0m\u001b[0m\n\u001b[1;32m      5\u001b[0m \u001b[0;32mfor\u001b[0m \u001b[0mdes\u001b[0m \u001b[0;32min\u001b[0m \u001b[0mdata\u001b[0m\u001b[0;34m[\u001b[0m\u001b[0;34m'sift_description'\u001b[0m\u001b[0;34m]\u001b[0m\u001b[0;34m[\u001b[0m\u001b[0;34m:\u001b[0m\u001b[0;36m5\u001b[0m\u001b[0;34m]\u001b[0m\u001b[0;34m:\u001b[0m\u001b[0;34m\u001b[0m\u001b[0;34m\u001b[0m\u001b[0m\n",
      "\u001b[0;31mNameError\u001b[0m: name 'data' is not defined"
     ]
    }
   ],
   "source": [
    "from feature_extraction import apply_sift\n",
    "# https://citeseerx.ist.psu.edu/viewdoc/download?doi=10.1.1.313.1996&rep=rep1&type=pdf\n",
    "data = apply_sift(data)\n",
    "\n",
    "for des in data['sift_description'][:5]:\n",
    "    print('\\n')\n",
    "    for d in des:\n",
    "        print(d)\n",
    "\n",
    "# TODO Sift can also be used with a mask (similar to a ROI)\n",
    "# Maybe we can detect the animal fist using edge detection (maybe Sobel?)\n",
    "# And then use SIFT\n",
    "# http://amroamroamro.github.io/mexopencv/matlab/cv.SIFT.detectAndCompute.html\n",
    "\n",
    "# Apply sift inserts the result (descriptions) in data['sift_description']\n",
    "# Do we need to take the keypoints into account?\n",
    "\n",
    "# Maybe use knn or svm : https://liverungrow.medium.com/sift-bag-of-features-svm-for-classification-b5f775d8e55f\n",
    "\n"
   ]
  },
  {
   "cell_type": "code",
   "execution_count": null,
   "metadata": {},
   "outputs": [],
   "source": []
  },
  {
   "cell_type": "code",
   "execution_count": null,
   "metadata": {},
   "outputs": [],
   "source": [
    "# ---- Show the images by class ----\n",
    "c = Counter(data['label'])\n",
    "print(\"Images per class: \", c)\n",
    "print(np.unique(data['label']))\n",
    "\n",
    "# Loop through all the different classes\n",
    "for img_class in np.unique(data['label']):\n",
    "    print('images of class: ', img_class)\n",
    "     # Loop through all the images of that class\n",
    "    counter = 0\n",
    "      # Create a 5x5 grid of images\n",
    "    fig, ax = plt.subplots(5, 5, figsize=(10, 10))\n",
    "    for idx, img in enumerate(data['image']):\n",
    "        # Show the images of that class\n",
    "        if data[\"label\"][idx] == img_class:\n",
    "            i = int(counter / 5)\n",
    "            j = counter % 5\n",
    "            ax[i, j].imshow(img)\n",
    "            ax[i, j].axis('off')\n",
    "            counter += 1\n",
    "            if counter >= 25:\n",
    "                break\n",
    "    plt.show()\n"
   ]
  },
  {
   "cell_type": "code",
   "execution_count": null,
   "metadata": {},
   "outputs": [],
   "source": [
    "# https://realpython.com/face-recognition-with-python/\n",
    "# from cv2 import CascadeClassifier\n",
    "# import cv2\n",
    "\n",
    "# test_img1 = np.float32(data['image'][5])\n",
    "\n",
    "# test_img1 = cv2.cvtColor(test_img1, cv2.COLOR_RGB2GRAY)\n",
    "\n",
    "# test_img1 = cv2.normalize(test_img1, None, 0, 255,\n",
    "#                          cv2.NORM_MINMAX).astype('uint8')\n",
    "\n",
    "# cv2.imshow('test igm', test_img1)\n",
    "\n",
    "# classifier = CascadeClassifier('haarcascade_frontalface_default.xml')\n",
    "\n",
    "# faces = classifier.detectMultiScale(\n",
    "#     test_img1,\n",
    "#     scaleFactor=1.1,\n",
    "#     minNeighbors=5,\n",
    "#     minSize=(30, 30),\n",
    "#     flags=cv2.CASCADE_SCALE_IMAGE\n",
    "# )\n",
    "\n",
    "# print (\"Found {0} faces!\".format(len(faces)))\n",
    "\n",
    "# # Draw a rectangle around the faces\n",
    "# for (x, y, w, h) in faces:\n",
    "#     cv2.rectangle(test_img1, (x, y), (x+w, y+h), (0, 255, 0), 2)\n",
    "\n",
    "# cv2.imshow(\"Faces found\", test_img1)\n",
    "# cv2.waitKey(0)\n",
    "# cv2.destroyAllWindows()\n"
   ]
  },
  {
   "cell_type": "code",
   "execution_count": null,
   "metadata": {},
   "outputs": [],
   "source": [
    "# ---- Feature selection (Examples for 1 image) ----\n",
    "\n",
    "# -- SIFT --\n",
    "# https://www.analyticsvidhya.com/blog/2019/10/detailed-guide-powerful-sift-technique-image-matching-python/\n",
    "# def apply_sift(test_img):\n",
    "    \n",
    "#     # Get the sift keypoints and the corresponding descriptors\n",
    "#     sift = cv2.SIFT_create() \n",
    "#     kp, des = sift.detectAndCompute(test_img, None)\n",
    "#     # Draw the keypoints and show them on the image\n",
    "#     test_img = cv2.drawKeypoints(test_img, kp, test_img)\n",
    "#     plt.imshow(test_img)\n",
    "#     plt.show()\n",
    "#     return kp, des\n",
    "\n",
    "# test_img1 = np.float32(data['image'][0])\n",
    "# test_img2 = np.float32(data['image'][1])\n",
    "\n",
    "# # Grayscale the images\n",
    "# test_img1 = cv2.cvtColor(test_img1, cv2.COLOR_RGB2GRAY)\n",
    "# test_img2 = cv2.cvtColor(test_img2, cv2.COLOR_RGB2GRAY)\n",
    "\n",
    "# # Convert the image to a binary image (uint8)\n",
    "# test_img1 = cv2.normalize(test_img1, None, 0, 255,\n",
    "#                          cv2.NORM_MINMAX).astype('uint8')\n",
    "# test_img2 = cv2.normalize(test_img2, None, 0, 255,\n",
    "#                          cv2.NORM_MINMAX).astype('uint8')\n",
    "\n",
    "\n",
    "# kp1, des1 = apply_sift(test_img1)\n",
    "# kp2, des2 = apply_sift(test_img2)\n",
    "\n",
    "# # match the features\n",
    "# bf = cv2.BFMatcher(cv2.NORM_L1, crossCheck=True)\n",
    "# matches = bf.match(des1, des2)\n",
    "# # Only get the best matches\n",
    "# matches = sorted(matches, key=lambda x: x.distance)\n",
    "\n",
    "# print(matches)\n",
    "\n",
    "# result_img = cv2.drawMatches(test_img1, kp1, test_img2, kp2, matches, test_img2, flags=2)\n",
    "# plt.imshow(result_img)\n",
    "# plt.show()\n"
   ]
  },
  {
   "cell_type": "code",
   "execution_count": null,
   "metadata": {},
   "outputs": [],
   "source": [
    "\n"
   ]
  },
  {
   "cell_type": "code",
   "execution_count": null,
   "metadata": {},
   "outputs": [],
   "source": [
    "# -- Edge detection using Sobel --\n",
    "# from skimage.filters import sobel_h, sobel_v\n",
    "\n",
    "# test_img = np.float32(data['image'][0])\n",
    "\n",
    "# # Grayscale the images\n",
    "# test_img = cv2.cvtColor(test_img, cv2.COLOR_RGB2GRAY)\n",
    "\n",
    "# sobel_img_h = sobel_h(test_img)\n",
    "# sobel_img_v = sobel_v(test_img)\n",
    "\n",
    "# plt.imshow(sobel_img_h, cmap='gray')\n",
    "# plt.show()\n",
    "# plt.imshow(sobel_img_v, cmap='gray')\n",
    "# plt.show()"
   ]
  },
  {
   "cell_type": "code",
   "execution_count": 9,
   "metadata": {},
   "outputs": [],
   "source": [
    "\n",
    "\n",
    "# These points are required, but (obviously) not in this order\n",
    "\n",
    "# ---- Data Analysis ----\n",
    "\n",
    "# ---- Feature selection and dimension reduction ----\n",
    "# Hough transform\n",
    "# HoG feature extraction\n",
    "\n",
    "# ---- Classification ----\n",
    "\n",
    "# ---- Clustering ----\n",
    "\n",
    "# ---- Grid search ----\n",
    "\n",
    "# ---- Model evaluation ----\n",
    "\n",
    "# ---- Data augmentation ----\n",
    "\n",
    "# ---- Ensemble ----\n"
   ]
  }
 ],
 "metadata": {
  "interpreter": {
   "hash": "31f2aee4e71d21fbe5cf8b01ff0e069b9275f58929596ceb00d14d90e3e16cd6"
  },
  "kernelspec": {
   "display_name": "Python 3",
   "language": "python",
   "name": "python3"
  },
  "language_info": {
   "codemirror_mode": {
    "name": "ipython",
    "version": 3
   },
   "file_extension": ".py",
   "mimetype": "text/x-python",
   "name": "python",
   "nbconvert_exporter": "python",
   "pygments_lexer": "ipython3",
   "version": "3.8.12"
  }
 },
 "nbformat": 4,
 "nbformat_minor": 2
}
