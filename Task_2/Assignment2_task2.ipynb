{
 "cells": [
  {
   "cell_type": "code",
   "execution_count": 30,
   "id": "fb85bb4b",
   "metadata": {},
   "outputs": [],
   "source": [
    "import pandas as pd, numpy as np\n",
    "from imblearn.over_sampling import SMOTE\n",
    "import matplotlib.pyplot as plt\n",
    "import seaborn as sns\n",
    "from sklearn.utils import shuffle\n",
    "from sklearn.model_selection import train_test_split\n",
    "from sklearn import metrics\n",
    "from sklearn.linear_model import LogisticRegression\n",
    "from sklearn.semi_supervised import LabelPropagation\n",
    "import warnings\n",
    "warnings.filterwarnings(\"ignore\")"
   ]
  },
  {
   "cell_type": "markdown",
   "id": "fd88e432",
   "metadata": {},
   "source": [
    "# Functions"
   ]
  },
  {
   "cell_type": "code",
   "execution_count": 72,
   "id": "50b16359",
   "metadata": {},
   "outputs": [],
   "source": [
    "def split_data(data, labels, test_size):\n",
    "    #X_train, X_test, Y_train, Y_test = \n",
    "    return train_test_split(data, labels, test_size=test_size)\n",
    "\n",
    "def fit_model(model, train_data, test_data, train_labels, test_labels):\n",
    "    model.fit(train_data, train_labels)\n",
    "    predictions = model.predict(test_data)\n",
    "    acc = metrics.accuracy_score(test_labels, predictions)\n",
    "    f1 = metrics.f1_score(test_labels, predictions)\n",
    "    return acc, f1\n",
    "    \n",
    "def create_no_labels(train_data, test_data, train_labels, test_labels):\n",
    "    # create \"no label\" for unlabeled data (-1==unlabeled)\n",
    "    unlabeled = np.ones(len(test_labels))*(-1)\n",
    "    # recombine training dataset labels\n",
    "    data = np.concatenate((train_data, test_data))\n",
    "    labels = np.concatenate((train_labels, unlabeled))\n",
    "    return data, labels"
   ]
  },
  {
   "cell_type": "markdown",
   "id": "2e5deaaa",
   "metadata": {},
   "source": [
    "# Create dataset"
   ]
  },
  {
   "cell_type": "code",
   "execution_count": 73,
   "id": "80f359dd",
   "metadata": {},
   "outputs": [],
   "source": [
    "#Read the dataset and apply SMOTE for class imbalanace\n",
    "\n",
    "df = pd.read_csv('Data\\creditcard.csv')\n",
    "df.drop(columns=['Time', 'Amount'], inplace=True)\n",
    "\n",
    "# Oversampling the inferior class with more than 10% \n",
    "# of the superior class size. With enough random sample\n",
    "#size we are guaranteed that we keep as good an approximation\n",
    "# as of the original distribution.\n",
    "\n",
    "c = df[df.Class==0].sample(2*(df.Class==1).sum())\n",
    "f = df[df.Class==1]\n",
    "final_df = shuffle(pd.concat([c,f], ignore_index=True))\n",
    "data = final_df.iloc[:,:-1]\n",
    "labels = final_df.iloc[:,-1]\n",
    "oversample = SMOTE()\n",
    "data, labels = oversample.fit_resample(data, labels)\n"
   ]
  },
  {
   "cell_type": "markdown",
   "id": "1dcfc328",
   "metadata": {},
   "source": [
    "# Main"
   ]
  },
  {
   "cell_type": "code",
   "execution_count": 74,
   "id": "c9202d2c",
   "metadata": {},
   "outputs": [],
   "source": [
    "accuracy_tab = np.array([])\n",
    "f1_tab = np.array([])\n",
    "\n",
    "for i in range(0,5):\n",
    "    X_train, X_test, Y_train, Y_test = split_data(data.to_numpy(), labels.to_numpy(), 0.2)\n",
    "    \n",
    "    X_train_lab, X_train_unlab, Y_train_lab, Y_train_unlab = split_data(X_train, Y_train, 0.7)\n",
    "\n",
    "    label_model_1 = LogisticRegression()\n",
    "    acc1, f1_1 = fit_model(label_model_1, X_train, X_test, Y_train, Y_test)\n",
    "\n",
    "    mixed_data, mixed_labels = create_no_labels(X_train_lab, X_train_unlab, Y_train_lab, Y_train_unlab)\n",
    "\n",
    "    unlabeled_model = LabelPropagation('knn')\n",
    "    acc2, f1_2 = fit_model(unlabeled_model, mixed_data, X_test, mixed_labels, Y_test)\n",
    "\n",
    "    #Export labels\n",
    "    given_labels = unlabeled_model.transduction_\n",
    "    label_model_2 = LogisticRegression()\n",
    "    acc3, f1_3 = fit_model(label_model_2, mixed_data, X_test, given_labels, Y_test)\n",
    "\n",
    "    accuracy_tab = np.append(accuracy_tab, np.array([acc1, acc2, acc3])).reshape(i+1, 3)\n",
    "    f1_tab = np.append(f1_tab, np.array([f1_1, f1_2, f1_3])).reshape(i+1, 3)"
   ]
  },
  {
   "cell_type": "code",
   "execution_count": 78,
   "id": "f36fb23f",
   "metadata": {},
   "outputs": [
    {
     "data": {
      "text/plain": [
       "<matplotlib.legend.Legend at 0x19204ef1d00>"
      ]
     },
     "execution_count": 78,
     "metadata": {},
     "output_type": "execute_result"
    },
    {
     "data": {
      "image/png": "[encoded data removed]",
      "text/plain": [
       "<Figure size 432x288 with 1 Axes>"
      ]
     },
     "metadata": {
      "needs_background": "light"
     },
     "output_type": "display_data"
    }
   ],
   "source": [
    "\n",
    "\n",
    "plt.plot(range(1,6), [(accuracy_tab[0][0]),\n",
    "                     (accuracy_tab[1][0]),\n",
    "                     (accuracy_tab[2][0]),\n",
    "                     (accuracy_tab[3][0]),\n",
    "                     (accuracy_tab[4][0])], label = 'LogReg_Acc_Super')\n",
    "plt.plot(range(1,6), [(accuracy_tab[0][2]),\n",
    "                     (accuracy_tab[1][2]),\n",
    "                     (accuracy_tab[2][2]),\n",
    "                     (accuracy_tab[3][2]),\n",
    "                     (accuracy_tab[4][2])], label = 'LogReg_Acc_Semi-Super')\n",
    "plt.legend()\n",
    "\n",
    "\n"
   ]
  }
 ],
 "metadata": {
  "kernelspec": {
   "display_name": "Python 3 (ipykernel)",
   "language": "python",
   "name": "python3"
  },
  "language_info": {
   "codemirror_mode": {
    "name": "ipython",
    "version": 3
   },
   "file_extension": ".py",
   "mimetype": "text/x-python",
   "name": "python",
   "nbconvert_exporter": "python",
   "pygments_lexer": "ipython3",
   "version": "3.9.9"
  }
 },
 "nbformat": 4,
 "nbformat_minor": 5
}
