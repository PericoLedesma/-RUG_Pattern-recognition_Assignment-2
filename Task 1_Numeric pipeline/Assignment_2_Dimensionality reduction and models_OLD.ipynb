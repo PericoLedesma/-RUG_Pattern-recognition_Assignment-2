{
 "cells": [
  {
   "cell_type": "markdown",
   "id": "84ea3cac",
   "metadata": {},
   "source": [
    "# Import Libraries"
   ]
  },
  {
   "cell_type": "code",
   "execution_count": 212,
   "id": "6baade51",
   "metadata": {},
   "outputs": [],
   "source": [
    "import numpy as np\n",
    "import pandas as pd\n",
    "import matplotlib.pyplot as plt\n",
    "import seaborn as sns\n",
    "\n",
    "### From sklearn - Preprocesing \n",
    "\n",
    "from sklearn import preprocessing\n",
    "from sklearn.preprocessing import StandardScaler\n",
    "\n",
    "# Dimension reduction \n",
    "from sklearn.decomposition import PCA\n",
    "from sklearn.decomposition import TruncatedSVD\n",
    "\n",
    "# Clustering \n",
    "from sklearn.manifold import TSNE\n",
    "\n",
    "# K-fold\n",
    "from sklearn.model_selection import StratifiedKFold\n",
    "from sklearn.model_selection import KFold, cross_val_score, GridSearchCV\n",
    "\n",
    "# From sklearn - Model creation\n",
    "\n",
    "from sklearn.tree import DecisionTreeClassifier \n",
    "from sklearn.model_selection import train_test_split \n",
    "from sklearn.ensemble import RandomForestClassifier\n",
    "from sklearn.neighbors import KNeighborsClassifier\n",
    "from sklearn.linear_model import LogisticRegression\n",
    "\n",
    "from sklearn.metrics import multilabel_confusion_matrix\n",
    "\n",
    "from sklearn import metrics \n",
    "from sklearn.discriminant_analysis import LinearDiscriminantAnalysis"
   ]
  },
  {
   "cell_type": "markdown",
   "id": "98a8d2ae",
   "metadata": {},
   "source": [
    "-----\n",
    "# Reading files and merging features with labels"
   ]
  },
  {
   "cell_type": "code",
   "execution_count": 213,
   "id": "a0bac7af",
   "metadata": {},
   "outputs": [],
   "source": [
    "#dataset = pd.read_csv(\"Genes\\data.csv\")\n",
    "dataset = pd.read_csv('/Users/pedrorodriguezdeledesmajimenez/1_Coding/Datasets/RUG_Pattern-recognition_Assignment-2/Task 1/Genres/data.csv')\n",
    "\n",
    "#labels = pd.read_csv(\"Genes\\labels.csv\")\n",
    "dataset_labels =pd.read_csv('/Users/pedrorodriguezdeledesmajimenez/1_Coding/Datasets/RUG_Pattern-recognition_Assignment-2/Task 1/Genres/labels.csv')"
   ]
  },
  {
   "cell_type": "code",
   "execution_count": 214,
   "id": "4c238d5a",
   "metadata": {},
   "outputs": [],
   "source": [
    "# Merging both datasets and removing first column\n",
    "\n",
    "dataset = pd.merge(dataset, dataset_labels, on='Unnamed: 0').drop(\"Unnamed: 0\", axis=1)"
   ]
  },
  {
   "cell_type": "code",
   "execution_count": 215,
   "id": "624784db",
   "metadata": {},
   "outputs": [
    {
     "name": "stdout",
     "output_type": "stream",
     "text": [
      "Dataset consists of 801 input sample vectors, each vector has 20532 gene features.\n",
      "Also the availbale classes are 5. The possible choises are PRAD, LUAD, BRCA, KIRC, COAD.\n",
      "As we can see, we have class imbalance.\n",
      "\n",
      "BRCA    300\n",
      "KIRC    146\n",
      "LUAD    141\n",
      "PRAD    136\n",
      "COAD     78\n"
     ]
    }
   ],
   "source": [
    "print(f'Dataset consists of {dataset.shape[0]} input sample vectors, each vector has {dataset.shape[1]} '\\\n",
    "      f'gene features.\\nAlso the availbale classes are {len(dataset[\"Class\"].unique())}.'\\\n",
    "      f' The possible choises are {\", \".join(val for val in dataset.Class.unique())}.')\n",
    "class_counts = dataset.Class.value_counts()\n",
    "print(f'As we can see, we have class imbalance.\\n\\n{class_counts.to_string()}')"
   ]
  },
  {
   "cell_type": "markdown",
   "id": "b3c7f917",
   "metadata": {},
   "source": [
    "----\n",
    "# Preprocesing data"
   ]
  },
  {
   "cell_type": "markdown",
   "id": "177a57ba",
   "metadata": {},
   "source": [
    "###  Encode the labels of the dataset"
   ]
  },
  {
   "cell_type": "code",
   "execution_count": 216,
   "id": "08ac19fd",
   "metadata": {},
   "outputs": [],
   "source": [
    "# Encode the labels and updaate values\n",
    "\n",
    "le = preprocessing.LabelEncoder()\n",
    "\n",
    "dataset[\"Class\"] = le.fit_transform(dataset_labels.drop(\"Unnamed: 0\", axis=1).values.ravel())"
   ]
  },
  {
   "cell_type": "code",
   "execution_count": 217,
   "id": "aa5f0414",
   "metadata": {},
   "outputs": [
    {
     "data": {
      "text/plain": [
       "{'BRCA': 0, 'COAD': 1, 'KIRC': 2, 'LUAD': 3, 'PRAD': 4}"
      ]
     },
     "execution_count": 217,
     "metadata": {},
     "output_type": "execute_result"
    }
   ],
   "source": [
    "# Let´s store all the labels\n",
    "\n",
    "keys = le.classes_\n",
    "\n",
    "# And now store labels with their encoded value \n",
    "\n",
    "values = le.transform(le.classes_)\n",
    "dictionary = dict(zip(keys, values))\n",
    "dictionary"
   ]
  },
  {
   "cell_type": "code",
   "execution_count": 218,
   "id": "a55bf588",
   "metadata": {},
   "outputs": [
    {
     "data": {
      "text/plain": [
       "0    300\n",
       "2    146\n",
       "3    141\n",
       "4    136\n",
       "1     78\n",
       "Name: Class, dtype: int64"
      ]
     },
     "execution_count": 218,
     "metadata": {},
     "output_type": "execute_result"
    }
   ],
   "source": [
    "dataset.Class.value_counts()"
   ]
  },
  {
   "cell_type": "markdown",
   "id": "d5c5366b",
   "metadata": {},
   "source": [
    "### Some parameters before normalizing"
   ]
  },
  {
   "cell_type": "code",
   "execution_count": 219,
   "id": "791ca4b5",
   "metadata": {},
   "outputs": [
    {
     "data": {
      "text/html": [
       "<div>\n",
       "<style scoped>\n",
       "    .dataframe tbody tr th:only-of-type {\n",
       "        vertical-align: middle;\n",
       "    }\n",
       "\n",
       "    .dataframe tbody tr th {\n",
       "        vertical-align: top;\n",
       "    }\n",
       "\n",
       "    .dataframe thead th {\n",
       "        text-align: right;\n",
       "    }\n",
       "</style>\n",
       "<table border=\"1\" class=\"dataframe\">\n",
       "  <thead>\n",
       "    <tr style=\"text-align: right;\">\n",
       "      <th></th>\n",
       "      <th>mean</th>\n",
       "      <th>Std.Dev</th>\n",
       "      <th>Var</th>\n",
       "    </tr>\n",
       "  </thead>\n",
       "  <tbody>\n",
       "    <tr>\n",
       "      <th>gene_9176</th>\n",
       "      <td>3.946748</td>\n",
       "      <td>6.690579</td>\n",
       "      <td>44.763849</td>\n",
       "    </tr>\n",
       "    <tr>\n",
       "      <th>gene_9175</th>\n",
       "      <td>3.771632</td>\n",
       "      <td>6.030086</td>\n",
       "      <td>36.361940</td>\n",
       "    </tr>\n",
       "    <tr>\n",
       "      <th>gene_15898</th>\n",
       "      <td>3.621030</td>\n",
       "      <td>5.874003</td>\n",
       "      <td>34.503915</td>\n",
       "    </tr>\n",
       "    <tr>\n",
       "      <th>gene_15301</th>\n",
       "      <td>5.506275</td>\n",
       "      <td>5.784356</td>\n",
       "      <td>33.458776</td>\n",
       "    </tr>\n",
       "    <tr>\n",
       "      <th>gene_15589</th>\n",
       "      <td>3.849006</td>\n",
       "      <td>5.596950</td>\n",
       "      <td>31.325845</td>\n",
       "    </tr>\n",
       "    <tr>\n",
       "      <th>...</th>\n",
       "      <td>...</td>\n",
       "      <td>...</td>\n",
       "      <td>...</td>\n",
       "    </tr>\n",
       "    <tr>\n",
       "      <th>gene_18915</th>\n",
       "      <td>0.000000</td>\n",
       "      <td>0.000000</td>\n",
       "      <td>0.000000</td>\n",
       "    </tr>\n",
       "    <tr>\n",
       "      <th>gene_19450</th>\n",
       "      <td>0.000000</td>\n",
       "      <td>0.000000</td>\n",
       "      <td>0.000000</td>\n",
       "    </tr>\n",
       "    <tr>\n",
       "      <th>gene_19451</th>\n",
       "      <td>0.000000</td>\n",
       "      <td>0.000000</td>\n",
       "      <td>0.000000</td>\n",
       "    </tr>\n",
       "    <tr>\n",
       "      <th>gene_19452</th>\n",
       "      <td>0.000000</td>\n",
       "      <td>0.000000</td>\n",
       "      <td>0.000000</td>\n",
       "    </tr>\n",
       "    <tr>\n",
       "      <th>gene_19671</th>\n",
       "      <td>0.000000</td>\n",
       "      <td>0.000000</td>\n",
       "      <td>0.000000</td>\n",
       "    </tr>\n",
       "  </tbody>\n",
       "</table>\n",
       "<p>20532 rows × 3 columns</p>\n",
       "</div>"
      ],
      "text/plain": [
       "                mean   Std.Dev        Var\n",
       "gene_9176   3.946748  6.690579  44.763849\n",
       "gene_9175   3.771632  6.030086  36.361940\n",
       "gene_15898  3.621030  5.874003  34.503915\n",
       "gene_15301  5.506275  5.784356  33.458776\n",
       "gene_15589  3.849006  5.596950  31.325845\n",
       "...              ...       ...        ...\n",
       "gene_18915  0.000000  0.000000   0.000000\n",
       "gene_19450  0.000000  0.000000   0.000000\n",
       "gene_19451  0.000000  0.000000   0.000000\n",
       "gene_19452  0.000000  0.000000   0.000000\n",
       "gene_19671  0.000000  0.000000   0.000000\n",
       "\n",
       "[20532 rows x 3 columns]"
      ]
     },
     "execution_count": 219,
     "metadata": {},
     "output_type": "execute_result"
    }
   ],
   "source": [
    "stats=pd.DataFrame()\n",
    "stats[\"mean\"]=dataset.mean()\n",
    "stats[\"Std.Dev\"]=dataset.std()\n",
    "stats[\"Var\"]=dataset.var()\n",
    "stats.sort_values(by=['Var','mean'],ascending=False)"
   ]
  },
  {
   "cell_type": "markdown",
   "id": "90f6f281",
   "metadata": {},
   "source": [
    "### Normalize the dataset: min_max_scaler\n",
    "\n"
   ]
  },
  {
   "cell_type": "code",
   "execution_count": 220,
   "id": "8b38a0be",
   "metadata": {},
   "outputs": [],
   "source": [
    "# Lets store the dataset values without the columns titles\n",
    "x = dataset.iloc[:, :-1].values "
   ]
  },
  {
   "cell_type": "code",
   "execution_count": 221,
   "id": "02904444",
   "metadata": {},
   "outputs": [],
   "source": [
    "# Let´s create an instance with the normalice function\n",
    "min_max_scaler = preprocessing.MinMaxScaler()\n",
    "\n",
    "# Let´s fit the normilice function\n",
    "x_scaled = min_max_scaler.fit_transform(x)\n",
    "\n",
    "# Let´s put in the dataframe the values scaled\n",
    "dataset.iloc[:, :-1] = pd.DataFrame(x_scaled)"
   ]
  },
  {
   "cell_type": "code",
   "execution_count": 222,
   "id": "0e321c9d",
   "metadata": {},
   "outputs": [
    {
     "data": {
      "text/html": [
       "<div>\n",
       "<style scoped>\n",
       "    .dataframe tbody tr th:only-of-type {\n",
       "        vertical-align: middle;\n",
       "    }\n",
       "\n",
       "    .dataframe tbody tr th {\n",
       "        vertical-align: top;\n",
       "    }\n",
       "\n",
       "    .dataframe thead th {\n",
       "        text-align: right;\n",
       "    }\n",
       "</style>\n",
       "<table border=\"1\" class=\"dataframe\">\n",
       "  <thead>\n",
       "    <tr style=\"text-align: right;\">\n",
       "      <th></th>\n",
       "      <th>mean</th>\n",
       "      <th>Std.Dev</th>\n",
       "      <th>Var</th>\n",
       "    </tr>\n",
       "  </thead>\n",
       "  <tbody>\n",
       "    <tr>\n",
       "      <th>Class</th>\n",
       "      <td>1.669164</td>\n",
       "      <td>1.531065</td>\n",
       "      <td>2.344160</td>\n",
       "    </tr>\n",
       "    <tr>\n",
       "      <th>gene_4773</th>\n",
       "      <td>0.383887</td>\n",
       "      <td>0.411448</td>\n",
       "      <td>0.169290</td>\n",
       "    </tr>\n",
       "    <tr>\n",
       "      <th>gene_8891</th>\n",
       "      <td>0.364385</td>\n",
       "      <td>0.398958</td>\n",
       "      <td>0.159168</td>\n",
       "    </tr>\n",
       "    <tr>\n",
       "      <th>gene_19913</th>\n",
       "      <td>0.376816</td>\n",
       "      <td>0.395887</td>\n",
       "      <td>0.156726</td>\n",
       "    </tr>\n",
       "    <tr>\n",
       "      <th>gene_19313</th>\n",
       "      <td>0.348911</td>\n",
       "      <td>0.390790</td>\n",
       "      <td>0.152717</td>\n",
       "    </tr>\n",
       "    <tr>\n",
       "      <th>...</th>\n",
       "      <td>...</td>\n",
       "      <td>...</td>\n",
       "      <td>...</td>\n",
       "    </tr>\n",
       "    <tr>\n",
       "      <th>gene_18915</th>\n",
       "      <td>0.000000</td>\n",
       "      <td>0.000000</td>\n",
       "      <td>0.000000</td>\n",
       "    </tr>\n",
       "    <tr>\n",
       "      <th>gene_19450</th>\n",
       "      <td>0.000000</td>\n",
       "      <td>0.000000</td>\n",
       "      <td>0.000000</td>\n",
       "    </tr>\n",
       "    <tr>\n",
       "      <th>gene_19451</th>\n",
       "      <td>0.000000</td>\n",
       "      <td>0.000000</td>\n",
       "      <td>0.000000</td>\n",
       "    </tr>\n",
       "    <tr>\n",
       "      <th>gene_19452</th>\n",
       "      <td>0.000000</td>\n",
       "      <td>0.000000</td>\n",
       "      <td>0.000000</td>\n",
       "    </tr>\n",
       "    <tr>\n",
       "      <th>gene_19671</th>\n",
       "      <td>0.000000</td>\n",
       "      <td>0.000000</td>\n",
       "      <td>0.000000</td>\n",
       "    </tr>\n",
       "  </tbody>\n",
       "</table>\n",
       "<p>20532 rows × 3 columns</p>\n",
       "</div>"
      ],
      "text/plain": [
       "                mean   Std.Dev       Var\n",
       "Class       1.669164  1.531065  2.344160\n",
       "gene_4773   0.383887  0.411448  0.169290\n",
       "gene_8891   0.364385  0.398958  0.159168\n",
       "gene_19913  0.376816  0.395887  0.156726\n",
       "gene_19313  0.348911  0.390790  0.152717\n",
       "...              ...       ...       ...\n",
       "gene_18915  0.000000  0.000000  0.000000\n",
       "gene_19450  0.000000  0.000000  0.000000\n",
       "gene_19451  0.000000  0.000000  0.000000\n",
       "gene_19452  0.000000  0.000000  0.000000\n",
       "gene_19671  0.000000  0.000000  0.000000\n",
       "\n",
       "[20532 rows x 3 columns]"
      ]
     },
     "execution_count": 222,
     "metadata": {},
     "output_type": "execute_result"
    }
   ],
   "source": [
    "stats=pd.DataFrame()\n",
    "stats[\"mean\"]=dataset.mean()\n",
    "stats[\"Std.Dev\"]=dataset.std()\n",
    "stats[\"Var\"]=dataset.var()\n",
    "stats.sort_values(by=['Var','mean'],ascending=False)"
   ]
  },
  {
   "cell_type": "markdown",
   "id": "b5b294e8",
   "metadata": {},
   "source": [
    "### Normalize the dataset: StandardScaler"
   ]
  },
  {
   "cell_type": "code",
   "execution_count": 223,
   "id": "db3eb8e1",
   "metadata": {},
   "outputs": [],
   "source": [
    "scaler = StandardScaler()\n",
    "x_scaled_2 = scaler.fit_transform(x)"
   ]
  },
  {
   "cell_type": "code",
   "execution_count": 224,
   "id": "ff0bd0c7",
   "metadata": {},
   "outputs": [],
   "source": [
    "dataset2 = dataset\n",
    "\n",
    "# Let´s put in the dataframe the values scaled\n",
    "dataset2.iloc[:, :-1] = pd.DataFrame(x_scaled_2)"
   ]
  },
  {
   "cell_type": "code",
   "execution_count": 225,
   "id": "6688c75f",
   "metadata": {},
   "outputs": [
    {
     "data": {
      "text/html": [
       "<div>\n",
       "<style scoped>\n",
       "    .dataframe tbody tr th:only-of-type {\n",
       "        vertical-align: middle;\n",
       "    }\n",
       "\n",
       "    .dataframe tbody tr th {\n",
       "        vertical-align: top;\n",
       "    }\n",
       "\n",
       "    .dataframe thead th {\n",
       "        text-align: right;\n",
       "    }\n",
       "</style>\n",
       "<table border=\"1\" class=\"dataframe\">\n",
       "  <thead>\n",
       "    <tr style=\"text-align: right;\">\n",
       "      <th></th>\n",
       "      <th>mean</th>\n",
       "      <th>Std.Dev</th>\n",
       "      <th>Var</th>\n",
       "    </tr>\n",
       "  </thead>\n",
       "  <tbody>\n",
       "    <tr>\n",
       "      <th>Class</th>\n",
       "      <td>1.669164e+00</td>\n",
       "      <td>1.531065</td>\n",
       "      <td>2.34416</td>\n",
       "    </tr>\n",
       "    <tr>\n",
       "      <th>gene_12639</th>\n",
       "      <td>3.934985e-16</td>\n",
       "      <td>1.000625</td>\n",
       "      <td>1.00125</td>\n",
       "    </tr>\n",
       "    <tr>\n",
       "      <th>gene_12825</th>\n",
       "      <td>-5.052312e-16</td>\n",
       "      <td>1.000625</td>\n",
       "      <td>1.00125</td>\n",
       "    </tr>\n",
       "    <tr>\n",
       "      <th>gene_12363</th>\n",
       "      <td>-2.617202e-16</td>\n",
       "      <td>1.000625</td>\n",
       "      <td>1.00125</td>\n",
       "    </tr>\n",
       "    <tr>\n",
       "      <th>gene_17071</th>\n",
       "      <td>-1.881904e-16</td>\n",
       "      <td>1.000625</td>\n",
       "      <td>1.00125</td>\n",
       "    </tr>\n",
       "    <tr>\n",
       "      <th>...</th>\n",
       "      <td>...</td>\n",
       "      <td>...</td>\n",
       "      <td>...</td>\n",
       "    </tr>\n",
       "    <tr>\n",
       "      <th>gene_18915</th>\n",
       "      <td>0.000000e+00</td>\n",
       "      <td>0.000000</td>\n",
       "      <td>0.00000</td>\n",
       "    </tr>\n",
       "    <tr>\n",
       "      <th>gene_19450</th>\n",
       "      <td>0.000000e+00</td>\n",
       "      <td>0.000000</td>\n",
       "      <td>0.00000</td>\n",
       "    </tr>\n",
       "    <tr>\n",
       "      <th>gene_19451</th>\n",
       "      <td>0.000000e+00</td>\n",
       "      <td>0.000000</td>\n",
       "      <td>0.00000</td>\n",
       "    </tr>\n",
       "    <tr>\n",
       "      <th>gene_19452</th>\n",
       "      <td>0.000000e+00</td>\n",
       "      <td>0.000000</td>\n",
       "      <td>0.00000</td>\n",
       "    </tr>\n",
       "    <tr>\n",
       "      <th>gene_19671</th>\n",
       "      <td>0.000000e+00</td>\n",
       "      <td>0.000000</td>\n",
       "      <td>0.00000</td>\n",
       "    </tr>\n",
       "  </tbody>\n",
       "</table>\n",
       "<p>20532 rows × 3 columns</p>\n",
       "</div>"
      ],
      "text/plain": [
       "                    mean   Std.Dev      Var\n",
       "Class       1.669164e+00  1.531065  2.34416\n",
       "gene_12639  3.934985e-16  1.000625  1.00125\n",
       "gene_12825 -5.052312e-16  1.000625  1.00125\n",
       "gene_12363 -2.617202e-16  1.000625  1.00125\n",
       "gene_17071 -1.881904e-16  1.000625  1.00125\n",
       "...                  ...       ...      ...\n",
       "gene_18915  0.000000e+00  0.000000  0.00000\n",
       "gene_19450  0.000000e+00  0.000000  0.00000\n",
       "gene_19451  0.000000e+00  0.000000  0.00000\n",
       "gene_19452  0.000000e+00  0.000000  0.00000\n",
       "gene_19671  0.000000e+00  0.000000  0.00000\n",
       "\n",
       "[20532 rows x 3 columns]"
      ]
     },
     "execution_count": 225,
     "metadata": {},
     "output_type": "execute_result"
    }
   ],
   "source": [
    "stats=pd.DataFrame()\n",
    "stats[\"mean\"]=dataset2.mean()\n",
    "stats[\"Std.Dev\"]=dataset2.std()\n",
    "stats[\"Var\"]=dataset2.var()\n",
    "stats.sort_values(by=['Var','mean'],ascending=False)"
   ]
  },
  {
   "cell_type": "markdown",
   "id": "9c18b02f",
   "metadata": {},
   "source": [
    "#### Input for the reduction algorithms"
   ]
  },
  {
   "cell_type": "code",
   "execution_count": 294,
   "id": "789cff8f",
   "metadata": {},
   "outputs": [
    {
     "data": {
      "text/plain": [
       "(801, 20532)"
      ]
     },
     "execution_count": 294,
     "metadata": {},
     "output_type": "execute_result"
    }
   ],
   "source": [
    "dataset.shape"
   ]
  },
  {
   "cell_type": "markdown",
   "id": "a396c428",
   "metadata": {},
   "source": [
    "-----------\n",
    "## Dimensionality reduction:  1.Principal Component Analysis"
   ]
  },
  {
   "cell_type": "code",
   "execution_count": 226,
   "id": "57a8586b",
   "metadata": {},
   "outputs": [],
   "source": [
    "# Create PCA object to keep 95% of variance\n",
    "\n",
    "pca = PCA(0.70)\n",
    "\n",
    "# Apply PCA in input vector\n",
    "pca.fit(dataset.iloc[:,:-1]) \n",
    "\n",
    "# Save results in an np.array\n",
    "reduced = pca.transform(dataset.iloc[:,:-1])\n",
    "\n",
    "# Save labels in an np.array\n",
    "x = dataset['Class'].to_numpy()\n",
    "\n",
    "# Create final dataframe with reduced dimensions\n",
    "dataset_reduced_PCA = pd.DataFrame(np.column_stack((reduced, x)))"
   ]
  },
  {
   "cell_type": "code",
   "execution_count": 227,
   "id": "abc45593",
   "metadata": {},
   "outputs": [],
   "source": []
  },
  {
   "cell_type": "markdown",
   "id": "0d296cc9",
   "metadata": {},
   "source": [
    "Number of features in the original dataset: 20532 <br>\n",
    "After applying PCA to the dataset, we end up with:"
   ]
  },
  {
   "cell_type": "code",
   "execution_count": 228,
   "id": "58a0dfd5",
   "metadata": {},
   "outputs": [
    {
     "data": {
      "text/plain": [
       "86"
      ]
     },
     "execution_count": 228,
     "metadata": {},
     "output_type": "execute_result"
    }
   ],
   "source": [
    "dataset_reduced_PCA.shape[1]"
   ]
  },
  {
   "cell_type": "code",
   "execution_count": 229,
   "id": "3689c5e5",
   "metadata": {},
   "outputs": [],
   "source": [
    "# We are going to rename the columns name with the PCA components name\n",
    "\n",
    "for count, column_name in enumerate(dataset_reduced_PCA.columns):\n",
    "    \n",
    "    if count < len(dataset_reduced_PCA.columns)-1:\n",
    "        \n",
    "        dataset_reduced_PCA.rename(columns={column_name : f\"PCA{count+1}\"}, inplace=True)\n",
    "    else:\n",
    "        dataset_reduced_PCA.rename(columns={column_name : \"Label\"}, inplace=True)"
   ]
  },
  {
   "cell_type": "markdown",
   "id": "966a360e",
   "metadata": {},
   "source": [
    "The dataset after applying the PCA analysis has the following form:"
   ]
  },
  {
   "cell_type": "code",
   "execution_count": 230,
   "id": "58ecf304",
   "metadata": {
    "scrolled": true
   },
   "outputs": [
    {
     "data": {
      "text/html": [
       "<div>\n",
       "<style scoped>\n",
       "    .dataframe tbody tr th:only-of-type {\n",
       "        vertical-align: middle;\n",
       "    }\n",
       "\n",
       "    .dataframe tbody tr th {\n",
       "        vertical-align: top;\n",
       "    }\n",
       "\n",
       "    .dataframe thead th {\n",
       "        text-align: right;\n",
       "    }\n",
       "</style>\n",
       "<table border=\"1\" class=\"dataframe\">\n",
       "  <thead>\n",
       "    <tr style=\"text-align: right;\">\n",
       "      <th></th>\n",
       "      <th>PCA1</th>\n",
       "      <th>PCA2</th>\n",
       "      <th>PCA3</th>\n",
       "      <th>PCA4</th>\n",
       "      <th>PCA5</th>\n",
       "      <th>PCA6</th>\n",
       "      <th>PCA7</th>\n",
       "      <th>PCA8</th>\n",
       "      <th>PCA9</th>\n",
       "      <th>PCA10</th>\n",
       "      <th>...</th>\n",
       "      <th>PCA77</th>\n",
       "      <th>PCA78</th>\n",
       "      <th>PCA79</th>\n",
       "      <th>PCA80</th>\n",
       "      <th>PCA81</th>\n",
       "      <th>PCA82</th>\n",
       "      <th>PCA83</th>\n",
       "      <th>PCA84</th>\n",
       "      <th>PCA85</th>\n",
       "      <th>Label</th>\n",
       "    </tr>\n",
       "  </thead>\n",
       "  <tbody>\n",
       "    <tr>\n",
       "      <th>0</th>\n",
       "      <td>-57.446987</td>\n",
       "      <td>95.410981</td>\n",
       "      <td>74.301543</td>\n",
       "      <td>-12.166781</td>\n",
       "      <td>7.981831</td>\n",
       "      <td>36.157573</td>\n",
       "      <td>-7.668542</td>\n",
       "      <td>19.951444</td>\n",
       "      <td>0.142216</td>\n",
       "      <td>3.035240</td>\n",
       "      <td>...</td>\n",
       "      <td>2.925250</td>\n",
       "      <td>-7.875992</td>\n",
       "      <td>-5.100771</td>\n",
       "      <td>-6.413827</td>\n",
       "      <td>3.513128</td>\n",
       "      <td>-3.271264</td>\n",
       "      <td>0.988052</td>\n",
       "      <td>6.721325</td>\n",
       "      <td>-2.186021</td>\n",
       "      <td>4.0</td>\n",
       "    </tr>\n",
       "    <tr>\n",
       "      <th>1</th>\n",
       "      <td>-16.919430</td>\n",
       "      <td>0.732470</td>\n",
       "      <td>-64.072900</td>\n",
       "      <td>-2.095308</td>\n",
       "      <td>-25.426430</td>\n",
       "      <td>27.784178</td>\n",
       "      <td>-16.132765</td>\n",
       "      <td>-17.031383</td>\n",
       "      <td>-22.023874</td>\n",
       "      <td>-27.923308</td>\n",
       "      <td>...</td>\n",
       "      <td>-0.694985</td>\n",
       "      <td>3.565511</td>\n",
       "      <td>-11.751542</td>\n",
       "      <td>-3.894333</td>\n",
       "      <td>8.143514</td>\n",
       "      <td>-2.452563</td>\n",
       "      <td>4.546374</td>\n",
       "      <td>-8.378011</td>\n",
       "      <td>1.399872</td>\n",
       "      <td>3.0</td>\n",
       "    </tr>\n",
       "    <tr>\n",
       "      <th>2</th>\n",
       "      <td>-70.345218</td>\n",
       "      <td>-19.303327</td>\n",
       "      <td>20.488240</td>\n",
       "      <td>48.102893</td>\n",
       "      <td>24.437757</td>\n",
       "      <td>17.462510</td>\n",
       "      <td>20.706772</td>\n",
       "      <td>-47.626817</td>\n",
       "      <td>-28.647648</td>\n",
       "      <td>-12.784676</td>\n",
       "      <td>...</td>\n",
       "      <td>-7.094904</td>\n",
       "      <td>-4.403152</td>\n",
       "      <td>14.420521</td>\n",
       "      <td>8.121100</td>\n",
       "      <td>-7.207487</td>\n",
       "      <td>-4.296174</td>\n",
       "      <td>-23.318893</td>\n",
       "      <td>8.866835</td>\n",
       "      <td>10.332360</td>\n",
       "      <td>4.0</td>\n",
       "    </tr>\n",
       "    <tr>\n",
       "      <th>3</th>\n",
       "      <td>-49.161591</td>\n",
       "      <td>-9.227586</td>\n",
       "      <td>61.243770</td>\n",
       "      <td>37.805744</td>\n",
       "      <td>1.038889</td>\n",
       "      <td>23.240002</td>\n",
       "      <td>-4.801039</td>\n",
       "      <td>-21.554809</td>\n",
       "      <td>-15.375067</td>\n",
       "      <td>-12.881511</td>\n",
       "      <td>...</td>\n",
       "      <td>0.122393</td>\n",
       "      <td>-1.856355</td>\n",
       "      <td>-3.689475</td>\n",
       "      <td>-7.972390</td>\n",
       "      <td>-1.834695</td>\n",
       "      <td>-3.923945</td>\n",
       "      <td>-3.511283</td>\n",
       "      <td>-13.847275</td>\n",
       "      <td>-4.993018</td>\n",
       "      <td>4.0</td>\n",
       "    </tr>\n",
       "    <tr>\n",
       "      <th>4</th>\n",
       "      <td>-18.132534</td>\n",
       "      <td>-51.327797</td>\n",
       "      <td>16.598116</td>\n",
       "      <td>-17.699201</td>\n",
       "      <td>26.389130</td>\n",
       "      <td>-1.551573</td>\n",
       "      <td>-6.266101</td>\n",
       "      <td>12.336677</td>\n",
       "      <td>-4.233837</td>\n",
       "      <td>28.804476</td>\n",
       "      <td>...</td>\n",
       "      <td>0.632124</td>\n",
       "      <td>0.637069</td>\n",
       "      <td>-7.055203</td>\n",
       "      <td>-3.633323</td>\n",
       "      <td>2.293056</td>\n",
       "      <td>-0.141774</td>\n",
       "      <td>-2.314885</td>\n",
       "      <td>-3.621200</td>\n",
       "      <td>5.502809</td>\n",
       "      <td>0.0</td>\n",
       "    </tr>\n",
       "  </tbody>\n",
       "</table>\n",
       "<p>5 rows × 86 columns</p>\n",
       "</div>"
      ],
      "text/plain": [
       "        PCA1       PCA2       PCA3       PCA4       PCA5       PCA6  \\\n",
       "0 -57.446987  95.410981  74.301543 -12.166781   7.981831  36.157573   \n",
       "1 -16.919430   0.732470 -64.072900  -2.095308 -25.426430  27.784178   \n",
       "2 -70.345218 -19.303327  20.488240  48.102893  24.437757  17.462510   \n",
       "3 -49.161591  -9.227586  61.243770  37.805744   1.038889  23.240002   \n",
       "4 -18.132534 -51.327797  16.598116 -17.699201  26.389130  -1.551573   \n",
       "\n",
       "        PCA7       PCA8       PCA9      PCA10  ...     PCA77     PCA78  \\\n",
       "0  -7.668542  19.951444   0.142216   3.035240  ...  2.925250 -7.875992   \n",
       "1 -16.132765 -17.031383 -22.023874 -27.923308  ... -0.694985  3.565511   \n",
       "2  20.706772 -47.626817 -28.647648 -12.784676  ... -7.094904 -4.403152   \n",
       "3  -4.801039 -21.554809 -15.375067 -12.881511  ...  0.122393 -1.856355   \n",
       "4  -6.266101  12.336677  -4.233837  28.804476  ...  0.632124  0.637069   \n",
       "\n",
       "       PCA79     PCA80     PCA81     PCA82      PCA83      PCA84      PCA85  \\\n",
       "0  -5.100771 -6.413827  3.513128 -3.271264   0.988052   6.721325  -2.186021   \n",
       "1 -11.751542 -3.894333  8.143514 -2.452563   4.546374  -8.378011   1.399872   \n",
       "2  14.420521  8.121100 -7.207487 -4.296174 -23.318893   8.866835  10.332360   \n",
       "3  -3.689475 -7.972390 -1.834695 -3.923945  -3.511283 -13.847275  -4.993018   \n",
       "4  -7.055203 -3.633323  2.293056 -0.141774  -2.314885  -3.621200   5.502809   \n",
       "\n",
       "   Label  \n",
       "0    4.0  \n",
       "1    3.0  \n",
       "2    4.0  \n",
       "3    4.0  \n",
       "4    0.0  \n",
       "\n",
       "[5 rows x 86 columns]"
      ]
     },
     "execution_count": 230,
     "metadata": {},
     "output_type": "execute_result"
    }
   ],
   "source": [
    "dataset_reduced_PCA.head()"
   ]
  },
  {
   "cell_type": "markdown",
   "id": "c024150c",
   "metadata": {},
   "source": [
    "#### Lets display the explained variance of each PCA component"
   ]
  },
  {
   "cell_type": "code",
   "execution_count": 231,
   "id": "003cc3ef",
   "metadata": {
    "scrolled": false
   },
   "outputs": [
    {
     "data": {
      "text/plain": [
       "(85,)"
      ]
     },
     "execution_count": 231,
     "metadata": {},
     "output_type": "execute_result"
    }
   ],
   "source": [
    "pca.explained_variance_ratio_.shape"
   ]
  },
  {
   "cell_type": "code",
   "execution_count": 232,
   "id": "dbed9416",
   "metadata": {},
   "outputs": [
    {
     "data": {
      "text/plain": [
       "(85,)"
      ]
     },
     "execution_count": 232,
     "metadata": {},
     "output_type": "execute_result"
    }
   ],
   "source": [
    "# To see the percentage of variation thaat each principal components accounts for\n",
    "\n",
    "per_var = np.round(pca.explained_variance_ratio_*100, decimals=1)\n",
    "per_var.shape"
   ]
  },
  {
   "cell_type": "code",
   "execution_count": 233,
   "id": "59e74804",
   "metadata": {
    "scrolled": true
   },
   "outputs": [
    {
     "data": {
      "image/png": "[encoded data removed]",
      "text/plain": [
       "<Figure size 720x720 with 1 Axes>"
      ]
     },
     "metadata": {
      "needs_background": "light"
     },
     "output_type": "display_data"
    }
   ],
   "source": [
    "labels = ['PC' + str(x) for x in range(1, len(per_var)+1)]\n",
    "plt.figure(figsize=(10,10))\n",
    "plt.bar(x=range(1,len(per_var)+1),height=per_var, tick_label=labels)\n",
    "plt.ylabel('Percentage of Explained Variance')\n",
    "plt.xlabel('Principal Component')\n",
    "plt.title('Percentage of explained variance of each PCA ')\n",
    "plt.show()"
   ]
  },
  {
   "cell_type": "code",
   "execution_count": 234,
   "id": "11a6c1a4",
   "metadata": {},
   "outputs": [
    {
     "data": {
      "text/plain": [
       "(85,)"
      ]
     },
     "execution_count": 234,
     "metadata": {},
     "output_type": "execute_result"
    }
   ],
   "source": [
    "# Here we calculate the cumulative sum of the variance so we can plot and see how the variance of the PCA evolute \n",
    "\n",
    "cum_sum_eigenvalues = np.cumsum(pca.explained_variance_ratio_)\n",
    "cum_sum_eigenvalues.shape\n"
   ]
  },
  {
   "cell_type": "code",
   "execution_count": 235,
   "id": "07d4dbc8",
   "metadata": {},
   "outputs": [
    {
     "data": {
      "text/plain": [
       "85"
      ]
     },
     "execution_count": 235,
     "metadata": {},
     "output_type": "execute_result"
    }
   ],
   "source": [
    "length = cum_sum_eigenvalues.shape[0]\n",
    "length"
   ]
  },
  {
   "cell_type": "code",
   "execution_count": 236,
   "id": "b23e65ae",
   "metadata": {},
   "outputs": [
    {
     "data": {
      "text/plain": [
       "0.7014140067873336"
      ]
     },
     "execution_count": 236,
     "metadata": {},
     "output_type": "execute_result"
    }
   ],
   "source": [
    "# Let´s see the cummulative variance\n",
    "cum_sum_eigenvalues[length-1]"
   ]
  },
  {
   "cell_type": "code",
   "execution_count": 237,
   "id": "0ebd2228",
   "metadata": {},
   "outputs": [
    {
     "data": {
      "image/png": "[encoded data removed]",
      "text/plain": [
       "<Figure size 432x288 with 1 Axes>"
      ]
     },
     "metadata": {
      "needs_background": "light"
     },
     "output_type": "display_data"
    }
   ],
   "source": [
    "# Plot with regards of components\n",
    "\n",
    "#plt.bar(range(0,len(exp_var_pca[:150])), exp_var_pca[:150], alpha=0.5, align='center', label='Individual explained variance')\n",
    "plt.step(range(0,len(cum_sum_eigenvalues)), cum_sum_eigenvalues, where='mid',label='Cumulative explained variance')\n",
    "plt.ylabel('Explained variance ratio')\n",
    "plt.xlabel('Principal component index')\n",
    "plt.legend(loc='best')\n",
    "plt.tight_layout()\n",
    "plt.show()"
   ]
  },
  {
   "cell_type": "code",
   "execution_count": 238,
   "id": "8469dcaf",
   "metadata": {},
   "outputs": [
    {
     "data": {
      "text/plain": [
       "(801, 86)"
      ]
     },
     "execution_count": 238,
     "metadata": {},
     "output_type": "execute_result"
    }
   ],
   "source": [
    "#Final dataset after feature extraction and further process\n",
    "\n",
    "dataset_reduced_PCA.shape"
   ]
  },
  {
   "cell_type": "markdown",
   "id": "4d5e600c",
   "metadata": {},
   "source": [
    "-----\n",
    "## Dimensionality reduction:  2.Isomap Embedding\n",
    "\n",
    "https://scikit-learn.org/stable/modules/manifold.html#isomap\n",
    "\n",
    "Isomap Embedding is a non-linear dimensionality reduction technique that creates an embedding of the dataset and tries to preserve the relationships in the dataset.\n",
    "\n",
    "Isomap looks for a lower-dimensional embedding which maintains distances between all points. "
   ]
  },
  {
   "cell_type": "code",
   "execution_count": 239,
   "id": "020b6f4f",
   "metadata": {},
   "outputs": [],
   "source": [
    "from sklearn.manifold import Isomap"
   ]
  },
  {
   "cell_type": "code",
   "execution_count": 240,
   "id": "cef1dca9",
   "metadata": {},
   "outputs": [],
   "source": [
    "# Create a ISO object\n",
    "\n",
    "iso = Isomap(n_neighbors=15, n_components=100)"
   ]
  },
  {
   "cell_type": "code",
   "execution_count": 241,
   "id": "104e8bd2",
   "metadata": {},
   "outputs": [
    {
     "data": {
      "text/plain": [
       "Isomap(n_components=100, n_neighbors=15)"
      ]
     },
     "execution_count": 241,
     "metadata": {},
     "output_type": "execute_result"
    }
   ],
   "source": [
    "# Apply ISO in input vector\n",
    "\n",
    "iso.fit(dataset.iloc[:,:-1]) "
   ]
  },
  {
   "cell_type": "code",
   "execution_count": 242,
   "id": "e55a688d",
   "metadata": {},
   "outputs": [
    {
     "data": {
      "text/plain": [
       "(801, 100)"
      ]
     },
     "execution_count": 242,
     "metadata": {},
     "output_type": "execute_result"
    }
   ],
   "source": [
    "# Save results in an np.array\n",
    "\n",
    "reduced_iso = iso.transform(dataset.iloc[:,:-1])\n",
    "reduced_iso.shape"
   ]
  },
  {
   "cell_type": "code",
   "execution_count": 243,
   "id": "5e063e47",
   "metadata": {},
   "outputs": [],
   "source": [
    "# Save labels in an np.array\n",
    "\n",
    "x_iso = dataset['Class'].to_numpy()"
   ]
  },
  {
   "cell_type": "code",
   "execution_count": 244,
   "id": "32b1e45a",
   "metadata": {},
   "outputs": [],
   "source": [
    "# Create final dataframe with reduced dimensions\n",
    "\n",
    "dataset_reduced_ISO = pd.DataFrame(np.column_stack((reduced_iso, x_iso)))"
   ]
  },
  {
   "cell_type": "markdown",
   "id": "cfc6954b",
   "metadata": {},
   "source": [
    "Number of features in the original dataset: 20532 <br>\n",
    "After applying ISO to the dataset, we end up with:"
   ]
  },
  {
   "cell_type": "code",
   "execution_count": 245,
   "id": "c351f1dd",
   "metadata": {},
   "outputs": [
    {
     "data": {
      "text/plain": [
       "101"
      ]
     },
     "execution_count": 245,
     "metadata": {},
     "output_type": "execute_result"
    }
   ],
   "source": [
    "dataset_reduced_ISO.shape[1]"
   ]
  },
  {
   "cell_type": "code",
   "execution_count": 246,
   "id": "2f54fa9b",
   "metadata": {},
   "outputs": [],
   "source": [
    "# We are going to rename the columns name with the PCA components name\n",
    "\n",
    "for count, column_name in enumerate(dataset_reduced_ISO.columns):\n",
    "    \n",
    "    if count < len(dataset_reduced_ISO.columns)-1:\n",
    "        \n",
    "        dataset_reduced_ISO.rename(columns={column_name : f\"PCA{count+1}\"}, inplace=True)\n",
    "    else:\n",
    "        dataset_reduced_ISO.rename(columns={column_name : \"Label\"}, inplace=True)"
   ]
  },
  {
   "cell_type": "code",
   "execution_count": 247,
   "id": "5fd75b00",
   "metadata": {},
   "outputs": [
    {
     "data": {
      "text/html": [
       "<div>\n",
       "<style scoped>\n",
       "    .dataframe tbody tr th:only-of-type {\n",
       "        vertical-align: middle;\n",
       "    }\n",
       "\n",
       "    .dataframe tbody tr th {\n",
       "        vertical-align: top;\n",
       "    }\n",
       "\n",
       "    .dataframe thead th {\n",
       "        text-align: right;\n",
       "    }\n",
       "</style>\n",
       "<table border=\"1\" class=\"dataframe\">\n",
       "  <thead>\n",
       "    <tr style=\"text-align: right;\">\n",
       "      <th></th>\n",
       "      <th>PCA1</th>\n",
       "      <th>PCA2</th>\n",
       "      <th>PCA3</th>\n",
       "      <th>PCA4</th>\n",
       "      <th>PCA5</th>\n",
       "      <th>PCA6</th>\n",
       "      <th>PCA7</th>\n",
       "      <th>PCA8</th>\n",
       "      <th>PCA9</th>\n",
       "      <th>PCA10</th>\n",
       "      <th>...</th>\n",
       "      <th>PCA92</th>\n",
       "      <th>PCA93</th>\n",
       "      <th>PCA94</th>\n",
       "      <th>PCA95</th>\n",
       "      <th>PCA96</th>\n",
       "      <th>PCA97</th>\n",
       "      <th>PCA98</th>\n",
       "      <th>PCA99</th>\n",
       "      <th>PCA100</th>\n",
       "      <th>Label</th>\n",
       "    </tr>\n",
       "  </thead>\n",
       "  <tbody>\n",
       "    <tr>\n",
       "      <th>0</th>\n",
       "      <td>-204.284070</td>\n",
       "      <td>382.591700</td>\n",
       "      <td>-98.669342</td>\n",
       "      <td>-125.592621</td>\n",
       "      <td>244.417180</td>\n",
       "      <td>64.955152</td>\n",
       "      <td>52.070934</td>\n",
       "      <td>-20.757499</td>\n",
       "      <td>-14.284298</td>\n",
       "      <td>23.960479</td>\n",
       "      <td>...</td>\n",
       "      <td>-11.728796</td>\n",
       "      <td>10.549278</td>\n",
       "      <td>-15.049239</td>\n",
       "      <td>-1.134575</td>\n",
       "      <td>-6.318578</td>\n",
       "      <td>35.567805</td>\n",
       "      <td>18.769958</td>\n",
       "      <td>9.183582</td>\n",
       "      <td>2.141035</td>\n",
       "      <td>4.0</td>\n",
       "    </tr>\n",
       "    <tr>\n",
       "      <th>1</th>\n",
       "      <td>33.957105</td>\n",
       "      <td>-118.542560</td>\n",
       "      <td>246.842639</td>\n",
       "      <td>-203.110077</td>\n",
       "      <td>-32.433554</td>\n",
       "      <td>53.879758</td>\n",
       "      <td>49.599605</td>\n",
       "      <td>66.962019</td>\n",
       "      <td>32.319971</td>\n",
       "      <td>-1.055794</td>\n",
       "      <td>...</td>\n",
       "      <td>17.913463</td>\n",
       "      <td>-13.695948</td>\n",
       "      <td>-3.680745</td>\n",
       "      <td>1.604514</td>\n",
       "      <td>-27.294478</td>\n",
       "      <td>-15.574784</td>\n",
       "      <td>26.068665</td>\n",
       "      <td>46.449769</td>\n",
       "      <td>-23.702384</td>\n",
       "      <td>3.0</td>\n",
       "    </tr>\n",
       "    <tr>\n",
       "      <th>2</th>\n",
       "      <td>-326.397143</td>\n",
       "      <td>250.087673</td>\n",
       "      <td>-328.819288</td>\n",
       "      <td>-14.241610</td>\n",
       "      <td>-182.860053</td>\n",
       "      <td>133.826225</td>\n",
       "      <td>252.327899</td>\n",
       "      <td>-44.579186</td>\n",
       "      <td>-92.269718</td>\n",
       "      <td>93.054558</td>\n",
       "      <td>...</td>\n",
       "      <td>-15.384374</td>\n",
       "      <td>-1.603647</td>\n",
       "      <td>12.658962</td>\n",
       "      <td>-31.585422</td>\n",
       "      <td>-11.966543</td>\n",
       "      <td>-15.462362</td>\n",
       "      <td>39.194103</td>\n",
       "      <td>-19.653375</td>\n",
       "      <td>11.599901</td>\n",
       "      <td>4.0</td>\n",
       "    </tr>\n",
       "    <tr>\n",
       "      <th>3</th>\n",
       "      <td>-130.180141</td>\n",
       "      <td>415.987085</td>\n",
       "      <td>-123.378111</td>\n",
       "      <td>-43.174811</td>\n",
       "      <td>-56.212688</td>\n",
       "      <td>27.816050</td>\n",
       "      <td>104.299740</td>\n",
       "      <td>-93.810262</td>\n",
       "      <td>-73.860074</td>\n",
       "      <td>-2.600294</td>\n",
       "      <td>...</td>\n",
       "      <td>-4.151122</td>\n",
       "      <td>3.723055</td>\n",
       "      <td>12.568576</td>\n",
       "      <td>-1.493775</td>\n",
       "      <td>-13.598658</td>\n",
       "      <td>3.966436</td>\n",
       "      <td>7.342133</td>\n",
       "      <td>11.876043</td>\n",
       "      <td>-7.235017</td>\n",
       "      <td>4.0</td>\n",
       "    </tr>\n",
       "    <tr>\n",
       "      <th>4</th>\n",
       "      <td>-79.888543</td>\n",
       "      <td>-203.040379</td>\n",
       "      <td>-194.865590</td>\n",
       "      <td>-9.589059</td>\n",
       "      <td>-39.402406</td>\n",
       "      <td>24.994512</td>\n",
       "      <td>25.022304</td>\n",
       "      <td>21.450059</td>\n",
       "      <td>-87.126404</td>\n",
       "      <td>-8.618741</td>\n",
       "      <td>...</td>\n",
       "      <td>-28.884257</td>\n",
       "      <td>7.148842</td>\n",
       "      <td>-0.581330</td>\n",
       "      <td>15.176347</td>\n",
       "      <td>-39.053505</td>\n",
       "      <td>4.942949</td>\n",
       "      <td>6.417614</td>\n",
       "      <td>10.165027</td>\n",
       "      <td>23.343420</td>\n",
       "      <td>0.0</td>\n",
       "    </tr>\n",
       "  </tbody>\n",
       "</table>\n",
       "<p>5 rows × 101 columns</p>\n",
       "</div>"
      ],
      "text/plain": [
       "         PCA1        PCA2        PCA3        PCA4        PCA5        PCA6  \\\n",
       "0 -204.284070  382.591700  -98.669342 -125.592621  244.417180   64.955152   \n",
       "1   33.957105 -118.542560  246.842639 -203.110077  -32.433554   53.879758   \n",
       "2 -326.397143  250.087673 -328.819288  -14.241610 -182.860053  133.826225   \n",
       "3 -130.180141  415.987085 -123.378111  -43.174811  -56.212688   27.816050   \n",
       "4  -79.888543 -203.040379 -194.865590   -9.589059  -39.402406   24.994512   \n",
       "\n",
       "         PCA7       PCA8       PCA9      PCA10  ...      PCA92      PCA93  \\\n",
       "0   52.070934 -20.757499 -14.284298  23.960479  ... -11.728796  10.549278   \n",
       "1   49.599605  66.962019  32.319971  -1.055794  ...  17.913463 -13.695948   \n",
       "2  252.327899 -44.579186 -92.269718  93.054558  ... -15.384374  -1.603647   \n",
       "3  104.299740 -93.810262 -73.860074  -2.600294  ...  -4.151122   3.723055   \n",
       "4   25.022304  21.450059 -87.126404  -8.618741  ... -28.884257   7.148842   \n",
       "\n",
       "       PCA94      PCA95      PCA96      PCA97      PCA98      PCA99  \\\n",
       "0 -15.049239  -1.134575  -6.318578  35.567805  18.769958   9.183582   \n",
       "1  -3.680745   1.604514 -27.294478 -15.574784  26.068665  46.449769   \n",
       "2  12.658962 -31.585422 -11.966543 -15.462362  39.194103 -19.653375   \n",
       "3  12.568576  -1.493775 -13.598658   3.966436   7.342133  11.876043   \n",
       "4  -0.581330  15.176347 -39.053505   4.942949   6.417614  10.165027   \n",
       "\n",
       "      PCA100  Label  \n",
       "0   2.141035    4.0  \n",
       "1 -23.702384    3.0  \n",
       "2  11.599901    4.0  \n",
       "3  -7.235017    4.0  \n",
       "4  23.343420    0.0  \n",
       "\n",
       "[5 rows x 101 columns]"
      ]
     },
     "execution_count": 247,
     "metadata": {},
     "output_type": "execute_result"
    }
   ],
   "source": [
    "dataset_reduced_ISO.head()"
   ]
  },
  {
   "cell_type": "markdown",
   "id": "d8143421",
   "metadata": {},
   "source": [
    "-----------\n",
    "## Dimensionality reduction:  3.Linear Discriminant Analysis\n",
    "\n",
    "Linear Discriminant Analysis, or LDA, is a multi-class classification algorithm that can be used for dimensionality reduction.\n",
    "\n",
    "Is like PCA, but it focuses on maximizing the seperatibility among categories\n",
    "\n",
    "The number of dimensions for the projection is limited to 1 and C-1, where C is the number of classes."
   ]
  },
  {
   "cell_type": "code",
   "execution_count": 381,
   "id": "3da755fd",
   "metadata": {},
   "outputs": [],
   "source": [
    "from sklearn.discriminant_analysis import LinearDiscriminantAnalysis"
   ]
  },
  {
   "cell_type": "code",
   "execution_count": 474,
   "id": "712618fb",
   "metadata": {},
   "outputs": [
    {
     "data": {
      "text/plain": [
       "(801, 20532)"
      ]
     },
     "execution_count": 474,
     "metadata": {},
     "output_type": "execute_result"
    }
   ],
   "source": [
    "dataset.shape"
   ]
  },
  {
   "cell_type": "code",
   "execution_count": 475,
   "id": "36c29470",
   "metadata": {},
   "outputs": [],
   "source": [
    "# define transform\n",
    "lda = LinearDiscriminantAnalysis(n_components=2)"
   ]
  },
  {
   "cell_type": "code",
   "execution_count": 476,
   "id": "54e8ef29",
   "metadata": {},
   "outputs": [
    {
     "data": {
      "text/plain": [
       "LinearDiscriminantAnalysis(n_components=2)"
      ]
     },
     "execution_count": 476,
     "metadata": {},
     "output_type": "execute_result"
    }
   ],
   "source": [
    "# prepare transform on dataset\n",
    "lda.fit(dataset.iloc[:,:-1].values, dataset.iloc[:,-1:].values.ravel())"
   ]
  },
  {
   "cell_type": "code",
   "execution_count": 477,
   "id": "0f901b26",
   "metadata": {},
   "outputs": [
    {
     "data": {
      "text/plain": [
       "(801, 2)"
      ]
     },
     "execution_count": 477,
     "metadata": {},
     "output_type": "execute_result"
    }
   ],
   "source": [
    "# apply transform to dataset\n",
    "reduced_lda = lda.transform(dataset.iloc[:,:-1].values)\n",
    "reduced_lda.shape"
   ]
  },
  {
   "cell_type": "code",
   "execution_count": 478,
   "id": "869a4bc8",
   "metadata": {},
   "outputs": [],
   "source": [
    "# Save labels in an np.array\n",
    "\n",
    "y_lda = dataset['Class'].to_numpy()"
   ]
  },
  {
   "cell_type": "code",
   "execution_count": 479,
   "id": "32b1e45a",
   "metadata": {},
   "outputs": [],
   "source": [
    "# Create final dataframe with reduced dimensions\n",
    "\n",
    "dataset_reduced_LDA = pd.DataFrame(np.column_stack((reduced_lda, y_lda)))"
   ]
  },
  {
   "cell_type": "markdown",
   "id": "c024150c",
   "metadata": {},
   "source": [
    "#### Lets display the explained variance of each PCA component"
   ]
  },
  {
   "cell_type": "code",
   "execution_count": 480,
   "id": "003cc3ef",
   "metadata": {
    "scrolled": false
   },
   "outputs": [
    {
     "data": {
      "text/plain": [
       "(2,)"
      ]
     },
     "execution_count": 480,
     "metadata": {},
     "output_type": "execute_result"
    }
   ],
   "source": [
    "lda.explained_variance_ratio_.shape"
   ]
  },
  {
   "cell_type": "code",
   "execution_count": 481,
   "id": "dbed9416",
   "metadata": {},
   "outputs": [
    {
     "data": {
      "text/plain": [
       "(2,)"
      ]
     },
     "execution_count": 481,
     "metadata": {},
     "output_type": "execute_result"
    }
   ],
   "source": [
    "# To see the percentage of variation thaat each principal components accounts for\n",
    "\n",
    "per_var = np.round(lda.explained_variance_ratio_*100, decimals=1)\n",
    "per_var.shape"
   ]
  },
  {
   "cell_type": "code",
   "execution_count": 482,
   "id": "ffcede1d",
   "metadata": {},
   "outputs": [
    {
     "data": {
      "image/png": "[encoded data removed]",
      "text/plain": [
       "<Figure size 360x360 with 1 Axes>"
      ]
     },
     "metadata": {
      "needs_background": "light"
     },
     "output_type": "display_data"
    }
   ],
   "source": [
    "labels = ['PC' + str(x) for x in range(1, len(per_var)+1)]\n",
    "plt.figure(figsize=(5,5))\n",
    "plt.bar(x=range(1,len(per_var)+1),height=per_var, tick_label=labels)\n",
    "plt.ylabel('Percentage of Explained Variance')\n",
    "plt.xlabel('Principal Component')\n",
    "plt.title('Percentage of explained variance of each PCA ')\n",
    "plt.show()"
   ]
  },
  {
   "cell_type": "code",
   "execution_count": 483,
   "id": "11a6c1a4",
   "metadata": {},
   "outputs": [
    {
     "data": {
      "text/plain": [
       "(2,)"
      ]
     },
     "execution_count": 483,
     "metadata": {},
     "output_type": "execute_result"
    }
   ],
   "source": [
    "# Here we calculate the cumulative sum of the variance so we can plot and see how the variance of the PCA evolute \n",
    "\n",
    "sum_lda = np.cumsum(lda.explained_variance_ratio_)\n",
    "sum_lda.shape\n"
   ]
  },
  {
   "cell_type": "code",
   "execution_count": 484,
   "id": "497bcdf5",
   "metadata": {},
   "outputs": [
    {
     "data": {
      "text/plain": [
       "2"
      ]
     },
     "execution_count": 484,
     "metadata": {},
     "output_type": "execute_result"
    }
   ],
   "source": [
    "length = sum_lda.shape[0]\n",
    "length"
   ]
  },
  {
   "cell_type": "code",
   "execution_count": 485,
   "id": "b23e65ae",
   "metadata": {},
   "outputs": [
    {
     "data": {
      "text/plain": [
       "0.6637513134816208"
      ]
     },
     "execution_count": 485,
     "metadata": {},
     "output_type": "execute_result"
    }
   ],
   "source": [
    "# Let´s see the cummulative variance\n",
    "sum_lda[length-1]"
   ]
  },
  {
   "cell_type": "code",
   "execution_count": 486,
   "id": "8d30b6f4",
   "metadata": {},
   "outputs": [
    {
     "data": {
      "text/plain": [
       "0.6637513134816208"
      ]
     },
     "execution_count": 486,
     "metadata": {},
     "output_type": "execute_result"
    }
   ],
   "source": [
    "# Here we calculate the cumulative sum of the variance so we can plot and see how the variance of the PCA evolute \n",
    "\n",
    "cum_sum_lda = np.cumsum(lda.explained_variance_ratio_)\n",
    "\n",
    "length = cum_sum_lda.shape[0]\n",
    "\n",
    "# Let´s see the cummulative variance\n",
    "cum_sum_lda[length-1]"
   ]
  },
  {
   "cell_type": "code",
   "execution_count": 487,
   "id": "b3f349e1",
   "metadata": {},
   "outputs": [
    {
     "data": {
      "image/png": "[encoded data removed]",
      "text/plain": [
       "<Figure size 432x288 with 1 Axes>"
      ]
     },
     "metadata": {
      "needs_background": "light"
     },
     "output_type": "display_data"
    }
   ],
   "source": [
    "# Plot with regards of components\n",
    "\n",
    "#plt.bar(range(0,len(exp_var_pca[:150])), exp_var_pca[:150], alpha=0.5, align='center', label='Individual explained variance')\n",
    "plt.step(range(0,len(cum_sum_lda)), cum_sum_lda, where='mid',label='Cumulative explained variance')\n",
    "plt.ylabel('Explained variance ratio')\n",
    "plt.xlabel('Principal component index')\n",
    "plt.legend(loc='best')\n",
    "plt.tight_layout()\n",
    "plt.show()"
   ]
  },
  {
   "cell_type": "markdown",
   "id": "64c9e76f",
   "metadata": {},
   "source": [
    "### Output of preprocesing "
   ]
  },
  {
   "cell_type": "code",
   "execution_count": 488,
   "id": "6d47848a",
   "metadata": {},
   "outputs": [
    {
     "data": {
      "text/plain": [
       "(801, 86)"
      ]
     },
     "execution_count": 488,
     "metadata": {},
     "output_type": "execute_result"
    }
   ],
   "source": [
    "dataset_reduced_PCA.shape"
   ]
  },
  {
   "cell_type": "code",
   "execution_count": 489,
   "id": "b24108fb",
   "metadata": {
    "scrolled": true
   },
   "outputs": [
    {
     "data": {
      "text/plain": [
       "(801, 101)"
      ]
     },
     "execution_count": 489,
     "metadata": {},
     "output_type": "execute_result"
    }
   ],
   "source": [
    "dataset_reduced_ISO.shape"
   ]
  },
  {
   "cell_type": "code",
   "execution_count": 490,
   "id": "bcb5e3b0",
   "metadata": {},
   "outputs": [
    {
     "data": {
      "text/plain": [
       "(801, 3)"
      ]
     },
     "execution_count": 490,
     "metadata": {},
     "output_type": "execute_result"
    }
   ],
   "source": [
    "dataset_reduced_LDA.shape"
   ]
  },
  {
   "cell_type": "markdown",
   "id": "6edb562f",
   "metadata": {},
   "source": [
    "------\n",
    "## Input data for all the model bellow"
   ]
  },
  {
   "cell_type": "markdown",
   "id": "3a69f296",
   "metadata": {},
   "source": [
    "#For ORIGINAL data as input\n",
    "\n",
    "input_data = dataset.iloc[:,:-1].values\n",
    "label_data = dataset.iloc[:,-1].values"
   ]
  },
  {
   "cell_type": "markdown",
   "id": "d5441fc6",
   "metadata": {},
   "source": [
    "#For PCA REDUCED data as input\n",
    "\n",
    "input_data = dataset_reduced_PCA.iloc[:,:-1].values\n",
    "label_data = dataset_reduced_PCA.iloc[:,-1].values"
   ]
  },
  {
   "cell_type": "code",
   "execution_count": 491,
   "id": "d3b6f210",
   "metadata": {},
   "outputs": [],
   "source": [
    "#For LDA REDUCED data as input\n",
    "\n",
    "input_data = dataset_reduced_LDA.iloc[:,:-1].values\n",
    "label_data = dataset_reduced_LDA.iloc[:,-1].values"
   ]
  },
  {
   "cell_type": "markdown",
   "id": "fb1e9a01",
   "metadata": {},
   "source": [
    "### Models\n",
    "\n",
    "1. KNN\n",
    "\n",
    "2. Logistic regression\n",
    "\n",
    "3. Decision tree"
   ]
  },
  {
   "cell_type": "markdown",
   "id": "b9e2761e",
   "metadata": {},
   "source": [
    "--------------\n",
    "# Model Implementation:  KNN"
   ]
  },
  {
   "cell_type": "markdown",
   "id": "c800d5a4",
   "metadata": {},
   "source": [
    "###  80% Training data, 20% test data"
   ]
  },
  {
   "cell_type": "code",
   "execution_count": 492,
   "id": "c256fe00",
   "metadata": {},
   "outputs": [],
   "source": [
    "# We split the data  \n",
    "X_train, X_test, y_train, y_test = train_test_split(input_data,label_data, test_size=0.2)"
   ]
  },
  {
   "cell_type": "code",
   "execution_count": 493,
   "id": "b8ac0713",
   "metadata": {},
   "outputs": [],
   "source": [
    "error = []\n",
    "\n",
    "# Calculating error for nº neighbors\n",
    "\n",
    "for i in range(1, 60):\n",
    "    knn = KNeighborsClassifier(n_neighbors=i)\n",
    "    knn.fit(X_train, y_train)\n",
    "    \n",
    "    preds = knn.predict(X_test)\n",
    "    \n",
    "    squared_error = np.power(y_test - preds,2)\n",
    "    error.append(np.mean(squared_error))"
   ]
  },
  {
   "cell_type": "code",
   "execution_count": 494,
   "id": "c7cc1cf0",
   "metadata": {
    "scrolled": true
   },
   "outputs": [
    {
     "data": {
      "text/plain": [
       "Text(0, 0.5, 'Mean Squared Error.')"
      ]
     },
     "execution_count": 494,
     "metadata": {},
     "output_type": "execute_result"
    },
    {
     "data": {
      "image/png": "[encoded data removed]",
      "text/plain": [
       "<Figure size 864x432 with 1 Axes>"
      ]
     },
     "metadata": {
      "needs_background": "light"
     },
     "output_type": "display_data"
    }
   ],
   "source": [
    "plt.figure(figsize=(12, 6))\n",
    "plt.plot(range(1, 60), error, color='blue', marker='o',\n",
    "         markerfacecolor='red', markersize=10)\n",
    "plt.title('Error Rate K Value.')\n",
    "plt.xlabel('K Value (nº neighbors).')\n",
    "plt.ylabel('Mean Squared Error.')\n",
    "#plt.savefig(\"KNN_error_over_multiple_neighbors.png\")"
   ]
  },
  {
   "cell_type": "code",
   "execution_count": 495,
   "id": "73abaa9e",
   "metadata": {},
   "outputs": [
    {
     "data": {
      "text/plain": [
       "KNeighborsClassifier(n_neighbors=10)"
      ]
     },
     "execution_count": 495,
     "metadata": {},
     "output_type": "execute_result"
    }
   ],
   "source": [
    "# Build and train the model with the value selected: k= 10\n",
    "KNN = KNeighborsClassifier(n_neighbors=10)\n",
    "KNN.fit(X_train, y_train)"
   ]
  },
  {
   "cell_type": "code",
   "execution_count": 496,
   "id": "5c4531f8",
   "metadata": {},
   "outputs": [],
   "source": [
    "# We predict the labels of the test data\n",
    "y_pred = KNN.predict(X_test)"
   ]
  },
  {
   "cell_type": "code",
   "execution_count": 497,
   "id": "0f0b63c7",
   "metadata": {},
   "outputs": [
    {
     "data": {
      "image/png": "[encoded data removed]",
      "text/plain": [
       "<Figure size 576x360 with 2 Axes>"
      ]
     },
     "metadata": {
      "needs_background": "light"
     },
     "output_type": "display_data"
    }
   ],
   "source": [
    "#Confusion matrix to evaluate the model \n",
    "plt.figure(figsize=(8,5))\n",
    "confusion_matrix = pd.crosstab(y_test, y_pred, rownames=['Actual'], \n",
    "                               colnames=['Predicted'])\n",
    "\n",
    "sns.heatmap(confusion_matrix, annot=True)\n",
    "#plt.savefig(\"Confusion_Matrix_KNN.png\")\n",
    "plt.show()"
   ]
  },
  {
   "cell_type": "code",
   "execution_count": 498,
   "id": "57aa56f8",
   "metadata": {},
   "outputs": [
    {
     "data": {
      "text/plain": [
       "0.9813664596273292"
      ]
     },
     "execution_count": 498,
     "metadata": {},
     "output_type": "execute_result"
    }
   ],
   "source": [
    "# Accuracy of the model\n",
    "metrics.accuracy_score(y_test, y_pred)"
   ]
  },
  {
   "cell_type": "code",
   "execution_count": 499,
   "id": "5e7e9a83",
   "metadata": {},
   "outputs": [
    {
     "name": "stdout",
     "output_type": "stream",
     "text": [
      "Accuracy:0.9813664596273292\n"
     ]
    }
   ],
   "source": [
    "print(f\"Accuracy:{metrics.accuracy_score(y_test, y_pred)}\")"
   ]
  },
  {
   "cell_type": "code",
   "execution_count": 500,
   "id": "d3435db2",
   "metadata": {
    "scrolled": false
   },
   "outputs": [
    {
     "name": "stdout",
     "output_type": "stream",
     "text": [
      "More metrics about the model.\n",
      "\n",
      "              precision    recall  f1-score   support\n",
      "\n",
      "         0.0       1.00      0.97      0.98        64\n",
      "         1.0       0.93      1.00      0.97        14\n",
      "         2.0       1.00      1.00      1.00        25\n",
      "         3.0       0.94      0.97      0.95        31\n",
      "         4.0       1.00      1.00      1.00        27\n",
      "\n",
      "    accuracy                           0.98       161\n",
      "   macro avg       0.97      0.99      0.98       161\n",
      "weighted avg       0.98      0.98      0.98       161\n",
      "\n"
     ]
    }
   ],
   "source": [
    "print(f'More metrics about the model.\\n\\n' \\\n",
    "      f'{metrics.classification_report(y_test, y_pred, labels=[0.0, 1.0, 2.0, 3.0, 4.0])}')"
   ]
  },
  {
   "cell_type": "markdown",
   "id": "86569a93",
   "metadata": {},
   "source": [
    "### Stratified Kfold"
   ]
  },
  {
   "cell_type": "code",
   "execution_count": 501,
   "id": "01657781",
   "metadata": {},
   "outputs": [],
   "source": [
    "#Need help to store values and plot Sarandis\n",
    "\n",
    "scores = []\n",
    "error = []\n",
    "\n",
    "def get_score(model, X_train, X_test, y_train, y_test):\n",
    "    model.fit(X_train, y_train)\n",
    "    return model.score(X_test, y_test)\n",
    "\n",
    "for k in range(9, 10):\n",
    "    folds = StratifiedKFold(n_splits=k, shuffle = True, random_state = 100)\n",
    "    \n",
    "    for i in range(9, 10):\n",
    "        knn = KNeighborsClassifier(n_neighbors=i)\n",
    "               \n",
    "        for train_index, test_index in folds.split(input_data,label_data):\n",
    "            X_train, X_test, y_train, y_test = input_data[train_index], input_data[test_index], label_data[train_index], label_data[test_index]\n",
    "            \n",
    "            scores.append(get_score(knn, X_train, X_test, y_train, y_test))\n",
    "            \n",
    "            preds = knn.predict(X_test)\n",
    "            squared_error = np.power(y_test - preds,2)\n",
    "            error.append(np.mean(squared_error))\n",
    "            \n",
    "# Help with the plot"
   ]
  },
  {
   "cell_type": "code",
   "execution_count": 502,
   "id": "b73fe0e1",
   "metadata": {},
   "outputs": [],
   "source": [
    "# After studying the optimal parameters, we run the model with the selected ones\n",
    "\n",
    "knn = KNeighborsClassifier(n_neighbors=10)\n",
    "folds = StratifiedKFold(n_splits=5, shuffle = True, random_state = 100)\n",
    "\n",
    "scores = []\n",
    "\n",
    "def get_score(model, X_train, X_test, y_train, y_test):\n",
    "    model.fit(X_train, y_train)\n",
    "    return model.score(X_test, y_test)\n",
    "\n",
    "# Index of the spliting\n",
    "for train_index, test_index in folds.split(input_data,label_data):\n",
    "    X_train, X_test, y_train, y_test = input_data[train_index], input_data[test_index], label_data[train_index], label_data[test_index]\n",
    "    scores.append(get_score(knn, X_train, X_test, y_train, y_test))\n"
   ]
  },
  {
   "cell_type": "code",
   "execution_count": 503,
   "id": "743cd497",
   "metadata": {},
   "outputs": [],
   "source": [
    "# We predict the labels of the test data (Depending on the fold we have different, how we do it with the confusion matrix)\n",
    "y_pred = knn.predict(X_test)"
   ]
  },
  {
   "cell_type": "code",
   "execution_count": 504,
   "id": "b4deb64a",
   "metadata": {},
   "outputs": [
    {
     "data": {
      "image/png": "[encoded data removed]",
      "text/plain": [
       "<Figure size 576x360 with 2 Axes>"
      ]
     },
     "metadata": {
      "needs_background": "light"
     },
     "output_type": "display_data"
    }
   ],
   "source": [
    "#Confusion matrix to evaluate the model \n",
    "plt.figure(figsize=(8,5))\n",
    "confusion_matrix = pd.crosstab(y_test, y_pred, rownames=['Actual'], \n",
    "                               colnames=['Predicted'])\n",
    "\n",
    "sns.heatmap(confusion_matrix, annot=True)\n",
    "plt.savefig(\"Confusion_Matrix_KNN.png\")\n",
    "plt.show()"
   ]
  },
  {
   "cell_type": "code",
   "execution_count": 505,
   "id": "9e8cdf68",
   "metadata": {},
   "outputs": [
    {
     "data": {
      "text/plain": [
       "0.99375"
      ]
     },
     "execution_count": 505,
     "metadata": {},
     "output_type": "execute_result"
    }
   ],
   "source": [
    "# Accuracy of the model\n",
    "metrics.accuracy_score(y_test, y_pred)"
   ]
  },
  {
   "cell_type": "code",
   "execution_count": 506,
   "id": "31d70369",
   "metadata": {},
   "outputs": [
    {
     "name": "stdout",
     "output_type": "stream",
     "text": [
      "Accuracy:0.99375\n"
     ]
    }
   ],
   "source": [
    "print(f\"Accuracy:{metrics.accuracy_score(y_test, y_pred)}\")"
   ]
  },
  {
   "cell_type": "code",
   "execution_count": 507,
   "id": "d3435db2",
   "metadata": {
    "scrolled": true
   },
   "outputs": [
    {
     "name": "stdout",
     "output_type": "stream",
     "text": [
      "More metrics about the model.\n",
      "\n",
      "              precision    recall  f1-score   support\n",
      "\n",
      "         0.0       1.00      1.00      1.00        60\n",
      "         1.0       0.94      1.00      0.97        16\n",
      "         2.0       1.00      1.00      1.00        29\n",
      "         3.0       1.00      0.96      0.98        28\n",
      "         4.0       1.00      1.00      1.00        27\n",
      "\n",
      "    accuracy                           0.99       160\n",
      "   macro avg       0.99      0.99      0.99       160\n",
      "weighted avg       0.99      0.99      0.99       160\n",
      "\n"
     ]
    }
   ],
   "source": [
    "print(f'More metrics about the model.\\n\\n' \\\n",
    "      f'{metrics.classification_report(y_test, y_pred, labels=[0.0, 1.0, 2.0, 3.0, 4.0])}')"
   ]
  },
  {
   "cell_type": "markdown",
   "id": "9dfb55ba",
   "metadata": {},
   "source": [
    "--------\n",
    "# Model Implementation: Logistic regression"
   ]
  },
  {
   "cell_type": "markdown",
   "id": "c800d5a4",
   "metadata": {},
   "source": [
    "###  80% Training data, 20% test data"
   ]
  },
  {
   "cell_type": "code",
   "execution_count": 508,
   "id": "c256fe00",
   "metadata": {},
   "outputs": [],
   "source": [
    "# We split the data  \n",
    "X_train, X_test, y_train, y_test = train_test_split(input_data,label_data, test_size=0.2)"
   ]
  },
  {
   "cell_type": "code",
   "execution_count": 509,
   "id": "b8ac0713",
   "metadata": {
    "scrolled": true
   },
   "outputs": [
    {
     "data": {
      "text/plain": [
       "LogisticRegression(max_iter=300)"
      ]
     },
     "execution_count": 509,
     "metadata": {},
     "output_type": "execute_result"
    }
   ],
   "source": [
    "# Building and training the model\n",
    "LR = LogisticRegression(max_iter=300) # Parameters to tune?\n",
    "LR.fit(X_train, y_train)"
   ]
  },
  {
   "cell_type": "code",
   "execution_count": 510,
   "id": "5c4531f8",
   "metadata": {},
   "outputs": [],
   "source": [
    "# We predict the labels of the test data\n",
    "y_pred = LR.predict(X_test)"
   ]
  },
  {
   "cell_type": "code",
   "execution_count": 511,
   "id": "0f0b63c7",
   "metadata": {
    "scrolled": true
   },
   "outputs": [
    {
     "data": {
      "image/png": "[encoded data removed]",
      "text/plain": [
       "<Figure size 576x360 with 2 Axes>"
      ]
     },
     "metadata": {
      "needs_background": "light"
     },
     "output_type": "display_data"
    }
   ],
   "source": [
    "#Confusion matrix to evaluate the model \n",
    "plt.figure(figsize=(8,5))\n",
    "confusion_matrix = pd.crosstab(y_test, y_pred, rownames=['Actual'], \n",
    "                               colnames=['Predicted'])\n",
    "\n",
    "sns.heatmap(confusion_matrix, annot=True)\n",
    "#plt.savefig(\"Confusion_Matrix_KNN.png\")\n",
    "plt.show()"
   ]
  },
  {
   "cell_type": "code",
   "execution_count": 512,
   "id": "57aa56f8",
   "metadata": {},
   "outputs": [
    {
     "data": {
      "text/plain": [
       "0.9813664596273292"
      ]
     },
     "execution_count": 512,
     "metadata": {},
     "output_type": "execute_result"
    }
   ],
   "source": [
    "# Accuracy of the model\n",
    "metrics.accuracy_score(y_test, y_pred)"
   ]
  },
  {
   "cell_type": "code",
   "execution_count": 513,
   "id": "5e7e9a83",
   "metadata": {},
   "outputs": [
    {
     "name": "stdout",
     "output_type": "stream",
     "text": [
      "Accuracy:0.9813664596273292\n"
     ]
    }
   ],
   "source": [
    "print(f\"Accuracy:{metrics.accuracy_score(y_test, y_pred)}\")"
   ]
  },
  {
   "cell_type": "code",
   "execution_count": 514,
   "id": "d3435db2",
   "metadata": {
    "scrolled": true
   },
   "outputs": [
    {
     "name": "stdout",
     "output_type": "stream",
     "text": [
      "More metrics about the model.\n",
      "\n",
      "              precision    recall  f1-score   support\n",
      "\n",
      "         0.0       0.98      0.98      0.98        62\n",
      "         1.0       1.00      0.93      0.97        15\n",
      "         2.0       1.00      1.00      1.00        35\n",
      "         3.0       0.93      0.96      0.94        26\n",
      "         4.0       1.00      1.00      1.00        23\n",
      "\n",
      "    accuracy                           0.98       161\n",
      "   macro avg       0.98      0.98      0.98       161\n",
      "weighted avg       0.98      0.98      0.98       161\n",
      "\n"
     ]
    }
   ],
   "source": [
    "print(f'More metrics about the model.\\n\\n' \\\n",
    "      f'{metrics.classification_report(y_test, y_pred, labels=[0.0, 1.0, 2.0, 3.0, 4.0])}')"
   ]
  },
  {
   "cell_type": "markdown",
   "id": "86569a93",
   "metadata": {},
   "source": [
    "### Stratified Kfold"
   ]
  },
  {
   "cell_type": "code",
   "execution_count": 515,
   "id": "8246b86b",
   "metadata": {},
   "outputs": [],
   "source": [
    "score_average = []\n",
    "error_average = []\n",
    "\n",
    "k_values = []\n",
    "\n",
    "def get_score(model, X_train, X_test, y_train, y_test):\n",
    "    model.fit(X_train, y_train)\n",
    "    return model.score(X_test, y_test)\n",
    "\n",
    "LR = LogisticRegression(max_iter=300) # Parameters to tune?\n",
    "\n",
    "for k in range(5, 10):\n",
    "    folds = StratifiedKFold(n_splits=k, shuffle = True, random_state = 100)\n",
    "    k_values.append(k)\n",
    "    error = []\n",
    "    scores = []\n",
    "                   \n",
    "    for train_index, test_index in folds.split(input_data,label_data):\n",
    "        X_train, X_test, y_train, y_test = input_data[train_index], input_data[test_index], label_data[train_index], label_data[test_index]\n",
    "        \n",
    "        scores.append(get_score(LR, X_train, X_test, y_train, y_test))\n",
    "        \n",
    "        preds = LR.predict(X_test)\n",
    "        squared_error = np.power(y_test - preds,2)\n",
    "        error.append(np.mean(squared_error))\n",
    "        \n",
    "    error_average.append(np.mean(error))\n",
    "    score_average.append(round(np.mean(scores),4))"
   ]
  },
  {
   "cell_type": "code",
   "execution_count": 516,
   "id": "03473e36",
   "metadata": {},
   "outputs": [
    {
     "name": "stdout",
     "output_type": "stream",
     "text": [
      "0.98628\n"
     ]
    }
   ],
   "source": [
    "print(np.mean(score_average))"
   ]
  },
  {
   "cell_type": "code",
   "execution_count": 517,
   "id": "bf87a129",
   "metadata": {},
   "outputs": [
    {
     "data": {
      "text/plain": [
       "Text(0, 0.5, 'Mean Score.')"
      ]
     },
     "execution_count": 517,
     "metadata": {},
     "output_type": "execute_result"
    },
    {
     "data": {
      "image/png": "[encoded data removed]",
      "text/plain": [
       "<Figure size 864x432 with 1 Axes>"
      ]
     },
     "metadata": {
      "needs_background": "light"
     },
     "output_type": "display_data"
    }
   ],
   "source": [
    "#SCORE PLOT\n",
    "plt.figure(figsize=(12, 6))\n",
    "#plt.plot(k_values, error_average, color='blue', marker='o',markerfacecolor='red', markersize=10)\n",
    "plt.plot(k_values, score_average, color='red', marker='o', markerfacecolor='green', markersize=10)\n",
    "\n",
    "plt.title('Score value - K Value.')\n",
    "plt.xlabel('K Value.')\n",
    "plt.ylabel('Mean Score.')\n",
    "#plt.savefig(\"KNN_error_over_multiple_neighbors.png\")"
   ]
  },
  {
   "cell_type": "code",
   "execution_count": 518,
   "id": "9b71b85c",
   "metadata": {
    "scrolled": true
   },
   "outputs": [
    {
     "data": {
      "text/plain": [
       "Text(0, 0.5, 'Mean Squared Error.')"
      ]
     },
     "execution_count": 518,
     "metadata": {},
     "output_type": "execute_result"
    },
    {
     "data": {
      "image/png": "[encoded data removed]",
      "text/plain": [
       "<Figure size 864x432 with 1 Axes>"
      ]
     },
     "metadata": {
      "needs_background": "light"
     },
     "output_type": "display_data"
    }
   ],
   "source": [
    "#SQUARE ERROR PLOT\n",
    "plt.figure(figsize=(12, 6))\n",
    "plt.plot(k_values, error_average, color='blue', marker='o',\n",
    "         markerfacecolor='red', markersize=10)\n",
    "#plt.plot(k_values, score_average, color='red', marker='o', markerfacecolor='green', markersize=10)\n",
    "\n",
    "plt.title('Error Rate K Value.')\n",
    "plt.xlabel('K Value.')\n",
    "plt.ylabel('Mean Squared Error.')\n",
    "#plt.savefig(\"KNN_error_over_multiple_neighbors.png\")"
   ]
  },
  {
   "cell_type": "code",
   "execution_count": 519,
   "id": "b73fe0e1",
   "metadata": {},
   "outputs": [
    {
     "name": "stdout",
     "output_type": "stream",
     "text": [
      "0.9875232919254658\n"
     ]
    }
   ],
   "source": [
    "# After studying the optimal parameters, we run the model with the selected ones\n",
    "\n",
    "k = 5\n",
    "\n",
    "LR = LogisticRegression() # Parameters to tune?\n",
    "\n",
    "folds = StratifiedKFold(n_splits=k, shuffle = True, random_state = 100)\n",
    "\n",
    "scores = []\n",
    "\n",
    "def get_score(model, X_train, X_test, y_train, y_test):\n",
    "    model.fit(X_train, y_train)\n",
    "    return model.score(X_test, y_test)\n",
    "\n",
    "# Index of the spliting\n",
    "for train_index, test_index in folds.split(input_data,label_data):\n",
    "    X_train, X_test, y_train, y_test = input_data[train_index], input_data[test_index], label_data[train_index], label_data[test_index]\n",
    "    scores.append(get_score(LR, X_train, X_test, y_train, y_test))\n",
    "\n",
    "print(np.mean(scores))"
   ]
  },
  {
   "cell_type": "code",
   "execution_count": 520,
   "id": "743cd497",
   "metadata": {},
   "outputs": [],
   "source": [
    "# We predict the labels of the test data (Depending on the fold we have different, how we do it with the confusion matrix)\n",
    "y_pred = LR.predict(X_test)"
   ]
  },
  {
   "cell_type": "code",
   "execution_count": 521,
   "id": "0f0b63c7",
   "metadata": {},
   "outputs": [
    {
     "data": {
      "image/png": "[encoded data removed]",
      "text/plain": [
       "<Figure size 576x360 with 2 Axes>"
      ]
     },
     "metadata": {
      "needs_background": "light"
     },
     "output_type": "display_data"
    }
   ],
   "source": [
    "#Confusion matrix to evaluate the model \n",
    "plt.figure(figsize=(8,5))\n",
    "confusion_matrix = pd.crosstab(y_test, y_pred, rownames=['Actual'], \n",
    "                               colnames=['Predicted'])\n",
    "\n",
    "sns.heatmap(confusion_matrix, annot=True)\n",
    "plt.savefig(\"Confusion_Matrix_KNN.png\")\n",
    "plt.show()"
   ]
  },
  {
   "cell_type": "code",
   "execution_count": 522,
   "id": "57aa56f8",
   "metadata": {},
   "outputs": [
    {
     "data": {
      "text/plain": [
       "0.99375"
      ]
     },
     "execution_count": 522,
     "metadata": {},
     "output_type": "execute_result"
    }
   ],
   "source": [
    "# Accuracy of the model --> This is just for this iteration, the real score is the mean of all the scores\n",
    "metrics.accuracy_score(y_test, y_pred)"
   ]
  },
  {
   "cell_type": "code",
   "execution_count": 523,
   "id": "5e7e9a83",
   "metadata": {},
   "outputs": [
    {
     "name": "stdout",
     "output_type": "stream",
     "text": [
      "Accuracy:0.99375\n"
     ]
    }
   ],
   "source": [
    "print(f\"Accuracy:{metrics.accuracy_score(y_test, y_pred)}\")"
   ]
  },
  {
   "cell_type": "code",
   "execution_count": 524,
   "id": "d3435db2",
   "metadata": {
    "scrolled": false
   },
   "outputs": [
    {
     "name": "stdout",
     "output_type": "stream",
     "text": [
      "More metrics about the model.\n",
      "\n",
      "              precision    recall  f1-score   support\n",
      "\n",
      "         0.0       1.00      1.00      1.00        60\n",
      "         1.0       0.94      1.00      0.97        16\n",
      "         2.0       1.00      1.00      1.00        29\n",
      "         3.0       1.00      0.96      0.98        28\n",
      "         4.0       1.00      1.00      1.00        27\n",
      "\n",
      "    accuracy                           0.99       160\n",
      "   macro avg       0.99      0.99      0.99       160\n",
      "weighted avg       0.99      0.99      0.99       160\n",
      "\n"
     ]
    }
   ],
   "source": [
    "print(f'More metrics about the model.\\n\\n' \\\n",
    "      f'{metrics.classification_report(y_test, y_pred, labels=[0.0, 1.0, 2.0, 3.0, 4.0])}')"
   ]
  },
  {
   "cell_type": "markdown",
   "id": "6b057249",
   "metadata": {},
   "source": [
    "--------------\n",
    "# Model Implementation: Decision Tree"
   ]
  },
  {
   "cell_type": "markdown",
   "id": "c800d5a4",
   "metadata": {},
   "source": [
    "###  80% Training data, 20% test data"
   ]
  },
  {
   "cell_type": "code",
   "execution_count": 525,
   "id": "c256fe00",
   "metadata": {},
   "outputs": [],
   "source": [
    "# We split the data  \n",
    "X_train, X_test, y_train, y_test = train_test_split(input_data,label_data, test_size=0.2)"
   ]
  },
  {
   "cell_type": "code",
   "execution_count": 526,
   "id": "b8ac0713",
   "metadata": {},
   "outputs": [],
   "source": [
    "# Creating model and predicting output values on testing data.\n",
    "DT = DecisionTreeClassifier()\n",
    "\n",
    "DT.fit(X_train,y_train)\n",
    "\n",
    "y_pred = DT.predict(X_test)"
   ]
  },
  {
   "cell_type": "code",
   "execution_count": 527,
   "id": "5c4531f8",
   "metadata": {},
   "outputs": [],
   "source": [
    "# We predict the labels of the test data\n",
    "y_pred = DT.predict(X_test)"
   ]
  },
  {
   "cell_type": "code",
   "execution_count": 528,
   "id": "0f0b63c7",
   "metadata": {
    "scrolled": true
   },
   "outputs": [
    {
     "data": {
      "image/png": "[encoded data removed]",
      "text/plain": [
       "<Figure size 576x360 with 2 Axes>"
      ]
     },
     "metadata": {
      "needs_background": "light"
     },
     "output_type": "display_data"
    }
   ],
   "source": [
    "#Confusion matrix to evaluate the model \n",
    "plt.figure(figsize=(8,5))\n",
    "confusion_matrix = pd.crosstab(y_test, y_pred, rownames=['Actual'], \n",
    "                               colnames=['Predicted'])\n",
    "\n",
    "sns.heatmap(confusion_matrix, annot=True)\n",
    "#plt.savefig(\"Confusion_Matrix_KNN.png\")\n",
    "plt.show()"
   ]
  },
  {
   "cell_type": "code",
   "execution_count": 529,
   "id": "57aa56f8",
   "metadata": {},
   "outputs": [
    {
     "data": {
      "text/plain": [
       "0.9813664596273292"
      ]
     },
     "execution_count": 529,
     "metadata": {},
     "output_type": "execute_result"
    }
   ],
   "source": [
    "# Accuracy of the model\n",
    "metrics.accuracy_score(y_test, y_pred)"
   ]
  },
  {
   "cell_type": "code",
   "execution_count": 530,
   "id": "5e7e9a83",
   "metadata": {},
   "outputs": [
    {
     "name": "stdout",
     "output_type": "stream",
     "text": [
      "Accuracy:0.9813664596273292\n"
     ]
    }
   ],
   "source": [
    "print(f\"Accuracy:{metrics.accuracy_score(y_test, y_pred)}\")"
   ]
  },
  {
   "cell_type": "code",
   "execution_count": 531,
   "id": "d3435db2",
   "metadata": {
    "scrolled": true
   },
   "outputs": [
    {
     "name": "stdout",
     "output_type": "stream",
     "text": [
      "More metrics about the model.\n",
      "\n",
      "              precision    recall  f1-score   support\n",
      "\n",
      "         0.0       0.96      0.98      0.97        53\n",
      "         1.0       1.00      1.00      1.00        19\n",
      "         2.0       1.00      1.00      1.00        34\n",
      "         3.0       0.96      0.93      0.94        27\n",
      "         4.0       1.00      1.00      1.00        28\n",
      "\n",
      "    accuracy                           0.98       161\n",
      "   macro avg       0.98      0.98      0.98       161\n",
      "weighted avg       0.98      0.98      0.98       161\n",
      "\n"
     ]
    }
   ],
   "source": [
    "print(f'More metrics about the model.\\n\\n' \\\n",
    "      f'{metrics.classification_report(y_test, y_pred, labels=[0.0, 1.0, 2.0, 3.0, 4.0])}')"
   ]
  },
  {
   "cell_type": "markdown",
   "id": "86569a93",
   "metadata": {},
   "source": [
    "### Stratified Kfold"
   ]
  },
  {
   "cell_type": "code",
   "execution_count": 532,
   "id": "3c9fbdcb",
   "metadata": {},
   "outputs": [],
   "source": [
    "error_average = []\n",
    "score_average = []\n",
    "\n",
    "k_values = []\n",
    "\n",
    "\n",
    "def get_score(model, X_train, X_test, y_train, y_test):\n",
    "    model.fit(X_train, y_train)\n",
    "    return model.score(X_test, y_test)\n",
    "\n",
    "DT = DecisionTreeClassifier() # Parameters to tune?\n",
    "\n",
    "for k in range(5, 10):\n",
    "    folds = StratifiedKFold(n_splits=k, shuffle = True, random_state = 100)\n",
    "    k_values.append(k)\n",
    "    error = []\n",
    "    scores = []\n",
    "                   \n",
    "    for train_index, test_index in folds.split(input_data,label_data):\n",
    "        X_train, X_test, y_train, y_test = input_data[train_index], input_data[test_index], label_data[train_index], label_data[test_index]\n",
    "        \n",
    "        scores.append(get_score(DT, X_train, X_test, y_train, y_test))\n",
    "        \n",
    "        preds = DT.predict(X_test)\n",
    "        squared_error = np.power(y_test - preds,2)\n",
    "        error.append(np.mean(squared_error))\n",
    "        \n",
    "    error_average.append(np.mean(error))\n",
    "    score_average.append(round(np.mean(scores),4))\n",
    "    \n"
   ]
  },
  {
   "cell_type": "code",
   "execution_count": 533,
   "id": "0395f172",
   "metadata": {},
   "outputs": [
    {
     "data": {
      "text/plain": [
       "Text(0, 0.5, 'Mean Score.')"
      ]
     },
     "execution_count": 533,
     "metadata": {},
     "output_type": "execute_result"
    },
    {
     "data": {
      "image/png": "[encoded data removed]",
      "text/plain": [
       "<Figure size 864x432 with 1 Axes>"
      ]
     },
     "metadata": {
      "needs_background": "light"
     },
     "output_type": "display_data"
    }
   ],
   "source": [
    "#SCORE PLOT\n",
    "plt.figure(figsize=(12, 6))\n",
    "#plt.plot(k_values, error_average, color='blue', marker='o',markerfacecolor='red', markersize=10)\n",
    "plt.plot(k_values, score_average, color='red', marker='o', markerfacecolor='green', markersize=10)\n",
    "\n",
    "plt.title('Score value - K Value.')\n",
    "plt.xlabel('K Value.')\n",
    "plt.ylabel('Mean Score.')\n",
    "#plt.savefig(\"KNN_error_over_multiple_neighbors.png\")"
   ]
  },
  {
   "cell_type": "code",
   "execution_count": 534,
   "id": "2a53dc86",
   "metadata": {
    "scrolled": true
   },
   "outputs": [
    {
     "data": {
      "text/plain": [
       "Text(0, 0.5, 'Mean Squared Error.')"
      ]
     },
     "execution_count": 534,
     "metadata": {},
     "output_type": "execute_result"
    },
    {
     "data": {
      "image/png": "[encoded data removed]",
      "text/plain": [
       "<Figure size 864x432 with 1 Axes>"
      ]
     },
     "metadata": {
      "needs_background": "light"
     },
     "output_type": "display_data"
    }
   ],
   "source": [
    "#SQUARE ERROR PLOT\n",
    "plt.figure(figsize=(12, 6))\n",
    "plt.plot(k_values, error_average, color='blue', marker='o',\n",
    "         markerfacecolor='red', markersize=10)\n",
    "#plt.plot(k_values, score_average, color='red', marker='o', markerfacecolor='green', markersize=10)\n",
    "\n",
    "plt.title('Error Rate K Value.')\n",
    "plt.xlabel('K Value.')\n",
    "plt.ylabel('Mean Squared Error.')\n",
    "#plt.savefig(\"KNN_error_over_multiple_neighbors.png\")"
   ]
  },
  {
   "cell_type": "code",
   "execution_count": 535,
   "id": "b73fe0e1",
   "metadata": {},
   "outputs": [
    {
     "name": "stdout",
     "output_type": "stream",
     "text": [
      "0.9775308641975309\n"
     ]
    }
   ],
   "source": [
    "# After studying the optimal parameters, we run the model with the selected ones\n",
    "\n",
    "k = 10\n",
    "\n",
    "DT = DecisionTreeClassifier() # Parameters to tune?\n",
    "\n",
    "folds = StratifiedKFold(n_splits=k, shuffle = True, random_state = 100)\n",
    "\n",
    "scores = []\n",
    "\n",
    "def get_score(model, X_train, X_test, y_train, y_test):\n",
    "    model.fit(X_train, y_train)\n",
    "    return model.score(X_test, y_test)\n",
    "\n",
    "# Index of the spliting\n",
    "for train_index, test_index in folds.split(input_data,label_data):\n",
    "    X_train, X_test, y_train, y_test = input_data[train_index], input_data[test_index], label_data[train_index], label_data[test_index]\n",
    "    scores.append(get_score(DT, X_train, X_test, y_train, y_test))\n",
    "\n",
    "print(np.mean(scores))"
   ]
  },
  {
   "cell_type": "code",
   "execution_count": 536,
   "id": "743cd497",
   "metadata": {},
   "outputs": [],
   "source": [
    "# We predict the labels of the test data (Depending on the fold we have different, how we do it with the confusion matrix)\n",
    "y_pred = DT.predict(X_test)"
   ]
  },
  {
   "cell_type": "code",
   "execution_count": 537,
   "id": "0f0b63c7",
   "metadata": {},
   "outputs": [
    {
     "data": {
      "image/png": "[encoded data removed]",
      "text/plain": [
       "<Figure size 576x360 with 2 Axes>"
      ]
     },
     "metadata": {
      "needs_background": "light"
     },
     "output_type": "display_data"
    }
   ],
   "source": [
    "#Confusion matrix to evaluate the model \n",
    "plt.figure(figsize=(8,5))\n",
    "confusion_matrix = pd.crosstab(y_test, y_pred, rownames=['Actual'], \n",
    "                               colnames=['Predicted'])\n",
    "\n",
    "sns.heatmap(confusion_matrix, annot=True)\n",
    "plt.savefig(\"Confusion_Matrix_KNN.png\")\n",
    "plt.show()"
   ]
  },
  {
   "cell_type": "code",
   "execution_count": 538,
   "id": "57aa56f8",
   "metadata": {},
   "outputs": [
    {
     "data": {
      "text/plain": [
       "0.9625"
      ]
     },
     "execution_count": 538,
     "metadata": {},
     "output_type": "execute_result"
    }
   ],
   "source": [
    "# Accuracy of the model\n",
    "metrics.accuracy_score(y_test, y_pred)"
   ]
  },
  {
   "cell_type": "code",
   "execution_count": 539,
   "id": "5e7e9a83",
   "metadata": {},
   "outputs": [
    {
     "name": "stdout",
     "output_type": "stream",
     "text": [
      "Accuracy:0.9625\n"
     ]
    }
   ],
   "source": [
    "print(f\"Accuracy:{metrics.accuracy_score(y_test, y_pred)}\")"
   ]
  },
  {
   "cell_type": "code",
   "execution_count": 540,
   "id": "d3435db2",
   "metadata": {
    "scrolled": false
   },
   "outputs": [
    {
     "name": "stdout",
     "output_type": "stream",
     "text": [
      "More metrics about the model.\n",
      "\n",
      "              precision    recall  f1-score   support\n",
      "\n",
      "         0.0       0.97      1.00      0.98        30\n",
      "         1.0       0.80      1.00      0.89         8\n",
      "         2.0       1.00      1.00      1.00        15\n",
      "         3.0       1.00      0.79      0.88        14\n",
      "         4.0       1.00      1.00      1.00        13\n",
      "\n",
      "    accuracy                           0.96        80\n",
      "   macro avg       0.95      0.96      0.95        80\n",
      "weighted avg       0.97      0.96      0.96        80\n",
      "\n"
     ]
    }
   ],
   "source": [
    "print(f'More metrics about the model.\\n\\n' \\\n",
    "      f'{metrics.classification_report(y_test, y_pred, labels=[0.0, 1.0, 2.0, 3.0, 4.0])}')"
   ]
  },
  {
   "cell_type": "markdown",
   "id": "e4e8fa79",
   "metadata": {},
   "source": [
    "### Decision Tree layout"
   ]
  },
  {
   "cell_type": "code",
   "execution_count": 541,
   "id": "559d5ad2",
   "metadata": {},
   "outputs": [],
   "source": [
    "from sklearn.tree import export_graphviz\n",
    "from six import StringIO\n",
    "from IPython.display import Image  \n",
    "import pydotplus"
   ]
  },
  {
   "cell_type": "code",
   "execution_count": 542,
   "id": "f1d54a96",
   "metadata": {},
   "outputs": [
    {
     "ename": "NameError",
     "evalue": "name 'clf' is not defined",
     "output_type": "error",
     "traceback": [
      "\u001b[0;31m---------------------------------------------------------------------------\u001b[0m",
      "\u001b[0;31mNameError\u001b[0m                                 Traceback (most recent call last)",
      "\u001b[0;32m<ipython-input-542-0fdb30a40f48>\u001b[0m in \u001b[0;36m<module>\u001b[0;34m\u001b[0m\n\u001b[1;32m      1\u001b[0m \u001b[0mdot_data\u001b[0m \u001b[0;34m=\u001b[0m \u001b[0mStringIO\u001b[0m\u001b[0;34m(\u001b[0m\u001b[0;34m)\u001b[0m\u001b[0;34m\u001b[0m\u001b[0;34m\u001b[0m\u001b[0m\n\u001b[0;32m----> 2\u001b[0;31m export_graphviz(clf, out_file=dot_data,  \n\u001b[0m\u001b[1;32m      3\u001b[0m                 \u001b[0mfilled\u001b[0m\u001b[0;34m=\u001b[0m\u001b[0;32mTrue\u001b[0m\u001b[0;34m,\u001b[0m \u001b[0mrounded\u001b[0m\u001b[0;34m=\u001b[0m\u001b[0;32mTrue\u001b[0m\u001b[0;34m,\u001b[0m\u001b[0;34m\u001b[0m\u001b[0;34m\u001b[0m\u001b[0m\n\u001b[1;32m      4\u001b[0m                 special_characters=True,feature_names = final_df.columns[:-1], class_names=final_df.Label.unique().astype(str))\n\u001b[1;32m      5\u001b[0m \u001b[0mgraph\u001b[0m \u001b[0;34m=\u001b[0m \u001b[0mpydotplus\u001b[0m\u001b[0;34m.\u001b[0m\u001b[0mgraph_from_dot_data\u001b[0m\u001b[0;34m(\u001b[0m\u001b[0mdot_data\u001b[0m\u001b[0;34m.\u001b[0m\u001b[0mgetvalue\u001b[0m\u001b[0;34m(\u001b[0m\u001b[0;34m)\u001b[0m\u001b[0;34m)\u001b[0m\u001b[0;34m\u001b[0m\u001b[0;34m\u001b[0m\u001b[0m\n",
      "\u001b[0;31mNameError\u001b[0m: name 'clf' is not defined"
     ]
    }
   ],
   "source": [
    "dot_data = StringIO()\n",
    "export_graphviz(clf, out_file=dot_data,  \n",
    "                filled=True, rounded=True,\n",
    "                special_characters=True,feature_names = final_df.columns[:-1], class_names=final_df.Label.unique().astype(str))\n",
    "graph = pydotplus.graph_from_dot_data(dot_data.getvalue())  \n",
    "\n",
    "#Image(graph.create_png())"
   ]
  },
  {
   "cell_type": "code",
   "execution_count": null,
   "id": "7fe96be7",
   "metadata": {},
   "outputs": [],
   "source": [
    "#cf = multilabel_confusion_matrix(y_test, y_pred, labels=[0.0, 1.0, 2.0, 3.0, 4.0])"
   ]
  },
  {
   "cell_type": "code",
   "execution_count": null,
   "id": "49dee6b6",
   "metadata": {},
   "outputs": [],
   "source": [
    "#lda = LinearDiscriminantAnalysis(n_components=3)\n",
    "#x_r2 = lda.fit(final_df.iloc[:, :-1], final_df.Label).transform(dataset.iloc[:, :-1])"
   ]
  },
  {
   "cell_type": "code",
   "execution_count": null,
   "id": "799b4fcb",
   "metadata": {},
   "outputs": [],
   "source": [
    "#corr = dataset.iloc[0:30, 0:30].corr()\n",
    "#f, ax = plt.subplots(figsize=(14, 10))\n",
    "#hm = sns.heatmap(round(corr,2), annot=True, ax=ax, cmap=\"coolwarm\",fmt='.2f',\n",
    "#                 linewidths=.05)"
   ]
  },
  {
   "cell_type": "code",
   "execution_count": null,
   "id": "61e7b9ea",
   "metadata": {},
   "outputs": [],
   "source": []
  }
 ],
 "metadata": {
  "kernelspec": {
   "display_name": "Python 3",
   "language": "python",
   "name": "python3"
  },
  "language_info": {
   "codemirror_mode": {
    "name": "ipython",
    "version": 3
   },
   "file_extension": ".py",
   "mimetype": "text/x-python",
   "name": "python",
   "nbconvert_exporter": "python",
   "pygments_lexer": "ipython3",
   "version": "3.8.2"
  }
 },
 "nbformat": 4,
 "nbformat_minor": 5
}
