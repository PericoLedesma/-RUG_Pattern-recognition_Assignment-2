{
 "cells": [
  {
   "cell_type": "markdown",
   "id": "84ea3cac",
   "metadata": {},
   "source": [
    "# Import Libraries"
   ]
  },
  {
   "cell_type": "code",
   "execution_count": 40,
   "id": "6baade51",
   "metadata": {},
   "outputs": [],
   "source": [
    "import numpy as np\n",
    "import pandas as pd\n",
    "import matplotlib.pyplot as plt\n",
    "import seaborn as sns\n",
    "\n",
    "### From sklearn - Preprocesing \n",
    "from sklearn import preprocessing\n",
    "\n",
    "# Dimension reduction \n",
    "from sklearn.decomposition import PCA\n",
    "from sklearn.discriminant_analysis import LinearDiscriminantAnalysis\n",
    "\n",
    "# K-fold\n",
    "from sklearn.model_selection import StratifiedKFold\n",
    "from sklearn.model_selection import KFold, cross_val_score, GridSearchCV\n",
    "\n",
    "# From sklearn - Model creation\n",
    "\n",
    "from sklearn.model_selection import train_test_split \n",
    "from sklearn.neighbors import KNeighborsClassifier\n",
    "\n",
    "from sklearn.metrics import multilabel_confusion_matrix\n",
    "from sklearn import metrics "
   ]
  },
  {
   "cell_type": "markdown",
   "id": "98a8d2ae",
   "metadata": {},
   "source": [
    "-----\n",
    "# Reading files and merging features with labels"
   ]
  },
  {
   "cell_type": "code",
   "execution_count": 41,
   "id": "a0bac7af",
   "metadata": {},
   "outputs": [],
   "source": [
    "#dataset = pd.read_csv(\"Genes\\data.csv\")\n",
    "dataset = pd.read_csv('/Users/pedrorodriguezdeledesmajimenez/1_Coding/Datasets/RUG_Pattern-recognition_Assignment-2/Task 1/Genres/data.csv')\n",
    "\n",
    "#labels = pd.read_csv(\"Genes\\labels.csv\")\n",
    "dataset_labels =pd.read_csv('/Users/pedrorodriguezdeledesmajimenez/1_Coding/Datasets/RUG_Pattern-recognition_Assignment-2/Task 1/Genres/labels.csv')"
   ]
  },
  {
   "cell_type": "code",
   "execution_count": 42,
   "id": "4c238d5a",
   "metadata": {},
   "outputs": [],
   "source": [
    "# Merging both datasets and removing first column\n",
    "\n",
    "dataset = pd.merge(dataset, dataset_labels, on='Unnamed: 0').drop(\"Unnamed: 0\", axis=1)"
   ]
  },
  {
   "cell_type": "code",
   "execution_count": 43,
   "id": "624784db",
   "metadata": {},
   "outputs": [
    {
     "name": "stdout",
     "output_type": "stream",
     "text": [
      "Dataset consists of 801 input sample vectors, each vector has 20532 gene features.\n",
      "Also the availbale classes are 5. The possible choises are PRAD, LUAD, BRCA, KIRC, COAD.\n",
      "As we can see, we have class imbalance.\n",
      "\n",
      "BRCA    300\n",
      "KIRC    146\n",
      "LUAD    141\n",
      "PRAD    136\n",
      "COAD     78\n"
     ]
    }
   ],
   "source": [
    "print(f'Dataset consists of {dataset.shape[0]} input sample vectors, each vector has {dataset.shape[1]} '\\\n",
    "      f'gene features.\\nAlso the availbale classes are {len(dataset[\"Class\"].unique())}.'\\\n",
    "      f' The possible choises are {\", \".join(val for val in dataset.Class.unique())}.')\n",
    "class_counts = dataset.Class.value_counts()\n",
    "print(f'As we can see, we have class imbalance.\\n\\n{class_counts.to_string()}')"
   ]
  },
  {
   "cell_type": "markdown",
   "id": "b3c7f917",
   "metadata": {},
   "source": [
    "----\n",
    "# Preprocesing data"
   ]
  },
  {
   "cell_type": "markdown",
   "id": "177a57ba",
   "metadata": {},
   "source": [
    "###  1. Encoding labels"
   ]
  },
  {
   "cell_type": "code",
   "execution_count": 44,
   "id": "08ac19fd",
   "metadata": {},
   "outputs": [],
   "source": [
    "# Encode the labels and updaate values\n",
    "\n",
    "le = preprocessing.LabelEncoder()\n",
    "dataset[\"Class\"] = le.fit_transform(dataset_labels.drop(\"Unnamed: 0\", axis=1).values.ravel())"
   ]
  },
  {
   "cell_type": "code",
   "execution_count": 45,
   "id": "aa5f0414",
   "metadata": {},
   "outputs": [
    {
     "data": {
      "text/plain": [
       "{'BRCA': 0, 'COAD': 1, 'KIRC': 2, 'LUAD': 3, 'PRAD': 4}"
      ]
     },
     "execution_count": 45,
     "metadata": {},
     "output_type": "execute_result"
    }
   ],
   "source": [
    "# Let´s store all the labels\n",
    "keys = le.classes_\n",
    "\n",
    "# And now store labels with their encoded value \n",
    "values = le.transform(le.classes_)\n",
    "dictionary = dict(zip(keys, values))\n",
    "dictionary"
   ]
  },
  {
   "cell_type": "code",
   "execution_count": 46,
   "id": "a55bf588",
   "metadata": {},
   "outputs": [
    {
     "data": {
      "text/plain": [
       "0    300\n",
       "2    146\n",
       "3    141\n",
       "4    136\n",
       "1     78\n",
       "Name: Class, dtype: int64"
      ]
     },
     "execution_count": 46,
     "metadata": {},
     "output_type": "execute_result"
    }
   ],
   "source": [
    "dataset.Class.value_counts()"
   ]
  },
  {
   "cell_type": "markdown",
   "id": "90f6f281",
   "metadata": {},
   "source": [
    "### 2 Normalization: min_max_scaler\n",
    "\n"
   ]
  },
  {
   "cell_type": "code",
   "execution_count": 47,
   "id": "8b38a0be",
   "metadata": {},
   "outputs": [],
   "source": [
    "# Lets store the dataset values without the columns titles\n",
    "x = dataset.iloc[:, :-1].values \n",
    "\n",
    "# Let´s create an instance with the normalice function\n",
    "min_max_scaler = preprocessing.MinMaxScaler()\n",
    "\n",
    "# Let´s fit the normilice function\n",
    "x_scaled = min_max_scaler.fit_transform(x)\n",
    "\n",
    "# Let´s put in the dataframe the values scaled\n",
    "dataset.iloc[:, :-1] = pd.DataFrame(x_scaled)"
   ]
  },
  {
   "cell_type": "code",
   "execution_count": 48,
   "id": "0e321c9d",
   "metadata": {},
   "outputs": [
    {
     "data": {
      "text/html": [
       "<div>\n",
       "<style scoped>\n",
       "    .dataframe tbody tr th:only-of-type {\n",
       "        vertical-align: middle;\n",
       "    }\n",
       "\n",
       "    .dataframe tbody tr th {\n",
       "        vertical-align: top;\n",
       "    }\n",
       "\n",
       "    .dataframe thead th {\n",
       "        text-align: right;\n",
       "    }\n",
       "</style>\n",
       "<table border=\"1\" class=\"dataframe\">\n",
       "  <thead>\n",
       "    <tr style=\"text-align: right;\">\n",
       "      <th></th>\n",
       "      <th>mean</th>\n",
       "      <th>Std.Dev</th>\n",
       "      <th>Var</th>\n",
       "    </tr>\n",
       "  </thead>\n",
       "  <tbody>\n",
       "    <tr>\n",
       "      <th>Class</th>\n",
       "      <td>1.669164</td>\n",
       "      <td>1.531065</td>\n",
       "      <td>2.344160</td>\n",
       "    </tr>\n",
       "    <tr>\n",
       "      <th>gene_4773</th>\n",
       "      <td>0.383887</td>\n",
       "      <td>0.411448</td>\n",
       "      <td>0.169290</td>\n",
       "    </tr>\n",
       "    <tr>\n",
       "      <th>gene_8891</th>\n",
       "      <td>0.364385</td>\n",
       "      <td>0.398958</td>\n",
       "      <td>0.159168</td>\n",
       "    </tr>\n",
       "    <tr>\n",
       "      <th>gene_19913</th>\n",
       "      <td>0.376816</td>\n",
       "      <td>0.395887</td>\n",
       "      <td>0.156726</td>\n",
       "    </tr>\n",
       "    <tr>\n",
       "      <th>gene_19313</th>\n",
       "      <td>0.348911</td>\n",
       "      <td>0.390790</td>\n",
       "      <td>0.152717</td>\n",
       "    </tr>\n",
       "  </tbody>\n",
       "</table>\n",
       "</div>"
      ],
      "text/plain": [
       "                mean   Std.Dev       Var\n",
       "Class       1.669164  1.531065  2.344160\n",
       "gene_4773   0.383887  0.411448  0.169290\n",
       "gene_8891   0.364385  0.398958  0.159168\n",
       "gene_19913  0.376816  0.395887  0.156726\n",
       "gene_19313  0.348911  0.390790  0.152717"
      ]
     },
     "execution_count": 48,
     "metadata": {},
     "output_type": "execute_result"
    }
   ],
   "source": [
    "stats=pd.DataFrame()\n",
    "stats[\"mean\"]=dataset.mean()\n",
    "stats[\"Std.Dev\"]=dataset.std()\n",
    "stats[\"Var\"]=dataset.var()\n",
    "stats_2 =stats.sort_values(by=['Var','mean'],ascending=False)\n",
    "stats_2.head()"
   ]
  },
  {
   "cell_type": "markdown",
   "id": "c91f557b",
   "metadata": {},
   "source": [
    "### Search for outliers in dataset"
   ]
  },
  {
   "cell_type": "code",
   "execution_count": 49,
   "id": "dc2c4bab",
   "metadata": {},
   "outputs": [
    {
     "name": "stdout",
     "output_type": "stream",
     "text": [
      "Data size after removing outliers is: (796, 20532).\n"
     ]
    }
   ],
   "source": [
    "from sklearn.neighbors import LocalOutlierFactor\n",
    "\n",
    "lof = LocalOutlierFactor()\n",
    "# fit_predict return a numpy array of 1 if not an outlier and -1 if an outlier\n",
    "outliers = lof.fit_predict(dataset.iloc[:,:-1])\n",
    "\n",
    "# select all rows that are not outliers\n",
    "mask = outliers != -1\n",
    "dataset.shape\n",
    "\n",
    "#unpack the mask to keep only non-outlier examples\n",
    "dataset = dataset[[*mask]]\n",
    "\n",
    "print(f'Data size after removing outliers is: {dataset.shape}.')"
   ]
  },
  {
   "cell_type": "markdown",
   "id": "9c18b02f",
   "metadata": {},
   "source": [
    "#### Output preprocesing"
   ]
  },
  {
   "cell_type": "code",
   "execution_count": 50,
   "id": "789cff8f",
   "metadata": {},
   "outputs": [
    {
     "data": {
      "text/plain": [
       "(796, 20532)"
      ]
     },
     "execution_count": 50,
     "metadata": {},
     "output_type": "execute_result"
    }
   ],
   "source": [
    "dataset.shape"
   ]
  },
  {
   "cell_type": "markdown",
   "id": "b9e2761e",
   "metadata": {},
   "source": [
    "--------------\n",
    "# Model Implementation:  KNN"
   ]
  },
  {
   "cell_type": "markdown",
   "id": "e8934806",
   "metadata": {},
   "source": [
    "--------"
   ]
  },
  {
   "cell_type": "markdown",
   "id": "c800d5a4",
   "metadata": {},
   "source": [
    "###  PCA_80% Training data, 20% test data"
   ]
  },
  {
   "cell_type": "markdown",
   "id": "f63a409a",
   "metadata": {},
   "source": [
    "#### PCA with different number of features"
   ]
  },
  {
   "cell_type": "code",
   "execution_count": 51,
   "id": "2788f960",
   "metadata": {},
   "outputs": [],
   "source": [
    "k = 10\n",
    "\n",
    "score_array = []\n",
    "n_components_array = []\n",
    "\n",
    "for n_components_PCA in [2,3,4,5,10,25,40,50,75,100,250]:\n",
    "    \n",
    "    pca = PCA(n_components=n_components_PCA)\n",
    "\n",
    "    # Apply PCA in input vector\n",
    "    pca.fit(dataset.iloc[:,:-1]) \n",
    "\n",
    "    # Save results in an np.array\n",
    "    reduced = pca.transform(dataset.iloc[:,:-1])\n",
    "\n",
    "    # Save labels in an np.array\n",
    "    x = dataset['Class'].to_numpy()\n",
    "\n",
    "    # Create final dataframe with reduced dimensions\n",
    "    dataset_reduced_PCA = pd.DataFrame(np.column_stack((reduced, x)))\n",
    "\n",
    "\n",
    "    input_data = dataset_reduced_PCA.iloc[:,:-1].values\n",
    "    label_data = dataset_reduced_PCA.iloc[:,-1].values\n",
    "\n",
    "    # We split the data  \n",
    "    X_train, X_test, y_train, y_test = train_test_split(input_data,label_data, test_size=0.2)\n",
    "\n",
    "    # Build and train the model with the k-vlue\n",
    "    KNN = KNeighborsClassifier(n_neighbors=k)\n",
    "    KNN.fit(X_train, y_train)\n",
    "\n",
    "    # We predict the labels of the test data\n",
    "    y_pred = KNN.predict(X_test)\n",
    "\n",
    "    # Accuracy of the model\n",
    "    metrics.accuracy_score(y_test, y_pred)\n",
    "    \n",
    "    n_components_array.append(n_components_PCA)\n",
    "    score_array.append(metrics.accuracy_score(y_test, y_pred))"
   ]
  },
  {
   "cell_type": "code",
   "execution_count": 52,
   "id": "6fbefc30",
   "metadata": {
    "scrolled": true
   },
   "outputs": [
    {
     "data": {
      "image/png": "[encoded data removed]",
      "text/plain": [
       "<Figure size 432x288 with 1 Axes>"
      ]
     },
     "metadata": {
      "needs_background": "light"
     },
     "output_type": "display_data"
    }
   ],
   "source": [
    "# Plot with regards of components\n",
    "\n",
    "plt.plot(n_components_array, score_array,label='Model score')\n",
    "plt.ylabel('Model accuracy')\n",
    "plt.xlabel('Number of features')\n",
    "plt.legend(loc='best')\n",
    "plt.tight_layout()\n",
    "plt.show()"
   ]
  },
  {
   "cell_type": "code",
   "execution_count": 53,
   "id": "697d80b0",
   "metadata": {},
   "outputs": [],
   "source": [
    "k = 5\n",
    "\n",
    "score_array = []\n",
    "n_components_array = []\n",
    "\n",
    "for n_components_PCA in [2,3,4,5,7,8,9,10,12,15,20]:\n",
    "    \n",
    "    pca = PCA(n_components=n_components_PCA)\n",
    "\n",
    "    # Apply PCA in input vector\n",
    "    pca.fit(dataset.iloc[:,:-1]) \n",
    "\n",
    "    # Save results in an np.array\n",
    "    reduced = pca.transform(dataset.iloc[:,:-1])\n",
    "\n",
    "    # Save labels in an np.array\n",
    "    x = dataset['Class'].to_numpy()\n",
    "\n",
    "    # Create final dataframe with reduced dimensions\n",
    "    dataset_reduced_PCA = pd.DataFrame(np.column_stack((reduced, x)))\n",
    "\n",
    "\n",
    "    input_data = dataset_reduced_PCA.iloc[:,:-1].values\n",
    "    label_data = dataset_reduced_PCA.iloc[:,-1].values\n",
    "\n",
    "    # We split the data  \n",
    "    X_train, X_test, y_train, y_test = train_test_split(input_data,label_data, test_size=0.2)\n",
    "\n",
    "    # Build and train the model with the k-vlue\n",
    "    KNN = KNeighborsClassifier(n_neighbors=k)\n",
    "    KNN.fit(X_train, y_train)\n",
    "\n",
    "    # We predict the labels of the test data\n",
    "    y_pred = KNN.predict(X_test)\n",
    "\n",
    "    # Accuracy of the model\n",
    "    metrics.accuracy_score(y_test, y_pred)\n",
    "    \n",
    "    n_components_array.append(n_components_PCA)\n",
    "    score_array.append(metrics.accuracy_score(y_test, y_pred))"
   ]
  },
  {
   "cell_type": "code",
   "execution_count": 54,
   "id": "5acbc332",
   "metadata": {},
   "outputs": [
    {
     "data": {
      "image/png": "[encoded data removed]",
      "text/plain": [
       "<Figure size 432x288 with 1 Axes>"
      ]
     },
     "metadata": {
      "needs_background": "light"
     },
     "output_type": "display_data"
    }
   ],
   "source": [
    "# Plot with regards of components\n",
    "\n",
    "plt.plot(n_components_array, score_array,label='Model score')\n",
    "plt.ylabel('Model accuracy')\n",
    "plt.xlabel('Number of features')\n",
    "plt.legend(loc='best')\n",
    "plt.tight_layout()\n",
    "plt.show()"
   ]
  },
  {
   "cell_type": "markdown",
   "id": "61bbb594",
   "metadata": {},
   "source": [
    "#### KNN-PCA with fixed value of PCA and different values of K"
   ]
  },
  {
   "cell_type": "code",
   "execution_count": 55,
   "id": "52e37c33",
   "metadata": {},
   "outputs": [],
   "source": [
    "# Selected value dimension reduction = \n",
    "\n",
    "pca = PCA(0.70)\n",
    "\n",
    "# Apply PCA in input vector\n",
    "pca.fit(dataset.iloc[:,:-1]) \n",
    "\n",
    "# Save results in an np.array\n",
    "reduced = pca.transform(dataset.iloc[:,:-1])\n",
    "\n",
    "# Save labels in an np.array\n",
    "x = dataset['Class'].to_numpy()\n",
    "\n",
    "# Create final dataframe with reduced dimensions\n",
    "dataset_reduced_PCA = pd.DataFrame(np.column_stack((reduced, x)))\n",
    "\n",
    "input_data = dataset_reduced_PCA.iloc[:,:-1].values\n",
    "label_data = dataset_reduced_PCA.iloc[:,-1].values\n",
    "\n",
    "# We split the data  \n",
    "X_train, X_test, y_train, y_test = train_test_split(input_data,label_data, test_size=0.2)"
   ]
  },
  {
   "cell_type": "code",
   "execution_count": 56,
   "id": "b8ac0713",
   "metadata": {},
   "outputs": [],
   "source": [
    "# For the n_components selected, lets tune n_neighbors\n",
    "\n",
    "error = []\n",
    "\n",
    "# Calculating error for nº neighbors\n",
    "\n",
    "for i in range(1, 60):\n",
    "    knn = KNeighborsClassifier(n_neighbors=i)\n",
    "    knn.fit(X_train, y_train)\n",
    "    \n",
    "    preds = knn.predict(X_test)\n",
    "    \n",
    "    squared_error = np.power(y_test - preds,2)\n",
    "    error.append(np.mean(squared_error))"
   ]
  },
  {
   "cell_type": "code",
   "execution_count": 57,
   "id": "c7cc1cf0",
   "metadata": {
    "scrolled": true
   },
   "outputs": [
    {
     "data": {
      "text/plain": [
       "Text(0, 0.5, 'Mean Squared Error.')"
      ]
     },
     "execution_count": 57,
     "metadata": {},
     "output_type": "execute_result"
    },
    {
     "data": {
      "image/png": "[encoded data removed]",
      "text/plain": [
       "<Figure size 864x432 with 1 Axes>"
      ]
     },
     "metadata": {
      "needs_background": "light"
     },
     "output_type": "display_data"
    }
   ],
   "source": [
    "plt.figure(figsize=(12, 6))\n",
    "plt.plot(range(1, 60), error, color='blue', marker='o',\n",
    "         markerfacecolor='red', markersize=10)\n",
    "plt.title('Error Rate K Value.')\n",
    "plt.xlabel('K Value (nº neighbors).')\n",
    "plt.ylabel('Mean Squared Error.')\n",
    "#plt.savefig(\"KNN_error_over_multiple_neighbors.png\")"
   ]
  },
  {
   "cell_type": "markdown",
   "id": "54cf4c2c",
   "metadata": {},
   "source": [
    "#### KNN-PCA fixed values"
   ]
  },
  {
   "cell_type": "code",
   "execution_count": 58,
   "id": "73abaa9e",
   "metadata": {
    "scrolled": true
   },
   "outputs": [
    {
     "data": {
      "text/plain": [
       "KNeighborsClassifier(n_neighbors=10)"
      ]
     },
     "execution_count": 58,
     "metadata": {},
     "output_type": "execute_result"
    }
   ],
   "source": [
    "# Build and train the model with the value selected: k= 10\n",
    "KNN = KNeighborsClassifier(n_neighbors=10)\n",
    "KNN.fit(X_train, y_train)"
   ]
  },
  {
   "cell_type": "code",
   "execution_count": 59,
   "id": "5c4531f8",
   "metadata": {},
   "outputs": [],
   "source": [
    "# We predict the labels of the test data\n",
    "y_pred = KNN.predict(X_test)"
   ]
  },
  {
   "cell_type": "code",
   "execution_count": 60,
   "id": "0f0b63c7",
   "metadata": {},
   "outputs": [
    {
     "data": {
      "image/png": "[encoded data removed]",
      "text/plain": [
       "<Figure size 576x360 with 2 Axes>"
      ]
     },
     "metadata": {
      "needs_background": "light"
     },
     "output_type": "display_data"
    }
   ],
   "source": [
    "#Confusion matrix to evaluate the model \n",
    "plt.figure(figsize=(8,5))\n",
    "confusion_matrix = pd.crosstab(y_test, y_pred, rownames=['Actual'], \n",
    "                               colnames=['Predicted'])\n",
    "\n",
    "sns.heatmap(confusion_matrix, annot=True)\n",
    "#plt.savefig(\"Confusion_Matrix_KNN.png\")\n",
    "plt.show()"
   ]
  },
  {
   "cell_type": "code",
   "execution_count": 61,
   "id": "57aa56f8",
   "metadata": {},
   "outputs": [
    {
     "data": {
      "text/plain": [
       "0.98125"
      ]
     },
     "execution_count": 61,
     "metadata": {},
     "output_type": "execute_result"
    }
   ],
   "source": [
    "# Accuracy of the model\n",
    "metrics.accuracy_score(y_test, y_pred)"
   ]
  },
  {
   "cell_type": "code",
   "execution_count": 62,
   "id": "5e7e9a83",
   "metadata": {},
   "outputs": [
    {
     "name": "stdout",
     "output_type": "stream",
     "text": [
      "Accuracy:0.98125\n"
     ]
    }
   ],
   "source": [
    "print(f\"Accuracy:{metrics.accuracy_score(y_test, y_pred)}\")"
   ]
  },
  {
   "cell_type": "code",
   "execution_count": 63,
   "id": "d3435db2",
   "metadata": {
    "scrolled": false
   },
   "outputs": [
    {
     "name": "stdout",
     "output_type": "stream",
     "text": [
      "More metrics about the model.\n",
      "\n",
      "              precision    recall  f1-score   support\n",
      "\n",
      "         0.0       0.96      1.00      0.98        52\n",
      "         1.0       1.00      1.00      1.00        24\n",
      "         2.0       1.00      0.96      0.98        28\n",
      "         3.0       0.95      0.91      0.93        23\n",
      "         4.0       1.00      1.00      1.00        33\n",
      "\n",
      "    accuracy                           0.98       160\n",
      "   macro avg       0.98      0.98      0.98       160\n",
      "weighted avg       0.98      0.98      0.98       160\n",
      "\n"
     ]
    }
   ],
   "source": [
    "print(f'More metrics about the model.\\n\\n' \\\n",
    "      f'{metrics.classification_report(y_test, y_pred, labels=[0.0, 1.0, 2.0, 3.0, 4.0])}')"
   ]
  },
  {
   "cell_type": "markdown",
   "id": "c7bf0af1",
   "metadata": {},
   "source": [
    "----------"
   ]
  },
  {
   "cell_type": "markdown",
   "id": "133b90d1",
   "metadata": {},
   "source": [
    "## LDA_80% Training data, 20% test data"
   ]
  },
  {
   "cell_type": "markdown",
   "id": "94cc1c9e",
   "metadata": {},
   "source": [
    "#### With different number of features"
   ]
  },
  {
   "cell_type": "code",
   "execution_count": 67,
   "id": "1a574c33",
   "metadata": {},
   "outputs": [],
   "source": [
    "k = 10\n",
    "\n",
    "score_array = []\n",
    "n_components_array_LDA = []\n",
    "\n",
    "for n_components_LDA in [1,2,3]:\n",
    "    \n",
    "    lda = LinearDiscriminantAnalysis(n_components=n_components_LDA)\n",
    "\n",
    "    # Apply PCA in input vector\n",
    "    lda.fit(dataset.iloc[:,:-1],dataset.iloc[:,-1:].values.ravel()) \n",
    "\n",
    "    # Save results in an np.array\n",
    "    reduced = lda.transform(dataset.iloc[:,:-1].values)\n",
    "\n",
    "    # Save labels in an np.array\n",
    "    x = dataset['Class'].to_numpy()\n",
    "\n",
    "    # Create final dataframe with reduced dimensions\n",
    "    dataset_reduced_LDA = pd.DataFrame(np.column_stack((reduced, x)))\n",
    "\n",
    "\n",
    "    input_data = dataset_reduced_LDA.iloc[:,:-1].values\n",
    "    label_data = dataset_reduced_LDA.iloc[:,-1].values\n",
    "\n",
    "    # We split the data  \n",
    "    X_train, X_test, y_train, y_test = train_test_split(input_data,label_data, test_size=0.2)\n",
    "\n",
    "    # Build and train the model with the k-vlue\n",
    "    KNN = KNeighborsClassifier(n_neighbors=k)\n",
    "    KNN.fit(X_train, y_train)\n",
    "\n",
    "    # We predict the labels of the test data\n",
    "    y_pred = KNN.predict(X_test)\n",
    "\n",
    "    # Accuracy of the model\n",
    "    metrics.accuracy_score(y_test, y_pred)\n",
    "    \n",
    "    n_components_array_LDA.append(n_components_LDA)\n",
    "    score_array.append(metrics.accuracy_score(y_test, y_pred))"
   ]
  },
  {
   "cell_type": "code",
   "execution_count": 68,
   "id": "9029da9b",
   "metadata": {},
   "outputs": [
    {
     "data": {
      "image/png": "[encoded data removed]",
      "text/plain": [
       "<Figure size 432x288 with 1 Axes>"
      ]
     },
     "metadata": {
      "needs_background": "light"
     },
     "output_type": "display_data"
    }
   ],
   "source": [
    "# Plot with regards of components\n",
    "\n",
    "plt.plot(n_components_array_LDA, score_array,label='Model score')\n",
    "plt.ylabel('Model accuracy')\n",
    "plt.xlabel('Number of features')\n",
    "plt.legend(loc='best')\n",
    "plt.tight_layout()\n",
    "plt.show()"
   ]
  },
  {
   "cell_type": "markdown",
   "id": "cec79348",
   "metadata": {},
   "source": [
    "#### KNN-LDA with fixed values"
   ]
  },
  {
   "cell_type": "code",
   "execution_count": 69,
   "id": "35c467d3",
   "metadata": {},
   "outputs": [],
   "source": [
    "# Selected value dimension reduction \n",
    "lda = LinearDiscriminantAnalysis(n_components=4)\n",
    "\n",
    "# Apply PCA in input vector\n",
    "lda.fit(dataset.iloc[:,:-1],dataset.iloc[:,-1:].values.ravel()) \n",
    "\n",
    "# Save results in an np.array\n",
    "reduced = lda.transform(dataset.iloc[:,:-1].values)\n",
    "\n",
    "# Save labels in an np.array\n",
    "x = dataset['Class'].to_numpy()\n",
    "\n",
    "# Create final dataframe with reduced dimensions\n",
    "dataset_reduced_LDA = pd.DataFrame(np.column_stack((reduced, x)))\n",
    "\n",
    "input_data = dataset_reduced_LDA.iloc[:,:-1].values\n",
    "label_data = dataset_reduced_LDA.iloc[:,-1].values\n",
    "\n",
    "# We split the data  \n",
    "X_train, X_test, y_train, y_test = train_test_split(input_data,label_data, test_size=0.2)"
   ]
  },
  {
   "cell_type": "code",
   "execution_count": 70,
   "id": "3d029d2c",
   "metadata": {},
   "outputs": [],
   "source": [
    "# For the n_components selected, lets tune n_neighbors\n",
    "error = []\n",
    "\n",
    "for i in range(1, 60):\n",
    "    knn = KNeighborsClassifier(n_neighbors=i)\n",
    "    knn.fit(X_train, y_train)\n",
    "    \n",
    "    preds = knn.predict(X_test)\n",
    "    \n",
    "    squared_error = np.power(y_test - preds,2)\n",
    "    error.append(np.mean(squared_error))"
   ]
  },
  {
   "cell_type": "code",
   "execution_count": 71,
   "id": "c7cc1cf0",
   "metadata": {
    "scrolled": true
   },
   "outputs": [
    {
     "data": {
      "text/plain": [
       "Text(0, 0.5, 'Mean Squared Error.')"
      ]
     },
     "execution_count": 71,
     "metadata": {},
     "output_type": "execute_result"
    },
    {
     "data": {
      "image/png": "[encoded data removed]",
      "text/plain": [
       "<Figure size 864x432 with 1 Axes>"
      ]
     },
     "metadata": {
      "needs_background": "light"
     },
     "output_type": "display_data"
    }
   ],
   "source": [
    "plt.figure(figsize=(12, 6))\n",
    "plt.plot(range(1, 60), error, color='blue', marker='o',\n",
    "         markerfacecolor='red', markersize=10)\n",
    "plt.title('Error Rate K Value.')\n",
    "plt.xlabel('K Value (nº neighbors).')\n",
    "plt.ylabel('Mean Squared Error.')\n",
    "#plt.savefig(\"KNN_error_over_multiple_neighbors.png\")"
   ]
  },
  {
   "cell_type": "code",
   "execution_count": 72,
   "id": "73abaa9e",
   "metadata": {},
   "outputs": [
    {
     "data": {
      "text/plain": [
       "KNeighborsClassifier(n_neighbors=10)"
      ]
     },
     "execution_count": 72,
     "metadata": {},
     "output_type": "execute_result"
    }
   ],
   "source": [
    "# Build and train the model with the value selected: k= 10\n",
    "KNN = KNeighborsClassifier(n_neighbors=10)\n",
    "KNN.fit(X_train, y_train)"
   ]
  },
  {
   "cell_type": "code",
   "execution_count": 73,
   "id": "5c4531f8",
   "metadata": {},
   "outputs": [],
   "source": [
    "# We predict the labels of the test data\n",
    "y_pred = KNN.predict(X_test)"
   ]
  },
  {
   "cell_type": "markdown",
   "id": "86569a93",
   "metadata": {},
   "source": [
    "### Stratified Kfold"
   ]
  },
  {
   "cell_type": "code",
   "execution_count": 74,
   "id": "01657781",
   "metadata": {},
   "outputs": [],
   "source": [
    "#Need help to store values and plot Sarandis\n",
    "\n",
    "scores = []\n",
    "error = []\n",
    "\n",
    "def get_score(model, X_train, X_test, y_train, y_test):\n",
    "    model.fit(X_train, y_train)\n",
    "    return model.score(X_test, y_test)\n",
    "\n",
    "for k in range(9, 10):\n",
    "    folds = StratifiedKFold(n_splits=k, shuffle = True, random_state = 100)\n",
    "    \n",
    "    for i in range(9, 10):\n",
    "        knn = KNeighborsClassifier(n_neighbors=i)\n",
    "               \n",
    "        for train_index, test_index in folds.split(input_data,label_data):\n",
    "            X_train, X_test, y_train, y_test = input_data[train_index], input_data[test_index], label_data[train_index], label_data[test_index]\n",
    "            \n",
    "            scores.append(get_score(knn, X_train, X_test, y_train, y_test))\n",
    "            \n",
    "            preds = knn.predict(X_test)\n",
    "            squared_error = np.power(y_test - preds,2)\n",
    "            error.append(np.mean(squared_error))\n",
    "            \n",
    "# Help with the plot"
   ]
  },
  {
   "cell_type": "code",
   "execution_count": 75,
   "id": "b73fe0e1",
   "metadata": {},
   "outputs": [],
   "source": [
    "# After studying the optimal parameters, we run the model with the selected ones\n",
    "\n",
    "knn = KNeighborsClassifier(n_neighbors=10)\n",
    "folds = StratifiedKFold(n_splits=5, shuffle = True, random_state = 100)\n",
    "\n",
    "scores = []\n",
    "\n",
    "def get_score(model, X_train, X_test, y_train, y_test):\n",
    "    model.fit(X_train, y_train)\n",
    "    return model.score(X_test, y_test)\n",
    "\n",
    "# Index of the spliting\n",
    "for train_index, test_index in folds.split(input_data,label_data):\n",
    "    X_train, X_test, y_train, y_test = input_data[train_index], input_data[test_index], label_data[train_index], label_data[test_index]\n",
    "    scores.append(get_score(knn, X_train, X_test, y_train, y_test))\n"
   ]
  },
  {
   "cell_type": "code",
   "execution_count": 76,
   "id": "743cd497",
   "metadata": {},
   "outputs": [],
   "source": [
    "# We predict the labels of the test data (Depending on the fold we have different, how we do it with the confusion matrix)\n",
    "y_pred = knn.predict(X_test)"
   ]
  },
  {
   "cell_type": "code",
   "execution_count": 77,
   "id": "b4deb64a",
   "metadata": {},
   "outputs": [
    {
     "data": {
      "image/png": "[encoded data removed]",
      "text/plain": [
       "<Figure size 576x360 with 2 Axes>"
      ]
     },
     "metadata": {
      "needs_background": "light"
     },
     "output_type": "display_data"
    }
   ],
   "source": [
    "#Confusion matrix to evaluate the model \n",
    "plt.figure(figsize=(8,5))\n",
    "confusion_matrix = pd.crosstab(y_test, y_pred, rownames=['Actual'], \n",
    "                               colnames=['Predicted'])\n",
    "\n",
    "sns.heatmap(confusion_matrix, annot=True)\n",
    "plt.savefig(\"Confusion_Matrix_KNN.png\")\n",
    "plt.show()"
   ]
  },
  {
   "cell_type": "code",
   "execution_count": 78,
   "id": "9e8cdf68",
   "metadata": {},
   "outputs": [
    {
     "data": {
      "text/plain": [
       "1.0"
      ]
     },
     "execution_count": 78,
     "metadata": {},
     "output_type": "execute_result"
    }
   ],
   "source": [
    "# Accuracy of the model\n",
    "metrics.accuracy_score(y_test, y_pred)"
   ]
  },
  {
   "cell_type": "code",
   "execution_count": 79,
   "id": "31d70369",
   "metadata": {},
   "outputs": [
    {
     "name": "stdout",
     "output_type": "stream",
     "text": [
      "Accuracy:1.0\n"
     ]
    }
   ],
   "source": [
    "print(f\"Accuracy:{metrics.accuracy_score(y_test, y_pred)}\")"
   ]
  },
  {
   "cell_type": "code",
   "execution_count": 80,
   "id": "18672b93",
   "metadata": {
    "scrolled": true
   },
   "outputs": [
    {
     "name": "stdout",
     "output_type": "stream",
     "text": [
      "More metrics about the model.\n",
      "\n",
      "              precision    recall  f1-score   support\n",
      "\n",
      "         0.0       1.00      1.00      1.00        60\n",
      "         1.0       1.00      1.00      1.00        16\n",
      "         2.0       1.00      1.00      1.00        28\n",
      "         3.0       1.00      1.00      1.00        28\n",
      "         4.0       1.00      1.00      1.00        27\n",
      "\n",
      "    accuracy                           1.00       159\n",
      "   macro avg       1.00      1.00      1.00       159\n",
      "weighted avg       1.00      1.00      1.00       159\n",
      "\n"
     ]
    }
   ],
   "source": [
    "print(f'More metrics about the model.\\n\\n' \\\n",
    "      f'{metrics.classification_report(y_test, y_pred, labels=[0.0, 1.0, 2.0, 3.0, 4.0])}')"
   ]
  },
  {
   "cell_type": "code",
   "execution_count": null,
   "id": "6d98963e",
   "metadata": {},
   "outputs": [],
   "source": []
  },
  {
   "cell_type": "code",
   "execution_count": null,
   "id": "d2b0342c",
   "metadata": {},
   "outputs": [],
   "source": []
  },
  {
   "cell_type": "code",
   "execution_count": null,
   "id": "82ee57e7",
   "metadata": {},
   "outputs": [],
   "source": []
  }
 ],
 "metadata": {
  "kernelspec": {
   "display_name": "Python 3",
   "language": "python",
   "name": "python3"
  },
  "language_info": {
   "codemirror_mode": {
    "name": "ipython",
    "version": 3
   },
   "file_extension": ".py",
   "mimetype": "text/x-python",
   "name": "python",
   "nbconvert_exporter": "python",
   "pygments_lexer": "ipython3",
   "version": "3.8.2"
  }
 },
 "nbformat": 4,
 "nbformat_minor": 5
}
