{
 "cells": [
  {
   "cell_type": "markdown",
   "id": "84ea3cac",
   "metadata": {},
   "source": [
    "# Import Libraries"
   ]
  },
  {
   "cell_type": "code",
   "execution_count": 1,
   "id": "6baade51",
   "metadata": {},
   "outputs": [],
   "source": [
    "import numpy as np\n",
    "import pandas as pd\n",
    "import matplotlib.pyplot as plt\n",
    "import seaborn as sns\n",
    "\n",
    "### From sklearn - Preprocesing \n",
    "from sklearn import preprocessing\n",
    "\n",
    "# Dimension reduction \n",
    "from sklearn.decomposition import PCA\n",
    "from sklearn.discriminant_analysis import LinearDiscriminantAnalysis\n",
    "\n",
    "# K-fold\n",
    "from sklearn.model_selection import StratifiedKFold\n",
    "from sklearn.model_selection import KFold, cross_val_score, GridSearchCV\n",
    "\n",
    "# From sklearn - Model creation\n",
    "from sklearn.model_selection import train_test_split \n",
    "from sklearn.ensemble import RandomForestClassifier\n",
    "\n",
    "from sklearn.metrics import multilabel_confusion_matrix\n",
    "from sklearn import metrics "
   ]
  },
  {
   "cell_type": "markdown",
   "id": "98a8d2ae",
   "metadata": {},
   "source": [
    "-----\n",
    "# Reading files and merging features with labels"
   ]
  },
  {
   "cell_type": "code",
   "execution_count": 2,
   "id": "a0bac7af",
   "metadata": {},
   "outputs": [],
   "source": [
    "#dataset = pd.read_csv(\"Genes\\data.csv\")\n",
    "dataset = pd.read_csv('/Users/pedrorodriguezdeledesmajimenez/1_Coding/Datasets/RUG_Pattern-recognition_Assignment-2/Task 1/Genres/data.csv')\n",
    "\n",
    "#labels = pd.read_csv(\"Genes\\labels.csv\")\n",
    "dataset_labels =pd.read_csv('/Users/pedrorodriguezdeledesmajimenez/1_Coding/Datasets/RUG_Pattern-recognition_Assignment-2/Task 1/Genres/labels.csv')"
   ]
  },
  {
   "cell_type": "code",
   "execution_count": 3,
   "id": "4c238d5a",
   "metadata": {},
   "outputs": [],
   "source": [
    "# Merging both datasets and removing first column\n",
    "\n",
    "dataset = pd.merge(dataset, dataset_labels, on='Unnamed: 0').drop(\"Unnamed: 0\", axis=1)"
   ]
  },
  {
   "cell_type": "code",
   "execution_count": 4,
   "id": "624784db",
   "metadata": {},
   "outputs": [
    {
     "name": "stdout",
     "output_type": "stream",
     "text": [
      "Dataset consists of 801 input sample vectors, each vector has 20532 gene features.\n",
      "Also the availbale classes are 5. The possible choises are PRAD, LUAD, BRCA, KIRC, COAD.\n",
      "As we can see, we have class imbalance.\n",
      "\n",
      "BRCA    300\n",
      "KIRC    146\n",
      "LUAD    141\n",
      "PRAD    136\n",
      "COAD     78\n"
     ]
    }
   ],
   "source": [
    "print(f'Dataset consists of {dataset.shape[0]} input sample vectors, each vector has {dataset.shape[1]} '\\\n",
    "      f'gene features.\\nAlso the availbale classes are {len(dataset[\"Class\"].unique())}.'\\\n",
    "      f' The possible choises are {\", \".join(val for val in dataset.Class.unique())}.')\n",
    "class_counts = dataset.Class.value_counts()\n",
    "print(f'As we can see, we have class imbalance.\\n\\n{class_counts.to_string()}')"
   ]
  },
  {
   "cell_type": "markdown",
   "id": "b3c7f917",
   "metadata": {},
   "source": [
    "----\n",
    "# Preprocesing data"
   ]
  },
  {
   "cell_type": "markdown",
   "id": "177a57ba",
   "metadata": {},
   "source": [
    "###  1. Encoding labels"
   ]
  },
  {
   "cell_type": "code",
   "execution_count": 5,
   "id": "08ac19fd",
   "metadata": {},
   "outputs": [],
   "source": [
    "# Encode the labels and updaate values\n",
    "le = preprocessing.LabelEncoder()\n",
    "dataset[\"Class\"] = le.fit_transform(dataset_labels.drop(\"Unnamed: 0\", axis=1).values.ravel())"
   ]
  },
  {
   "cell_type": "code",
   "execution_count": 6,
   "id": "aa5f0414",
   "metadata": {},
   "outputs": [
    {
     "data": {
      "text/plain": [
       "{'BRCA': 0, 'COAD': 1, 'KIRC': 2, 'LUAD': 3, 'PRAD': 4}"
      ]
     },
     "execution_count": 6,
     "metadata": {},
     "output_type": "execute_result"
    }
   ],
   "source": [
    "# Let´s store all the labels\n",
    "keys = le.classes_\n",
    "\n",
    "# And now store labels with their encoded value \n",
    "values = le.transform(le.classes_)\n",
    "dictionary = dict(zip(keys, values))\n",
    "dictionary"
   ]
  },
  {
   "cell_type": "code",
   "execution_count": 7,
   "id": "a55bf588",
   "metadata": {},
   "outputs": [
    {
     "data": {
      "text/plain": [
       "0    300\n",
       "2    146\n",
       "3    141\n",
       "4    136\n",
       "1     78\n",
       "Name: Class, dtype: int64"
      ]
     },
     "execution_count": 7,
     "metadata": {},
     "output_type": "execute_result"
    }
   ],
   "source": [
    "dataset.Class.value_counts()"
   ]
  },
  {
   "cell_type": "markdown",
   "id": "90f6f281",
   "metadata": {},
   "source": [
    "### 2 Normalization: min_max_scaler\n",
    "\n"
   ]
  },
  {
   "cell_type": "code",
   "execution_count": 8,
   "id": "8b38a0be",
   "metadata": {},
   "outputs": [],
   "source": [
    "# Lets store the dataset values without the columns titles\n",
    "x = dataset.iloc[:, :-1].values \n",
    "\n",
    "# Let´s create an instance with the normalice function\n",
    "min_max_scaler = preprocessing.MinMaxScaler()\n",
    "\n",
    "# Let´s fit the normilice function\n",
    "x_scaled = min_max_scaler.fit_transform(x)\n",
    "\n",
    "# Let´s put in the dataframe the values scaled\n",
    "dataset.iloc[:, :-1] = pd.DataFrame(x_scaled)"
   ]
  },
  {
   "cell_type": "code",
   "execution_count": 9,
   "id": "0e321c9d",
   "metadata": {},
   "outputs": [
    {
     "data": {
      "text/html": [
       "<div>\n",
       "<style scoped>\n",
       "    .dataframe tbody tr th:only-of-type {\n",
       "        vertical-align: middle;\n",
       "    }\n",
       "\n",
       "    .dataframe tbody tr th {\n",
       "        vertical-align: top;\n",
       "    }\n",
       "\n",
       "    .dataframe thead th {\n",
       "        text-align: right;\n",
       "    }\n",
       "</style>\n",
       "<table border=\"1\" class=\"dataframe\">\n",
       "  <thead>\n",
       "    <tr style=\"text-align: right;\">\n",
       "      <th></th>\n",
       "      <th>mean</th>\n",
       "      <th>Std.Dev</th>\n",
       "      <th>Var</th>\n",
       "    </tr>\n",
       "  </thead>\n",
       "  <tbody>\n",
       "    <tr>\n",
       "      <th>Class</th>\n",
       "      <td>1.669164</td>\n",
       "      <td>1.531065</td>\n",
       "      <td>2.344160</td>\n",
       "    </tr>\n",
       "    <tr>\n",
       "      <th>gene_4773</th>\n",
       "      <td>0.383887</td>\n",
       "      <td>0.411448</td>\n",
       "      <td>0.169290</td>\n",
       "    </tr>\n",
       "    <tr>\n",
       "      <th>gene_8891</th>\n",
       "      <td>0.364385</td>\n",
       "      <td>0.398958</td>\n",
       "      <td>0.159168</td>\n",
       "    </tr>\n",
       "    <tr>\n",
       "      <th>gene_19913</th>\n",
       "      <td>0.376816</td>\n",
       "      <td>0.395887</td>\n",
       "      <td>0.156726</td>\n",
       "    </tr>\n",
       "    <tr>\n",
       "      <th>gene_19313</th>\n",
       "      <td>0.348911</td>\n",
       "      <td>0.390790</td>\n",
       "      <td>0.152717</td>\n",
       "    </tr>\n",
       "  </tbody>\n",
       "</table>\n",
       "</div>"
      ],
      "text/plain": [
       "                mean   Std.Dev       Var\n",
       "Class       1.669164  1.531065  2.344160\n",
       "gene_4773   0.383887  0.411448  0.169290\n",
       "gene_8891   0.364385  0.398958  0.159168\n",
       "gene_19913  0.376816  0.395887  0.156726\n",
       "gene_19313  0.348911  0.390790  0.152717"
      ]
     },
     "execution_count": 9,
     "metadata": {},
     "output_type": "execute_result"
    }
   ],
   "source": [
    "stats=pd.DataFrame()\n",
    "stats[\"mean\"]=dataset.mean()\n",
    "stats[\"Std.Dev\"]=dataset.std()\n",
    "stats[\"Var\"]=dataset.var()\n",
    "stats_2 =stats.sort_values(by=['Var','mean'],ascending=False)\n",
    "stats_2.head()"
   ]
  },
  {
   "cell_type": "markdown",
   "id": "c91f557b",
   "metadata": {},
   "source": [
    "### 3. Search for outliers in dataset"
   ]
  },
  {
   "cell_type": "code",
   "execution_count": 10,
   "id": "dc2c4bab",
   "metadata": {},
   "outputs": [
    {
     "name": "stdout",
     "output_type": "stream",
     "text": [
      "Data size after removing outliers is: (796, 20532).\n"
     ]
    }
   ],
   "source": [
    "from sklearn.neighbors import LocalOutlierFactor\n",
    "\n",
    "lof = LocalOutlierFactor()\n",
    "# fit_predict return a numpy array of 1 if not an outlier and -1 if an outlier\n",
    "outliers = lof.fit_predict(dataset.iloc[:,:-1])\n",
    "\n",
    "# select all rows that are not outliers\n",
    "mask = outliers != -1\n",
    "dataset.shape\n",
    "\n",
    "#unpack the mask to keep only non-outlier examples\n",
    "dataset = dataset[[*mask]]\n",
    "\n",
    "print(f'Data size after removing outliers is: {dataset.shape}.')"
   ]
  },
  {
   "cell_type": "markdown",
   "id": "9c18b02f",
   "metadata": {},
   "source": [
    "#### Output"
   ]
  },
  {
   "cell_type": "code",
   "execution_count": 11,
   "id": "789cff8f",
   "metadata": {},
   "outputs": [
    {
     "data": {
      "text/plain": [
       "(796, 20532)"
      ]
     },
     "execution_count": 11,
     "metadata": {},
     "output_type": "execute_result"
    }
   ],
   "source": [
    "dataset.shape"
   ]
  },
  {
   "cell_type": "markdown",
   "id": "6b057249",
   "metadata": {},
   "source": [
    "--------------\n",
    "# Model Implementation: Random Forest"
   ]
  },
  {
   "cell_type": "markdown",
   "id": "6ca47350",
   "metadata": {},
   "source": [
    "--------"
   ]
  },
  {
   "cell_type": "markdown",
   "id": "c800d5a4",
   "metadata": {},
   "source": [
    "##  PCA_80% Training data, 20% test data"
   ]
  },
  {
   "cell_type": "code",
   "execution_count": 12,
   "id": "24444e09",
   "metadata": {},
   "outputs": [],
   "source": [
    "n_components_array_PCA = []\n",
    "score_array = []\n",
    "\n",
    "for n_components_PCA in [2,3,4,5,6,7,8,9,10,11,12,13,14,15,20,25]:\n",
    "    \n",
    "    pca = PCA(n_components=n_components_PCA)\n",
    "\n",
    "    # Apply PCA in input vector\n",
    "    pca.fit(dataset.iloc[:,:-1]) \n",
    "\n",
    "    # Save results in an np.array\n",
    "    reduced = pca.transform(dataset.iloc[:,:-1])\n",
    "\n",
    "    # Save labels in an np.array\n",
    "    x = dataset['Class'].to_numpy()\n",
    "\n",
    "    # Create final dataframe with reduced dimensions\n",
    "    dataset_reduced_PCA = pd.DataFrame(np.column_stack((reduced, x)))\n",
    "\n",
    "\n",
    "    input_data = dataset_reduced_PCA.iloc[:,:-1].values\n",
    "    label_data = dataset_reduced_PCA.iloc[:,-1].values\n",
    "\n",
    "    # We split the data  \n",
    "    X_train, X_test, y_train, y_test = train_test_split(input_data,label_data, test_size=0.2)\n",
    "\n",
    "    RF = RandomForestClassifier(random_state=np.random.RandomState(5))\n",
    "    RF.fit(X_train,y_train)\n",
    "    y_pred=RF.predict(X_test)\n",
    "\n",
    "    # Accuracy of the model\n",
    "    metrics.accuracy_score(y_test, y_pred)\n",
    "    \n",
    "    n_components_array_PCA.append(n_components_PCA)\n",
    "    score_array.append(metrics.accuracy_score(y_test, y_pred))\n"
   ]
  },
  {
   "cell_type": "code",
   "execution_count": 13,
   "id": "9029da9b",
   "metadata": {},
   "outputs": [
    {
     "data": {
      "image/png": "[encoded data removed]",
      "text/plain": [
       "<Figure size 432x288 with 1 Axes>"
      ]
     },
     "metadata": {
      "needs_background": "light"
     },
     "output_type": "display_data"
    }
   ],
   "source": [
    "# Plot with regards of components\n",
    "\n",
    "plt.plot(n_components_array_PCA, score_array,label='Model score')\n",
    "plt.ylabel('Model accuracy')\n",
    "plt.xlabel('Number of features')\n",
    "plt.legend(loc='best')\n",
    "plt.tight_layout()\n",
    "plt.show()"
   ]
  },
  {
   "cell_type": "markdown",
   "id": "61bbb594",
   "metadata": {},
   "source": [
    "#### PCA-RF with fixed value "
   ]
  },
  {
   "cell_type": "code",
   "execution_count": 14,
   "id": "3433e76a",
   "metadata": {},
   "outputs": [],
   "source": [
    "# Selected value dimension reduction\n",
    "\n",
    "pca = PCA(n_components=0.70)\n",
    "\n",
    "# Apply PCA in input vector\n",
    "pca.fit(dataset.iloc[:,:-1]) \n",
    "\n",
    "# Save results in an np.array\n",
    "reduced = pca.transform(dataset.iloc[:,:-1])\n",
    "\n",
    "# Save labels in an np.array\n",
    "x = dataset['Class'].to_numpy()\n",
    "\n",
    "# Create final dataframe with reduced dimensions\n",
    "dataset_reduced_PCA = pd.DataFrame(np.column_stack((reduced, x)))\n",
    "\n",
    "input_data = dataset_reduced_PCA.iloc[:,:-1].values\n",
    "label_data = dataset_reduced_PCA.iloc[:,-1].values\n",
    "\n",
    "# We split the data  \n",
    "X_train, X_test, y_train, y_test = train_test_split(input_data,label_data, test_size=0.2)"
   ]
  },
  {
   "cell_type": "code",
   "execution_count": 15,
   "id": "b8ac0713",
   "metadata": {
    "scrolled": true
   },
   "outputs": [],
   "source": [
    "RF = RandomForestClassifier(random_state=np.random.RandomState(5))\n",
    "RF.fit(X_train,y_train)\n",
    "y_pred=RF.predict(X_test)"
   ]
  },
  {
   "cell_type": "code",
   "execution_count": 16,
   "id": "0f0b63c7",
   "metadata": {
    "scrolled": true
   },
   "outputs": [
    {
     "data": {
      "image/png": "[encoded data removed]",
      "text/plain": [
       "<Figure size 576x360 with 2 Axes>"
      ]
     },
     "metadata": {
      "needs_background": "light"
     },
     "output_type": "display_data"
    }
   ],
   "source": [
    "#Confusion matrix to evaluate the model \n",
    "plt.figure(figsize=(8,5))\n",
    "confusion_matrix = pd.crosstab(y_test, y_pred, rownames=['Actual'], \n",
    "                               colnames=['Predicted'])\n",
    "\n",
    "sns.heatmap(confusion_matrix, annot=True)\n",
    "#plt.savefig(\"Confusion_Matrix.png\")\n",
    "plt.show()"
   ]
  },
  {
   "cell_type": "code",
   "execution_count": 17,
   "id": "57aa56f8",
   "metadata": {},
   "outputs": [
    {
     "data": {
      "text/plain": [
       "0.99375"
      ]
     },
     "execution_count": 17,
     "metadata": {},
     "output_type": "execute_result"
    }
   ],
   "source": [
    "# Accuracy of the model\n",
    "metrics.accuracy_score(y_test, y_pred)"
   ]
  },
  {
   "cell_type": "code",
   "execution_count": 18,
   "id": "5e7e9a83",
   "metadata": {},
   "outputs": [
    {
     "name": "stdout",
     "output_type": "stream",
     "text": [
      "Accuracy:0.99375\n"
     ]
    }
   ],
   "source": [
    "print(f\"Accuracy:{metrics.accuracy_score(y_test, y_pred)}\")"
   ]
  },
  {
   "cell_type": "code",
   "execution_count": 19,
   "id": "d3435db2",
   "metadata": {
    "scrolled": false
   },
   "outputs": [
    {
     "name": "stdout",
     "output_type": "stream",
     "text": [
      "More metrics about the model.\n",
      "\n",
      "              precision    recall  f1-score   support\n",
      "\n",
      "         0.0       0.98      1.00      0.99        61\n",
      "         1.0       1.00      1.00      1.00        19\n",
      "         2.0       1.00      1.00      1.00        24\n",
      "         3.0       1.00      0.96      0.98        25\n",
      "         4.0       1.00      1.00      1.00        31\n",
      "\n",
      "    accuracy                           0.99       160\n",
      "   macro avg       1.00      0.99      0.99       160\n",
      "weighted avg       0.99      0.99      0.99       160\n",
      "\n"
     ]
    }
   ],
   "source": [
    "print(f'More metrics about the model.\\n\\n' \\\n",
    "      f'{metrics.classification_report(y_test, y_pred, labels=[0.0, 1.0, 2.0, 3.0, 4.0])}')"
   ]
  },
  {
   "cell_type": "markdown",
   "id": "ed834a7a",
   "metadata": {},
   "source": [
    "------------"
   ]
  },
  {
   "cell_type": "markdown",
   "id": "df4249e6",
   "metadata": {},
   "source": [
    "## LDA_80% Training data, 20% test data"
   ]
  },
  {
   "cell_type": "code",
   "execution_count": 20,
   "id": "323b5c74",
   "metadata": {},
   "outputs": [],
   "source": [
    "n_components_array_LDA = []\n",
    "score_array = []\n",
    "\n",
    "for n_components_LDA in [1,2,3,4]:\n",
    "    \n",
    "    lda = LinearDiscriminantAnalysis(n_components=n_components_LDA)\n",
    "\n",
    "    # Apply PCA in input vector\n",
    "    lda.fit(dataset.iloc[:,:-1],dataset.iloc[:,-1:].values.ravel()) \n",
    "\n",
    "    # Save results in an np.array\n",
    "    reduced = lda.transform(dataset.iloc[:,:-1].values)\n",
    "\n",
    "    # Save labels in an np.array\n",
    "    x = dataset['Class'].to_numpy()\n",
    "\n",
    "    # Create final dataframe with reduced dimensions\n",
    "    dataset_reduced_LDA = pd.DataFrame(np.column_stack((reduced, x)))\n",
    "\n",
    "\n",
    "    input_data = dataset_reduced_LDA.iloc[:,:-1].values\n",
    "    label_data = dataset_reduced_LDA.iloc[:,-1].values\n",
    "\n",
    "    # We split the data  \n",
    "    X_train, X_test, y_train, y_test = train_test_split(input_data,label_data, test_size=0.2)\n",
    "\n",
    "    RF = RandomForestClassifier(random_state=np.random.RandomState(5))\n",
    "    RF.fit(X_train,y_train)\n",
    "    y_pred=RF.predict(X_test)\n",
    "\n",
    "    # We predict the labels of the test data\n",
    "    y_pred = RF.predict(X_test)\n",
    "\n",
    "    # Accuracy of the model\n",
    "    metrics.accuracy_score(y_test, y_pred)\n",
    "    \n",
    "    n_components_array_LDA.append(n_components_LDA)\n",
    "    score_array.append(metrics.accuracy_score(y_test, y_pred))\n"
   ]
  },
  {
   "cell_type": "code",
   "execution_count": 21,
   "id": "87fdffea",
   "metadata": {},
   "outputs": [
    {
     "data": {
      "image/png": "[encoded data removed]",
      "text/plain": [
       "<Figure size 432x288 with 1 Axes>"
      ]
     },
     "metadata": {
      "needs_background": "light"
     },
     "output_type": "display_data"
    }
   ],
   "source": [
    "# Plot with regards of components\n",
    "\n",
    "plt.plot(n_components_array_LDA, score_array,label='Model score')\n",
    "plt.ylabel('Model accuracy')\n",
    "plt.xlabel('Number of features')\n",
    "plt.legend(loc='best')\n",
    "plt.tight_layout()\n",
    "plt.show()"
   ]
  },
  {
   "cell_type": "markdown",
   "id": "52da8fbf",
   "metadata": {},
   "source": [
    "#### DT-LDA with fixed values"
   ]
  },
  {
   "cell_type": "code",
   "execution_count": 22,
   "id": "d2509176",
   "metadata": {},
   "outputs": [],
   "source": [
    "# Selected value dimension reduction \n",
    "lda = LinearDiscriminantAnalysis(n_components=4)\n",
    "\n",
    "# Apply PCA in input vector\n",
    "lda.fit(dataset.iloc[:,:-1],dataset.iloc[:,-1:].values.ravel()) \n",
    "\n",
    "# Save results in an np.array\n",
    "reduced = lda.transform(dataset.iloc[:,:-1].values)\n",
    "\n",
    "# Save labels in an np.array\n",
    "x = dataset['Class'].to_numpy()\n",
    "\n",
    "# Create final dataframe with reduced dimensions\n",
    "dataset_reduced_LDA = pd.DataFrame(np.column_stack((reduced, x)))\n",
    "\n",
    "input_data = dataset_reduced_LDA.iloc[:,:-1].values\n",
    "label_data = dataset_reduced_LDA.iloc[:,-1].values\n",
    "\n",
    "# We split the data  \n",
    "X_train, X_test, y_train, y_test = train_test_split(input_data,label_data, test_size=0.2)"
   ]
  },
  {
   "cell_type": "code",
   "execution_count": 23,
   "id": "356f1e6e",
   "metadata": {
    "scrolled": true
   },
   "outputs": [],
   "source": [
    "RF = RandomForestClassifier(random_state=np.random.RandomState(5))\n",
    "RF.fit(X_train,y_train)\n",
    "y_pred=RF.predict(X_test)"
   ]
  },
  {
   "cell_type": "code",
   "execution_count": 24,
   "id": "42ee5e63",
   "metadata": {
    "scrolled": true
   },
   "outputs": [
    {
     "data": {
      "image/png": "[encoded data removed]",
      "text/plain": [
       "<Figure size 576x360 with 2 Axes>"
      ]
     },
     "metadata": {
      "needs_background": "light"
     },
     "output_type": "display_data"
    }
   ],
   "source": [
    "#Confusion matrix to evaluate the model \n",
    "plt.figure(figsize=(8,5))\n",
    "confusion_matrix = pd.crosstab(y_test, y_pred, rownames=['Actual'], \n",
    "                               colnames=['Predicted'])\n",
    "\n",
    "sns.heatmap(confusion_matrix, annot=True)\n",
    "#plt.savefig(\"Confusion_Matrix_KNN.png\")\n",
    "plt.show()"
   ]
  },
  {
   "cell_type": "code",
   "execution_count": 25,
   "id": "488d79d4",
   "metadata": {},
   "outputs": [
    {
     "data": {
      "text/plain": [
       "1.0"
      ]
     },
     "execution_count": 25,
     "metadata": {},
     "output_type": "execute_result"
    }
   ],
   "source": [
    "# Accuracy of the model\n",
    "metrics.accuracy_score(y_test, y_pred)"
   ]
  },
  {
   "cell_type": "code",
   "execution_count": 26,
   "id": "20eb9f75",
   "metadata": {},
   "outputs": [
    {
     "name": "stdout",
     "output_type": "stream",
     "text": [
      "Accuracy:1.0\n"
     ]
    }
   ],
   "source": [
    "print(f\"Accuracy:{metrics.accuracy_score(y_test, y_pred)}\")"
   ]
  },
  {
   "cell_type": "code",
   "execution_count": 27,
   "id": "038e1272",
   "metadata": {
    "scrolled": true
   },
   "outputs": [
    {
     "name": "stdout",
     "output_type": "stream",
     "text": [
      "More metrics about the model.\n",
      "\n",
      "              precision    recall  f1-score   support\n",
      "\n",
      "         0.0       1.00      1.00      1.00        65\n",
      "         1.0       1.00      1.00      1.00        19\n",
      "         2.0       1.00      1.00      1.00        26\n",
      "         3.0       1.00      1.00      1.00        24\n",
      "         4.0       1.00      1.00      1.00        26\n",
      "\n",
      "    accuracy                           1.00       160\n",
      "   macro avg       1.00      1.00      1.00       160\n",
      "weighted avg       1.00      1.00      1.00       160\n",
      "\n"
     ]
    }
   ],
   "source": [
    "print(f'More metrics about the model.\\n\\n' \\\n",
    "      f'{metrics.classification_report(y_test, y_pred, labels=[0.0, 1.0, 2.0, 3.0, 4.0])}')"
   ]
  },
  {
   "cell_type": "markdown",
   "id": "86569a93",
   "metadata": {},
   "source": [
    "### Stratified Kfold"
   ]
  },
  {
   "cell_type": "code",
   "execution_count": 28,
   "id": "3c9fbdcb",
   "metadata": {},
   "outputs": [],
   "source": [
    "error_average = []\n",
    "score_average = []\n",
    "\n",
    "k_values = []\n",
    "\n",
    "\n",
    "def get_score(model, X_train, X_test, y_train, y_test):\n",
    "    model.fit(X_train, y_train)\n",
    "    return model.score(X_test, y_test)\n",
    "\n",
    "RF = RandomForestClassifier(random_state=np.random.RandomState(5))\n",
    "\n",
    "for k in range(5, 10):\n",
    "    folds = StratifiedKFold(n_splits=k, shuffle = True, random_state = 100)\n",
    "    k_values.append(k)\n",
    "    error = []\n",
    "    scores = []\n",
    "                   \n",
    "    for train_index, test_index in folds.split(input_data,label_data):\n",
    "        X_train, X_test, y_train, y_test = input_data[train_index], input_data[test_index], label_data[train_index], label_data[test_index]\n",
    "        \n",
    "        scores.append(get_score(RF, X_train, X_test, y_train, y_test))\n",
    "        \n",
    "        preds = RF.predict(X_test)\n",
    "        squared_error = np.power(y_test - preds,2)\n",
    "        error.append(np.mean(squared_error))\n",
    "        \n",
    "    error_average.append(np.mean(error))\n",
    "    score_average.append(round(np.mean(scores),4))\n",
    "    \n"
   ]
  },
  {
   "cell_type": "code",
   "execution_count": 29,
   "id": "0395f172",
   "metadata": {},
   "outputs": [
    {
     "data": {
      "text/plain": [
       "Text(0, 0.5, 'Mean Score.')"
      ]
     },
     "execution_count": 29,
     "metadata": {},
     "output_type": "execute_result"
    },
    {
     "data": {
      "image/png": "[encoded data removed]",
      "text/plain": [
       "<Figure size 864x432 with 1 Axes>"
      ]
     },
     "metadata": {
      "needs_background": "light"
     },
     "output_type": "display_data"
    }
   ],
   "source": [
    "#SCORE PLOT\n",
    "plt.figure(figsize=(12, 6))\n",
    "#plt.plot(k_values, error_average, color='blue', marker='o',markerfacecolor='red', markersize=10)\n",
    "plt.plot(k_values, score_average, color='red', marker='o', markerfacecolor='green', markersize=10)\n",
    "\n",
    "plt.title('Score value - K Value.')\n",
    "plt.xlabel('K Value.')\n",
    "plt.ylabel('Mean Score.')\n",
    "#plt.savefig(\"KNN_error_over_multiple_neighbors.png\")"
   ]
  },
  {
   "cell_type": "code",
   "execution_count": 30,
   "id": "2a53dc86",
   "metadata": {
    "scrolled": true
   },
   "outputs": [
    {
     "data": {
      "text/plain": [
       "Text(0, 0.5, 'Mean Squared Error.')"
      ]
     },
     "execution_count": 30,
     "metadata": {},
     "output_type": "execute_result"
    },
    {
     "data": {
      "image/png": "[encoded data removed]",
      "text/plain": [
       "<Figure size 864x432 with 1 Axes>"
      ]
     },
     "metadata": {
      "needs_background": "light"
     },
     "output_type": "display_data"
    }
   ],
   "source": [
    "#SQUARE ERROR PLOT\n",
    "plt.figure(figsize=(12, 6))\n",
    "plt.plot(k_values, error_average, color='blue', marker='o',\n",
    "         markerfacecolor='red', markersize=10)\n",
    "#plt.plot(k_values, score_average, color='red', marker='o', markerfacecolor='green', markersize=10)\n",
    "\n",
    "plt.title('Error Rate K Value.')\n",
    "plt.xlabel('K Value.')\n",
    "plt.ylabel('Mean Squared Error.')\n",
    "#plt.savefig(\"KNN_error_over_multiple_neighbors.png\")"
   ]
  },
  {
   "cell_type": "code",
   "execution_count": 31,
   "id": "b73fe0e1",
   "metadata": {},
   "outputs": [
    {
     "name": "stdout",
     "output_type": "stream",
     "text": [
      "0.99875\n"
     ]
    }
   ],
   "source": [
    "# After studying the optimal parameters, we run the model with the selected ones\n",
    "\n",
    "k = 10\n",
    "\n",
    "RF = RandomForestClassifier(random_state=np.random.RandomState(5))\n",
    "\n",
    "folds = StratifiedKFold(n_splits=k, shuffle = True, random_state = 100)\n",
    "\n",
    "scores = []\n",
    "\n",
    "def get_score(model, X_train, X_test, y_train, y_test):\n",
    "    model.fit(X_train, y_train)\n",
    "    return model.score(X_test, y_test)\n",
    "\n",
    "# Index of the spliting\n",
    "for train_index, test_index in folds.split(input_data,label_data):\n",
    "    X_train, X_test, y_train, y_test = input_data[train_index], input_data[test_index], label_data[train_index], label_data[test_index]\n",
    "    scores.append(get_score(RF, X_train, X_test, y_train, y_test))\n",
    "\n",
    "print(np.mean(scores))"
   ]
  },
  {
   "cell_type": "code",
   "execution_count": 32,
   "id": "743cd497",
   "metadata": {},
   "outputs": [],
   "source": [
    "# We predict the labels of the test data (Depending on the fold we have different, how we do it with the confusion matrix)\n",
    "y_pred = RF.predict(X_test)"
   ]
  },
  {
   "cell_type": "code",
   "execution_count": 33,
   "id": "0f0b63c7",
   "metadata": {},
   "outputs": [
    {
     "data": {
      "image/png": "[encoded data removed]",
      "text/plain": [
       "<Figure size 576x360 with 2 Axes>"
      ]
     },
     "metadata": {
      "needs_background": "light"
     },
     "output_type": "display_data"
    }
   ],
   "source": [
    "#Confusion matrix to evaluate the model \n",
    "plt.figure(figsize=(8,5))\n",
    "confusion_matrix = pd.crosstab(y_test, y_pred, rownames=['Actual'], \n",
    "                               colnames=['Predicted'])\n",
    "\n",
    "sns.heatmap(confusion_matrix, annot=True)\n",
    "plt.savefig(\"Confusion_Matrix.png\")\n",
    "plt.show()"
   ]
  },
  {
   "cell_type": "code",
   "execution_count": 34,
   "id": "57aa56f8",
   "metadata": {},
   "outputs": [
    {
     "data": {
      "text/plain": [
       "1.0"
      ]
     },
     "execution_count": 34,
     "metadata": {},
     "output_type": "execute_result"
    }
   ],
   "source": [
    "# Accuracy of the model\n",
    "metrics.accuracy_score(y_test, y_pred)"
   ]
  },
  {
   "cell_type": "code",
   "execution_count": 35,
   "id": "5e7e9a83",
   "metadata": {},
   "outputs": [
    {
     "name": "stdout",
     "output_type": "stream",
     "text": [
      "Accuracy:1.0\n"
     ]
    }
   ],
   "source": [
    "print(f\"Accuracy:{metrics.accuracy_score(y_test, y_pred)}\")"
   ]
  },
  {
   "cell_type": "code",
   "execution_count": 36,
   "id": "d3435db2",
   "metadata": {
    "scrolled": false
   },
   "outputs": [
    {
     "name": "stdout",
     "output_type": "stream",
     "text": [
      "More metrics about the model.\n",
      "\n",
      "              precision    recall  f1-score   support\n",
      "\n",
      "         0.0       1.00      1.00      1.00        30\n",
      "         1.0       1.00      1.00      1.00         8\n",
      "         2.0       1.00      1.00      1.00        14\n",
      "         3.0       1.00      1.00      1.00        14\n",
      "         4.0       1.00      1.00      1.00        13\n",
      "\n",
      "    accuracy                           1.00        79\n",
      "   macro avg       1.00      1.00      1.00        79\n",
      "weighted avg       1.00      1.00      1.00        79\n",
      "\n"
     ]
    }
   ],
   "source": [
    "print(f'More metrics about the model.\\n\\n' \\\n",
    "      f'{metrics.classification_report(y_test, y_pred, labels=[0.0, 1.0, 2.0, 3.0, 4.0])}')"
   ]
  }
 ],
 "metadata": {
  "kernelspec": {
   "display_name": "Python 3",
   "language": "python",
   "name": "python3"
  },
  "language_info": {
   "codemirror_mode": {
    "name": "ipython",
    "version": 3
   },
   "file_extension": ".py",
   "mimetype": "text/x-python",
   "name": "python",
   "nbconvert_exporter": "python",
   "pygments_lexer": "ipython3",
   "version": "3.8.2"
  }
 },
 "nbformat": 4,
 "nbformat_minor": 5
}
