{
 "cells": [
  {
   "cell_type": "markdown",
   "id": "84ea3cac",
   "metadata": {},
   "source": [
    "# Import Libraries"
   ]
  },
  {
   "cell_type": "code",
   "execution_count": 32,
   "id": "6baade51",
   "metadata": {},
   "outputs": [],
   "source": [
    "import numpy as np\n",
    "import pandas as pd\n",
    "import matplotlib.pyplot as plt\n",
    "import seaborn as sns\n",
    "\n",
    "### From sklearn - Preprocesing \n",
    "from sklearn import preprocessing\n",
    "from sklearn.neighbors import LocalOutlierFactor\n",
    "\n",
    "# Dimension reduction \n",
    "from sklearn.decomposition import PCA\n",
    "from sklearn.discriminant_analysis import LinearDiscriminantAnalysis\n",
    "\n",
    "# K-fold\n",
    "from sklearn.model_selection import StratifiedKFold\n",
    "from sklearn.model_selection import KFold, cross_val_score, GridSearchCV\n",
    "\n",
    "# From sklearn - Model creation\n",
    "\n",
    "from sklearn.model_selection import train_test_split \n",
    "from sklearn.neighbors import KNeighborsClassifier\n",
    "\n",
    "from sklearn.metrics import multilabel_confusion_matrix\n",
    "from sklearn import metrics "
   ]
  },
  {
   "cell_type": "markdown",
   "id": "0b252ac9",
   "metadata": {},
   "source": [
    "# Index\n",
    "\n",
    "1. Reading files and merging features with labels\n",
    "2. Preprocesing phase <br>\n",
    "    2.1 Encoding labels<br>\n",
    "    2.2 Normalization: min_max_scaler<br>\n",
    "3. Model Implementation: Decision Tree\n",
    "        3.1 PCA_80% Training data, 20% test data<br>\n",
    "        3.2 PCA-DT with fixed value<br>\n",
    "        3.3 LDA_80% Training data, 20% test data<br>\n",
    "        3.4 LDA-DT with fixed value<br>\n",
    "        3.5 Stratified Kfold<br>\n",
    "        3.6 K-Fold function\n",
    "        3.7 Grid search Function"
   ]
  },
  {
   "cell_type": "markdown",
   "id": "98a8d2ae",
   "metadata": {},
   "source": [
    "-----\n",
    "# 1. Reading files and merging features with labels"
   ]
  },
  {
   "cell_type": "code",
   "execution_count": 33,
   "id": "a0bac7af",
   "metadata": {},
   "outputs": [],
   "source": [
    "#dataset = pd.read_csv(\"Genes\\data.csv\")\n",
    "dataset = pd.read_csv('/Users/pedrorodriguezdeledesmajimenez/1_Coding/Datasets/RUG_Pattern-recognition_Assignment-2/Task 1/Genres/data.csv')\n",
    "\n",
    "#labels = pd.read_csv(\"Genes\\labels.csv\")\n",
    "dataset_labels =pd.read_csv('/Users/pedrorodriguezdeledesmajimenez/1_Coding/Datasets/RUG_Pattern-recognition_Assignment-2/Task 1/Genres/labels.csv')"
   ]
  },
  {
   "cell_type": "code",
   "execution_count": 34,
   "id": "4c238d5a",
   "metadata": {},
   "outputs": [],
   "source": [
    "# Merging both datasets and removing first column\n",
    "\n",
    "dataset = pd.merge(dataset, dataset_labels, on='Unnamed: 0').drop(\"Unnamed: 0\", axis=1)"
   ]
  },
  {
   "cell_type": "markdown",
   "id": "b3c7f917",
   "metadata": {},
   "source": [
    "----\n",
    "# 2. Preprocesing data"
   ]
  },
  {
   "cell_type": "markdown",
   "id": "177a57ba",
   "metadata": {},
   "source": [
    "##  2.1 Encoding labels"
   ]
  },
  {
   "cell_type": "code",
   "execution_count": 35,
   "id": "08ac19fd",
   "metadata": {},
   "outputs": [],
   "source": [
    "# Encode the labels and updaate values\n",
    "le = preprocessing.LabelEncoder()\n",
    "dataset[\"Class\"] = le.fit_transform(dataset_labels.drop(\"Unnamed: 0\", axis=1).values.ravel())"
   ]
  },
  {
   "cell_type": "code",
   "execution_count": 36,
   "id": "aa5f0414",
   "metadata": {},
   "outputs": [],
   "source": [
    "# Let´s store all the labels\n",
    "keys = le.classes_\n",
    "\n",
    "# And now store labels with their encoded value \n",
    "values = le.transform(le.classes_)\n",
    "dictionary = dict(zip(keys, values))"
   ]
  },
  {
   "cell_type": "markdown",
   "id": "90f6f281",
   "metadata": {},
   "source": [
    "## 2.2 Normalization: min_max_scaler"
   ]
  },
  {
   "cell_type": "code",
   "execution_count": 37,
   "id": "8b38a0be",
   "metadata": {},
   "outputs": [],
   "source": [
    "# Lets store the dataset values without the columns titles\n",
    "x = dataset.iloc[:, :-1].values \n",
    "\n",
    "# Let´s create an instance with the normalice function\n",
    "min_max_scaler = preprocessing.MinMaxScaler()\n",
    "\n",
    "# Let´s fit the normilice function\n",
    "x_scaled = min_max_scaler.fit_transform(x)\n",
    "\n",
    "# Let´s put in the dataframe the values scaled\n",
    "dataset.iloc[:, :-1] = pd.DataFrame(x_scaled)"
   ]
  },
  {
   "cell_type": "markdown",
   "id": "9c18b02f",
   "metadata": {},
   "source": [
    "#### Output preprocesing"
   ]
  },
  {
   "cell_type": "code",
   "execution_count": 38,
   "id": "789cff8f",
   "metadata": {},
   "outputs": [
    {
     "data": {
      "text/plain": [
       "(801, 20532)"
      ]
     },
     "execution_count": 38,
     "metadata": {},
     "output_type": "execute_result"
    }
   ],
   "source": [
    "dataset.shape"
   ]
  },
  {
   "cell_type": "markdown",
   "id": "b9e2761e",
   "metadata": {},
   "source": [
    "--------------\n",
    "# 3. Model Implementation:  KNN"
   ]
  },
  {
   "cell_type": "markdown",
   "id": "e8934806",
   "metadata": {},
   "source": [
    "--------"
   ]
  },
  {
   "cell_type": "markdown",
   "id": "c800d5a4",
   "metadata": {},
   "source": [
    "## 3.1 PCA_80% Training data, 20% test data"
   ]
  },
  {
   "cell_type": "code",
   "execution_count": 39,
   "id": "2788f960",
   "metadata": {},
   "outputs": [],
   "source": [
    "# PCA with different number of features\n",
    "k = 9\n",
    "\n",
    "score_array = []\n",
    "n_components_array = []\n",
    "\n",
    "for n_components_PCA in [2,3,4,5,6,7,8,9,10,11,12,13,14,15]:\n",
    "    \n",
    "    pca = PCA(n_components=n_components_PCA)\n",
    "\n",
    "    # Apply PCA in input vector\n",
    "    pca.fit(dataset.iloc[:,:-1]) \n",
    "\n",
    "    # Save results in an np.array\n",
    "    reduced = pca.transform(dataset.iloc[:,:-1])\n",
    "\n",
    "    # Save labels in an np.array\n",
    "    x = dataset['Class'].to_numpy()\n",
    "\n",
    "    # Create final dataframe with reduced dimensions\n",
    "    dataset_reduced_PCA = pd.DataFrame(np.column_stack((reduced, x)))\n",
    "    \n",
    "    lof = LocalOutlierFactor()\n",
    "    # fit_predict return a numpy array of 1 if not an outlier and -1 if an outlier\n",
    "    outliers = lof.fit_predict(dataset_reduced_PCA.iloc[:,:-1])\n",
    "\n",
    "    # select all rows that are not outliers\n",
    "    mask = outliers != -1\n",
    "\n",
    "    #unpack the mask to keep only non-outlier examples\n",
    "    dataset_reduced_PCA = dataset_reduced_PCA[[*mask]]\n",
    "\n",
    "    input_data = dataset_reduced_PCA.iloc[:,:-1].values\n",
    "    label_data = dataset_reduced_PCA.iloc[:,-1].values\n",
    "\n",
    "    # We split the data  \n",
    "    X_train, X_test, y_train, y_test = train_test_split(input_data,label_data, test_size=0.2)\n",
    "\n",
    "    # Build and train the model with the k-vlue\n",
    "    KNN = KNeighborsClassifier(n_neighbors=k)\n",
    "    KNN.fit(X_train, y_train)\n",
    "\n",
    "    # We predict the labels of the test data\n",
    "    y_pred = KNN.predict(X_test)\n",
    "\n",
    "    # Accuracy of the model\n",
    "    metrics.accuracy_score(y_test, y_pred)\n",
    "    \n",
    "    n_components_array.append(n_components_PCA)\n",
    "    score_array.append(metrics.accuracy_score(y_test, y_pred))"
   ]
  },
  {
   "cell_type": "code",
   "execution_count": 40,
   "id": "6fbefc30",
   "metadata": {
    "scrolled": true
   },
   "outputs": [
    {
     "data": {
      "image/png": "[encoded data removed]",
      "text/plain": [
       "<Figure size 432x288 with 1 Axes>"
      ]
     },
     "metadata": {
      "needs_background": "light"
     },
     "output_type": "display_data"
    }
   ],
   "source": [
    "# Plot with regards of components\n",
    "\n",
    "plt.plot(n_components_array, score_array,label='Model score')\n",
    "plt.ylabel('Model accuracy')\n",
    "plt.xlabel('Number of features')\n",
    "plt.legend(loc='best')\n",
    "plt.tight_layout()\n",
    "plt.show()"
   ]
  },
  {
   "cell_type": "markdown",
   "id": "61bbb594",
   "metadata": {},
   "source": [
    "## 3.2 KNN-PCA with fixed value of PCA "
   ]
  },
  {
   "cell_type": "code",
   "execution_count": 41,
   "id": "52e37c33",
   "metadata": {},
   "outputs": [],
   "source": [
    "# Selected value dimension reduction\n",
    "pca = PCA(0.70)\n",
    "\n",
    "# Apply PCA in input vector\n",
    "pca.fit(dataset.iloc[:,:-1]) \n",
    "\n",
    "# Save results in an np.array\n",
    "reduced = pca.transform(dataset.iloc[:,:-1])\n",
    "\n",
    "# Save labels in an np.array\n",
    "x = dataset['Class'].to_numpy()\n",
    "\n",
    "# Create final dataframe with reduced dimensions\n",
    "dataset_reduced_PCA = pd.DataFrame(np.column_stack((reduced, x)))\n",
    "\n",
    "lof = LocalOutlierFactor()\n",
    "# fit_predict return a numpy array of 1 if not an outlier and -1 if an outlier\n",
    "outliers = lof.fit_predict(dataset_reduced_PCA.iloc[:,:-1])\n",
    "\n",
    "# select all rows that are not outliers\n",
    "mask = outliers != -1\n",
    "\n",
    "#unpack the mask to keep only non-outlier examples\n",
    "dataset_reduced_PCA = dataset_reduced_PCA[[*mask]]\n",
    "\n",
    "#For PCA REDUCED data as input\n",
    "input_data = dataset_reduced_PCA.iloc[:,:-1].values\n",
    "label_data = dataset_reduced_PCA.iloc[:,-1].values\n",
    "\n",
    "#For ORIGINAL data as input\n",
    "#input_data = dataset_reduced_PCA.iloc[:,:-1].values\n",
    "#label_data = dataset_reduced_PCA.iloc[:,-1].values\n",
    "\n",
    "# We split the data  \n",
    "X_train, X_test, y_train, y_test = train_test_split(input_data,label_data, test_size=0.2)"
   ]
  },
  {
   "cell_type": "code",
   "execution_count": 44,
   "id": "73abaa9e",
   "metadata": {
    "scrolled": true
   },
   "outputs": [
    {
     "data": {
      "text/plain": [
       "KNeighborsClassifier(n_neighbors=9)"
      ]
     },
     "execution_count": 44,
     "metadata": {},
     "output_type": "execute_result"
    }
   ],
   "source": [
    "# Build and train the model with the value selected: k= 9\n",
    "KNN = KNeighborsClassifier(n_neighbors=9)\n",
    "KNN.fit(X_train, y_train)"
   ]
  },
  {
   "cell_type": "code",
   "execution_count": 45,
   "id": "5c4531f8",
   "metadata": {},
   "outputs": [],
   "source": [
    "# We predict the labels of the test data\n",
    "y_pred = KNN.predict(X_test)"
   ]
  },
  {
   "cell_type": "code",
   "execution_count": 46,
   "id": "0f0b63c7",
   "metadata": {},
   "outputs": [
    {
     "data": {
      "image/png": "[encoded data removed]",
      "text/plain": [
       "<Figure size 576x360 with 2 Axes>"
      ]
     },
     "metadata": {
      "needs_background": "light"
     },
     "output_type": "display_data"
    }
   ],
   "source": [
    "#Confusion matrix to evaluate the model \n",
    "plt.figure(figsize=(8,5))\n",
    "confusion_matrix = pd.crosstab(y_test, y_pred, rownames=['Actual'], \n",
    "                               colnames=['Predicted'])\n",
    "\n",
    "sns.heatmap(confusion_matrix, annot=True)\n",
    "#plt.savefig(\"Confusion_Matrix_KNN.png\")\n",
    "plt.show()"
   ]
  },
  {
   "cell_type": "code",
   "execution_count": 47,
   "id": "57aa56f8",
   "metadata": {},
   "outputs": [
    {
     "data": {
      "text/plain": [
       "0.9937888198757764"
      ]
     },
     "execution_count": 47,
     "metadata": {},
     "output_type": "execute_result"
    }
   ],
   "source": [
    "# Accuracy of the model\n",
    "metrics.accuracy_score(y_test, y_pred)"
   ]
  },
  {
   "cell_type": "code",
   "execution_count": 48,
   "id": "5e7e9a83",
   "metadata": {},
   "outputs": [
    {
     "name": "stdout",
     "output_type": "stream",
     "text": [
      "Accuracy:0.9937888198757764\n"
     ]
    }
   ],
   "source": [
    "print(f\"Accuracy:{metrics.accuracy_score(y_test, y_pred)}\")"
   ]
  },
  {
   "cell_type": "code",
   "execution_count": 49,
   "id": "d3435db2",
   "metadata": {
    "scrolled": false
   },
   "outputs": [
    {
     "name": "stdout",
     "output_type": "stream",
     "text": [
      "More metrics about the model.\n",
      "\n",
      "              precision    recall  f1-score   support\n",
      "\n",
      "         0.0       1.00      1.00      1.00        64\n",
      "         1.0       1.00      0.94      0.97        18\n",
      "         2.0       1.00      1.00      1.00        29\n",
      "         3.0       0.96      1.00      0.98        24\n",
      "         4.0       1.00      1.00      1.00        26\n",
      "\n",
      "    accuracy                           0.99       161\n",
      "   macro avg       0.99      0.99      0.99       161\n",
      "weighted avg       0.99      0.99      0.99       161\n",
      "\n"
     ]
    }
   ],
   "source": [
    "print(f'More metrics about the model.\\n\\n' \\\n",
    "      f'{metrics.classification_report(y_test, y_pred, labels=[0.0, 1.0, 2.0, 3.0, 4.0])}')"
   ]
  },
  {
   "cell_type": "markdown",
   "id": "c7bf0af1",
   "metadata": {},
   "source": [
    "----------"
   ]
  },
  {
   "cell_type": "markdown",
   "id": "133b90d1",
   "metadata": {},
   "source": [
    "## 3.4 LDA_80% Training data, 20% test data"
   ]
  },
  {
   "cell_type": "code",
   "execution_count": 50,
   "id": "1a574c33",
   "metadata": {},
   "outputs": [],
   "source": [
    "# With different number of features\n",
    "k = 9\n",
    "\n",
    "score_array = []\n",
    "n_components_array_LDA = []\n",
    "\n",
    "for n_components_LDA in [1,2,3,4]:\n",
    "    \n",
    "    lda = LinearDiscriminantAnalysis(n_components=n_components_LDA)\n",
    "\n",
    "    # Apply PCA in input vector\n",
    "    lda.fit(dataset.iloc[:,:-1],dataset.iloc[:,-1:].values.ravel()) \n",
    "\n",
    "    # Save results in an np.array\n",
    "    reduced = lda.transform(dataset.iloc[:,:-1])\n",
    "\n",
    "    # Save labels in an np.array\n",
    "    x = dataset['Class'].to_numpy()\n",
    "\n",
    "    # Create final dataframe with reduced dimensions\n",
    "    dataset_reduced_LDA = pd.DataFrame(np.column_stack((reduced, x)))\n",
    "\n",
    "\n",
    "    input_data = dataset_reduced_LDA.iloc[:,:-1].values\n",
    "    label_data = dataset_reduced_LDA.iloc[:,-1].values\n",
    "\n",
    "    # We split the data  \n",
    "    X_train, X_test, y_train, y_test = train_test_split(input_data,label_data, test_size=0.2)\n",
    "\n",
    "    # Build and train the model with the k-vlue\n",
    "    KNN = KNeighborsClassifier(n_neighbors=k)\n",
    "    KNN.fit(X_train, y_train)\n",
    "\n",
    "    # We predict the labels of the test data\n",
    "    y_pred = KNN.predict(X_test)\n",
    "\n",
    "    # Accuracy of the model\n",
    "    metrics.accuracy_score(y_test, y_pred)\n",
    "    \n",
    "    n_components_array_LDA.append(n_components_LDA)\n",
    "    score_array.append(metrics.accuracy_score(y_test, y_pred))"
   ]
  },
  {
   "cell_type": "code",
   "execution_count": 51,
   "id": "9029da9b",
   "metadata": {},
   "outputs": [
    {
     "data": {
      "image/png": "[encoded data removed]",
      "text/plain": [
       "<Figure size 432x288 with 1 Axes>"
      ]
     },
     "metadata": {
      "needs_background": "light"
     },
     "output_type": "display_data"
    }
   ],
   "source": [
    "# Plot with regards of components\n",
    "\n",
    "plt.plot(n_components_array_LDA, score_array,label='Model score')\n",
    "plt.ylabel('Model accuracy')\n",
    "plt.xlabel('Number of features')\n",
    "plt.legend(loc='best')\n",
    "plt.tight_layout()\n",
    "plt.show()"
   ]
  },
  {
   "cell_type": "markdown",
   "id": "cec79348",
   "metadata": {},
   "source": [
    "## 3.5 KNN-LDA with fixed values"
   ]
  },
  {
   "cell_type": "code",
   "execution_count": 52,
   "id": "35c467d3",
   "metadata": {},
   "outputs": [],
   "source": [
    "# Selected value dimension reduction \n",
    "lda = LinearDiscriminantAnalysis(n_components=4)\n",
    "\n",
    "# Apply PCA in input vector\n",
    "lda.fit(dataset.iloc[:,:-1],dataset.iloc[:,-1]) \n",
    "\n",
    "# Save results in an np.array\n",
    "reduced = lda.transform(dataset.iloc[:,:-1])\n",
    "\n",
    "# Save labels in an np.array\n",
    "x = dataset['Class'].to_numpy()\n",
    "\n",
    "# Create final dataframe with reduced dimensions\n",
    "dataset_reduced_LDA = pd.DataFrame(np.column_stack((reduced, x)))\n",
    "\n",
    "#For origianl data as input\n",
    "input_data = dataset.iloc[:,:-1].values\n",
    "label_data = dataset.iloc[:,-1].values\n",
    "\n",
    "#For PCA REDUCED data as input\n",
    "#input_data = dataset_reduced_LDA.iloc[:,:-1].values\n",
    "#label_data = dataset_reduced_LDA.iloc[:,-1].values\n",
    "\n",
    "# We split the data  \n",
    "X_train, X_test, y_train, y_test = train_test_split(input_data,label_data, test_size=0.2)"
   ]
  },
  {
   "cell_type": "code",
   "execution_count": 53,
   "id": "c22839bb",
   "metadata": {},
   "outputs": [
    {
     "data": {
      "text/plain": [
       "KNeighborsClassifier(n_neighbors=9)"
      ]
     },
     "execution_count": 53,
     "metadata": {},
     "output_type": "execute_result"
    }
   ],
   "source": [
    "# Build and train the model with the value selected: k= 9\n",
    "KNN = KNeighborsClassifier(n_neighbors=9)\n",
    "KNN.fit(X_train, y_train)"
   ]
  },
  {
   "cell_type": "code",
   "execution_count": 54,
   "id": "cdba88bb",
   "metadata": {},
   "outputs": [],
   "source": [
    "# We predict the labels of the test data\n",
    "y_pred = KNN.predict(X_test)"
   ]
  },
  {
   "cell_type": "code",
   "execution_count": 55,
   "id": "abad3741",
   "metadata": {},
   "outputs": [
    {
     "data": {
      "image/png": "[encoded data removed]",
      "text/plain": [
       "<Figure size 576x360 with 2 Axes>"
      ]
     },
     "metadata": {
      "needs_background": "light"
     },
     "output_type": "display_data"
    }
   ],
   "source": [
    "#Confusion matrix to evaluate the model \n",
    "plt.figure(figsize=(8,5))\n",
    "confusion_matrix = pd.crosstab(y_test, y_pred, rownames=['Actual'], \n",
    "                               colnames=['Predicted'])\n",
    "\n",
    "sns.heatmap(confusion_matrix, annot=True)\n",
    "#plt.savefig(\"Confusion_Matrix_KNN.png\")\n",
    "plt.show()"
   ]
  },
  {
   "cell_type": "code",
   "execution_count": 56,
   "id": "99437212",
   "metadata": {},
   "outputs": [
    {
     "data": {
      "text/plain": [
       "1.0"
      ]
     },
     "execution_count": 56,
     "metadata": {},
     "output_type": "execute_result"
    }
   ],
   "source": [
    "# Accuracy of the model\n",
    "metrics.accuracy_score(y_test, y_pred)"
   ]
  },
  {
   "cell_type": "code",
   "execution_count": 57,
   "id": "41b9f40e",
   "metadata": {},
   "outputs": [
    {
     "name": "stdout",
     "output_type": "stream",
     "text": [
      "Accuracy:1.0\n"
     ]
    }
   ],
   "source": [
    "print(f\"Accuracy:{metrics.accuracy_score(y_test, y_pred)}\")"
   ]
  },
  {
   "cell_type": "code",
   "execution_count": 58,
   "id": "2bfc5445",
   "metadata": {
    "scrolled": false
   },
   "outputs": [
    {
     "name": "stdout",
     "output_type": "stream",
     "text": [
      "More metrics about the model.\n",
      "\n",
      "              precision    recall  f1-score   support\n",
      "\n",
      "         0.0       1.00      1.00      1.00        54\n",
      "         1.0       1.00      1.00      1.00        15\n",
      "         2.0       1.00      1.00      1.00        34\n",
      "         3.0       1.00      1.00      1.00        28\n",
      "         4.0       1.00      1.00      1.00        30\n",
      "\n",
      "    accuracy                           1.00       161\n",
      "   macro avg       1.00      1.00      1.00       161\n",
      "weighted avg       1.00      1.00      1.00       161\n",
      "\n"
     ]
    }
   ],
   "source": [
    "print(f'More metrics about the model.\\n\\n' \\\n",
    "      f'{metrics.classification_report(y_test, y_pred, labels=[0.0, 1.0, 2.0, 3.0, 4.0])}')"
   ]
  },
  {
   "cell_type": "code",
   "execution_count": 59,
   "id": "58392891",
   "metadata": {},
   "outputs": [
    {
     "name": "stdout",
     "output_type": "stream",
     "text": [
      "Accuracy:1.0\n",
      "More metrics about the model.\n",
      "\n",
      "              precision    recall  f1-score   support\n",
      "\n",
      "         0.0       1.00      1.00      1.00        54\n",
      "         1.0       1.00      1.00      1.00        15\n",
      "         2.0       1.00      1.00      1.00        34\n",
      "         3.0       1.00      1.00      1.00        28\n",
      "         4.0       1.00      1.00      1.00        30\n",
      "\n",
      "    accuracy                           1.00       161\n",
      "   macro avg       1.00      1.00      1.00       161\n",
      "weighted avg       1.00      1.00      1.00       161\n",
      "\n"
     ]
    }
   ],
   "source": [
    "# Accuracy of the model\n",
    "metrics.accuracy_score(y_test, y_pred)\n",
    "\n",
    "print(f\"Accuracy:{metrics.accuracy_score(y_test, y_pred)}\")\n",
    "\n",
    "print(f'More metrics about the model.\\n\\n' \\\n",
    "      f'{metrics.classification_report(y_test, y_pred, labels=[0.0, 1.0, 2.0, 3.0, 4.0])}')"
   ]
  },
  {
   "cell_type": "markdown",
   "id": "86569a93",
   "metadata": {},
   "source": [
    "## 3.6 Stratified Kfold"
   ]
  },
  {
   "cell_type": "code",
   "execution_count": 60,
   "id": "8eb22f76",
   "metadata": {},
   "outputs": [],
   "source": [
    "input_data = dataset_reduced_LDA.iloc[:,:-1].values\n",
    "label_data = dataset_reduced_LDA.iloc[:,-1].values"
   ]
  },
  {
   "cell_type": "code",
   "execution_count": 61,
   "id": "01657781",
   "metadata": {},
   "outputs": [],
   "source": [
    "k=9\n",
    "\n",
    "error_average = []\n",
    "score_average = []\n",
    "\n",
    "def get_score(model, X_train, X_test, y_train, y_test):\n",
    "    model.fit(X_train, y_train)\n",
    "    return model.score(X_test, y_test)\n",
    "\n",
    "for k in [3,5,7]:\n",
    "    folds = StratifiedKFold(n_splits=k, shuffle = True, random_state = 100)\n",
    "    \n",
    "    scores = []\n",
    "    error = []\n",
    "  \n",
    "    knn = KNeighborsClassifier(n_neighbors=k)\n",
    "\n",
    "    for train_index, test_index in folds.split(input_data,label_data):\n",
    "        X_train, X_test, y_train, y_test = input_data[train_index], input_data[test_index], label_data[train_index], label_data[test_index]\n",
    "\n",
    "        scores.append(get_score(knn, X_train, X_test, y_train, y_test))\n",
    "\n",
    "        preds = knn.predict(X_test)\n",
    "        squared_error = np.power(y_test - preds,2)\n",
    "        error.append(np.mean(squared_error))\n",
    "            \n",
    "    error_average.append(np.mean(error))\n",
    "    score_average.append(round(np.mean(scores),4))"
   ]
  },
  {
   "cell_type": "code",
   "execution_count": 62,
   "id": "d89f63d0",
   "metadata": {},
   "outputs": [
    {
     "data": {
      "text/plain": [
       "[1.0, 1.0, 1.0]"
      ]
     },
     "execution_count": 62,
     "metadata": {},
     "output_type": "execute_result"
    }
   ],
   "source": [
    "# Scores with k = [3,5,7]\n",
    "score_average"
   ]
  }
 ],
 "metadata": {
  "kernelspec": {
   "display_name": "Python 3",
   "language": "python",
   "name": "python3"
  },
  "language_info": {
   "codemirror_mode": {
    "name": "ipython",
    "version": 3
   },
   "file_extension": ".py",
   "mimetype": "text/x-python",
   "name": "python",
   "nbconvert_exporter": "python",
   "pygments_lexer": "ipython3",
   "version": "3.8.2"
  }
 },
 "nbformat": 4,
 "nbformat_minor": 5
}
