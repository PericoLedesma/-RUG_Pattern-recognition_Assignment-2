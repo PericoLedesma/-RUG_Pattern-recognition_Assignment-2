{
 "cells": [
  {
   "cell_type": "markdown",
   "id": "84ea3cac",
   "metadata": {},
   "source": [
    "# Import Libraries"
   ]
  },
  {
   "cell_type": "code",
   "execution_count": 166,
   "id": "6baade51",
   "metadata": {},
   "outputs": [],
   "source": [
    "import numpy as np\n",
    "import pandas as pd\n",
    "import matplotlib.pyplot as plt\n",
    "import seaborn as sns\n",
    "\n",
    "### From sklearn - Preprocesing \n",
    "\n",
    "from sklearn import preprocessing\n",
    "from sklearn.preprocessing import StandardScaler\n",
    "\n",
    "# Dimension reduction \n",
    "from sklearn.decomposition import PCA\n",
    "from sklearn.decomposition import TruncatedSVD\n",
    "\n",
    "# Clustering \n",
    "from sklearn.manifold import TSNE\n",
    "\n",
    "# K-fold\n",
    "from sklearn.model_selection import StratifiedKFold\n",
    "from sklearn.model_selection import KFold, cross_val_score, GridSearchCV\n",
    "\n",
    "# From sklearn - Model creation\n",
    "\n",
    "from sklearn.tree import DecisionTreeClassifier \n",
    "from sklearn.model_selection import train_test_split \n",
    "from sklearn.ensemble import RandomForestClassifier\n",
    "from sklearn.neighbors import KNeighborsClassifier\n",
    "from sklearn.linear_model import LogisticRegression\n",
    "\n",
    "from sklearn.metrics import multilabel_confusion_matrix\n",
    "\n",
    "from sklearn import metrics \n",
    "from sklearn.discriminant_analysis import LinearDiscriminantAnalysis"
   ]
  },
  {
   "cell_type": "markdown",
   "id": "98a8d2ae",
   "metadata": {},
   "source": [
    "-----\n",
    "# Reading files and merging features with labels"
   ]
  },
  {
   "cell_type": "code",
   "execution_count": 167,
   "id": "a0bac7af",
   "metadata": {},
   "outputs": [],
   "source": [
    "#dataset = pd.read_csv(\"Genes\\data.csv\")\n",
    "dataset = pd.read_csv('/Users/pedrorodriguezdeledesmajimenez/1_Coding/Datasets/RUG_Pattern-recognition_Assignment-2/Task 1/Genres/data.csv')\n",
    "\n",
    "#labels = pd.read_csv(\"Genes\\labels.csv\")\n",
    "dataset_labels =pd.read_csv('/Users/pedrorodriguezdeledesmajimenez/1_Coding/Datasets/RUG_Pattern-recognition_Assignment-2/Task 1/Genres/labels.csv')"
   ]
  },
  {
   "cell_type": "code",
   "execution_count": 168,
   "id": "4c238d5a",
   "metadata": {},
   "outputs": [],
   "source": [
    "# Merging both datasets and removing first column\n",
    "\n",
    "dataset = pd.merge(dataset, dataset_labels, on='Unnamed: 0').drop(\"Unnamed: 0\", axis=1)"
   ]
  },
  {
   "cell_type": "code",
   "execution_count": 169,
   "id": "624784db",
   "metadata": {},
   "outputs": [
    {
     "name": "stdout",
     "output_type": "stream",
     "text": [
      "Dataset consists of 801 input sample vectors, each vector has 20532 gene features.\n",
      "Also the availbale classes are 5. The possible choises are PRAD, LUAD, BRCA, KIRC, COAD.\n",
      "As we can see, we have class imbalance.\n",
      "\n",
      "BRCA    300\n",
      "KIRC    146\n",
      "LUAD    141\n",
      "PRAD    136\n",
      "COAD     78\n"
     ]
    }
   ],
   "source": [
    "print(f'Dataset consists of {dataset.shape[0]} input sample vectors, each vector has {dataset.shape[1]} '\\\n",
    "      f'gene features.\\nAlso the availbale classes are {len(dataset[\"Class\"].unique())}.'\\\n",
    "      f' The possible choises are {\", \".join(val for val in dataset.Class.unique())}.')\n",
    "class_counts = dataset.Class.value_counts()\n",
    "print(f'As we can see, we have class imbalance.\\n\\n{class_counts.to_string()}')"
   ]
  },
  {
   "cell_type": "markdown",
   "id": "b3c7f917",
   "metadata": {},
   "source": [
    "----\n",
    "# Preprocesing data"
   ]
  },
  {
   "cell_type": "markdown",
   "id": "177a57ba",
   "metadata": {},
   "source": [
    "###  1. Encoding labels"
   ]
  },
  {
   "cell_type": "code",
   "execution_count": 170,
   "id": "08ac19fd",
   "metadata": {},
   "outputs": [],
   "source": [
    "# Encode the labels and updaate values\n",
    "\n",
    "le = preprocessing.LabelEncoder()\n",
    "\n",
    "dataset[\"Class\"] = le.fit_transform(dataset_labels.drop(\"Unnamed: 0\", axis=1).values.ravel())"
   ]
  },
  {
   "cell_type": "code",
   "execution_count": 171,
   "id": "aa5f0414",
   "metadata": {},
   "outputs": [
    {
     "data": {
      "text/plain": [
       "{'BRCA': 0, 'COAD': 1, 'KIRC': 2, 'LUAD': 3, 'PRAD': 4}"
      ]
     },
     "execution_count": 171,
     "metadata": {},
     "output_type": "execute_result"
    }
   ],
   "source": [
    "# Let´s store all the labels\n",
    "\n",
    "keys = le.classes_\n",
    "\n",
    "# And now store labels with their encoded value \n",
    "\n",
    "values = le.transform(le.classes_)\n",
    "dictionary = dict(zip(keys, values))\n",
    "dictionary"
   ]
  },
  {
   "cell_type": "code",
   "execution_count": 172,
   "id": "a55bf588",
   "metadata": {},
   "outputs": [
    {
     "data": {
      "text/plain": [
       "0    300\n",
       "2    146\n",
       "3    141\n",
       "4    136\n",
       "1     78\n",
       "Name: Class, dtype: int64"
      ]
     },
     "execution_count": 172,
     "metadata": {},
     "output_type": "execute_result"
    }
   ],
   "source": [
    "dataset.Class.value_counts()"
   ]
  },
  {
   "cell_type": "markdown",
   "id": "d5c5366b",
   "metadata": {},
   "source": [
    "#### Some information before normalizing"
   ]
  },
  {
   "cell_type": "code",
   "execution_count": 173,
   "id": "791ca4b5",
   "metadata": {},
   "outputs": [
    {
     "data": {
      "text/html": [
       "<div>\n",
       "<style scoped>\n",
       "    .dataframe tbody tr th:only-of-type {\n",
       "        vertical-align: middle;\n",
       "    }\n",
       "\n",
       "    .dataframe tbody tr th {\n",
       "        vertical-align: top;\n",
       "    }\n",
       "\n",
       "    .dataframe thead th {\n",
       "        text-align: right;\n",
       "    }\n",
       "</style>\n",
       "<table border=\"1\" class=\"dataframe\">\n",
       "  <thead>\n",
       "    <tr style=\"text-align: right;\">\n",
       "      <th></th>\n",
       "      <th>mean</th>\n",
       "      <th>Std.Dev</th>\n",
       "      <th>Var</th>\n",
       "    </tr>\n",
       "  </thead>\n",
       "  <tbody>\n",
       "    <tr>\n",
       "      <th>gene_9176</th>\n",
       "      <td>3.946748</td>\n",
       "      <td>6.690579</td>\n",
       "      <td>44.763849</td>\n",
       "    </tr>\n",
       "    <tr>\n",
       "      <th>gene_9175</th>\n",
       "      <td>3.771632</td>\n",
       "      <td>6.030086</td>\n",
       "      <td>36.361940</td>\n",
       "    </tr>\n",
       "    <tr>\n",
       "      <th>gene_15898</th>\n",
       "      <td>3.621030</td>\n",
       "      <td>5.874003</td>\n",
       "      <td>34.503915</td>\n",
       "    </tr>\n",
       "    <tr>\n",
       "      <th>gene_15301</th>\n",
       "      <td>5.506275</td>\n",
       "      <td>5.784356</td>\n",
       "      <td>33.458776</td>\n",
       "    </tr>\n",
       "    <tr>\n",
       "      <th>gene_15589</th>\n",
       "      <td>3.849006</td>\n",
       "      <td>5.596950</td>\n",
       "      <td>31.325845</td>\n",
       "    </tr>\n",
       "    <tr>\n",
       "      <th>...</th>\n",
       "      <td>...</td>\n",
       "      <td>...</td>\n",
       "      <td>...</td>\n",
       "    </tr>\n",
       "    <tr>\n",
       "      <th>gene_18915</th>\n",
       "      <td>0.000000</td>\n",
       "      <td>0.000000</td>\n",
       "      <td>0.000000</td>\n",
       "    </tr>\n",
       "    <tr>\n",
       "      <th>gene_19450</th>\n",
       "      <td>0.000000</td>\n",
       "      <td>0.000000</td>\n",
       "      <td>0.000000</td>\n",
       "    </tr>\n",
       "    <tr>\n",
       "      <th>gene_19451</th>\n",
       "      <td>0.000000</td>\n",
       "      <td>0.000000</td>\n",
       "      <td>0.000000</td>\n",
       "    </tr>\n",
       "    <tr>\n",
       "      <th>gene_19452</th>\n",
       "      <td>0.000000</td>\n",
       "      <td>0.000000</td>\n",
       "      <td>0.000000</td>\n",
       "    </tr>\n",
       "    <tr>\n",
       "      <th>gene_19671</th>\n",
       "      <td>0.000000</td>\n",
       "      <td>0.000000</td>\n",
       "      <td>0.000000</td>\n",
       "    </tr>\n",
       "  </tbody>\n",
       "</table>\n",
       "<p>20532 rows × 3 columns</p>\n",
       "</div>"
      ],
      "text/plain": [
       "                mean   Std.Dev        Var\n",
       "gene_9176   3.946748  6.690579  44.763849\n",
       "gene_9175   3.771632  6.030086  36.361940\n",
       "gene_15898  3.621030  5.874003  34.503915\n",
       "gene_15301  5.506275  5.784356  33.458776\n",
       "gene_15589  3.849006  5.596950  31.325845\n",
       "...              ...       ...        ...\n",
       "gene_18915  0.000000  0.000000   0.000000\n",
       "gene_19450  0.000000  0.000000   0.000000\n",
       "gene_19451  0.000000  0.000000   0.000000\n",
       "gene_19452  0.000000  0.000000   0.000000\n",
       "gene_19671  0.000000  0.000000   0.000000\n",
       "\n",
       "[20532 rows x 3 columns]"
      ]
     },
     "execution_count": 173,
     "metadata": {},
     "output_type": "execute_result"
    }
   ],
   "source": [
    "stats=pd.DataFrame()\n",
    "stats[\"mean\"]=dataset.mean()\n",
    "stats[\"Std.Dev\"]=dataset.std()\n",
    "stats[\"Var\"]=dataset.var()\n",
    "stats.sort_values(by=['Var','mean'],ascending=False)"
   ]
  },
  {
   "cell_type": "markdown",
   "id": "90f6f281",
   "metadata": {},
   "source": [
    "### 2.1 Normalization: min_max_scaler\n",
    "\n"
   ]
  },
  {
   "cell_type": "code",
   "execution_count": 174,
   "id": "8b38a0be",
   "metadata": {},
   "outputs": [],
   "source": [
    "# Lets store the dataset values without the columns titles\n",
    "x = dataset.iloc[:, :-1].values "
   ]
  },
  {
   "cell_type": "code",
   "execution_count": 175,
   "id": "02904444",
   "metadata": {},
   "outputs": [],
   "source": [
    "# Let´s create an instance with the normalice function\n",
    "min_max_scaler = preprocessing.MinMaxScaler()\n",
    "\n",
    "# Let´s fit the normilice function\n",
    "x_scaled = min_max_scaler.fit_transform(x)\n",
    "\n",
    "# Let´s put in the dataframe the values scaled\n",
    "dataset.iloc[:, :-1] = pd.DataFrame(x_scaled)"
   ]
  },
  {
   "cell_type": "code",
   "execution_count": 176,
   "id": "0e321c9d",
   "metadata": {},
   "outputs": [
    {
     "data": {
      "text/html": [
       "<div>\n",
       "<style scoped>\n",
       "    .dataframe tbody tr th:only-of-type {\n",
       "        vertical-align: middle;\n",
       "    }\n",
       "\n",
       "    .dataframe tbody tr th {\n",
       "        vertical-align: top;\n",
       "    }\n",
       "\n",
       "    .dataframe thead th {\n",
       "        text-align: right;\n",
       "    }\n",
       "</style>\n",
       "<table border=\"1\" class=\"dataframe\">\n",
       "  <thead>\n",
       "    <tr style=\"text-align: right;\">\n",
       "      <th></th>\n",
       "      <th>mean</th>\n",
       "      <th>Std.Dev</th>\n",
       "      <th>Var</th>\n",
       "    </tr>\n",
       "  </thead>\n",
       "  <tbody>\n",
       "    <tr>\n",
       "      <th>Class</th>\n",
       "      <td>1.669164</td>\n",
       "      <td>1.531065</td>\n",
       "      <td>2.344160</td>\n",
       "    </tr>\n",
       "    <tr>\n",
       "      <th>gene_4773</th>\n",
       "      <td>0.383887</td>\n",
       "      <td>0.411448</td>\n",
       "      <td>0.169290</td>\n",
       "    </tr>\n",
       "    <tr>\n",
       "      <th>gene_8891</th>\n",
       "      <td>0.364385</td>\n",
       "      <td>0.398958</td>\n",
       "      <td>0.159168</td>\n",
       "    </tr>\n",
       "    <tr>\n",
       "      <th>gene_19913</th>\n",
       "      <td>0.376816</td>\n",
       "      <td>0.395887</td>\n",
       "      <td>0.156726</td>\n",
       "    </tr>\n",
       "    <tr>\n",
       "      <th>gene_19313</th>\n",
       "      <td>0.348911</td>\n",
       "      <td>0.390790</td>\n",
       "      <td>0.152717</td>\n",
       "    </tr>\n",
       "    <tr>\n",
       "      <th>...</th>\n",
       "      <td>...</td>\n",
       "      <td>...</td>\n",
       "      <td>...</td>\n",
       "    </tr>\n",
       "    <tr>\n",
       "      <th>gene_18915</th>\n",
       "      <td>0.000000</td>\n",
       "      <td>0.000000</td>\n",
       "      <td>0.000000</td>\n",
       "    </tr>\n",
       "    <tr>\n",
       "      <th>gene_19450</th>\n",
       "      <td>0.000000</td>\n",
       "      <td>0.000000</td>\n",
       "      <td>0.000000</td>\n",
       "    </tr>\n",
       "    <tr>\n",
       "      <th>gene_19451</th>\n",
       "      <td>0.000000</td>\n",
       "      <td>0.000000</td>\n",
       "      <td>0.000000</td>\n",
       "    </tr>\n",
       "    <tr>\n",
       "      <th>gene_19452</th>\n",
       "      <td>0.000000</td>\n",
       "      <td>0.000000</td>\n",
       "      <td>0.000000</td>\n",
       "    </tr>\n",
       "    <tr>\n",
       "      <th>gene_19671</th>\n",
       "      <td>0.000000</td>\n",
       "      <td>0.000000</td>\n",
       "      <td>0.000000</td>\n",
       "    </tr>\n",
       "  </tbody>\n",
       "</table>\n",
       "<p>20532 rows × 3 columns</p>\n",
       "</div>"
      ],
      "text/plain": [
       "                mean   Std.Dev       Var\n",
       "Class       1.669164  1.531065  2.344160\n",
       "gene_4773   0.383887  0.411448  0.169290\n",
       "gene_8891   0.364385  0.398958  0.159168\n",
       "gene_19913  0.376816  0.395887  0.156726\n",
       "gene_19313  0.348911  0.390790  0.152717\n",
       "...              ...       ...       ...\n",
       "gene_18915  0.000000  0.000000  0.000000\n",
       "gene_19450  0.000000  0.000000  0.000000\n",
       "gene_19451  0.000000  0.000000  0.000000\n",
       "gene_19452  0.000000  0.000000  0.000000\n",
       "gene_19671  0.000000  0.000000  0.000000\n",
       "\n",
       "[20532 rows x 3 columns]"
      ]
     },
     "execution_count": 176,
     "metadata": {},
     "output_type": "execute_result"
    }
   ],
   "source": [
    "stats=pd.DataFrame()\n",
    "stats[\"mean\"]=dataset.mean()\n",
    "stats[\"Std.Dev\"]=dataset.std()\n",
    "stats[\"Var\"]=dataset.var()\n",
    "stats.sort_values(by=['Var','mean'],ascending=False)"
   ]
  },
  {
   "cell_type": "markdown",
   "id": "b5b294e8",
   "metadata": {},
   "source": [
    "### 2.1 Normalizing: StandardScaler \n",
    "Just informative, we are using here the minmax"
   ]
  },
  {
   "cell_type": "code",
   "execution_count": 177,
   "id": "db3eb8e1",
   "metadata": {},
   "outputs": [],
   "source": [
    "scaler = StandardScaler()\n",
    "x_scaled_2 = scaler.fit_transform(x)"
   ]
  },
  {
   "cell_type": "code",
   "execution_count": 178,
   "id": "ff0bd0c7",
   "metadata": {},
   "outputs": [],
   "source": [
    "dataset2 = dataset\n",
    "\n",
    "# Let´s put in the dataframe the values scaled\n",
    "dataset2.iloc[:, :-1] = pd.DataFrame(x_scaled_2)"
   ]
  },
  {
   "cell_type": "code",
   "execution_count": 179,
   "id": "6688c75f",
   "metadata": {},
   "outputs": [
    {
     "data": {
      "text/html": [
       "<div>\n",
       "<style scoped>\n",
       "    .dataframe tbody tr th:only-of-type {\n",
       "        vertical-align: middle;\n",
       "    }\n",
       "\n",
       "    .dataframe tbody tr th {\n",
       "        vertical-align: top;\n",
       "    }\n",
       "\n",
       "    .dataframe thead th {\n",
       "        text-align: right;\n",
       "    }\n",
       "</style>\n",
       "<table border=\"1\" class=\"dataframe\">\n",
       "  <thead>\n",
       "    <tr style=\"text-align: right;\">\n",
       "      <th></th>\n",
       "      <th>mean</th>\n",
       "      <th>Std.Dev</th>\n",
       "      <th>Var</th>\n",
       "    </tr>\n",
       "  </thead>\n",
       "  <tbody>\n",
       "    <tr>\n",
       "      <th>Class</th>\n",
       "      <td>1.669164e+00</td>\n",
       "      <td>1.531065</td>\n",
       "      <td>2.34416</td>\n",
       "    </tr>\n",
       "    <tr>\n",
       "      <th>gene_12639</th>\n",
       "      <td>3.934985e-16</td>\n",
       "      <td>1.000625</td>\n",
       "      <td>1.00125</td>\n",
       "    </tr>\n",
       "    <tr>\n",
       "      <th>gene_12825</th>\n",
       "      <td>-5.052312e-16</td>\n",
       "      <td>1.000625</td>\n",
       "      <td>1.00125</td>\n",
       "    </tr>\n",
       "    <tr>\n",
       "      <th>gene_12363</th>\n",
       "      <td>-2.617202e-16</td>\n",
       "      <td>1.000625</td>\n",
       "      <td>1.00125</td>\n",
       "    </tr>\n",
       "    <tr>\n",
       "      <th>gene_17071</th>\n",
       "      <td>-1.881904e-16</td>\n",
       "      <td>1.000625</td>\n",
       "      <td>1.00125</td>\n",
       "    </tr>\n",
       "    <tr>\n",
       "      <th>...</th>\n",
       "      <td>...</td>\n",
       "      <td>...</td>\n",
       "      <td>...</td>\n",
       "    </tr>\n",
       "    <tr>\n",
       "      <th>gene_18915</th>\n",
       "      <td>0.000000e+00</td>\n",
       "      <td>0.000000</td>\n",
       "      <td>0.00000</td>\n",
       "    </tr>\n",
       "    <tr>\n",
       "      <th>gene_19450</th>\n",
       "      <td>0.000000e+00</td>\n",
       "      <td>0.000000</td>\n",
       "      <td>0.00000</td>\n",
       "    </tr>\n",
       "    <tr>\n",
       "      <th>gene_19451</th>\n",
       "      <td>0.000000e+00</td>\n",
       "      <td>0.000000</td>\n",
       "      <td>0.00000</td>\n",
       "    </tr>\n",
       "    <tr>\n",
       "      <th>gene_19452</th>\n",
       "      <td>0.000000e+00</td>\n",
       "      <td>0.000000</td>\n",
       "      <td>0.00000</td>\n",
       "    </tr>\n",
       "    <tr>\n",
       "      <th>gene_19671</th>\n",
       "      <td>0.000000e+00</td>\n",
       "      <td>0.000000</td>\n",
       "      <td>0.00000</td>\n",
       "    </tr>\n",
       "  </tbody>\n",
       "</table>\n",
       "<p>20532 rows × 3 columns</p>\n",
       "</div>"
      ],
      "text/plain": [
       "                    mean   Std.Dev      Var\n",
       "Class       1.669164e+00  1.531065  2.34416\n",
       "gene_12639  3.934985e-16  1.000625  1.00125\n",
       "gene_12825 -5.052312e-16  1.000625  1.00125\n",
       "gene_12363 -2.617202e-16  1.000625  1.00125\n",
       "gene_17071 -1.881904e-16  1.000625  1.00125\n",
       "...                  ...       ...      ...\n",
       "gene_18915  0.000000e+00  0.000000  0.00000\n",
       "gene_19450  0.000000e+00  0.000000  0.00000\n",
       "gene_19451  0.000000e+00  0.000000  0.00000\n",
       "gene_19452  0.000000e+00  0.000000  0.00000\n",
       "gene_19671  0.000000e+00  0.000000  0.00000\n",
       "\n",
       "[20532 rows x 3 columns]"
      ]
     },
     "execution_count": 179,
     "metadata": {},
     "output_type": "execute_result"
    }
   ],
   "source": [
    "stats=pd.DataFrame()\n",
    "stats[\"mean\"]=dataset2.mean()\n",
    "stats[\"Std.Dev\"]=dataset2.std()\n",
    "stats[\"Var\"]=dataset2.var()\n",
    "stats.sort_values(by=['Var','mean'],ascending=False)"
   ]
  },
  {
   "cell_type": "markdown",
   "id": "c91f557b",
   "metadata": {},
   "source": [
    "### Search for outliers in dataset"
   ]
  },
  {
   "cell_type": "code",
   "execution_count": 180,
   "id": "dc2c4bab",
   "metadata": {},
   "outputs": [
    {
     "name": "stdout",
     "output_type": "stream",
     "text": [
      "Data size after removing outliers is: (789, 20532).\n"
     ]
    }
   ],
   "source": [
    "from sklearn.neighbors import LocalOutlierFactor\n",
    "\n",
    "lof = LocalOutlierFactor()\n",
    "# fit_predict return a numpy array of 1 if not an outlier and -1 if an outlier\n",
    "outliers = lof.fit_predict(dataset.iloc[:,:-1])\n",
    "\n",
    "# select all rows that are not outliers\n",
    "mask = outliers != -1\n",
    "dataset.shape\n",
    "\n",
    "#unpack the mask to keep only non-outlier examples\n",
    "dataset = dataset[[*mask]]\n",
    "\n",
    "print(f'Data size after removing outliers is: {dataset.shape}.')"
   ]
  },
  {
   "cell_type": "code",
   "execution_count": 181,
   "id": "c2903e89",
   "metadata": {},
   "outputs": [
    {
     "name": "stdout",
     "output_type": "stream",
     "text": [
      "Data size after removing outliers is: (789, 20532).\n"
     ]
    }
   ],
   "source": [
    "### Search for outliers in dataset\n",
    "\n",
    "from sklearn.neighbors import LocalOutlierFactor\n",
    "\n",
    "lof = LocalOutlierFactor()\n",
    "# fit_predict return a numpy array of 1 if not an outlier and -1 if an outlier\n",
    "outliers = lof.fit_predict(dataset.iloc[:,:-1])\n",
    "\n",
    "# select all rows that are not outliers\n",
    "mask = outliers != -1\n",
    "dataset.shape\n",
    "\n",
    "#unpack the mask to keep only non-outlier examples\n",
    "dataset = dataset[[*mask]]\n",
    "\n",
    "print(f'Data size after removing outliers is: {dataset.shape}.')"
   ]
  },
  {
   "cell_type": "markdown",
   "id": "9c18b02f",
   "metadata": {},
   "source": [
    "#### Input for the reduction algorithms"
   ]
  },
  {
   "cell_type": "code",
   "execution_count": 182,
   "id": "789cff8f",
   "metadata": {},
   "outputs": [
    {
     "data": {
      "text/plain": [
       "(789, 20532)"
      ]
     },
     "execution_count": 182,
     "metadata": {},
     "output_type": "execute_result"
    }
   ],
   "source": [
    "dataset.shape"
   ]
  },
  {
   "cell_type": "markdown",
   "id": "a396c428",
   "metadata": {},
   "source": [
    "-----------\n",
    "## Dimensionality reduction:  1.Principal Component Analysis\n",
    "\n",
    "Here we make an analysis of the method \n"
   ]
  },
  {
   "cell_type": "code",
   "execution_count": 183,
   "id": "57a8586b",
   "metadata": {},
   "outputs": [],
   "source": [
    "# Create PCA object to keep 95% of variance\n",
    "\n",
    "pca = PCA(0.70)\n",
    "\n",
    "# Apply PCA in input vector\n",
    "pca.fit(dataset.iloc[:,:-1]) \n",
    "\n",
    "# Save results in an np.array\n",
    "reduced = pca.transform(dataset.iloc[:,:-1])\n",
    "\n",
    "# Save labels in an np.array\n",
    "x = dataset['Class'].to_numpy()\n",
    "\n",
    "# Create final dataframe with reduced dimensions\n",
    "dataset_reduced_PCA = pd.DataFrame(np.column_stack((reduced, x)))"
   ]
  },
  {
   "cell_type": "markdown",
   "id": "0d296cc9",
   "metadata": {},
   "source": [
    "Number of features in the original dataset: 20532 <br>\n",
    "After applying PCA to the dataset, we end up with:"
   ]
  },
  {
   "cell_type": "code",
   "execution_count": 184,
   "id": "58a0dfd5",
   "metadata": {},
   "outputs": [
    {
     "data": {
      "text/plain": [
       "85"
      ]
     },
     "execution_count": 184,
     "metadata": {},
     "output_type": "execute_result"
    }
   ],
   "source": [
    "dataset_reduced_PCA.shape[1]"
   ]
  },
  {
   "cell_type": "code",
   "execution_count": 185,
   "id": "3689c5e5",
   "metadata": {},
   "outputs": [],
   "source": [
    "# We are going to rename the columns name with the PCA components name\n",
    "\n",
    "for count, column_name in enumerate(dataset_reduced_PCA.columns):\n",
    "    \n",
    "    if count < len(dataset_reduced_PCA.columns)-1:\n",
    "        \n",
    "        dataset_reduced_PCA.rename(columns={column_name : f\"PCA{count+1}\"}, inplace=True)\n",
    "    else:\n",
    "        dataset_reduced_PCA.rename(columns={column_name : \"Label\"}, inplace=True)"
   ]
  },
  {
   "cell_type": "markdown",
   "id": "966a360e",
   "metadata": {},
   "source": [
    "The dataset after applying the PCA analysis has the following form:"
   ]
  },
  {
   "cell_type": "code",
   "execution_count": 186,
   "id": "58ecf304",
   "metadata": {
    "scrolled": true
   },
   "outputs": [
    {
     "data": {
      "text/html": [
       "<div>\n",
       "<style scoped>\n",
       "    .dataframe tbody tr th:only-of-type {\n",
       "        vertical-align: middle;\n",
       "    }\n",
       "\n",
       "    .dataframe tbody tr th {\n",
       "        vertical-align: top;\n",
       "    }\n",
       "\n",
       "    .dataframe thead th {\n",
       "        text-align: right;\n",
       "    }\n",
       "</style>\n",
       "<table border=\"1\" class=\"dataframe\">\n",
       "  <thead>\n",
       "    <tr style=\"text-align: right;\">\n",
       "      <th></th>\n",
       "      <th>PCA1</th>\n",
       "      <th>PCA2</th>\n",
       "      <th>PCA3</th>\n",
       "      <th>PCA4</th>\n",
       "      <th>PCA5</th>\n",
       "      <th>PCA6</th>\n",
       "      <th>PCA7</th>\n",
       "      <th>PCA8</th>\n",
       "      <th>PCA9</th>\n",
       "      <th>PCA10</th>\n",
       "      <th>...</th>\n",
       "      <th>PCA76</th>\n",
       "      <th>PCA77</th>\n",
       "      <th>PCA78</th>\n",
       "      <th>PCA79</th>\n",
       "      <th>PCA80</th>\n",
       "      <th>PCA81</th>\n",
       "      <th>PCA82</th>\n",
       "      <th>PCA83</th>\n",
       "      <th>PCA84</th>\n",
       "      <th>Label</th>\n",
       "    </tr>\n",
       "  </thead>\n",
       "  <tbody>\n",
       "    <tr>\n",
       "      <th>0</th>\n",
       "      <td>-54.818480</td>\n",
       "      <td>95.124822</td>\n",
       "      <td>76.970790</td>\n",
       "      <td>16.206373</td>\n",
       "      <td>4.719689</td>\n",
       "      <td>34.879643</td>\n",
       "      <td>-8.997384</td>\n",
       "      <td>18.742843</td>\n",
       "      <td>-2.536247</td>\n",
       "      <td>-3.190828</td>\n",
       "      <td>...</td>\n",
       "      <td>-2.757677</td>\n",
       "      <td>0.225707</td>\n",
       "      <td>1.182011</td>\n",
       "      <td>-14.152341</td>\n",
       "      <td>2.189806</td>\n",
       "      <td>-6.464055</td>\n",
       "      <td>-4.839991</td>\n",
       "      <td>-1.382459</td>\n",
       "      <td>2.813625</td>\n",
       "      <td>4.0</td>\n",
       "    </tr>\n",
       "    <tr>\n",
       "      <th>1</th>\n",
       "      <td>-17.451718</td>\n",
       "      <td>2.223841</td>\n",
       "      <td>-63.687590</td>\n",
       "      <td>1.873320</td>\n",
       "      <td>-27.428931</td>\n",
       "      <td>24.857176</td>\n",
       "      <td>-15.842913</td>\n",
       "      <td>-18.803877</td>\n",
       "      <td>-19.204548</td>\n",
       "      <td>29.927240</td>\n",
       "      <td>...</td>\n",
       "      <td>-4.929752</td>\n",
       "      <td>-0.329945</td>\n",
       "      <td>1.606327</td>\n",
       "      <td>0.790154</td>\n",
       "      <td>7.161703</td>\n",
       "      <td>-12.485720</td>\n",
       "      <td>5.231071</td>\n",
       "      <td>-8.652529</td>\n",
       "      <td>-0.674634</td>\n",
       "      <td>3.0</td>\n",
       "    </tr>\n",
       "    <tr>\n",
       "      <th>2</th>\n",
       "      <td>-48.329146</td>\n",
       "      <td>-8.460819</td>\n",
       "      <td>62.207701</td>\n",
       "      <td>-36.465125</td>\n",
       "      <td>0.303112</td>\n",
       "      <td>22.766088</td>\n",
       "      <td>-5.742741</td>\n",
       "      <td>-23.561728</td>\n",
       "      <td>-14.207594</td>\n",
       "      <td>13.440796</td>\n",
       "      <td>...</td>\n",
       "      <td>-6.511780</td>\n",
       "      <td>17.450247</td>\n",
       "      <td>-11.832656</td>\n",
       "      <td>0.886160</td>\n",
       "      <td>-2.415794</td>\n",
       "      <td>-0.994480</td>\n",
       "      <td>-4.570075</td>\n",
       "      <td>-3.179509</td>\n",
       "      <td>1.365011</td>\n",
       "      <td>4.0</td>\n",
       "    </tr>\n",
       "    <tr>\n",
       "      <th>3</th>\n",
       "      <td>-18.011419</td>\n",
       "      <td>-51.614828</td>\n",
       "      <td>16.196048</td>\n",
       "      <td>17.511847</td>\n",
       "      <td>25.971337</td>\n",
       "      <td>0.123270</td>\n",
       "      <td>-6.471365</td>\n",
       "      <td>11.225088</td>\n",
       "      <td>-5.205367</td>\n",
       "      <td>-29.600967</td>\n",
       "      <td>...</td>\n",
       "      <td>-5.434742</td>\n",
       "      <td>-2.806661</td>\n",
       "      <td>-2.422643</td>\n",
       "      <td>0.092261</td>\n",
       "      <td>-1.425657</td>\n",
       "      <td>-1.672367</td>\n",
       "      <td>1.699883</td>\n",
       "      <td>1.642390</td>\n",
       "      <td>1.720069</td>\n",
       "      <td>0.0</td>\n",
       "    </tr>\n",
       "    <tr>\n",
       "      <th>4</th>\n",
       "      <td>-17.577406</td>\n",
       "      <td>23.489390</td>\n",
       "      <td>63.812306</td>\n",
       "      <td>-13.899357</td>\n",
       "      <td>-4.205525</td>\n",
       "      <td>22.576007</td>\n",
       "      <td>17.918722</td>\n",
       "      <td>14.155205</td>\n",
       "      <td>5.676302</td>\n",
       "      <td>12.334895</td>\n",
       "      <td>...</td>\n",
       "      <td>-3.880848</td>\n",
       "      <td>-2.733022</td>\n",
       "      <td>2.877539</td>\n",
       "      <td>-0.166180</td>\n",
       "      <td>8.912946</td>\n",
       "      <td>-2.728449</td>\n",
       "      <td>-2.393221</td>\n",
       "      <td>8.717201</td>\n",
       "      <td>3.505296</td>\n",
       "      <td>4.0</td>\n",
       "    </tr>\n",
       "  </tbody>\n",
       "</table>\n",
       "<p>5 rows × 85 columns</p>\n",
       "</div>"
      ],
      "text/plain": [
       "        PCA1       PCA2       PCA3       PCA4       PCA5       PCA6  \\\n",
       "0 -54.818480  95.124822  76.970790  16.206373   4.719689  34.879643   \n",
       "1 -17.451718   2.223841 -63.687590   1.873320 -27.428931  24.857176   \n",
       "2 -48.329146  -8.460819  62.207701 -36.465125   0.303112  22.766088   \n",
       "3 -18.011419 -51.614828  16.196048  17.511847  25.971337   0.123270   \n",
       "4 -17.577406  23.489390  63.812306 -13.899357  -4.205525  22.576007   \n",
       "\n",
       "        PCA7       PCA8       PCA9      PCA10  ...     PCA76      PCA77  \\\n",
       "0  -8.997384  18.742843  -2.536247  -3.190828  ... -2.757677   0.225707   \n",
       "1 -15.842913 -18.803877 -19.204548  29.927240  ... -4.929752  -0.329945   \n",
       "2  -5.742741 -23.561728 -14.207594  13.440796  ... -6.511780  17.450247   \n",
       "3  -6.471365  11.225088  -5.205367 -29.600967  ... -5.434742  -2.806661   \n",
       "4  17.918722  14.155205   5.676302  12.334895  ... -3.880848  -2.733022   \n",
       "\n",
       "       PCA78      PCA79     PCA80      PCA81     PCA82     PCA83     PCA84  \\\n",
       "0   1.182011 -14.152341  2.189806  -6.464055 -4.839991 -1.382459  2.813625   \n",
       "1   1.606327   0.790154  7.161703 -12.485720  5.231071 -8.652529 -0.674634   \n",
       "2 -11.832656   0.886160 -2.415794  -0.994480 -4.570075 -3.179509  1.365011   \n",
       "3  -2.422643   0.092261 -1.425657  -1.672367  1.699883  1.642390  1.720069   \n",
       "4   2.877539  -0.166180  8.912946  -2.728449 -2.393221  8.717201  3.505296   \n",
       "\n",
       "   Label  \n",
       "0    4.0  \n",
       "1    3.0  \n",
       "2    4.0  \n",
       "3    0.0  \n",
       "4    4.0  \n",
       "\n",
       "[5 rows x 85 columns]"
      ]
     },
     "execution_count": 186,
     "metadata": {},
     "output_type": "execute_result"
    }
   ],
   "source": [
    "dataset_reduced_PCA.head()"
   ]
  },
  {
   "cell_type": "markdown",
   "id": "c024150c",
   "metadata": {},
   "source": [
    "#### Lets display the explained variance of each PCA component"
   ]
  },
  {
   "cell_type": "code",
   "execution_count": 187,
   "id": "003cc3ef",
   "metadata": {
    "scrolled": false
   },
   "outputs": [
    {
     "data": {
      "text/plain": [
       "(84,)"
      ]
     },
     "execution_count": 187,
     "metadata": {},
     "output_type": "execute_result"
    }
   ],
   "source": [
    "pca.explained_variance_ratio_.shape"
   ]
  },
  {
   "cell_type": "code",
   "execution_count": 188,
   "id": "dbed9416",
   "metadata": {},
   "outputs": [
    {
     "data": {
      "text/plain": [
       "(84,)"
      ]
     },
     "execution_count": 188,
     "metadata": {},
     "output_type": "execute_result"
    }
   ],
   "source": [
    "# To see the percentage of variation thaat each principal components accounts for\n",
    "\n",
    "per_var = np.round(pca.explained_variance_ratio_*100, decimals=1)\n",
    "per_var.shape"
   ]
  },
  {
   "cell_type": "code",
   "execution_count": 189,
   "id": "59e74804",
   "metadata": {
    "scrolled": true
   },
   "outputs": [
    {
     "data": {
      "image/png": "[encoded data removed]",
      "text/plain": [
       "<Figure size 360x360 with 1 Axes>"
      ]
     },
     "metadata": {
      "needs_background": "light"
     },
     "output_type": "display_data"
    }
   ],
   "source": [
    "labels = ['PC' + str(x) for x in range(1, len(per_var)+1)]\n",
    "plt.figure(figsize=(5,5))\n",
    "plt.bar(x=range(1,len(per_var)+1),height=per_var, tick_label=labels)\n",
    "plt.ylabel('Percentage of Explained Variance')\n",
    "plt.xlabel('Principal Component')\n",
    "plt.title('Percentage of explained variance of each PCA ')\n",
    "plt.show()"
   ]
  },
  {
   "cell_type": "code",
   "execution_count": 190,
   "id": "11a6c1a4",
   "metadata": {},
   "outputs": [
    {
     "data": {
      "text/plain": [
       "(84,)"
      ]
     },
     "execution_count": 190,
     "metadata": {},
     "output_type": "execute_result"
    }
   ],
   "source": [
    "# Here we calculate the cumulative sum of the variance so we can plot and see how the variance of the PCA evolute \n",
    "\n",
    "cum_sum_eigenvalues = np.cumsum(pca.explained_variance_ratio_)\n",
    "cum_sum_eigenvalues.shape\n"
   ]
  },
  {
   "cell_type": "code",
   "execution_count": 191,
   "id": "07d4dbc8",
   "metadata": {},
   "outputs": [
    {
     "data": {
      "text/plain": [
       "84"
      ]
     },
     "execution_count": 191,
     "metadata": {},
     "output_type": "execute_result"
    }
   ],
   "source": [
    "length = cum_sum_eigenvalues.shape[0]\n",
    "length"
   ]
  },
  {
   "cell_type": "code",
   "execution_count": 193,
   "id": "6dd0d19a",
   "metadata": {},
   "outputs": [
    {
     "data": {
      "text/plain": [
       "0.7012329497370349"
      ]
     },
     "execution_count": 193,
     "metadata": {},
     "output_type": "execute_result"
    }
   ],
   "source": [
    "# Let´s see the cummulative variance\n",
    "cum_sum_eigenvalues[length-1]"
   ]
  },
  {
   "cell_type": "code",
   "execution_count": 196,
   "id": "0ebd2228",
   "metadata": {},
   "outputs": [
    {
     "data": {
      "image/png": "[encoded data removed]",
      "text/plain": [
       "<Figure size 432x288 with 1 Axes>"
      ]
     },
     "metadata": {
      "needs_background": "light"
     },
     "output_type": "display_data"
    }
   ],
   "source": [
    "# Plot with regards of components\n",
    "\n",
    "#plt.bar(range(0,len(exp_var_pca[:150])), exp_var_pca[:150], alpha=0.5, align='center', label='Individual explained variance')\n",
    "#plt.step(range(0,len(cum_sum_eigenvalues)), cum_sum_eigenvalues, where='mid',label='Cumulative explained variance')\n",
    "plt.plot(range(0,len(cum_sum_eigenvalues)), cum_sum_eigenvalues,label='Cumulative explained variance')\n",
    "plt.ylabel('Explained variance ratio')\n",
    "plt.xlabel('Principal component index')\n",
    "plt.legend(loc='best')\n",
    "plt.tight_layout()\n",
    "plt.savefig(\"Explained_variance_VS_Cumulative_sum.png\")\n",
    "plt.show()"
   ]
  },
  {
   "cell_type": "code",
   "execution_count": 29,
   "id": "8469dcaf",
   "metadata": {},
   "outputs": [
    {
     "data": {
      "text/plain": [
       "(789, 85)"
      ]
     },
     "execution_count": 29,
     "metadata": {},
     "output_type": "execute_result"
    }
   ],
   "source": [
    "#Final dataset after feature extraction and further process\n",
    "\n",
    "dataset_reduced_PCA.shape"
   ]
  },
  {
   "cell_type": "markdown",
   "id": "4d5e600c",
   "metadata": {},
   "source": [
    "-----\n",
    "## Dimensionality reduction:  2.Isomap Embedding\n",
    "\n",
    "Here we make an analysis of the method \n",
    "\n",
    "https://scikit-learn.org/stable/modules/manifold.html#isomap\n",
    "\n",
    "Isomap Embedding is a non-linear dimensionality reduction technique that creates an embedding of the dataset and tries to preserve the relationships in the dataset.\n",
    "\n",
    "Isomap looks for a lower-dimensional embedding which maintains distances between all points. "
   ]
  },
  {
   "cell_type": "code",
   "execution_count": 30,
   "id": "020b6f4f",
   "metadata": {},
   "outputs": [],
   "source": [
    "from sklearn.manifold import Isomap"
   ]
  },
  {
   "cell_type": "code",
   "execution_count": 31,
   "id": "cef1dca9",
   "metadata": {},
   "outputs": [],
   "source": [
    "# Create a ISO object\n",
    "\n",
    "iso = Isomap(n_neighbors=15, n_components=100)"
   ]
  },
  {
   "cell_type": "code",
   "execution_count": 32,
   "id": "104e8bd2",
   "metadata": {},
   "outputs": [
    {
     "data": {
      "text/plain": [
       "Isomap(n_components=100, n_neighbors=15)"
      ]
     },
     "execution_count": 32,
     "metadata": {},
     "output_type": "execute_result"
    }
   ],
   "source": [
    "# Apply ISO in input vector\n",
    "\n",
    "iso.fit(dataset.iloc[:,:-1]) "
   ]
  },
  {
   "cell_type": "code",
   "execution_count": 33,
   "id": "e55a688d",
   "metadata": {},
   "outputs": [
    {
     "data": {
      "text/plain": [
       "(789, 100)"
      ]
     },
     "execution_count": 33,
     "metadata": {},
     "output_type": "execute_result"
    }
   ],
   "source": [
    "# Save results in an np.array\n",
    "\n",
    "reduced_iso = iso.transform(dataset.iloc[:,:-1])\n",
    "reduced_iso.shape"
   ]
  },
  {
   "cell_type": "code",
   "execution_count": 34,
   "id": "5e063e47",
   "metadata": {},
   "outputs": [],
   "source": [
    "# Save labels in an np.array\n",
    "\n",
    "x_iso = dataset['Class'].to_numpy()"
   ]
  },
  {
   "cell_type": "code",
   "execution_count": 35,
   "id": "32b1e45a",
   "metadata": {},
   "outputs": [],
   "source": [
    "# Create final dataframe with reduced dimensions\n",
    "\n",
    "dataset_reduced_ISO = pd.DataFrame(np.column_stack((reduced_iso, x_iso)))"
   ]
  },
  {
   "cell_type": "markdown",
   "id": "cfc6954b",
   "metadata": {},
   "source": [
    "Number of features in the original dataset: 20532 <br>\n",
    "After applying ISO to the dataset, we end up with:"
   ]
  },
  {
   "cell_type": "code",
   "execution_count": 36,
   "id": "c351f1dd",
   "metadata": {},
   "outputs": [
    {
     "data": {
      "text/plain": [
       "101"
      ]
     },
     "execution_count": 36,
     "metadata": {},
     "output_type": "execute_result"
    }
   ],
   "source": [
    "dataset_reduced_ISO.shape[1]"
   ]
  },
  {
   "cell_type": "code",
   "execution_count": 37,
   "id": "2f54fa9b",
   "metadata": {},
   "outputs": [],
   "source": [
    "# We are going to rename the columns name with the PCA components name\n",
    "\n",
    "for count, column_name in enumerate(dataset_reduced_ISO.columns):\n",
    "    \n",
    "    if count < len(dataset_reduced_ISO.columns)-1:\n",
    "        \n",
    "        dataset_reduced_ISO.rename(columns={column_name : f\"PCA{count+1}\"}, inplace=True)\n",
    "    else:\n",
    "        dataset_reduced_ISO.rename(columns={column_name : \"Label\"}, inplace=True)"
   ]
  },
  {
   "cell_type": "code",
   "execution_count": 38,
   "id": "5fd75b00",
   "metadata": {},
   "outputs": [
    {
     "data": {
      "text/html": [
       "<div>\n",
       "<style scoped>\n",
       "    .dataframe tbody tr th:only-of-type {\n",
       "        vertical-align: middle;\n",
       "    }\n",
       "\n",
       "    .dataframe tbody tr th {\n",
       "        vertical-align: top;\n",
       "    }\n",
       "\n",
       "    .dataframe thead th {\n",
       "        text-align: right;\n",
       "    }\n",
       "</style>\n",
       "<table border=\"1\" class=\"dataframe\">\n",
       "  <thead>\n",
       "    <tr style=\"text-align: right;\">\n",
       "      <th></th>\n",
       "      <th>PCA1</th>\n",
       "      <th>PCA2</th>\n",
       "      <th>PCA3</th>\n",
       "      <th>PCA4</th>\n",
       "      <th>PCA5</th>\n",
       "      <th>PCA6</th>\n",
       "      <th>PCA7</th>\n",
       "      <th>PCA8</th>\n",
       "      <th>PCA9</th>\n",
       "      <th>PCA10</th>\n",
       "      <th>...</th>\n",
       "      <th>PCA92</th>\n",
       "      <th>PCA93</th>\n",
       "      <th>PCA94</th>\n",
       "      <th>PCA95</th>\n",
       "      <th>PCA96</th>\n",
       "      <th>PCA97</th>\n",
       "      <th>PCA98</th>\n",
       "      <th>PCA99</th>\n",
       "      <th>PCA100</th>\n",
       "      <th>Label</th>\n",
       "    </tr>\n",
       "  </thead>\n",
       "  <tbody>\n",
       "    <tr>\n",
       "      <th>0</th>\n",
       "      <td>-319.143518</td>\n",
       "      <td>-225.454310</td>\n",
       "      <td>-234.098655</td>\n",
       "      <td>-67.667928</td>\n",
       "      <td>260.380669</td>\n",
       "      <td>59.187582</td>\n",
       "      <td>56.692292</td>\n",
       "      <td>-21.059209</td>\n",
       "      <td>1.203893</td>\n",
       "      <td>96.812683</td>\n",
       "      <td>...</td>\n",
       "      <td>-12.845419</td>\n",
       "      <td>-7.982612</td>\n",
       "      <td>-5.614832</td>\n",
       "      <td>-5.994886</td>\n",
       "      <td>6.081050</td>\n",
       "      <td>15.532436</td>\n",
       "      <td>-6.959331</td>\n",
       "      <td>-4.641412</td>\n",
       "      <td>-3.445686</td>\n",
       "      <td>4.0</td>\n",
       "    </tr>\n",
       "    <tr>\n",
       "      <th>1</th>\n",
       "      <td>77.233926</td>\n",
       "      <td>-65.173919</td>\n",
       "      <td>245.570314</td>\n",
       "      <td>-220.466989</td>\n",
       "      <td>1.394481</td>\n",
       "      <td>51.948770</td>\n",
       "      <td>19.533297</td>\n",
       "      <td>56.257481</td>\n",
       "      <td>55.219546</td>\n",
       "      <td>-70.123594</td>\n",
       "      <td>...</td>\n",
       "      <td>7.838391</td>\n",
       "      <td>5.353551</td>\n",
       "      <td>17.951030</td>\n",
       "      <td>-8.855186</td>\n",
       "      <td>-13.477577</td>\n",
       "      <td>20.409726</td>\n",
       "      <td>0.107556</td>\n",
       "      <td>20.809527</td>\n",
       "      <td>15.844675</td>\n",
       "      <td>3.0</td>\n",
       "    </tr>\n",
       "    <tr>\n",
       "      <th>2</th>\n",
       "      <td>-381.402036</td>\n",
       "      <td>-233.942929</td>\n",
       "      <td>-214.767518</td>\n",
       "      <td>-53.178327</td>\n",
       "      <td>-36.066917</td>\n",
       "      <td>10.988739</td>\n",
       "      <td>37.570443</td>\n",
       "      <td>-54.517166</td>\n",
       "      <td>-3.735793</td>\n",
       "      <td>40.198325</td>\n",
       "      <td>...</td>\n",
       "      <td>14.170940</td>\n",
       "      <td>7.768679</td>\n",
       "      <td>-10.308887</td>\n",
       "      <td>9.177210</td>\n",
       "      <td>-0.068573</td>\n",
       "      <td>1.916041</td>\n",
       "      <td>8.773855</td>\n",
       "      <td>7.633110</td>\n",
       "      <td>-0.831100</td>\n",
       "      <td>4.0</td>\n",
       "    </tr>\n",
       "    <tr>\n",
       "      <th>3</th>\n",
       "      <td>-5.683692</td>\n",
       "      <td>276.407198</td>\n",
       "      <td>-72.125194</td>\n",
       "      <td>-16.988655</td>\n",
       "      <td>-37.232751</td>\n",
       "      <td>23.030800</td>\n",
       "      <td>36.994984</td>\n",
       "      <td>39.064419</td>\n",
       "      <td>-45.518203</td>\n",
       "      <td>68.007778</td>\n",
       "      <td>...</td>\n",
       "      <td>-24.735467</td>\n",
       "      <td>-4.289600</td>\n",
       "      <td>10.763686</td>\n",
       "      <td>5.533049</td>\n",
       "      <td>12.135955</td>\n",
       "      <td>-28.699783</td>\n",
       "      <td>-17.880547</td>\n",
       "      <td>1.130927</td>\n",
       "      <td>18.374945</td>\n",
       "      <td>0.0</td>\n",
       "    </tr>\n",
       "    <tr>\n",
       "      <th>4</th>\n",
       "      <td>-296.301986</td>\n",
       "      <td>-220.866816</td>\n",
       "      <td>-162.298714</td>\n",
       "      <td>31.259547</td>\n",
       "      <td>-28.813509</td>\n",
       "      <td>30.622947</td>\n",
       "      <td>17.890664</td>\n",
       "      <td>7.631684</td>\n",
       "      <td>-29.524047</td>\n",
       "      <td>-67.205034</td>\n",
       "      <td>...</td>\n",
       "      <td>-9.489154</td>\n",
       "      <td>8.463245</td>\n",
       "      <td>-3.018189</td>\n",
       "      <td>-13.771414</td>\n",
       "      <td>-5.547222</td>\n",
       "      <td>16.648081</td>\n",
       "      <td>-1.886707</td>\n",
       "      <td>1.194757</td>\n",
       "      <td>7.069271</td>\n",
       "      <td>4.0</td>\n",
       "    </tr>\n",
       "  </tbody>\n",
       "</table>\n",
       "<p>5 rows × 101 columns</p>\n",
       "</div>"
      ],
      "text/plain": [
       "         PCA1        PCA2        PCA3        PCA4        PCA5       PCA6  \\\n",
       "0 -319.143518 -225.454310 -234.098655  -67.667928  260.380669  59.187582   \n",
       "1   77.233926  -65.173919  245.570314 -220.466989    1.394481  51.948770   \n",
       "2 -381.402036 -233.942929 -214.767518  -53.178327  -36.066917  10.988739   \n",
       "3   -5.683692  276.407198  -72.125194  -16.988655  -37.232751  23.030800   \n",
       "4 -296.301986 -220.866816 -162.298714   31.259547  -28.813509  30.622947   \n",
       "\n",
       "        PCA7       PCA8       PCA9      PCA10  ...      PCA92     PCA93  \\\n",
       "0  56.692292 -21.059209   1.203893  96.812683  ... -12.845419 -7.982612   \n",
       "1  19.533297  56.257481  55.219546 -70.123594  ...   7.838391  5.353551   \n",
       "2  37.570443 -54.517166  -3.735793  40.198325  ...  14.170940  7.768679   \n",
       "3  36.994984  39.064419 -45.518203  68.007778  ... -24.735467 -4.289600   \n",
       "4  17.890664   7.631684 -29.524047 -67.205034  ...  -9.489154  8.463245   \n",
       "\n",
       "       PCA94      PCA95      PCA96      PCA97      PCA98      PCA99  \\\n",
       "0  -5.614832  -5.994886   6.081050  15.532436  -6.959331  -4.641412   \n",
       "1  17.951030  -8.855186 -13.477577  20.409726   0.107556  20.809527   \n",
       "2 -10.308887   9.177210  -0.068573   1.916041   8.773855   7.633110   \n",
       "3  10.763686   5.533049  12.135955 -28.699783 -17.880547   1.130927   \n",
       "4  -3.018189 -13.771414  -5.547222  16.648081  -1.886707   1.194757   \n",
       "\n",
       "      PCA100  Label  \n",
       "0  -3.445686    4.0  \n",
       "1  15.844675    3.0  \n",
       "2  -0.831100    4.0  \n",
       "3  18.374945    0.0  \n",
       "4   7.069271    4.0  \n",
       "\n",
       "[5 rows x 101 columns]"
      ]
     },
     "execution_count": 38,
     "metadata": {},
     "output_type": "execute_result"
    }
   ],
   "source": [
    "dataset_reduced_ISO.head()"
   ]
  },
  {
   "cell_type": "markdown",
   "id": "d8143421",
   "metadata": {},
   "source": [
    "-----------\n",
    "## Dimensionality reduction:  3.Linear Discriminant Analysis\n",
    "\n",
    "Here we make an analysis of the method \n",
    "\n",
    "Linear Discriminant Analysis, or LDA, is a multi-class classification algorithm that can be used for dimensionality reduction.\n",
    "\n",
    "Is like PCA, but it focuses on maximizing the seperatibility among categories\n",
    "\n",
    "The number of dimensions for the projection is limited to 1 and C-1, where C is the number of classes."
   ]
  },
  {
   "cell_type": "code",
   "execution_count": 39,
   "id": "3da755fd",
   "metadata": {},
   "outputs": [],
   "source": [
    "from sklearn.discriminant_analysis import LinearDiscriminantAnalysis"
   ]
  },
  {
   "cell_type": "code",
   "execution_count": 40,
   "id": "36c29470",
   "metadata": {},
   "outputs": [
    {
     "data": {
      "text/plain": [
       "(789, 2)"
      ]
     },
     "execution_count": 40,
     "metadata": {},
     "output_type": "execute_result"
    }
   ],
   "source": [
    "# define transform\n",
    "lda = LinearDiscriminantAnalysis(n_components=2)\n",
    "# prepare transform on dataset\n",
    "lda.fit(dataset.iloc[:,:-1].values, dataset.iloc[:,-1:].values.ravel())\n",
    "# apply transform to dataset\n",
    "reduced_lda = lda.transform(dataset.iloc[:,:-1].values)\n",
    "reduced_lda.shape"
   ]
  },
  {
   "cell_type": "code",
   "execution_count": 41,
   "id": "869a4bc8",
   "metadata": {},
   "outputs": [
    {
     "data": {
      "text/plain": [
       "(789, 2)"
      ]
     },
     "execution_count": 41,
     "metadata": {},
     "output_type": "execute_result"
    }
   ],
   "source": [
    "# Save labels in an np.array\n",
    "y_lda = dataset['Class'].to_numpy()\n",
    "# apply transform to dataset\n",
    "reduced_lda = lda.transform(dataset.iloc[:,:-1].values)\n",
    "reduced_lda.shape"
   ]
  },
  {
   "cell_type": "code",
   "execution_count": 42,
   "id": "5dd1e33e",
   "metadata": {},
   "outputs": [],
   "source": [
    "# Create final dataframe with reduced dimensions\n",
    "dataset_reduced_LDA = pd.DataFrame(np.column_stack((reduced_lda, y_lda)))"
   ]
  },
  {
   "cell_type": "markdown",
   "id": "b6a13b6e",
   "metadata": {},
   "source": [
    "#### Lets display the explained variance of each PCA component"
   ]
  },
  {
   "cell_type": "code",
   "execution_count": 43,
   "id": "8b5c43ac",
   "metadata": {
    "scrolled": false
   },
   "outputs": [
    {
     "data": {
      "text/plain": [
       "(2,)"
      ]
     },
     "execution_count": 43,
     "metadata": {},
     "output_type": "execute_result"
    }
   ],
   "source": [
    "lda.explained_variance_ratio_.shape"
   ]
  },
  {
   "cell_type": "code",
   "execution_count": 44,
   "id": "d85a6d9f",
   "metadata": {},
   "outputs": [
    {
     "data": {
      "text/plain": [
       "(2,)"
      ]
     },
     "execution_count": 44,
     "metadata": {},
     "output_type": "execute_result"
    }
   ],
   "source": [
    "# To see the percentage of variation thaat each principal components accounts for\n",
    "\n",
    "per_var = np.round(lda.explained_variance_ratio_*100, decimals=1)\n",
    "per_var.shape"
   ]
  },
  {
   "cell_type": "code",
   "execution_count": 45,
   "id": "ffcede1d",
   "metadata": {},
   "outputs": [
    {
     "data": {
      "image/png": "[encoded data removed]",
      "text/plain": [
       "<Figure size 360x360 with 1 Axes>"
      ]
     },
     "metadata": {
      "needs_background": "light"
     },
     "output_type": "display_data"
    }
   ],
   "source": [
    "labels = ['PC' + str(x) for x in range(1, len(per_var)+1)]\n",
    "plt.figure(figsize=(5,5))\n",
    "plt.bar(x=range(1,len(per_var)+1),height=per_var, tick_label=labels)\n",
    "plt.ylabel('Percentage of Explained Variance')\n",
    "plt.xlabel('Principal Component')\n",
    "plt.title('Percentage of explained variance of each PCA ')\n",
    "plt.show()"
   ]
  },
  {
   "cell_type": "code",
   "execution_count": 46,
   "id": "2792d5d9",
   "metadata": {},
   "outputs": [
    {
     "data": {
      "text/plain": [
       "(2,)"
      ]
     },
     "execution_count": 46,
     "metadata": {},
     "output_type": "execute_result"
    }
   ],
   "source": [
    "# Here we calculate the cumulative sum of the variance so we can plot and see how the variance of the PCA evolute \n",
    "\n",
    "sum_lda = np.cumsum(lda.explained_variance_ratio_)\n",
    "sum_lda.shape\n"
   ]
  },
  {
   "cell_type": "code",
   "execution_count": 47,
   "id": "497bcdf5",
   "metadata": {},
   "outputs": [
    {
     "data": {
      "text/plain": [
       "2"
      ]
     },
     "execution_count": 47,
     "metadata": {},
     "output_type": "execute_result"
    }
   ],
   "source": [
    "length = sum_lda.shape[0]\n",
    "length"
   ]
  },
  {
   "cell_type": "code",
   "execution_count": 48,
   "id": "8fd46678",
   "metadata": {},
   "outputs": [
    {
     "data": {
      "text/plain": [
       "0.6534905522486745"
      ]
     },
     "execution_count": 48,
     "metadata": {},
     "output_type": "execute_result"
    }
   ],
   "source": [
    "# Let´s see the cummulative variance\n",
    "sum_lda[length-1]"
   ]
  },
  {
   "cell_type": "code",
   "execution_count": 49,
   "id": "8d30b6f4",
   "metadata": {},
   "outputs": [
    {
     "data": {
      "text/plain": [
       "0.6534905522486745"
      ]
     },
     "execution_count": 49,
     "metadata": {},
     "output_type": "execute_result"
    }
   ],
   "source": [
    "# Here we calculate the cumulative sum of the variance so we can plot and see how the variance of the PCA evolute \n",
    "\n",
    "cum_sum_lda = np.cumsum(lda.explained_variance_ratio_)\n",
    "\n",
    "length = cum_sum_lda.shape[0]\n",
    "\n",
    "# Let´s see the cummulative variance\n",
    "cum_sum_lda[length-1]"
   ]
  },
  {
   "cell_type": "code",
   "execution_count": 50,
   "id": "b3f349e1",
   "metadata": {},
   "outputs": [
    {
     "data": {
      "image/png": "[encoded data removed]",
      "text/plain": [
       "<Figure size 432x288 with 1 Axes>"
      ]
     },
     "metadata": {
      "needs_background": "light"
     },
     "output_type": "display_data"
    }
   ],
   "source": [
    "# Plot with regards of components\n",
    "\n",
    "#plt.bar(range(0,len(exp_var_pca[:150])), exp_var_pca[:150], alpha=0.5, align='center', label='Individual explained variance')\n",
    "plt.step(range(0,len(cum_sum_lda)), cum_sum_lda, where='mid',label='Cumulative explained variance')\n",
    "plt.ylabel('Explained variance ratio')\n",
    "plt.xlabel('Principal component index')\n",
    "plt.legend(loc='best')\n",
    "plt.tight_layout()\n",
    "plt.show()"
   ]
  },
  {
   "cell_type": "markdown",
   "id": "64c9e76f",
   "metadata": {},
   "source": [
    "### Output of preprocesing "
   ]
  },
  {
   "cell_type": "code",
   "execution_count": 51,
   "id": "6d47848a",
   "metadata": {},
   "outputs": [
    {
     "data": {
      "text/plain": [
       "(789, 85)"
      ]
     },
     "execution_count": 51,
     "metadata": {},
     "output_type": "execute_result"
    }
   ],
   "source": [
    "dataset_reduced_PCA.shape"
   ]
  },
  {
   "cell_type": "code",
   "execution_count": 52,
   "id": "b24108fb",
   "metadata": {
    "scrolled": true
   },
   "outputs": [
    {
     "data": {
      "text/plain": [
       "(789, 101)"
      ]
     },
     "execution_count": 52,
     "metadata": {},
     "output_type": "execute_result"
    }
   ],
   "source": [
    "dataset_reduced_ISO.shape # We are not going to use for the model this method"
   ]
  },
  {
   "cell_type": "code",
   "execution_count": 53,
   "id": "bcb5e3b0",
   "metadata": {},
   "outputs": [
    {
     "data": {
      "text/plain": [
       "(789, 3)"
      ]
     },
     "execution_count": 53,
     "metadata": {},
     "output_type": "execute_result"
    }
   ],
   "source": [
    "dataset_reduced_LDA.shape"
   ]
  },
  {
   "cell_type": "markdown",
   "id": "fb1e9a01",
   "metadata": {},
   "source": [
    "### Models\n",
    "\n",
    "1. KNN\n",
    "\n",
    "2. Logistic regression\n",
    "\n",
    "3. Decision tree"
   ]
  },
  {
   "cell_type": "markdown",
   "id": "b9e2761e",
   "metadata": {},
   "source": [
    "--------------\n",
    "# Model Implementation:  KNN"
   ]
  },
  {
   "cell_type": "markdown",
   "id": "c800d5a4",
   "metadata": {},
   "source": [
    "###  PCA_80% Training data, 20% test data"
   ]
  },
  {
   "cell_type": "markdown",
   "id": "b36ca25c",
   "metadata": {},
   "source": [
    "#### Loop displaying the line graph number-features vs score"
   ]
  },
  {
   "cell_type": "code",
   "execution_count": 54,
   "id": "dd0d6632",
   "metadata": {},
   "outputs": [
    {
     "data": {
      "text/plain": [
       "789"
      ]
     },
     "execution_count": 54,
     "metadata": {},
     "output_type": "execute_result"
    }
   ],
   "source": [
    "dataset.shape[0]"
   ]
  },
  {
   "cell_type": "code",
   "execution_count": 55,
   "id": "2788f960",
   "metadata": {},
   "outputs": [],
   "source": [
    "k = 10\n",
    "\n",
    "score_array = []\n",
    "n_components_array = []\n",
    "\n",
    "for n_components_PCA in [2,3,4,5,10,25,40,50,75,100,250]:\n",
    "    \n",
    "    pca = PCA(n_components=n_components_PCA)\n",
    "\n",
    "    # Apply PCA in input vector\n",
    "    pca.fit(dataset.iloc[:,:-1]) \n",
    "\n",
    "    # Save results in an np.array\n",
    "    reduced = pca.transform(dataset.iloc[:,:-1])\n",
    "\n",
    "    # Save labels in an np.array\n",
    "    x = dataset['Class'].to_numpy()\n",
    "\n",
    "    # Create final dataframe with reduced dimensions\n",
    "    dataset_reduced_PCA = pd.DataFrame(np.column_stack((reduced, x)))\n",
    "\n",
    "\n",
    "    input_data = dataset_reduced_PCA.iloc[:,:-1].values\n",
    "    label_data = dataset_reduced_PCA.iloc[:,-1].values\n",
    "\n",
    "    # We split the data  \n",
    "    X_train, X_test, y_train, y_test = train_test_split(input_data,label_data, test_size=0.2)\n",
    "\n",
    "    # Build and train the model with the k-vlue\n",
    "    KNN = KNeighborsClassifier(n_neighbors=k)\n",
    "    KNN.fit(X_train, y_train)\n",
    "\n",
    "    # We predict the labels of the test data\n",
    "    y_pred = KNN.predict(X_test)\n",
    "\n",
    "    # Accuracy of the model\n",
    "    metrics.accuracy_score(y_test, y_pred)\n",
    "    \n",
    "    n_components_array.append(n_components_PCA)\n",
    "    score_array.append(metrics.accuracy_score(y_test, y_pred))"
   ]
  },
  {
   "cell_type": "code",
   "execution_count": 56,
   "id": "6fbefc30",
   "metadata": {
    "scrolled": true
   },
   "outputs": [
    {
     "data": {
      "image/png": "[encoded data removed]",
      "text/plain": [
       "<Figure size 432x288 with 1 Axes>"
      ]
     },
     "metadata": {
      "needs_background": "light"
     },
     "output_type": "display_data"
    }
   ],
   "source": [
    "# Plot with regards of components\n",
    "\n",
    "plt.plot(n_components_array, score_array,label='Model score')\n",
    "plt.ylabel('Model accuracy')\n",
    "plt.xlabel('Number of features')\n",
    "plt.legend(loc='best')\n",
    "plt.tight_layout()\n",
    "plt.show()"
   ]
  },
  {
   "cell_type": "code",
   "execution_count": 57,
   "id": "697d80b0",
   "metadata": {},
   "outputs": [],
   "source": [
    "k = 5\n",
    "\n",
    "score_array = []\n",
    "n_components_array = []\n",
    "\n",
    "for n_components_PCA in [2,3,4,5,7,8,9,10,12,15,20]:\n",
    "    \n",
    "    pca = PCA(n_components=n_components_PCA)\n",
    "\n",
    "    # Apply PCA in input vector\n",
    "    pca.fit(dataset.iloc[:,:-1]) \n",
    "\n",
    "    # Save results in an np.array\n",
    "    reduced = pca.transform(dataset.iloc[:,:-1])\n",
    "\n",
    "    # Save labels in an np.array\n",
    "    x = dataset['Class'].to_numpy()\n",
    "\n",
    "    # Create final dataframe with reduced dimensions\n",
    "    dataset_reduced_PCA = pd.DataFrame(np.column_stack((reduced, x)))\n",
    "\n",
    "\n",
    "    input_data = dataset_reduced_PCA.iloc[:,:-1].values\n",
    "    label_data = dataset_reduced_PCA.iloc[:,-1].values\n",
    "\n",
    "    # We split the data  \n",
    "    X_train, X_test, y_train, y_test = train_test_split(input_data,label_data, test_size=0.2)\n",
    "\n",
    "    # Build and train the model with the k-vlue\n",
    "    KNN = KNeighborsClassifier(n_neighbors=k)\n",
    "    KNN.fit(X_train, y_train)\n",
    "\n",
    "    # We predict the labels of the test data\n",
    "    y_pred = KNN.predict(X_test)\n",
    "\n",
    "    # Accuracy of the model\n",
    "    metrics.accuracy_score(y_test, y_pred)\n",
    "    \n",
    "    n_components_array.append(n_components_PCA)\n",
    "    score_array.append(metrics.accuracy_score(y_test, y_pred))"
   ]
  },
  {
   "cell_type": "code",
   "execution_count": 58,
   "id": "5acbc332",
   "metadata": {},
   "outputs": [
    {
     "data": {
      "image/png": "[encoded data removed]",
      "text/plain": [
       "<Figure size 432x288 with 1 Axes>"
      ]
     },
     "metadata": {
      "needs_background": "light"
     },
     "output_type": "display_data"
    }
   ],
   "source": [
    "# Plot with regards of components\n",
    "\n",
    "plt.plot(n_components_array, score_array,label='Model score')\n",
    "plt.ylabel('Model accuracy')\n",
    "plt.xlabel('Number of features')\n",
    "plt.legend(loc='best')\n",
    "plt.tight_layout()\n",
    "plt.show()"
   ]
  },
  {
   "cell_type": "markdown",
   "id": "61bbb594",
   "metadata": {},
   "source": [
    "#### Selected parameters for PCA dimension reduction"
   ]
  },
  {
   "cell_type": "code",
   "execution_count": 59,
   "id": "52e37c33",
   "metadata": {},
   "outputs": [],
   "source": [
    "# Selected value dimension reduction = \n",
    "\n",
    "pca = PCA(0.70)\n",
    "\n",
    "# Apply PCA in input vector\n",
    "pca.fit(dataset.iloc[:,:-1]) \n",
    "\n",
    "# Save results in an np.array\n",
    "reduced = pca.transform(dataset.iloc[:,:-1])\n",
    "\n",
    "# Save labels in an np.array\n",
    "x = dataset['Class'].to_numpy()\n",
    "\n",
    "# Create final dataframe with reduced dimensions\n",
    "dataset_reduced_PCA = pd.DataFrame(np.column_stack((reduced, x)))\n",
    "\n",
    "input_data = dataset_reduced_PCA.iloc[:,:-1].values\n",
    "label_data = dataset_reduced_PCA.iloc[:,-1].values\n",
    "\n",
    "# We split the data  \n",
    "X_train, X_test, y_train, y_test = train_test_split(input_data,label_data, test_size=0.2)"
   ]
  },
  {
   "cell_type": "code",
   "execution_count": 60,
   "id": "b8ac0713",
   "metadata": {},
   "outputs": [],
   "source": [
    "# For the n_components selected, lets tune n_neighbors\n",
    "\n",
    "error = []\n",
    "\n",
    "# Calculating error for nº neighbors\n",
    "\n",
    "for i in range(1, 60):\n",
    "    knn = KNeighborsClassifier(n_neighbors=i)\n",
    "    knn.fit(X_train, y_train)\n",
    "    \n",
    "    preds = knn.predict(X_test)\n",
    "    \n",
    "    squared_error = np.power(y_test - preds,2)\n",
    "    error.append(np.mean(squared_error))"
   ]
  },
  {
   "cell_type": "code",
   "execution_count": 61,
   "id": "c7cc1cf0",
   "metadata": {
    "scrolled": true
   },
   "outputs": [
    {
     "data": {
      "text/plain": [
       "Text(0, 0.5, 'Mean Squared Error.')"
      ]
     },
     "execution_count": 61,
     "metadata": {},
     "output_type": "execute_result"
    },
    {
     "data": {
      "image/png": "[encoded data removed]",
      "text/plain": [
       "<Figure size 864x432 with 1 Axes>"
      ]
     },
     "metadata": {
      "needs_background": "light"
     },
     "output_type": "display_data"
    }
   ],
   "source": [
    "plt.figure(figsize=(12, 6))\n",
    "plt.plot(range(1, 60), error, color='blue', marker='o',\n",
    "         markerfacecolor='red', markersize=10)\n",
    "plt.title('Error Rate K Value.')\n",
    "plt.xlabel('K Value (nº neighbors).')\n",
    "plt.ylabel('Mean Squared Error.')\n",
    "#plt.savefig(\"KNN_error_over_multiple_neighbors.png\")"
   ]
  },
  {
   "cell_type": "code",
   "execution_count": 62,
   "id": "73abaa9e",
   "metadata": {},
   "outputs": [
    {
     "data": {
      "text/plain": [
       "KNeighborsClassifier(n_neighbors=10)"
      ]
     },
     "execution_count": 62,
     "metadata": {},
     "output_type": "execute_result"
    }
   ],
   "source": [
    "# Build and train the model with the value selected: k= 10\n",
    "KNN = KNeighborsClassifier(n_neighbors=10)\n",
    "KNN.fit(X_train, y_train)"
   ]
  },
  {
   "cell_type": "code",
   "execution_count": 63,
   "id": "5c4531f8",
   "metadata": {},
   "outputs": [],
   "source": [
    "# We predict the labels of the test data\n",
    "y_pred = KNN.predict(X_test)"
   ]
  },
  {
   "cell_type": "code",
   "execution_count": 64,
   "id": "0f0b63c7",
   "metadata": {},
   "outputs": [
    {
     "data": {
      "image/png": "[encoded data removed]",
      "text/plain": [
       "<Figure size 576x360 with 2 Axes>"
      ]
     },
     "metadata": {
      "needs_background": "light"
     },
     "output_type": "display_data"
    }
   ],
   "source": [
    "#Confusion matrix to evaluate the model \n",
    "plt.figure(figsize=(8,5))\n",
    "confusion_matrix = pd.crosstab(y_test, y_pred, rownames=['Actual'], \n",
    "                               colnames=['Predicted'])\n",
    "\n",
    "sns.heatmap(confusion_matrix, annot=True)\n",
    "#plt.savefig(\"Confusion_Matrix_KNN.png\")\n",
    "plt.show()"
   ]
  },
  {
   "cell_type": "code",
   "execution_count": 65,
   "id": "57aa56f8",
   "metadata": {},
   "outputs": [
    {
     "data": {
      "text/plain": [
       "1.0"
      ]
     },
     "execution_count": 65,
     "metadata": {},
     "output_type": "execute_result"
    }
   ],
   "source": [
    "# Accuracy of the model\n",
    "metrics.accuracy_score(y_test, y_pred)"
   ]
  },
  {
   "cell_type": "code",
   "execution_count": 66,
   "id": "5e7e9a83",
   "metadata": {},
   "outputs": [
    {
     "name": "stdout",
     "output_type": "stream",
     "text": [
      "Accuracy:1.0\n"
     ]
    }
   ],
   "source": [
    "print(f\"Accuracy:{metrics.accuracy_score(y_test, y_pred)}\")"
   ]
  },
  {
   "cell_type": "code",
   "execution_count": 67,
   "id": "d3435db2",
   "metadata": {
    "scrolled": false
   },
   "outputs": [
    {
     "name": "stdout",
     "output_type": "stream",
     "text": [
      "More metrics about the model.\n",
      "\n",
      "              precision    recall  f1-score   support\n",
      "\n",
      "         0.0       1.00      1.00      1.00        56\n",
      "         1.0       1.00      1.00      1.00        29\n",
      "         2.0       1.00      1.00      1.00        29\n",
      "         3.0       1.00      1.00      1.00        20\n",
      "         4.0       1.00      1.00      1.00        24\n",
      "\n",
      "    accuracy                           1.00       158\n",
      "   macro avg       1.00      1.00      1.00       158\n",
      "weighted avg       1.00      1.00      1.00       158\n",
      "\n"
     ]
    }
   ],
   "source": [
    "print(f'More metrics about the model.\\n\\n' \\\n",
    "      f'{metrics.classification_report(y_test, y_pred, labels=[0.0, 1.0, 2.0, 3.0, 4.0])}')"
   ]
  },
  {
   "cell_type": "markdown",
   "id": "86569a93",
   "metadata": {},
   "source": [
    "### Stratified Kfold"
   ]
  },
  {
   "cell_type": "code",
   "execution_count": 68,
   "id": "01657781",
   "metadata": {},
   "outputs": [],
   "source": [
    "#Need help to store values and plot Sarandis\n",
    "\n",
    "scores = []\n",
    "error = []\n",
    "\n",
    "def get_score(model, X_train, X_test, y_train, y_test):\n",
    "    model.fit(X_train, y_train)\n",
    "    return model.score(X_test, y_test)\n",
    "\n",
    "for k in range(9, 10):\n",
    "    folds = StratifiedKFold(n_splits=k, shuffle = True, random_state = 100)\n",
    "    \n",
    "    for i in range(9, 10):\n",
    "        knn = KNeighborsClassifier(n_neighbors=i)\n",
    "               \n",
    "        for train_index, test_index in folds.split(input_data,label_data):\n",
    "            X_train, X_test, y_train, y_test = input_data[train_index], input_data[test_index], label_data[train_index], label_data[test_index]\n",
    "            \n",
    "            scores.append(get_score(knn, X_train, X_test, y_train, y_test))\n",
    "            \n",
    "            preds = knn.predict(X_test)\n",
    "            squared_error = np.power(y_test - preds,2)\n",
    "            error.append(np.mean(squared_error))\n",
    "            \n",
    "# Help with the plot"
   ]
  },
  {
   "cell_type": "code",
   "execution_count": 69,
   "id": "b73fe0e1",
   "metadata": {},
   "outputs": [],
   "source": [
    "# After studying the optimal parameters, we run the model with the selected ones\n",
    "\n",
    "knn = KNeighborsClassifier(n_neighbors=10)\n",
    "folds = StratifiedKFold(n_splits=5, shuffle = True, random_state = 100)\n",
    "\n",
    "scores = []\n",
    "\n",
    "def get_score(model, X_train, X_test, y_train, y_test):\n",
    "    model.fit(X_train, y_train)\n",
    "    return model.score(X_test, y_test)\n",
    "\n",
    "# Index of the spliting\n",
    "for train_index, test_index in folds.split(input_data,label_data):\n",
    "    X_train, X_test, y_train, y_test = input_data[train_index], input_data[test_index], label_data[train_index], label_data[test_index]\n",
    "    scores.append(get_score(knn, X_train, X_test, y_train, y_test))\n"
   ]
  },
  {
   "cell_type": "code",
   "execution_count": 70,
   "id": "743cd497",
   "metadata": {},
   "outputs": [],
   "source": [
    "# We predict the labels of the test data (Depending on the fold we have different, how we do it with the confusion matrix)\n",
    "y_pred = knn.predict(X_test)"
   ]
  },
  {
   "cell_type": "code",
   "execution_count": 71,
   "id": "b4deb64a",
   "metadata": {},
   "outputs": [
    {
     "data": {
      "image/png": "[encoded data removed]",
      "text/plain": [
       "<Figure size 576x360 with 2 Axes>"
      ]
     },
     "metadata": {
      "needs_background": "light"
     },
     "output_type": "display_data"
    }
   ],
   "source": [
    "#Confusion matrix to evaluate the model \n",
    "plt.figure(figsize=(8,5))\n",
    "confusion_matrix = pd.crosstab(y_test, y_pred, rownames=['Actual'], \n",
    "                               colnames=['Predicted'])\n",
    "\n",
    "sns.heatmap(confusion_matrix, annot=True)\n",
    "plt.savefig(\"Confusion_Matrix_KNN.png\")\n",
    "plt.show()"
   ]
  },
  {
   "cell_type": "code",
   "execution_count": 72,
   "id": "9e8cdf68",
   "metadata": {},
   "outputs": [
    {
     "data": {
      "text/plain": [
       "0.9936305732484076"
      ]
     },
     "execution_count": 72,
     "metadata": {},
     "output_type": "execute_result"
    }
   ],
   "source": [
    "# Accuracy of the model\n",
    "metrics.accuracy_score(y_test, y_pred)"
   ]
  },
  {
   "cell_type": "code",
   "execution_count": 73,
   "id": "31d70369",
   "metadata": {},
   "outputs": [
    {
     "name": "stdout",
     "output_type": "stream",
     "text": [
      "Accuracy:0.9936305732484076\n"
     ]
    }
   ],
   "source": [
    "print(f\"Accuracy:{metrics.accuracy_score(y_test, y_pred)}\")"
   ]
  },
  {
   "cell_type": "code",
   "execution_count": 74,
   "id": "18672b93",
   "metadata": {
    "scrolled": true
   },
   "outputs": [
    {
     "name": "stdout",
     "output_type": "stream",
     "text": [
      "More metrics about the model.\n",
      "\n",
      "              precision    recall  f1-score   support\n",
      "\n",
      "         0.0       0.98      1.00      0.99        60\n",
      "         1.0       1.00      1.00      1.00        15\n",
      "         2.0       1.00      1.00      1.00        28\n",
      "         3.0       1.00      0.96      0.98        28\n",
      "         4.0       1.00      1.00      1.00        26\n",
      "\n",
      "    accuracy                           0.99       157\n",
      "   macro avg       1.00      0.99      0.99       157\n",
      "weighted avg       0.99      0.99      0.99       157\n",
      "\n"
     ]
    }
   ],
   "source": [
    "print(f'More metrics about the model.\\n\\n' \\\n",
    "      f'{metrics.classification_report(y_test, y_pred, labels=[0.0, 1.0, 2.0, 3.0, 4.0])}')"
   ]
  },
  {
   "cell_type": "markdown",
   "id": "9dfb55ba",
   "metadata": {},
   "source": [
    "--------\n",
    "# Model Implementation: Logistic regression"
   ]
  },
  {
   "cell_type": "markdown",
   "id": "4c256eb5",
   "metadata": {},
   "source": [
    "###  PCA_80% Training data, 20% test data"
   ]
  },
  {
   "cell_type": "code",
   "execution_count": 75,
   "id": "24444e09",
   "metadata": {},
   "outputs": [
    {
     "name": "stderr",
     "output_type": "stream",
     "text": [
      "/Users/pedrorodriguezdeledesmajimenez/opt/anaconda3/lib/python3.8/site-packages/sklearn/linear_model/_logistic.py:763: ConvergenceWarning: lbfgs failed to converge (status=1):\n",
      "STOP: TOTAL NO. of ITERATIONS REACHED LIMIT.\n",
      "\n",
      "Increase the number of iterations (max_iter) or scale the data as shown in:\n",
      "    https://scikit-learn.org/stable/modules/preprocessing.html\n",
      "Please also refer to the documentation for alternative solver options:\n",
      "    https://scikit-learn.org/stable/modules/linear_model.html#logistic-regression\n",
      "  n_iter_i = _check_optimize_result(\n",
      "/Users/pedrorodriguezdeledesmajimenez/opt/anaconda3/lib/python3.8/site-packages/sklearn/linear_model/_logistic.py:763: ConvergenceWarning: lbfgs failed to converge (status=1):\n",
      "STOP: TOTAL NO. of ITERATIONS REACHED LIMIT.\n",
      "\n",
      "Increase the number of iterations (max_iter) or scale the data as shown in:\n",
      "    https://scikit-learn.org/stable/modules/preprocessing.html\n",
      "Please also refer to the documentation for alternative solver options:\n",
      "    https://scikit-learn.org/stable/modules/linear_model.html#logistic-regression\n",
      "  n_iter_i = _check_optimize_result(\n"
     ]
    }
   ],
   "source": [
    "n_components_array_LR = []\n",
    "score_array_LR = []\n",
    "\n",
    "for n_components_LR in [3,4,5,6,7,8,9,10,11,12,13,14,15,20,25,50,75,100]:\n",
    "    \n",
    "    pca = PCA(n_components=n_components_LR)\n",
    "\n",
    "    # Apply PCA in input vector\n",
    "    pca.fit(dataset.iloc[:,:-1]) \n",
    "\n",
    "    # Save results in an np.array\n",
    "    reduced = pca.transform(dataset.iloc[:,:-1])\n",
    "\n",
    "    # Save labels in an np.array\n",
    "    x = dataset['Class'].to_numpy()\n",
    "\n",
    "    # Create final dataframe with reduced dimensions\n",
    "    dataset_reduced_PCA = pd.DataFrame(np.column_stack((reduced, x)))\n",
    "\n",
    "\n",
    "    input_data = dataset_reduced_PCA.iloc[:,:-1].values\n",
    "    label_data = dataset_reduced_PCA.iloc[:,-1].values\n",
    "\n",
    "    # We split the data  \n",
    "    X_train, X_test, y_train, y_test = train_test_split(input_data,label_data, test_size=0.2)\n",
    "\n",
    "    # Building and training the model\n",
    "    LR = LogisticRegression(max_iter=2000) # Parameters to tune?\n",
    "    LR.fit(X_train, y_train)\n",
    "\n",
    "    # We predict the labels of the test data\n",
    "    y_pred = LR.predict(X_test)\n",
    "\n",
    "    # Accuracy of the model\n",
    "    metrics.accuracy_score(y_test, y_pred)\n",
    "    \n",
    "    n_components_array_LR.append(n_components_LR)\n",
    "    score_array_LR.append(metrics.accuracy_score(y_test, y_pred))\n"
   ]
  },
  {
   "cell_type": "code",
   "execution_count": 76,
   "id": "9029da9b",
   "metadata": {},
   "outputs": [
    {
     "data": {
      "image/png": "[encoded data removed]",
      "text/plain": [
       "<Figure size 432x288 with 1 Axes>"
      ]
     },
     "metadata": {
      "needs_background": "light"
     },
     "output_type": "display_data"
    }
   ],
   "source": [
    "# Plot with regards of components\n",
    "\n",
    "plt.plot(n_components_array_LR, score_array_LR,label='Model score')\n",
    "plt.ylabel('Model accuracy')\n",
    "plt.xlabel('Number of features')\n",
    "plt.legend(loc='best')\n",
    "plt.tight_layout()\n",
    "plt.show()"
   ]
  },
  {
   "cell_type": "markdown",
   "id": "d74d00b0",
   "metadata": {},
   "source": [
    "#### Selected parameters for PCA dimension reduction"
   ]
  },
  {
   "cell_type": "code",
   "execution_count": 77,
   "id": "3433e76a",
   "metadata": {},
   "outputs": [],
   "source": [
    "# Selected value dimension reduction = \n",
    "\n",
    "pca = PCA(n_components=0.70)\n",
    "\n",
    "# Apply PCA in input vector\n",
    "pca.fit(dataset.iloc[:,:-1]) \n",
    "\n",
    "# Save results in an np.array\n",
    "reduced = pca.transform(dataset.iloc[:,:-1])\n",
    "\n",
    "# Save labels in an np.array\n",
    "x = dataset['Class'].to_numpy()\n",
    "\n",
    "# Create final dataframe with reduced dimensions\n",
    "dataset_reduced_PCA = pd.DataFrame(np.column_stack((reduced, x)))\n",
    "\n",
    "input_data = dataset_reduced_PCA.iloc[:,:-1].values\n",
    "label_data = dataset_reduced_PCA.iloc[:,-1].values\n",
    "\n",
    "# We split the data  \n",
    "X_train, X_test, y_train, y_test = train_test_split(input_data,label_data, test_size=0.2)"
   ]
  },
  {
   "cell_type": "code",
   "execution_count": 78,
   "id": "e6a3fb40",
   "metadata": {
    "scrolled": true
   },
   "outputs": [
    {
     "data": {
      "text/plain": [
       "LogisticRegression(max_iter=300)"
      ]
     },
     "execution_count": 78,
     "metadata": {},
     "output_type": "execute_result"
    }
   ],
   "source": [
    "# Building and training the model\n",
    "LR = LogisticRegression(max_iter=300) # Parameters to tune?\n",
    "LR.fit(X_train, y_train)"
   ]
  },
  {
   "cell_type": "code",
   "execution_count": 79,
   "id": "17d368f9",
   "metadata": {},
   "outputs": [],
   "source": [
    "# We predict the labels of the test data\n",
    "y_pred = LR.predict(X_test)"
   ]
  },
  {
   "cell_type": "code",
   "execution_count": 80,
   "id": "5654ecd1",
   "metadata": {
    "scrolled": true
   },
   "outputs": [
    {
     "data": {
      "image/png": "[encoded data removed]",
      "text/plain": [
       "<Figure size 576x360 with 2 Axes>"
      ]
     },
     "metadata": {
      "needs_background": "light"
     },
     "output_type": "display_data"
    }
   ],
   "source": [
    "#Confusion matrix to evaluate the model \n",
    "plt.figure(figsize=(8,5))\n",
    "confusion_matrix = pd.crosstab(y_test, y_pred, rownames=['Actual'], \n",
    "                               colnames=['Predicted'])\n",
    "\n",
    "sns.heatmap(confusion_matrix, annot=True)\n",
    "#plt.savefig(\"Confusion_Matrix_KNN.png\")\n",
    "plt.show()"
   ]
  },
  {
   "cell_type": "code",
   "execution_count": 81,
   "id": "57aa56f8",
   "metadata": {},
   "outputs": [
    {
     "data": {
      "text/plain": [
       "1.0"
      ]
     },
     "execution_count": 81,
     "metadata": {},
     "output_type": "execute_result"
    }
   ],
   "source": [
    "# Accuracy of the model\n",
    "metrics.accuracy_score(y_test, y_pred)"
   ]
  },
  {
   "cell_type": "code",
   "execution_count": 82,
   "id": "5e7e9a83",
   "metadata": {},
   "outputs": [
    {
     "name": "stdout",
     "output_type": "stream",
     "text": [
      "Accuracy:1.0\n"
     ]
    }
   ],
   "source": [
    "print(f\"Accuracy:{metrics.accuracy_score(y_test, y_pred)}\")"
   ]
  },
  {
   "cell_type": "code",
   "execution_count": 83,
   "id": "d3435db2",
   "metadata": {
    "scrolled": false
   },
   "outputs": [
    {
     "name": "stdout",
     "output_type": "stream",
     "text": [
      "More metrics about the model.\n",
      "\n",
      "              precision    recall  f1-score   support\n",
      "\n",
      "         0.0       1.00      1.00      1.00        55\n",
      "         1.0       1.00      1.00      1.00        20\n",
      "         2.0       1.00      1.00      1.00        28\n",
      "         3.0       1.00      1.00      1.00        25\n",
      "         4.0       1.00      1.00      1.00        30\n",
      "\n",
      "    accuracy                           1.00       158\n",
      "   macro avg       1.00      1.00      1.00       158\n",
      "weighted avg       1.00      1.00      1.00       158\n",
      "\n"
     ]
    }
   ],
   "source": [
    "print(f'More metrics about the model.\\n\\n' \\\n",
    "      f'{metrics.classification_report(y_test, y_pred, labels=[0.0, 1.0, 2.0, 3.0, 4.0])}')"
   ]
  },
  {
   "cell_type": "markdown",
   "id": "c800d5a4",
   "metadata": {},
   "source": [
    "### LDA_80% Training data, 20% test data"
   ]
  },
  {
   "cell_type": "code",
   "execution_count": 84,
   "id": "24444e09",
   "metadata": {},
   "outputs": [],
   "source": [
    "n_components_array_LR = []\n",
    "score_array_LR = []\n",
    "\n",
    "for n_components_LR in [1,2,3,4]:\n",
    "    \n",
    "    lda = LinearDiscriminantAnalysis(n_components=n_components_LR)\n",
    "\n",
    "    # Apply PCA in input vector\n",
    "    lda.fit(dataset.iloc[:,:-1],dataset.iloc[:,-1:].values.ravel()) \n",
    "\n",
    "    # Save results in an np.array\n",
    "    reduced = lda.transform(dataset.iloc[:,:-1].values)\n",
    "\n",
    "    # Save labels in an np.array\n",
    "    x = dataset['Class'].to_numpy()\n",
    "\n",
    "    # Create final dataframe with reduced dimensions\n",
    "    dataset_reduced_LDA = pd.DataFrame(np.column_stack((reduced, x)))\n",
    "\n",
    "\n",
    "    input_data = dataset_reduced_LDA.iloc[:,:-1].values\n",
    "    label_data = dataset_reduced_LDA.iloc[:,-1].values\n",
    "\n",
    "    # We split the data  \n",
    "    X_train, X_test, y_train, y_test = train_test_split(input_data,label_data, test_size=0.2)\n",
    "\n",
    "    # Building and training the model\n",
    "    LR = LogisticRegression(max_iter=2000) # Parameters to tune?\n",
    "    LR.fit(X_train, y_train)\n",
    "\n",
    "    # We predict the labels of the test data\n",
    "    y_pred = LR.predict(X_test)\n",
    "\n",
    "    # Accuracy of the model\n",
    "    metrics.accuracy_score(y_test, y_pred)\n",
    "    \n",
    "    n_components_array_LR.append(n_components_LR)\n",
    "    score_array_LR.append(metrics.accuracy_score(y_test, y_pred))\n"
   ]
  },
  {
   "cell_type": "code",
   "execution_count": 85,
   "id": "9029da9b",
   "metadata": {},
   "outputs": [
    {
     "data": {
      "image/png": "[encoded data removed]",
      "text/plain": [
       "<Figure size 432x288 with 1 Axes>"
      ]
     },
     "metadata": {
      "needs_background": "light"
     },
     "output_type": "display_data"
    }
   ],
   "source": [
    "# Plot with regards of components\n",
    "\n",
    "plt.plot(n_components_array_LR, score_array_LR,label='Model score')\n",
    "plt.ylabel('Model accuracy')\n",
    "plt.xlabel('Number of features')\n",
    "plt.legend(loc='best')\n",
    "plt.tight_layout()\n",
    "plt.show()"
   ]
  },
  {
   "cell_type": "markdown",
   "id": "61bbb594",
   "metadata": {},
   "source": [
    "#### Selected parameters for LDA dimension reduction"
   ]
  },
  {
   "cell_type": "code",
   "execution_count": 86,
   "id": "3433e76a",
   "metadata": {},
   "outputs": [],
   "source": [
    "# Selected value dimension reduction = \n",
    "\n",
    "lda = LinearDiscriminantAnalysis(n_components=4)\n",
    "\n",
    "# Apply PCA in input vector\n",
    "lda.fit(dataset.iloc[:,:-1],dataset.iloc[:,-1:].values.ravel()) \n",
    "\n",
    "# Save results in an np.array\n",
    "reduced = lda.transform(dataset.iloc[:,:-1].values)\n",
    "\n",
    "# Save labels in an np.array\n",
    "x = dataset['Class'].to_numpy()\n",
    "\n",
    "# Create final dataframe with reduced dimensions\n",
    "dataset_reduced_LDA = pd.DataFrame(np.column_stack((reduced, x)))\n",
    "\n",
    "input_data = dataset_reduced_LDA.iloc[:,:-1].values\n",
    "label_data = dataset_reduced_LDA.iloc[:,-1].values\n",
    "\n",
    "# We split the data  \n",
    "X_train, X_test, y_train, y_test = train_test_split(input_data,label_data, test_size=0.2)"
   ]
  },
  {
   "cell_type": "code",
   "execution_count": 87,
   "id": "b8ac0713",
   "metadata": {
    "scrolled": true
   },
   "outputs": [
    {
     "data": {
      "text/plain": [
       "LogisticRegression(max_iter=300)"
      ]
     },
     "execution_count": 87,
     "metadata": {},
     "output_type": "execute_result"
    }
   ],
   "source": [
    "# Building and training the model\n",
    "LR = LogisticRegression(max_iter=300) # Parameters to tune?\n",
    "LR.fit(X_train, y_train)"
   ]
  },
  {
   "cell_type": "code",
   "execution_count": 88,
   "id": "5c4531f8",
   "metadata": {},
   "outputs": [],
   "source": [
    "# We predict the labels of the test data\n",
    "y_pred = LR.predict(X_test)"
   ]
  },
  {
   "cell_type": "code",
   "execution_count": 89,
   "id": "0f0b63c7",
   "metadata": {
    "scrolled": true
   },
   "outputs": [
    {
     "data": {
      "image/png": "[encoded data removed]",
      "text/plain": [
       "<Figure size 576x360 with 2 Axes>"
      ]
     },
     "metadata": {
      "needs_background": "light"
     },
     "output_type": "display_data"
    }
   ],
   "source": [
    "#Confusion matrix to evaluate the model \n",
    "plt.figure(figsize=(8,5))\n",
    "confusion_matrix = pd.crosstab(y_test, y_pred, rownames=['Actual'], \n",
    "                               colnames=['Predicted'])\n",
    "\n",
    "sns.heatmap(confusion_matrix, annot=True)\n",
    "#plt.savefig(\"Confusion_Matrix_KNN.png\")\n",
    "plt.show()"
   ]
  },
  {
   "cell_type": "code",
   "execution_count": 90,
   "id": "57aa56f8",
   "metadata": {},
   "outputs": [
    {
     "data": {
      "text/plain": [
       "1.0"
      ]
     },
     "execution_count": 90,
     "metadata": {},
     "output_type": "execute_result"
    }
   ],
   "source": [
    "# Accuracy of the model\n",
    "metrics.accuracy_score(y_test, y_pred)"
   ]
  },
  {
   "cell_type": "code",
   "execution_count": 91,
   "id": "5e7e9a83",
   "metadata": {},
   "outputs": [
    {
     "name": "stdout",
     "output_type": "stream",
     "text": [
      "Accuracy:1.0\n"
     ]
    }
   ],
   "source": [
    "print(f\"Accuracy:{metrics.accuracy_score(y_test, y_pred)}\")"
   ]
  },
  {
   "cell_type": "code",
   "execution_count": 92,
   "id": "d3435db2",
   "metadata": {
    "scrolled": true
   },
   "outputs": [
    {
     "name": "stdout",
     "output_type": "stream",
     "text": [
      "More metrics about the model.\n",
      "\n",
      "              precision    recall  f1-score   support\n",
      "\n",
      "         0.0       1.00      1.00      1.00        60\n",
      "         1.0       1.00      1.00      1.00        14\n",
      "         2.0       1.00      1.00      1.00        24\n",
      "         3.0       1.00      1.00      1.00        33\n",
      "         4.0       1.00      1.00      1.00        27\n",
      "\n",
      "    accuracy                           1.00       158\n",
      "   macro avg       1.00      1.00      1.00       158\n",
      "weighted avg       1.00      1.00      1.00       158\n",
      "\n"
     ]
    }
   ],
   "source": [
    "print(f'More metrics about the model.\\n\\n' \\\n",
    "      f'{metrics.classification_report(y_test, y_pred, labels=[0.0, 1.0, 2.0, 3.0, 4.0])}')"
   ]
  },
  {
   "cell_type": "code",
   "execution_count": null,
   "id": "5098c08f",
   "metadata": {},
   "outputs": [],
   "source": []
  },
  {
   "cell_type": "markdown",
   "id": "86569a93",
   "metadata": {},
   "source": [
    "### Stratified Kfold"
   ]
  },
  {
   "cell_type": "code",
   "execution_count": 93,
   "id": "8246b86b",
   "metadata": {},
   "outputs": [],
   "source": [
    "score_average = []\n",
    "error_average = []\n",
    "\n",
    "k_values = []\n",
    "\n",
    "def get_score(model, X_train, X_test, y_train, y_test):\n",
    "    model.fit(X_train, y_train)\n",
    "    return model.score(X_test, y_test)\n",
    "\n",
    "LR = LogisticRegression(max_iter=300) # Parameters to tune?\n",
    "\n",
    "for k in range(5, 10):\n",
    "    folds = StratifiedKFold(n_splits=k, shuffle = True, random_state = 100)\n",
    "    k_values.append(k)\n",
    "    error = []\n",
    "    scores = []\n",
    "                   \n",
    "    for train_index, test_index in folds.split(input_data,label_data):\n",
    "        X_train, X_test, y_train, y_test = input_data[train_index], input_data[test_index], label_data[train_index], label_data[test_index]\n",
    "        \n",
    "        scores.append(get_score(LR, X_train, X_test, y_train, y_test))\n",
    "        \n",
    "        preds = LR.predict(X_test)\n",
    "        squared_error = np.power(y_test - preds,2)\n",
    "        error.append(np.mean(squared_error))\n",
    "        \n",
    "    error_average.append(np.mean(error))\n",
    "    score_average.append(round(np.mean(scores),4))"
   ]
  },
  {
   "cell_type": "code",
   "execution_count": 94,
   "id": "03473e36",
   "metadata": {},
   "outputs": [
    {
     "name": "stdout",
     "output_type": "stream",
     "text": [
      "1.0\n"
     ]
    }
   ],
   "source": [
    "print(np.mean(score_average))"
   ]
  },
  {
   "cell_type": "code",
   "execution_count": 95,
   "id": "bf87a129",
   "metadata": {},
   "outputs": [
    {
     "data": {
      "text/plain": [
       "Text(0, 0.5, 'Mean Score.')"
      ]
     },
     "execution_count": 95,
     "metadata": {},
     "output_type": "execute_result"
    },
    {
     "data": {
      "image/png": "[encoded data removed]",
      "text/plain": [
       "<Figure size 864x432 with 1 Axes>"
      ]
     },
     "metadata": {
      "needs_background": "light"
     },
     "output_type": "display_data"
    }
   ],
   "source": [
    "#SCORE PLOT\n",
    "plt.figure(figsize=(12, 6))\n",
    "#plt.plot(k_values, error_average, color='blue', marker='o',markerfacecolor='red', markersize=10)\n",
    "plt.plot(k_values, score_average, color='red', marker='o', markerfacecolor='green', markersize=10)\n",
    "\n",
    "plt.title('Score value - K Value.')\n",
    "plt.xlabel('K Value.')\n",
    "plt.ylabel('Mean Score.')\n",
    "#plt.savefig(\"KNN_error_over_multiple_neighbors.png\")"
   ]
  },
  {
   "cell_type": "code",
   "execution_count": 96,
   "id": "9b71b85c",
   "metadata": {
    "scrolled": true
   },
   "outputs": [
    {
     "data": {
      "text/plain": [
       "Text(0, 0.5, 'Mean Squared Error.')"
      ]
     },
     "execution_count": 96,
     "metadata": {},
     "output_type": "execute_result"
    },
    {
     "data": {
      "image/png": "[encoded data removed]",
      "text/plain": [
       "<Figure size 864x432 with 1 Axes>"
      ]
     },
     "metadata": {
      "needs_background": "light"
     },
     "output_type": "display_data"
    }
   ],
   "source": [
    "#SQUARE ERROR PLOT\n",
    "plt.figure(figsize=(12, 6))\n",
    "plt.plot(k_values, error_average, color='blue', marker='o',\n",
    "         markerfacecolor='red', markersize=10)\n",
    "#plt.plot(k_values, score_average, color='red', marker='o', markerfacecolor='green', markersize=10)\n",
    "\n",
    "plt.title('Error Rate K Value.')\n",
    "plt.xlabel('K Value.')\n",
    "plt.ylabel('Mean Squared Error.')\n",
    "#plt.savefig(\"KNN_error_over_multiple_neighbors.png\")"
   ]
  },
  {
   "cell_type": "code",
   "execution_count": 97,
   "id": "b73fe0e1",
   "metadata": {},
   "outputs": [
    {
     "name": "stdout",
     "output_type": "stream",
     "text": [
      "1.0\n"
     ]
    }
   ],
   "source": [
    "# After studying the optimal parameters, we run the model with the selected ones\n",
    "\n",
    "k = 5\n",
    "\n",
    "LR = LogisticRegression() # Parameters to tune?\n",
    "\n",
    "folds = StratifiedKFold(n_splits=k, shuffle = True, random_state = 100)\n",
    "\n",
    "scores = []\n",
    "\n",
    "def get_score(model, X_train, X_test, y_train, y_test):\n",
    "    model.fit(X_train, y_train)\n",
    "    return model.score(X_test, y_test)\n",
    "\n",
    "# Index of the spliting\n",
    "for train_index, test_index in folds.split(input_data,label_data):\n",
    "    X_train, X_test, y_train, y_test = input_data[train_index], input_data[test_index], label_data[train_index], label_data[test_index]\n",
    "    scores.append(get_score(LR, X_train, X_test, y_train, y_test))\n",
    "\n",
    "print(np.mean(scores))"
   ]
  },
  {
   "cell_type": "code",
   "execution_count": 98,
   "id": "743cd497",
   "metadata": {},
   "outputs": [],
   "source": [
    "# We predict the labels of the test data (Depending on the fold we have different, how we do it with the confusion matrix)\n",
    "y_pred = LR.predict(X_test)"
   ]
  },
  {
   "cell_type": "code",
   "execution_count": 99,
   "id": "0f0b63c7",
   "metadata": {},
   "outputs": [
    {
     "data": {
      "image/png": "[encoded data removed]",
      "text/plain": [
       "<Figure size 576x360 with 2 Axes>"
      ]
     },
     "metadata": {
      "needs_background": "light"
     },
     "output_type": "display_data"
    }
   ],
   "source": [
    "#Confusion matrix to evaluate the model \n",
    "plt.figure(figsize=(8,5))\n",
    "confusion_matrix = pd.crosstab(y_test, y_pred, rownames=['Actual'], \n",
    "                               colnames=['Predicted'])\n",
    "\n",
    "sns.heatmap(confusion_matrix, annot=True)\n",
    "plt.savefig(\"Confusion_Matrix_KNN.png\")\n",
    "plt.show()"
   ]
  },
  {
   "cell_type": "code",
   "execution_count": 100,
   "id": "57aa56f8",
   "metadata": {},
   "outputs": [
    {
     "data": {
      "text/plain": [
       "1.0"
      ]
     },
     "execution_count": 100,
     "metadata": {},
     "output_type": "execute_result"
    }
   ],
   "source": [
    "# Accuracy of the model --> This is just for this iteration, the real score is the mean of all the scores\n",
    "metrics.accuracy_score(y_test, y_pred)"
   ]
  },
  {
   "cell_type": "code",
   "execution_count": 101,
   "id": "5e7e9a83",
   "metadata": {},
   "outputs": [
    {
     "name": "stdout",
     "output_type": "stream",
     "text": [
      "Accuracy:1.0\n"
     ]
    }
   ],
   "source": [
    "print(f\"Accuracy:{metrics.accuracy_score(y_test, y_pred)}\")"
   ]
  },
  {
   "cell_type": "code",
   "execution_count": 102,
   "id": "d3435db2",
   "metadata": {
    "scrolled": false
   },
   "outputs": [
    {
     "name": "stdout",
     "output_type": "stream",
     "text": [
      "More metrics about the model.\n",
      "\n",
      "              precision    recall  f1-score   support\n",
      "\n",
      "         0.0       1.00      1.00      1.00        60\n",
      "         1.0       1.00      1.00      1.00        15\n",
      "         2.0       1.00      1.00      1.00        28\n",
      "         3.0       1.00      1.00      1.00        28\n",
      "         4.0       1.00      1.00      1.00        26\n",
      "\n",
      "    accuracy                           1.00       157\n",
      "   macro avg       1.00      1.00      1.00       157\n",
      "weighted avg       1.00      1.00      1.00       157\n",
      "\n"
     ]
    }
   ],
   "source": [
    "print(f'More metrics about the model.\\n\\n' \\\n",
    "      f'{metrics.classification_report(y_test, y_pred, labels=[0.0, 1.0, 2.0, 3.0, 4.0])}')"
   ]
  },
  {
   "cell_type": "markdown",
   "id": "6b057249",
   "metadata": {},
   "source": [
    "--------------\n",
    "# Model Implementation: Decision Tree"
   ]
  },
  {
   "cell_type": "markdown",
   "id": "c800d5a4",
   "metadata": {},
   "source": [
    "###  PCA_80% Training data, 20% test data"
   ]
  },
  {
   "cell_type": "code",
   "execution_count": 103,
   "id": "24444e09",
   "metadata": {},
   "outputs": [],
   "source": [
    "n_components_array_DT = []\n",
    "score_array_DT = []\n",
    "\n",
    "for n_components_DT in [3,4,5,6,7,8,9,10,11,12,13,14,15,20,25,50,75,100,150,200,250]:\n",
    "    \n",
    "    pca = PCA(n_components=n_components_DT)\n",
    "\n",
    "    # Apply PCA in input vector\n",
    "    pca.fit(dataset.iloc[:,:-1]) \n",
    "\n",
    "    # Save results in an np.array\n",
    "    reduced = pca.transform(dataset.iloc[:,:-1])\n",
    "\n",
    "    # Save labels in an np.array\n",
    "    x = dataset['Class'].to_numpy()\n",
    "\n",
    "    # Create final dataframe with reduced dimensions\n",
    "    dataset_reduced_PCA = pd.DataFrame(np.column_stack((reduced, x)))\n",
    "\n",
    "\n",
    "    input_data = dataset_reduced_PCA.iloc[:,:-1].values\n",
    "    label_data = dataset_reduced_PCA.iloc[:,-1].values\n",
    "\n",
    "    # We split the data  \n",
    "    X_train, X_test, y_train, y_test = train_test_split(input_data,label_data, test_size=0.2)\n",
    "\n",
    "    # Building and training the model\n",
    "    DT = DecisionTreeClassifier(criterion='entropy', random_state=np.random.RandomState(5))\n",
    "    DT = DT.fit(X_train,y_train)\n",
    "\n",
    "    # We predict the labels of the test data\n",
    "    y_pred = DT.predict(X_test)\n",
    "\n",
    "    # Accuracy of the model\n",
    "    metrics.accuracy_score(y_test, y_pred)\n",
    "    \n",
    "    n_components_array_DT.append(n_components_DT)\n",
    "    score_array_DT.append(metrics.accuracy_score(y_test, y_pred))\n"
   ]
  },
  {
   "cell_type": "code",
   "execution_count": 104,
   "id": "9029da9b",
   "metadata": {},
   "outputs": [
    {
     "data": {
      "image/png": "[encoded data removed]",
      "text/plain": [
       "<Figure size 432x288 with 1 Axes>"
      ]
     },
     "metadata": {
      "needs_background": "light"
     },
     "output_type": "display_data"
    }
   ],
   "source": [
    "# Plot with regards of components\n",
    "\n",
    "plt.plot(n_components_array_DT, score_array_DT,label='Model score')\n",
    "plt.ylabel('Model accuracy')\n",
    "plt.xlabel('Number of features')\n",
    "plt.legend(loc='best')\n",
    "plt.tight_layout()\n",
    "plt.show()"
   ]
  },
  {
   "cell_type": "markdown",
   "id": "61bbb594",
   "metadata": {},
   "source": [
    "#### Selected parameters for PCA dimension reduction"
   ]
  },
  {
   "cell_type": "code",
   "execution_count": 105,
   "id": "3433e76a",
   "metadata": {},
   "outputs": [],
   "source": [
    "# Selected value dimension reduction = \n",
    "\n",
    "pca = PCA(n_components=0.70)\n",
    "\n",
    "# Apply PCA in input vector\n",
    "pca.fit(dataset.iloc[:,:-1]) \n",
    "\n",
    "# Save results in an np.array\n",
    "reduced = pca.transform(dataset.iloc[:,:-1])\n",
    "\n",
    "# Save labels in an np.array\n",
    "x = dataset['Class'].to_numpy()\n",
    "\n",
    "# Create final dataframe with reduced dimensions\n",
    "dataset_reduced_PCA = pd.DataFrame(np.column_stack((reduced, x)))\n",
    "\n",
    "input_data = dataset_reduced_PCA.iloc[:,:-1].values\n",
    "label_data = dataset_reduced_PCA.iloc[:,-1].values\n",
    "\n",
    "# We split the data  \n",
    "X_train, X_test, y_train, y_test = train_test_split(input_data,label_data, test_size=0.2)"
   ]
  },
  {
   "cell_type": "code",
   "execution_count": 106,
   "id": "b8ac0713",
   "metadata": {
    "scrolled": true
   },
   "outputs": [
    {
     "data": {
      "text/plain": [
       "LogisticRegression(max_iter=300)"
      ]
     },
     "execution_count": 106,
     "metadata": {},
     "output_type": "execute_result"
    }
   ],
   "source": [
    "# Building and training the model\n",
    "LR = LogisticRegression(max_iter=300) # Parameters to tune?\n",
    "LR.fit(X_train, y_train)"
   ]
  },
  {
   "cell_type": "code",
   "execution_count": 107,
   "id": "5c4531f8",
   "metadata": {},
   "outputs": [],
   "source": [
    "# We predict the labels of the test data\n",
    "y_pred = LR.predict(X_test)"
   ]
  },
  {
   "cell_type": "code",
   "execution_count": 108,
   "id": "0f0b63c7",
   "metadata": {
    "scrolled": true
   },
   "outputs": [
    {
     "data": {
      "image/png": "[encoded data removed]",
      "text/plain": [
       "<Figure size 576x360 with 2 Axes>"
      ]
     },
     "metadata": {
      "needs_background": "light"
     },
     "output_type": "display_data"
    }
   ],
   "source": [
    "#Confusion matrix to evaluate the model \n",
    "plt.figure(figsize=(8,5))\n",
    "confusion_matrix = pd.crosstab(y_test, y_pred, rownames=['Actual'], \n",
    "                               colnames=['Predicted'])\n",
    "\n",
    "sns.heatmap(confusion_matrix, annot=True)\n",
    "#plt.savefig(\"Confusion_Matrix_KNN.png\")\n",
    "plt.show()"
   ]
  },
  {
   "cell_type": "code",
   "execution_count": 109,
   "id": "57aa56f8",
   "metadata": {},
   "outputs": [
    {
     "data": {
      "text/plain": [
       "1.0"
      ]
     },
     "execution_count": 109,
     "metadata": {},
     "output_type": "execute_result"
    }
   ],
   "source": [
    "# Accuracy of the model\n",
    "metrics.accuracy_score(y_test, y_pred)"
   ]
  },
  {
   "cell_type": "code",
   "execution_count": 110,
   "id": "5e7e9a83",
   "metadata": {},
   "outputs": [
    {
     "name": "stdout",
     "output_type": "stream",
     "text": [
      "Accuracy:1.0\n"
     ]
    }
   ],
   "source": [
    "print(f\"Accuracy:{metrics.accuracy_score(y_test, y_pred)}\")"
   ]
  },
  {
   "cell_type": "code",
   "execution_count": 111,
   "id": "d3435db2",
   "metadata": {
    "scrolled": false
   },
   "outputs": [
    {
     "name": "stdout",
     "output_type": "stream",
     "text": [
      "More metrics about the model.\n",
      "\n",
      "              precision    recall  f1-score   support\n",
      "\n",
      "         0.0       1.00      1.00      1.00        64\n",
      "         1.0       1.00      1.00      1.00        18\n",
      "         2.0       1.00      1.00      1.00        32\n",
      "         3.0       1.00      1.00      1.00        22\n",
      "         4.0       1.00      1.00      1.00        22\n",
      "\n",
      "    accuracy                           1.00       158\n",
      "   macro avg       1.00      1.00      1.00       158\n",
      "weighted avg       1.00      1.00      1.00       158\n",
      "\n"
     ]
    }
   ],
   "source": [
    "print(f'More metrics about the model.\\n\\n' \\\n",
    "      f'{metrics.classification_report(y_test, y_pred, labels=[0.0, 1.0, 2.0, 3.0, 4.0])}')"
   ]
  },
  {
   "cell_type": "markdown",
   "id": "c800d5a4",
   "metadata": {},
   "source": [
    "### LDA_80% Training data, 20% test data"
   ]
  },
  {
   "cell_type": "code",
   "execution_count": 112,
   "id": "24444e09",
   "metadata": {},
   "outputs": [],
   "source": [
    "n_components_array_LR = []\n",
    "score_array_LR = []\n",
    "\n",
    "for n_components_LR in [1,2,3,4]:\n",
    "    \n",
    "    lda = LinearDiscriminantAnalysis(n_components=n_components_LR)\n",
    "\n",
    "    # Apply PCA in input vector\n",
    "    lda.fit(dataset.iloc[:,:-1],dataset.iloc[:,-1:].values.ravel()) \n",
    "\n",
    "    # Save results in an np.array\n",
    "    reduced = lda.transform(dataset.iloc[:,:-1].values)\n",
    "\n",
    "    # Save labels in an np.array\n",
    "    x = dataset['Class'].to_numpy()\n",
    "\n",
    "    # Create final dataframe with reduced dimensions\n",
    "    dataset_reduced_LDA = pd.DataFrame(np.column_stack((reduced, x)))\n",
    "\n",
    "\n",
    "    input_data = dataset_reduced_LDA.iloc[:,:-1].values\n",
    "    label_data = dataset_reduced_LDA.iloc[:,-1].values\n",
    "\n",
    "    # We split the data  \n",
    "    X_train, X_test, y_train, y_test = train_test_split(input_data,label_data, test_size=0.2)\n",
    "\n",
    "    # Building and training the model\n",
    "    LR = LogisticRegression(max_iter=2000) # Parameters to tune?\n",
    "    LR.fit(X_train, y_train)\n",
    "\n",
    "    # We predict the labels of the test data\n",
    "    y_pred = LR.predict(X_test)\n",
    "\n",
    "    # Accuracy of the model\n",
    "    metrics.accuracy_score(y_test, y_pred)\n",
    "    \n",
    "    n_components_array_LR.append(n_components_LR)\n",
    "    score_array_LR.append(metrics.accuracy_score(y_test, y_pred))\n"
   ]
  },
  {
   "cell_type": "code",
   "execution_count": 113,
   "id": "9029da9b",
   "metadata": {},
   "outputs": [
    {
     "data": {
      "image/png": "[encoded data removed]",
      "text/plain": [
       "<Figure size 432x288 with 1 Axes>"
      ]
     },
     "metadata": {
      "needs_background": "light"
     },
     "output_type": "display_data"
    }
   ],
   "source": [
    "# Plot with regards of components\n",
    "\n",
    "plt.plot(n_components_array_LR, score_array_LR,label='Model score')\n",
    "plt.ylabel('Model accuracy')\n",
    "plt.xlabel('Number of features')\n",
    "plt.legend(loc='best')\n",
    "plt.tight_layout()\n",
    "plt.show()"
   ]
  },
  {
   "cell_type": "markdown",
   "id": "61bbb594",
   "metadata": {},
   "source": [
    "#### Selected parameters for LDA dimension reduction"
   ]
  },
  {
   "cell_type": "code",
   "execution_count": 114,
   "id": "3433e76a",
   "metadata": {},
   "outputs": [],
   "source": [
    "# Selected value dimension reduction = \n",
    "\n",
    "lda = LinearDiscriminantAnalysis(n_components=4)\n",
    "\n",
    "# Apply PCA in input vector\n",
    "lda.fit(dataset.iloc[:,:-1],dataset.iloc[:,-1:].values.ravel()) \n",
    "\n",
    "# Save results in an np.array\n",
    "reduced = lda.transform(dataset.iloc[:,:-1].values)\n",
    "\n",
    "# Save labels in an np.array\n",
    "x = dataset['Class'].to_numpy()\n",
    "\n",
    "# Create final dataframe with reduced dimensions\n",
    "dataset_reduced_LDA = pd.DataFrame(np.column_stack((reduced, x)))\n",
    "\n",
    "input_data = dataset_reduced_LDA.iloc[:,:-1].values\n",
    "label_data = dataset_reduced_LDA.iloc[:,-1].values\n",
    "\n",
    "# We split the data  \n",
    "X_train, X_test, y_train, y_test = train_test_split(input_data,label_data, test_size=0.2)"
   ]
  },
  {
   "cell_type": "code",
   "execution_count": 115,
   "id": "b8ac0713",
   "metadata": {
    "scrolled": true
   },
   "outputs": [
    {
     "data": {
      "text/plain": [
       "LogisticRegression(max_iter=300)"
      ]
     },
     "execution_count": 115,
     "metadata": {},
     "output_type": "execute_result"
    }
   ],
   "source": [
    "# Building and training the model\n",
    "LR = LogisticRegression(max_iter=300) # Parameters to tune?\n",
    "LR.fit(X_train, y_train)"
   ]
  },
  {
   "cell_type": "code",
   "execution_count": 116,
   "id": "5c4531f8",
   "metadata": {},
   "outputs": [],
   "source": [
    "# We predict the labels of the test data\n",
    "y_pred = LR.predict(X_test)"
   ]
  },
  {
   "cell_type": "code",
   "execution_count": 117,
   "id": "0f0b63c7",
   "metadata": {
    "scrolled": true
   },
   "outputs": [
    {
     "data": {
      "image/png": "[encoded data removed]",
      "text/plain": [
       "<Figure size 576x360 with 2 Axes>"
      ]
     },
     "metadata": {
      "needs_background": "light"
     },
     "output_type": "display_data"
    }
   ],
   "source": [
    "#Confusion matrix to evaluate the model \n",
    "plt.figure(figsize=(8,5))\n",
    "confusion_matrix = pd.crosstab(y_test, y_pred, rownames=['Actual'], \n",
    "                               colnames=['Predicted'])\n",
    "\n",
    "sns.heatmap(confusion_matrix, annot=True)\n",
    "#plt.savefig(\"Confusion_Matrix_KNN.png\")\n",
    "plt.show()"
   ]
  },
  {
   "cell_type": "code",
   "execution_count": 118,
   "id": "57aa56f8",
   "metadata": {},
   "outputs": [
    {
     "data": {
      "text/plain": [
       "1.0"
      ]
     },
     "execution_count": 118,
     "metadata": {},
     "output_type": "execute_result"
    }
   ],
   "source": [
    "# Accuracy of the model\n",
    "metrics.accuracy_score(y_test, y_pred)"
   ]
  },
  {
   "cell_type": "code",
   "execution_count": 119,
   "id": "5e7e9a83",
   "metadata": {},
   "outputs": [
    {
     "name": "stdout",
     "output_type": "stream",
     "text": [
      "Accuracy:1.0\n"
     ]
    }
   ],
   "source": [
    "print(f\"Accuracy:{metrics.accuracy_score(y_test, y_pred)}\")"
   ]
  },
  {
   "cell_type": "code",
   "execution_count": 120,
   "id": "d3435db2",
   "metadata": {
    "scrolled": true
   },
   "outputs": [
    {
     "name": "stdout",
     "output_type": "stream",
     "text": [
      "More metrics about the model.\n",
      "\n",
      "              precision    recall  f1-score   support\n",
      "\n",
      "         0.0       1.00      1.00      1.00        62\n",
      "         1.0       1.00      1.00      1.00        12\n",
      "         2.0       1.00      1.00      1.00        34\n",
      "         3.0       1.00      1.00      1.00        21\n",
      "         4.0       1.00      1.00      1.00        29\n",
      "\n",
      "    accuracy                           1.00       158\n",
      "   macro avg       1.00      1.00      1.00       158\n",
      "weighted avg       1.00      1.00      1.00       158\n",
      "\n"
     ]
    }
   ],
   "source": [
    "print(f'More metrics about the model.\\n\\n' \\\n",
    "      f'{metrics.classification_report(y_test, y_pred, labels=[0.0, 1.0, 2.0, 3.0, 4.0])}')"
   ]
  },
  {
   "cell_type": "code",
   "execution_count": null,
   "id": "b0fc0e0c",
   "metadata": {},
   "outputs": [],
   "source": []
  },
  {
   "cell_type": "code",
   "execution_count": null,
   "id": "a76fb4f9",
   "metadata": {},
   "outputs": [],
   "source": []
  },
  {
   "cell_type": "code",
   "execution_count": null,
   "id": "0b299d83",
   "metadata": {},
   "outputs": [],
   "source": []
  },
  {
   "cell_type": "code",
   "execution_count": null,
   "id": "444363b2",
   "metadata": {},
   "outputs": [],
   "source": []
  },
  {
   "cell_type": "code",
   "execution_count": null,
   "id": "149228bb",
   "metadata": {},
   "outputs": [],
   "source": []
  },
  {
   "cell_type": "code",
   "execution_count": 121,
   "id": "c256fe00",
   "metadata": {},
   "outputs": [],
   "source": [
    "# We split the data  \n",
    "X_train, X_test, y_train, y_test = train_test_split(input_data,label_data, test_size=0.2)"
   ]
  },
  {
   "cell_type": "code",
   "execution_count": 122,
   "id": "b8ac0713",
   "metadata": {},
   "outputs": [],
   "source": [
    "# Creating model and predicting output values on testing data.\n",
    "DT = DecisionTreeClassifier()\n",
    "\n",
    "DT.fit(X_train,y_train)\n",
    "\n",
    "y_pred = DT.predict(X_test)"
   ]
  },
  {
   "cell_type": "code",
   "execution_count": 123,
   "id": "5c4531f8",
   "metadata": {},
   "outputs": [],
   "source": [
    "# We predict the labels of the test data\n",
    "y_pred = DT.predict(X_test)"
   ]
  },
  {
   "cell_type": "code",
   "execution_count": 124,
   "id": "0f0b63c7",
   "metadata": {
    "scrolled": true
   },
   "outputs": [
    {
     "data": {
      "image/png": "[encoded data removed]",
      "text/plain": [
       "<Figure size 576x360 with 2 Axes>"
      ]
     },
     "metadata": {
      "needs_background": "light"
     },
     "output_type": "display_data"
    }
   ],
   "source": [
    "#Confusion matrix to evaluate the model \n",
    "plt.figure(figsize=(8,5))\n",
    "confusion_matrix = pd.crosstab(y_test, y_pred, rownames=['Actual'], \n",
    "                               colnames=['Predicted'])\n",
    "\n",
    "sns.heatmap(confusion_matrix, annot=True)\n",
    "#plt.savefig(\"Confusion_Matrix_KNN.png\")\n",
    "plt.show()"
   ]
  },
  {
   "cell_type": "code",
   "execution_count": 125,
   "id": "57aa56f8",
   "metadata": {},
   "outputs": [
    {
     "data": {
      "text/plain": [
       "1.0"
      ]
     },
     "execution_count": 125,
     "metadata": {},
     "output_type": "execute_result"
    }
   ],
   "source": [
    "# Accuracy of the model\n",
    "metrics.accuracy_score(y_test, y_pred)"
   ]
  },
  {
   "cell_type": "code",
   "execution_count": 126,
   "id": "5e7e9a83",
   "metadata": {},
   "outputs": [
    {
     "name": "stdout",
     "output_type": "stream",
     "text": [
      "Accuracy:1.0\n"
     ]
    }
   ],
   "source": [
    "print(f\"Accuracy:{metrics.accuracy_score(y_test, y_pred)}\")"
   ]
  },
  {
   "cell_type": "code",
   "execution_count": 127,
   "id": "d3435db2",
   "metadata": {
    "scrolled": true
   },
   "outputs": [
    {
     "name": "stdout",
     "output_type": "stream",
     "text": [
      "More metrics about the model.\n",
      "\n",
      "              precision    recall  f1-score   support\n",
      "\n",
      "         0.0       1.00      1.00      1.00        58\n",
      "         1.0       1.00      1.00      1.00        10\n",
      "         2.0       1.00      1.00      1.00        32\n",
      "         3.0       1.00      1.00      1.00        26\n",
      "         4.0       1.00      1.00      1.00        32\n",
      "\n",
      "    accuracy                           1.00       158\n",
      "   macro avg       1.00      1.00      1.00       158\n",
      "weighted avg       1.00      1.00      1.00       158\n",
      "\n"
     ]
    }
   ],
   "source": [
    "print(f'More metrics about the model.\\n\\n' \\\n",
    "      f'{metrics.classification_report(y_test, y_pred, labels=[0.0, 1.0, 2.0, 3.0, 4.0])}')"
   ]
  },
  {
   "cell_type": "markdown",
   "id": "86569a93",
   "metadata": {},
   "source": [
    "### Stratified Kfold"
   ]
  },
  {
   "cell_type": "code",
   "execution_count": 128,
   "id": "3c9fbdcb",
   "metadata": {},
   "outputs": [],
   "source": [
    "error_average = []\n",
    "score_average = []\n",
    "\n",
    "k_values = []\n",
    "\n",
    "\n",
    "def get_score(model, X_train, X_test, y_train, y_test):\n",
    "    model.fit(X_train, y_train)\n",
    "    return model.score(X_test, y_test)\n",
    "\n",
    "DT = DecisionTreeClassifier() # Parameters to tune?\n",
    "\n",
    "for k in range(5, 10):\n",
    "    folds = StratifiedKFold(n_splits=k, shuffle = True, random_state = 100)\n",
    "    k_values.append(k)\n",
    "    error = []\n",
    "    scores = []\n",
    "                   \n",
    "    for train_index, test_index in folds.split(input_data,label_data):\n",
    "        X_train, X_test, y_train, y_test = input_data[train_index], input_data[test_index], label_data[train_index], label_data[test_index]\n",
    "        \n",
    "        scores.append(get_score(DT, X_train, X_test, y_train, y_test))\n",
    "        \n",
    "        preds = DT.predict(X_test)\n",
    "        squared_error = np.power(y_test - preds,2)\n",
    "        error.append(np.mean(squared_error))\n",
    "        \n",
    "    error_average.append(np.mean(error))\n",
    "    score_average.append(round(np.mean(scores),4))\n",
    "    \n"
   ]
  },
  {
   "cell_type": "code",
   "execution_count": 129,
   "id": "0395f172",
   "metadata": {},
   "outputs": [
    {
     "data": {
      "text/plain": [
       "Text(0, 0.5, 'Mean Score.')"
      ]
     },
     "execution_count": 129,
     "metadata": {},
     "output_type": "execute_result"
    },
    {
     "data": {
      "image/png": "[encoded data removed]",
      "text/plain": [
       "<Figure size 864x432 with 1 Axes>"
      ]
     },
     "metadata": {
      "needs_background": "light"
     },
     "output_type": "display_data"
    }
   ],
   "source": [
    "#SCORE PLOT\n",
    "plt.figure(figsize=(12, 6))\n",
    "#plt.plot(k_values, error_average, color='blue', marker='o',markerfacecolor='red', markersize=10)\n",
    "plt.plot(k_values, score_average, color='red', marker='o', markerfacecolor='green', markersize=10)\n",
    "\n",
    "plt.title('Score value - K Value.')\n",
    "plt.xlabel('K Value.')\n",
    "plt.ylabel('Mean Score.')\n",
    "#plt.savefig(\"KNN_error_over_multiple_neighbors.png\")"
   ]
  },
  {
   "cell_type": "code",
   "execution_count": 130,
   "id": "2a53dc86",
   "metadata": {
    "scrolled": true
   },
   "outputs": [
    {
     "data": {
      "text/plain": [
       "Text(0, 0.5, 'Mean Squared Error.')"
      ]
     },
     "execution_count": 130,
     "metadata": {},
     "output_type": "execute_result"
    },
    {
     "data": {
      "image/png": "[encoded data removed]",
      "text/plain": [
       "<Figure size 864x432 with 1 Axes>"
      ]
     },
     "metadata": {
      "needs_background": "light"
     },
     "output_type": "display_data"
    }
   ],
   "source": [
    "#SQUARE ERROR PLOT\n",
    "plt.figure(figsize=(12, 6))\n",
    "plt.plot(k_values, error_average, color='blue', marker='o',\n",
    "         markerfacecolor='red', markersize=10)\n",
    "#plt.plot(k_values, score_average, color='red', marker='o', markerfacecolor='green', markersize=10)\n",
    "\n",
    "plt.title('Error Rate K Value.')\n",
    "plt.xlabel('K Value.')\n",
    "plt.ylabel('Mean Squared Error.')\n",
    "#plt.savefig(\"KNN_error_over_multiple_neighbors.png\")"
   ]
  },
  {
   "cell_type": "code",
   "execution_count": 131,
   "id": "b73fe0e1",
   "metadata": {},
   "outputs": [
    {
     "name": "stdout",
     "output_type": "stream",
     "text": [
      "0.9974683544303797\n"
     ]
    }
   ],
   "source": [
    "# After studying the optimal parameters, we run the model with the selected ones\n",
    "\n",
    "k = 10\n",
    "\n",
    "DT = DecisionTreeClassifier() # Parameters to tune?\n",
    "\n",
    "folds = StratifiedKFold(n_splits=k, shuffle = True, random_state = 100)\n",
    "\n",
    "scores = []\n",
    "\n",
    "def get_score(model, X_train, X_test, y_train, y_test):\n",
    "    model.fit(X_train, y_train)\n",
    "    return model.score(X_test, y_test)\n",
    "\n",
    "# Index of the spliting\n",
    "for train_index, test_index in folds.split(input_data,label_data):\n",
    "    X_train, X_test, y_train, y_test = input_data[train_index], input_data[test_index], label_data[train_index], label_data[test_index]\n",
    "    scores.append(get_score(DT, X_train, X_test, y_train, y_test))\n",
    "\n",
    "print(np.mean(scores))"
   ]
  },
  {
   "cell_type": "code",
   "execution_count": 132,
   "id": "743cd497",
   "metadata": {},
   "outputs": [],
   "source": [
    "# We predict the labels of the test data (Depending on the fold we have different, how we do it with the confusion matrix)\n",
    "y_pred = DT.predict(X_test)"
   ]
  },
  {
   "cell_type": "code",
   "execution_count": 133,
   "id": "0f0b63c7",
   "metadata": {},
   "outputs": [
    {
     "data": {
      "image/png": "[encoded data removed]",
      "text/plain": [
       "<Figure size 576x360 with 2 Axes>"
      ]
     },
     "metadata": {
      "needs_background": "light"
     },
     "output_type": "display_data"
    }
   ],
   "source": [
    "#Confusion matrix to evaluate the model \n",
    "plt.figure(figsize=(8,5))\n",
    "confusion_matrix = pd.crosstab(y_test, y_pred, rownames=['Actual'], \n",
    "                               colnames=['Predicted'])\n",
    "\n",
    "sns.heatmap(confusion_matrix, annot=True)\n",
    "plt.savefig(\"Confusion_Matrix_KNN.png\")\n",
    "plt.show()"
   ]
  },
  {
   "cell_type": "code",
   "execution_count": 134,
   "id": "57aa56f8",
   "metadata": {},
   "outputs": [
    {
     "data": {
      "text/plain": [
       "1.0"
      ]
     },
     "execution_count": 134,
     "metadata": {},
     "output_type": "execute_result"
    }
   ],
   "source": [
    "# Accuracy of the model\n",
    "metrics.accuracy_score(y_test, y_pred)"
   ]
  },
  {
   "cell_type": "code",
   "execution_count": 135,
   "id": "5e7e9a83",
   "metadata": {},
   "outputs": [
    {
     "name": "stdout",
     "output_type": "stream",
     "text": [
      "Accuracy:1.0\n"
     ]
    }
   ],
   "source": [
    "print(f\"Accuracy:{metrics.accuracy_score(y_test, y_pred)}\")"
   ]
  },
  {
   "cell_type": "code",
   "execution_count": 136,
   "id": "d3435db2",
   "metadata": {
    "scrolled": false
   },
   "outputs": [
    {
     "name": "stdout",
     "output_type": "stream",
     "text": [
      "More metrics about the model.\n",
      "\n",
      "              precision    recall  f1-score   support\n",
      "\n",
      "         0.0       1.00      1.00      1.00        30\n",
      "         1.0       1.00      1.00      1.00         7\n",
      "         2.0       1.00      1.00      1.00        14\n",
      "         3.0       1.00      1.00      1.00        14\n",
      "         4.0       1.00      1.00      1.00        13\n",
      "\n",
      "    accuracy                           1.00        78\n",
      "   macro avg       1.00      1.00      1.00        78\n",
      "weighted avg       1.00      1.00      1.00        78\n",
      "\n"
     ]
    }
   ],
   "source": [
    "print(f'More metrics about the model.\\n\\n' \\\n",
    "      f'{metrics.classification_report(y_test, y_pred, labels=[0.0, 1.0, 2.0, 3.0, 4.0])}')"
   ]
  },
  {
   "cell_type": "markdown",
   "id": "e4e8fa79",
   "metadata": {},
   "source": [
    "### Decision Tree layout"
   ]
  },
  {
   "cell_type": "code",
   "execution_count": 137,
   "id": "559d5ad2",
   "metadata": {},
   "outputs": [],
   "source": [
    "from sklearn.tree import export_graphviz\n",
    "from six import StringIO\n",
    "from IPython.display import Image  \n",
    "import pydotplus"
   ]
  },
  {
   "cell_type": "code",
   "execution_count": 138,
   "id": "f1d54a96",
   "metadata": {},
   "outputs": [
    {
     "ename": "NameError",
     "evalue": "name 'clf' is not defined",
     "output_type": "error",
     "traceback": [
      "\u001b[0;31m---------------------------------------------------------------------------\u001b[0m",
      "\u001b[0;31mNameError\u001b[0m                                 Traceback (most recent call last)",
      "\u001b[0;32m<ipython-input-138-0fdb30a40f48>\u001b[0m in \u001b[0;36m<module>\u001b[0;34m\u001b[0m\n\u001b[1;32m      1\u001b[0m \u001b[0mdot_data\u001b[0m \u001b[0;34m=\u001b[0m \u001b[0mStringIO\u001b[0m\u001b[0;34m(\u001b[0m\u001b[0;34m)\u001b[0m\u001b[0;34m\u001b[0m\u001b[0;34m\u001b[0m\u001b[0m\n\u001b[0;32m----> 2\u001b[0;31m export_graphviz(clf, out_file=dot_data,  \n\u001b[0m\u001b[1;32m      3\u001b[0m                 \u001b[0mfilled\u001b[0m\u001b[0;34m=\u001b[0m\u001b[0;32mTrue\u001b[0m\u001b[0;34m,\u001b[0m \u001b[0mrounded\u001b[0m\u001b[0;34m=\u001b[0m\u001b[0;32mTrue\u001b[0m\u001b[0;34m,\u001b[0m\u001b[0;34m\u001b[0m\u001b[0;34m\u001b[0m\u001b[0m\n\u001b[1;32m      4\u001b[0m                 special_characters=True,feature_names = final_df.columns[:-1], class_names=final_df.Label.unique().astype(str))\n\u001b[1;32m      5\u001b[0m \u001b[0mgraph\u001b[0m \u001b[0;34m=\u001b[0m \u001b[0mpydotplus\u001b[0m\u001b[0;34m.\u001b[0m\u001b[0mgraph_from_dot_data\u001b[0m\u001b[0;34m(\u001b[0m\u001b[0mdot_data\u001b[0m\u001b[0;34m.\u001b[0m\u001b[0mgetvalue\u001b[0m\u001b[0;34m(\u001b[0m\u001b[0;34m)\u001b[0m\u001b[0;34m)\u001b[0m\u001b[0;34m\u001b[0m\u001b[0;34m\u001b[0m\u001b[0m\n",
      "\u001b[0;31mNameError\u001b[0m: name 'clf' is not defined"
     ]
    }
   ],
   "source": [
    "dot_data = StringIO()\n",
    "export_graphviz(clf, out_file=dot_data,  \n",
    "                filled=True, rounded=True,\n",
    "                special_characters=True,feature_names = final_df.columns[:-1], class_names=final_df.Label.unique().astype(str))\n",
    "graph = pydotplus.graph_from_dot_data(dot_data.getvalue())  \n",
    "\n",
    "#Image(graph.create_png())"
   ]
  },
  {
   "cell_type": "code",
   "execution_count": null,
   "id": "7fe96be7",
   "metadata": {},
   "outputs": [],
   "source": [
    "#cf = multilabel_confusion_matrix(y_test, y_pred, labels=[0.0, 1.0, 2.0, 3.0, 4.0])"
   ]
  },
  {
   "cell_type": "code",
   "execution_count": null,
   "id": "49dee6b6",
   "metadata": {},
   "outputs": [],
   "source": [
    "#lda = LinearDiscriminantAnalysis(n_components=3)\n",
    "#x_r2 = lda.fit(final_df.iloc[:, :-1], final_df.Label).transform(dataset.iloc[:, :-1])"
   ]
  },
  {
   "cell_type": "code",
   "execution_count": null,
   "id": "799b4fcb",
   "metadata": {},
   "outputs": [],
   "source": [
    "#corr = dataset.iloc[0:30, 0:30].corr()\n",
    "#f, ax = plt.subplots(figsize=(14, 10))\n",
    "#hm = sns.heatmap(round(corr,2), annot=True, ax=ax, cmap=\"coolwarm\",fmt='.2f',\n",
    "#                 linewidths=.05)"
   ]
  },
  {
   "cell_type": "code",
   "execution_count": null,
   "id": "61e7b9ea",
   "metadata": {},
   "outputs": [],
   "source": []
  }
 ],
 "metadata": {
  "kernelspec": {
   "display_name": "Python 3",
   "language": "python",
   "name": "python3"
  },
  "language_info": {
   "codemirror_mode": {
    "name": "ipython",
    "version": 3
   },
   "file_extension": ".py",
   "mimetype": "text/x-python",
   "name": "python",
   "nbconvert_exporter": "python",
   "pygments_lexer": "ipython3",
   "version": "3.8.2"
  }
 },
 "nbformat": 4,
 "nbformat_minor": 5
}
