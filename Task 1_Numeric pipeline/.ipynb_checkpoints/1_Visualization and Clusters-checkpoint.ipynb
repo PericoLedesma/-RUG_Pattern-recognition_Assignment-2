{
 "cells": [
  {
   "cell_type": "markdown",
   "id": "fd4733c2",
   "metadata": {},
   "source": [
    "# Import Libraries"
   ]
  },
  {
   "cell_type": "code",
   "execution_count": 44,
   "id": "c4f551c3",
   "metadata": {},
   "outputs": [],
   "source": [
    "import numpy as np\n",
    "import pandas as pd\n",
    "\n",
    "# Data visualization\n",
    "import matplotlib.pyplot as plt\n",
    "import seaborn as sns\n",
    "import matplotlib.cm as cm\n",
    "\n",
    "### From sklearn - Preprocesing \n",
    "from sklearn import preprocessing\n",
    "from sklearn.neighbors import LocalOutlierFactor\n",
    "from sklearn.discriminant_analysis import LinearDiscriminantAnalysis\n",
    "\n",
    "# Dimension reduction \n",
    "from sklearn.decomposition import PCA\n",
    "from sklearn.decomposition import TruncatedSVD\n",
    "\n",
    "# Clustering \n",
    "from sklearn.manifold import TSNE\n",
    "\n",
    "from sklearn.metrics import multilabel_confusion_matrix\n",
    "from sklearn import metrics "
   ]
  },
  {
   "cell_type": "markdown",
   "id": "a73fa7ed",
   "metadata": {},
   "source": [
    "-----\n",
    "# Reading files and merging features with labels"
   ]
  },
  {
   "cell_type": "code",
   "execution_count": 45,
   "id": "df5447cd",
   "metadata": {},
   "outputs": [],
   "source": [
    "#dataset = pd.read_csv(\"Genes\\data.csv\")\n",
    "dataset = pd.read_csv('/Users/pedrorodriguezdeledesmajimenez/1_Coding/Datasets/RUG_Pattern-recognition_Assignment-2/Task 1/Genres/data.csv')\n",
    "\n",
    "#labels = pd.read_csv(\"Genes\\labels.csv\")\n",
    "dataset_labels =pd.read_csv('/Users/pedrorodriguezdeledesmajimenez/1_Coding/Datasets/RUG_Pattern-recognition_Assignment-2/Task 1/Genres/labels.csv')"
   ]
  },
  {
   "cell_type": "code",
   "execution_count": 46,
   "id": "313d63c2",
   "metadata": {},
   "outputs": [],
   "source": [
    "# Merging both datasets and removing first column\n",
    "dataset = pd.merge(dataset, dataset_labels, on='Unnamed: 0').drop(\"Unnamed: 0\", axis=1)"
   ]
  },
  {
   "cell_type": "code",
   "execution_count": 47,
   "id": "504ab866",
   "metadata": {},
   "outputs": [
    {
     "name": "stdout",
     "output_type": "stream",
     "text": [
      "Dataset consists of 801 input sample vectors, each vector has 20532 gene features.\n",
      "Also the availbale classes are 5. The possible choises are PRAD, LUAD, BRCA, KIRC, COAD.\n",
      "As we can see, we have class imbalance.\n",
      "\n",
      "BRCA    300\n",
      "KIRC    146\n",
      "LUAD    141\n",
      "PRAD    136\n",
      "COAD     78\n"
     ]
    }
   ],
   "source": [
    "print(f'Dataset consists of {dataset.shape[0]} input sample vectors, each vector has {dataset.shape[1]} '\\\n",
    "      f'gene features.\\nAlso the availbale classes are {len(dataset[\"Class\"].unique())}.'\\\n",
    "      f' The possible choises are {\", \".join(val for val in dataset.Class.unique())}.')\n",
    "class_counts = dataset.Class.value_counts()\n",
    "print(f'As we can see, we have class imbalance.\\n\\n{class_counts.to_string()}')"
   ]
  },
  {
   "cell_type": "markdown",
   "id": "189a8761",
   "metadata": {},
   "source": [
    "----\n",
    "# Analizing data"
   ]
  },
  {
   "cell_type": "markdown",
   "id": "96e7ddbd",
   "metadata": {},
   "source": [
    "### Visualization of the data before removing outliers and normalizing"
   ]
  },
  {
   "cell_type": "markdown",
   "id": "be30f774",
   "metadata": {},
   "source": [
    "We will use the \"T-distributed stochastic neighbor embedding algorithm\" to visualize\n",
    "the high-dimensional data in a 2-D space"
   ]
  },
  {
   "cell_type": "code",
   "execution_count": 48,
   "id": "446616b3",
   "metadata": {},
   "outputs": [
    {
     "data": {
      "image/png": "[encoded data removed]",
      "text/plain": [
       "<Figure size 432x288 with 1 Axes>"
      ]
     },
     "metadata": {
      "needs_background": "light"
     },
     "output_type": "display_data"
    }
   ],
   "source": [
    "m = TSNE(init = 'pca', n_components = 2, learning_rate=20)\n",
    "tsne_features = m.fit_transform(dataset.drop('Class', axis=1))\n",
    "\n",
    "#Here we add the 2 new coordinate for each xample\n",
    "dataset.loc[:,'x'] = tsne_features[:,0]\n",
    "dataset.loc[:,'y'] = tsne_features[:,1]\n",
    "\n",
    "#Plot the xample in 2-D\n",
    "sns.scatterplot(x=\"x\", y=\"y\", hue='Class', data=dataset)\n",
    "plt.show()"
   ]
  },
  {
   "cell_type": "code",
   "execution_count": 49,
   "id": "27779a27",
   "metadata": {
    "scrolled": true
   },
   "outputs": [],
   "source": [
    "# We remove the 2 columns with the coordinates for representing the high dimension data in 2D\n",
    "dataset.drop(['x', 'y'], axis=1, inplace=True)"
   ]
  },
  {
   "cell_type": "markdown",
   "id": "097e08d2",
   "metadata": {},
   "source": [
    "###  Encode the labels of the dataset"
   ]
  },
  {
   "cell_type": "code",
   "execution_count": 50,
   "id": "c39e0a97",
   "metadata": {},
   "outputs": [],
   "source": [
    "# Encode the labels and updaate values\n",
    "le = preprocessing.LabelEncoder()\n",
    "dataset[\"Class\"] = le.fit_transform(dataset_labels.drop(\"Unnamed: 0\", axis=1).values.ravel())"
   ]
  },
  {
   "cell_type": "code",
   "execution_count": 51,
   "id": "88cfcbe2",
   "metadata": {},
   "outputs": [
    {
     "data": {
      "text/plain": [
       "{'BRCA': 0, 'COAD': 1, 'KIRC': 2, 'LUAD': 3, 'PRAD': 4}"
      ]
     },
     "execution_count": 51,
     "metadata": {},
     "output_type": "execute_result"
    }
   ],
   "source": [
    "# Let´s store all the labels\n",
    "keys = le.classes_\n",
    "\n",
    "# And now store labels with their encoded value \n",
    "values = le.transform(le.classes_)\n",
    "dictionary = dict(zip(keys, values))\n",
    "dictionary"
   ]
  },
  {
   "cell_type": "markdown",
   "id": "0879c665",
   "metadata": {},
   "source": [
    "### Normalize the dataset"
   ]
  },
  {
   "cell_type": "code",
   "execution_count": 52,
   "id": "f456d448",
   "metadata": {},
   "outputs": [],
   "source": [
    "# Lets store the dataset values without the columns titles\n",
    "x = dataset.iloc[:, :-1].values "
   ]
  },
  {
   "cell_type": "code",
   "execution_count": 53,
   "id": "22d48443",
   "metadata": {},
   "outputs": [],
   "source": [
    "# Let´s create an instance with the normalice function\n",
    "min_max_scaler = preprocessing.MinMaxScaler()\n",
    "\n",
    "# Let´s fit the normilice function\n",
    "x_scaled = min_max_scaler.fit_transform(x)\n",
    "\n",
    "# Let´s put in the dataframe the values scaled\n",
    "dataset.iloc[:, :-1] = pd.DataFrame(x_scaled)"
   ]
  },
  {
   "cell_type": "markdown",
   "id": "f3326635",
   "metadata": {},
   "source": [
    "### t-SNE After normalizing "
   ]
  },
  {
   "cell_type": "code",
   "execution_count": 54,
   "id": "d8b8b98e",
   "metadata": {},
   "outputs": [
    {
     "data": {
      "image/png": "[encoded data removed]",
      "text/plain": [
       "<Figure size 432x288 with 1 Axes>"
      ]
     },
     "metadata": {
      "needs_background": "light"
     },
     "output_type": "display_data"
    },
    {
     "data": {
      "text/plain": [
       "<Figure size 720x720 with 0 Axes>"
      ]
     },
     "metadata": {},
     "output_type": "display_data"
    }
   ],
   "source": [
    "m = TSNE(init = 'pca', n_components = 2, learning_rate=20)\n",
    "tsne_features = m.fit_transform(dataset.drop('Class', axis=1))\n",
    "\n",
    "#Here we add the 2 new coordinate for each xample\n",
    "dataset.loc[:,'x'] = tsne_features[:,0]\n",
    "dataset.loc[:,'y'] = tsne_features[:,1]\n",
    "\n",
    "#Plot the xample in 2-D\n",
    "sns.scatterplot(x=\"x\", y=\"y\", hue='Class', data=dataset)\n",
    "plt.figure(figsize=(10,10))\n",
    "plt.show()\n"
   ]
  },
  {
   "cell_type": "code",
   "execution_count": 81,
   "id": "ece0600f",
   "metadata": {},
   "outputs": [],
   "source": [
    "# We remove the 2 columns with the coordinates for representing the high dimension data in 2D\n",
    "dataset.drop(['x', 'y'], axis=1, inplace=True)"
   ]
  },
  {
   "cell_type": "markdown",
   "id": "20cb4a0e",
   "metadata": {},
   "source": [
    "### Search for outliers in dataset"
   ]
  },
  {
   "cell_type": "code",
   "execution_count": 55,
   "id": "45f0dab6",
   "metadata": {},
   "outputs": [
    {
     "data": {
      "text/plain": [
       "(801, 20533)"
      ]
     },
     "execution_count": 55,
     "metadata": {},
     "output_type": "execute_result"
    }
   ],
   "source": [
    "dataset.iloc[:,:-1].shape"
   ]
  },
  {
   "cell_type": "code",
   "execution_count": 56,
   "id": "61bea38e",
   "metadata": {
    "scrolled": true
   },
   "outputs": [],
   "source": [
    "lof = LocalOutlierFactor()\n",
    "# fit_predict return a numpy array of 1 if not an outlier and -1 if an outlier\n",
    "outliers = lof.fit_predict(dataset.iloc[:,:-1])"
   ]
  },
  {
   "cell_type": "code",
   "execution_count": 57,
   "id": "37f9b67f",
   "metadata": {},
   "outputs": [
    {
     "data": {
      "text/plain": [
       "(801, 20534)"
      ]
     },
     "execution_count": 57,
     "metadata": {},
     "output_type": "execute_result"
    }
   ],
   "source": [
    "# select all rows that are not outliers\n",
    "mask = outliers != -1\n",
    "dataset.shape"
   ]
  },
  {
   "cell_type": "code",
   "execution_count": 58,
   "id": "bc08fa71",
   "metadata": {},
   "outputs": [],
   "source": [
    "#unpack the mask to keep only non-outlier examples\n",
    "dataset = dataset[[*mask]]"
   ]
  },
  {
   "cell_type": "code",
   "execution_count": 59,
   "id": "f921ade4",
   "metadata": {},
   "outputs": [
    {
     "name": "stdout",
     "output_type": "stream",
     "text": [
      "Data size after removing outliers is: (796, 20534).\n"
     ]
    }
   ],
   "source": [
    "print(f'Data size after removing outliers is: {dataset.shape}.')"
   ]
  },
  {
   "cell_type": "markdown",
   "id": "af7e6047",
   "metadata": {},
   "source": [
    "# Clustering original data: KMEANS"
   ]
  },
  {
   "cell_type": "code",
   "execution_count": 60,
   "id": "ef9f430d",
   "metadata": {},
   "outputs": [],
   "source": [
    "from sklearn.cluster import KMeans\n",
    "from sklearn.datasets import make_blobs"
   ]
  },
  {
   "cell_type": "code",
   "execution_count": 61,
   "id": "ece72084",
   "metadata": {},
   "outputs": [],
   "source": [
    "X_df = dataset.drop(\"Class\", axis=1)\n",
    "X = X_df.values"
   ]
  },
  {
   "cell_type": "code",
   "execution_count": 62,
   "id": "7259242e",
   "metadata": {},
   "outputs": [
    {
     "data": {
      "text/plain": [
       "<function matplotlib.pyplot.show(close=None, block=None)>"
      ]
     },
     "execution_count": 62,
     "metadata": {},
     "output_type": "execute_result"
    },
    {
     "data": {
      "image/png": "[encoded data removed]",
      "text/plain": [
       "<Figure size 432x288 with 1 Axes>"
      ]
     },
     "metadata": {
      "needs_background": "light"
     },
     "output_type": "display_data"
    }
   ],
   "source": [
    "wcss=[]\n",
    "\n",
    "for i in range(1,10):\n",
    "\n",
    "    kmeans = KMeans(n_clusters=i, init = 'k-means++', max_iter = 300, n_init=10, random_state=2)\n",
    "    kmeans.fit(X)\n",
    "    wcss.append(kmeans.inertia_)\n",
    "\n",
    "plt.plot(range(1,10),wcss)\n",
    "plt.title('The Elbow method')\n",
    "plt.xlabel('Number of Clusters')\n",
    "plt.ylabel('WCSS')\n",
    "plt.show\n",
    "\n"
   ]
  },
  {
   "cell_type": "code",
   "execution_count": 63,
   "id": "d15d7fd5",
   "metadata": {},
   "outputs": [
    {
     "data": {
      "text/plain": [
       "KMeans(n_clusters=5, random_state=2)"
      ]
     },
     "execution_count": 63,
     "metadata": {},
     "output_type": "execute_result"
    }
   ],
   "source": [
    "# For nº cluster = nº categories\n",
    "\n",
    "kmeans = KMeans(n_clusters=5, init = 'k-means++', max_iter = 300, n_init=10, random_state=2)\n",
    "kmeans.fit(X)"
   ]
  },
  {
   "cell_type": "code",
   "execution_count": 64,
   "id": "0f54f2fe",
   "metadata": {},
   "outputs": [],
   "source": [
    "clusters_labels_kmean = kmeans.labels_\n",
    "\n",
    "dataset_lalels_encoded = dataset[\"Class\"].values"
   ]
  },
  {
   "cell_type": "code",
   "execution_count": 65,
   "id": "52b83186",
   "metadata": {},
   "outputs": [
    {
     "data": {
      "image/png": "[encoded data removed]",
      "text/plain": [
       "<Figure size 576x360 with 2 Axes>"
      ]
     },
     "metadata": {
      "needs_background": "light"
     },
     "output_type": "display_data"
    }
   ],
   "source": [
    "#Confusion matrix: informative, to see in each cluster the amount of points of each category\n",
    "\n",
    "plt.figure(figsize=(8,5))\n",
    "confusion_matrix = pd.crosstab(dataset_lalels_encoded, clusters_labels_kmean, rownames=['Category'], \n",
    "                               colnames=['Cluster'])\n",
    "\n",
    "sns.heatmap(confusion_matrix, annot=True)\n",
    "#plt.savefig(\"Confusion_Matrix_Kmeans.png\")\n",
    "plt.title('KMEANS: Clusters index vs Category index(original dataset) ')\n",
    "plt.show()"
   ]
  },
  {
   "cell_type": "markdown",
   "id": "6999ea1d",
   "metadata": {},
   "source": [
    "### Evaluation of the clustering with Silhouette\n"
   ]
  },
  {
   "cell_type": "code",
   "execution_count": 66,
   "id": "66b66b8f",
   "metadata": {},
   "outputs": [],
   "source": [
    "from sklearn.metrics import silhouette_samples, silhouette_score"
   ]
  },
  {
   "cell_type": "code",
   "execution_count": 67,
   "id": "87fab42e",
   "metadata": {},
   "outputs": [
    {
     "name": "stdout",
     "output_type": "stream",
     "text": [
      "For n_clusters = 6 The average silhouette_score is : 0.3136729892738625\n"
     ]
    },
    {
     "data": {
      "image/png": "[encoded data removed]",
      "text/plain": [
       "<Figure size 1296x504 with 1 Axes>"
      ]
     },
     "metadata": {
      "needs_background": "light"
     },
     "output_type": "display_data"
    }
   ],
   "source": [
    "# Silhouete socre for different clusters \n",
    "\n",
    "range_n_clusters = [6]#[4, 5, 6,7]\n",
    "\n",
    "for n_clusters in range_n_clusters:\n",
    "    \n",
    "    # Create a subplot with 1 row and 2 columns\n",
    "    fig, (ax1) = plt.subplots(1,1)\n",
    "    fig.set_size_inches(18, 7)\n",
    "    \n",
    "     # The 1st subplot is the silhouette plot\n",
    "    # The silhouette coefficient can range from -1, 1 but in this example all\n",
    "    # lie within [-0.1, 1]\n",
    "    ax1.set_xlim([-0.1, 1])\n",
    "    \n",
    "     # The (n_clusters+1)*10 is for inserting blank space between silhouette\n",
    "    # plots of individual clusters, to demarcate them clearly.\n",
    "    ax1.set_ylim([0, len(X) + (n_clusters + 1) * 10])\n",
    "    \n",
    "    # Initialize the clusterer with n_clusters value and a random generator\n",
    "    # seed of 10 for reproducibility.\n",
    "    clusterer = KMeans(n_clusters=n_clusters, random_state=10)\n",
    "    cluster_labels_2 = clusterer.fit_predict(X)\n",
    "    \n",
    "    # The silhouette_score gives the average value for all the samples.\n",
    "    # This gives a perspective into the density and separation of the formed\n",
    "    # clusters\n",
    "    silhouette_avg = silhouette_score(X, cluster_labels_2)\n",
    "    print(\"For n_clusters =\", n_clusters,\n",
    "          \"The average silhouette_score is :\", silhouette_avg)\n",
    "    \n",
    "\n",
    "    # Compute the silhouette scores for each sample\n",
    "    sample_silhouette_values = silhouette_samples(X, cluster_labels_2)\n",
    "    \n",
    "    \n",
    "    y_lower = 10\n",
    "    for i in range(n_clusters):\n",
    "        # Aggregate the silhouette scores for samples belonging to\n",
    "        # cluster i, and sort them\n",
    "        ith_cluster_silhouette_values = \\\n",
    "            sample_silhouette_values[cluster_labels_2 == i]\n",
    "\n",
    "        ith_cluster_silhouette_values.sort()\n",
    "\n",
    "        size_cluster_i = ith_cluster_silhouette_values.shape[0]\n",
    "        y_upper = y_lower + size_cluster_i\n",
    "\n",
    "        color = cm.nipy_spectral(float(i) / n_clusters)\n",
    "        ax1.fill_betweenx(np.arange(y_lower, y_upper),\n",
    "                          0, ith_cluster_silhouette_values,\n",
    "                          facecolor=color, edgecolor=color, alpha=0.7)\n",
    "\n",
    "        # Label the silhouette plots with their cluster numbers at the middle\n",
    "        ax1.text(-0.05, y_lower + 0.5 * size_cluster_i, str(i))\n",
    "\n",
    "        # Compute the new y_lower for next plot\n",
    "        y_lower = y_upper + 10  # 10 for the 0 samples\n",
    "\n",
    "    ax1.set_title(\"The silhouette plot for the various clusters.\")\n",
    "    ax1.set_xlabel(\"The silhouette coefficient values\")\n",
    "    ax1.set_ylabel(\"Cluster label\")\n",
    "\n",
    "    # The vertical line for average silhouette score of all the values\n",
    "    ax1.axvline(x=silhouette_avg, color=\"red\", linestyle=\"--\")\n",
    "\n",
    "    ax1.set_yticks([])  # Clear the yaxis labels / ticks\n",
    "    ax1.set_xticks([-0.1, 0, 0.2, 0.4, 0.6, 0.8, 1])\n",
    "\n",
    "plt.savefig(\"Silhouette.png\")\n",
    "plt.show()"
   ]
  },
  {
   "cell_type": "markdown",
   "id": "d8143421",
   "metadata": {},
   "source": [
    "-----------\n",
    "## Dimensionality reduction:  Linear Discriminant Analysis\n"
   ]
  },
  {
   "cell_type": "code",
   "execution_count": 85,
   "id": "36c29470",
   "metadata": {},
   "outputs": [
    {
     "data": {
      "text/plain": [
       "(796, 4)"
      ]
     },
     "execution_count": 85,
     "metadata": {},
     "output_type": "execute_result"
    }
   ],
   "source": [
    "# Define transform\n",
    "lda = LinearDiscriminantAnalysis(n_components=4)\n",
    "\n",
    "# Apply PCA in input vector\n",
    "lda.fit(dataset.iloc[:,:-1],dataset.iloc[:,-1:].values.ravel()) \n",
    "\n",
    "# apply transform to dataset\n",
    "reduced_lda = lda.transform(dataset.iloc[:,:-1].values)\n",
    "reduced_lda.shape"
   ]
  },
  {
   "cell_type": "code",
   "execution_count": 86,
   "id": "869a4bc8",
   "metadata": {},
   "outputs": [
    {
     "data": {
      "text/plain": [
       "(796, 4)"
      ]
     },
     "execution_count": 86,
     "metadata": {},
     "output_type": "execute_result"
    }
   ],
   "source": [
    "# Save labels in an np.array\n",
    "y_lda = dataset['Class'].to_numpy()\n",
    "# apply transform to dataset\n",
    "reduced_lda = lda.transform(dataset.iloc[:,:-1].values)\n",
    "reduced_lda.shape"
   ]
  },
  {
   "cell_type": "code",
   "execution_count": 87,
   "id": "5dd1e33e",
   "metadata": {},
   "outputs": [],
   "source": [
    "# Create final dataframe with reduced dimensions\n",
    "dataset_reduced_LDA = pd.DataFrame(np.column_stack((reduced_lda, y_lda)))"
   ]
  },
  {
   "cell_type": "markdown",
   "id": "9af8a714",
   "metadata": {},
   "source": [
    "# Clustering reduced data: KMEANS"
   ]
  },
  {
   "cell_type": "code",
   "execution_count": null,
   "id": "d1b631fb",
   "metadata": {},
   "outputs": [],
   "source": [
    "from sklearn.cluster import KMeans\n",
    "from sklearn.datasets import make_blobs"
   ]
  },
  {
   "cell_type": "code",
   "execution_count": null,
   "id": "c038cf45",
   "metadata": {},
   "outputs": [],
   "source": [
    "X_df = dataset_reduced_PCA.drop(\"Label\", axis=1)\n",
    "X = X_df.values"
   ]
  },
  {
   "cell_type": "code",
   "execution_count": null,
   "id": "9289f562",
   "metadata": {},
   "outputs": [],
   "source": [
    "wcss=[]\n",
    "\n",
    "for i in range(1,10):\n",
    "\n",
    "    kmeans = KMeans(n_clusters=i, init = 'k-means++', max_iter = 300, n_init=10, random_state=2)\n",
    "    kmeans.fit(X)\n",
    "    wcss.append(kmeans.inertia_)\n",
    "\n",
    "plt.plot(range(1,10),wcss)\n",
    "plt.title('The Elbow method')\n",
    "plt.xlabel('Number of Clusters')\n",
    "plt.ylabel('WCSS')\n",
    "plt.show\n",
    "\n"
   ]
  },
  {
   "cell_type": "code",
   "execution_count": null,
   "id": "405c47d6",
   "metadata": {},
   "outputs": [],
   "source": [
    "# For no cluster = no categories\n",
    "\n",
    "kmeans = KMeans(n_clusters=5, init = 'k-means++', max_iter = 300, n_init=10, random_state=2)\n",
    "kmeans.fit(X)"
   ]
  },
  {
   "cell_type": "code",
   "execution_count": null,
   "id": "addd41af",
   "metadata": {},
   "outputs": [],
   "source": [
    "clusters_labels_kmean = kmeans.labels_\n",
    "\n",
    "dataset_lalels_encoded = dataset_reduced_PCA[\"Label\"].values"
   ]
  },
  {
   "cell_type": "code",
   "execution_count": null,
   "id": "8f114393",
   "metadata": {},
   "outputs": [],
   "source": [
    "#Confusion matrix\n",
    "\n",
    "plt.figure(figsize=(8,5))\n",
    "confusion_matrix = pd.crosstab(dataset_lalels_encoded, clusters_labels_kmean, rownames=['Category'], \n",
    "                               colnames=['Cluster'])\n",
    "\n",
    "sns.heatmap(confusion_matrix, annot=True)\n",
    "#plt.savefig(\"Confusion_Matrix_Kmeans.png\")\n",
    "plt.title('KMEANS: Clusters index vs Category index(original dataset) ')\n",
    "plt.show()"
   ]
  },
  {
   "cell_type": "markdown",
   "id": "814cacc2",
   "metadata": {},
   "source": [
    "### Evaluation of the clustering with Silhouette\n"
   ]
  },
  {
   "cell_type": "code",
   "execution_count": null,
   "id": "c87ec6db",
   "metadata": {},
   "outputs": [],
   "source": [
    "from sklearn.metrics import silhouette_samples, silhouette_score"
   ]
  },
  {
   "cell_type": "code",
   "execution_count": null,
   "id": "826ffed8",
   "metadata": {},
   "outputs": [],
   "source": [
    "# Silhouete socre for different clusters \n",
    "\n",
    "range_n_clusters = [3, 4, 5, 6, 7, 8]\n",
    "\n",
    "for n_clusters in range_n_clusters:\n",
    "    \n",
    "    # Create a subplot with 1 row and 2 columns\n",
    "    fig, (ax1) = plt.subplots(1,1)\n",
    "    fig.set_size_inches(18, 7)\n",
    "    \n",
    "     # The 1st subplot is the silhouette plot\n",
    "    # The silhouette coefficient can range from -1, 1 but in this example all\n",
    "    # lie within [-0.1, 1]\n",
    "    ax1.set_xlim([-0.1, 1])\n",
    "    \n",
    "     # The (n_clusters+1)*10 is for inserting blank space between silhouette\n",
    "    # plots of individual clusters, to demarcate them clearly.\n",
    "    ax1.set_ylim([0, len(X) + (n_clusters + 1) * 10])\n",
    "    \n",
    "    # Initialize the clusterer with n_clusters value and a random generator\n",
    "    # seed of 10 for reproducibility.\n",
    "    clusterer = KMeans(n_clusters=n_clusters, random_state=10)\n",
    "    cluster_labels_2 = clusterer.fit_predict(X)\n",
    "    \n",
    "    # The silhouette_score gives the average value for all the samples.\n",
    "    # This gives a perspective into the density and separation of the formed\n",
    "    # clusters\n",
    "    silhouette_avg = silhouette_score(X, cluster_labels_2)\n",
    "    print(\"For n_clusters =\", n_clusters,\n",
    "          \"The average silhouette_score is :\", silhouette_avg)\n",
    "    \n",
    "\n",
    "    # Compute the silhouette scores for each sample\n",
    "    sample_silhouette_values = silhouette_samples(X, cluster_labels_2)\n",
    "    \n",
    "    \n",
    "    y_lower = 10\n",
    "    for i in range(n_clusters):\n",
    "        # Aggregate the silhouette scores for samples belonging to\n",
    "        # cluster i, and sort them\n",
    "        ith_cluster_silhouette_values = \\\n",
    "            sample_silhouette_values[cluster_labels_2 == i]\n",
    "\n",
    "        ith_cluster_silhouette_values.sort()\n",
    "\n",
    "        size_cluster_i = ith_cluster_silhouette_values.shape[0]\n",
    "        y_upper = y_lower + size_cluster_i\n",
    "\n",
    "        color = cm.nipy_spectral(float(i) / n_clusters)\n",
    "        ax1.fill_betweenx(np.arange(y_lower, y_upper),\n",
    "                          0, ith_cluster_silhouette_values,\n",
    "                          facecolor=color, edgecolor=color, alpha=0.7)\n",
    "\n",
    "        # Label the silhouette plots with their cluster numbers at the middle\n",
    "        ax1.text(-0.05, y_lower + 0.5 * size_cluster_i, str(i))\n",
    "\n",
    "        # Compute the new y_lower for next plot\n",
    "        y_lower = y_upper + 10  # 10 for the 0 samples\n",
    "\n",
    "    ax1.set_title(\"The silhouette plot for the various clusters.\")\n",
    "    ax1.set_xlabel(\"The silhouette coefficient values\")\n",
    "    ax1.set_ylabel(\"Cluster label\")\n",
    "\n",
    "    # The vertical line for average silhouette score of all the values\n",
    "    ax1.axvline(x=silhouette_avg, color=\"red\", linestyle=\"--\")\n",
    "\n",
    "    ax1.set_yticks([])  # Clear the yaxis labels / ticks\n",
    "    ax1.set_xticks([-0.1, 0, 0.2, 0.4, 0.6, 0.8, 1])\n",
    "\n",
    "        \n",
    "plt.show()"
   ]
  }
 ],
 "metadata": {
  "kernelspec": {
   "display_name": "Python 3",
   "language": "python",
   "name": "python3"
  },
  "language_info": {
   "codemirror_mode": {
    "name": "ipython",
    "version": 3
   },
   "file_extension": ".py",
   "mimetype": "text/x-python",
   "name": "python",
   "nbconvert_exporter": "python",
   "pygments_lexer": "ipython3",
   "version": "3.8.2"
  }
 },
 "nbformat": 4,
 "nbformat_minor": 5
}
