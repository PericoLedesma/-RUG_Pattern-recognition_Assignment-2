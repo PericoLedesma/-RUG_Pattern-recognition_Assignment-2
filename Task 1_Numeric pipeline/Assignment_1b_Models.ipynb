{
 "cells": [
  {
   "cell_type": "markdown",
   "id": "84ea3cac",
   "metadata": {},
   "source": [
    "# Import Libraries"
   ]
  },
  {
   "cell_type": "code",
   "execution_count": 112,
   "id": "6baade51",
   "metadata": {},
   "outputs": [],
   "source": [
    "import numpy as np\n",
    "import pandas as pd\n",
    "import matplotlib.pyplot as plt\n",
    "import seaborn as sns\n",
    "\n",
    "### From sklearn - Preprocesing \n",
    "\n",
    "from sklearn import preprocessing\n",
    "\n",
    "# Dimension reduction \n",
    "from sklearn.decomposition import PCA\n",
    "from sklearn.decomposition import TruncatedSVD\n",
    "\n",
    "# Clustering \n",
    "from sklearn.manifold import TSNE\n",
    "\n",
    "# K-fold\n",
    "from sklearn.model_selection import StratifiedKFold\n",
    "from sklearn.model_selection import KFold, cross_val_score, GridSearchCV\n",
    "from sklearn.model_selection import train_test_split \n",
    "\n",
    "# From sklearn - Model creation\n",
    "\n",
    "from sklearn.tree import DecisionTreeClassifier \n",
    "from sklearn.ensemble import RandomForestClassifier\n",
    "from sklearn.neighbors import KNeighborsClassifier\n",
    "from sklearn.linear_model import LogisticRegression\n",
    "\n",
    "from sklearn.metrics import multilabel_confusion_matrix\n",
    "\n",
    "from sklearn import metrics \n",
    "from sklearn.discriminant_analysis import LinearDiscriminantAnalysis"
   ]
  },
  {
   "cell_type": "markdown",
   "id": "98a8d2ae",
   "metadata": {},
   "source": [
    "-----\n",
    "# Reading files and merging features with labels"
   ]
  },
  {
   "cell_type": "code",
   "execution_count": 113,
   "id": "a0bac7af",
   "metadata": {},
   "outputs": [],
   "source": [
    "#dataset = pd.read_csv(\"Genes\\data.csv\")\n",
    "dataset = pd.read_csv('/Users/pedrorodriguezdeledesmajimenez/1_Coding/Datasets/RUG_Pattern-recognition_Assignment-2/Task 1/Genres/data.csv')\n",
    "\n",
    "#labels = pd.read_csv(\"Genes\\labels.csv\")\n",
    "dataset_labels =pd.read_csv('/Users/pedrorodriguezdeledesmajimenez/1_Coding/Datasets/RUG_Pattern-recognition_Assignment-2/Task 1/Genres/labels.csv')"
   ]
  },
  {
   "cell_type": "code",
   "execution_count": 114,
   "id": "4c238d5a",
   "metadata": {},
   "outputs": [],
   "source": [
    "# Merging both datasets and removing first column\n",
    "\n",
    "dataset = pd.merge(dataset, dataset_labels, on='Unnamed: 0').drop(\"Unnamed: 0\", axis=1)"
   ]
  },
  {
   "cell_type": "code",
   "execution_count": 115,
   "id": "624784db",
   "metadata": {},
   "outputs": [
    {
     "name": "stdout",
     "output_type": "stream",
     "text": [
      "Dataset consists of 801 input sample vectors, each vector has 20532 gene features.\n",
      "Also the availbale classes are 5. The possible choises are PRAD, LUAD, BRCA, KIRC, COAD.\n",
      "As we can see, we have class imbalance.\n",
      "\n",
      "BRCA    300\n",
      "KIRC    146\n",
      "LUAD    141\n",
      "PRAD    136\n",
      "COAD     78\n"
     ]
    }
   ],
   "source": [
    "print(f'Dataset consists of {dataset.shape[0]} input sample vectors, each vector has {dataset.shape[1]} '\\\n",
    "      f'gene features.\\nAlso the availbale classes are {len(dataset[\"Class\"].unique())}.'\\\n",
    "      f' The possible choises are {\", \".join(val for val in dataset.Class.unique())}.')\n",
    "class_counts = dataset.Class.value_counts()\n",
    "print(f'As we can see, we have class imbalance.\\n\\n{class_counts.to_string()}')"
   ]
  },
  {
   "cell_type": "markdown",
   "id": "b3c7f917",
   "metadata": {},
   "source": [
    "----\n",
    "# Preprocesing data"
   ]
  },
  {
   "cell_type": "markdown",
   "id": "177a57ba",
   "metadata": {},
   "source": [
    "###  Encode the labels of the dataset"
   ]
  },
  {
   "cell_type": "code",
   "execution_count": 116,
   "id": "08ac19fd",
   "metadata": {},
   "outputs": [],
   "source": [
    "# Encode the labels and updaate values\n",
    "\n",
    "le = preprocessing.LabelEncoder()\n",
    "\n",
    "dataset[\"Class\"] = le.fit_transform(dataset_labels.drop(\"Unnamed: 0\", axis=1).values.ravel())"
   ]
  },
  {
   "cell_type": "code",
   "execution_count": 117,
   "id": "aa5f0414",
   "metadata": {},
   "outputs": [
    {
     "data": {
      "text/plain": [
       "{'BRCA': 0, 'COAD': 1, 'KIRC': 2, 'LUAD': 3, 'PRAD': 4}"
      ]
     },
     "execution_count": 117,
     "metadata": {},
     "output_type": "execute_result"
    }
   ],
   "source": [
    "# Let´s store all the labels\n",
    "\n",
    "keys = le.classes_\n",
    "\n",
    "# And now store labels with their encoded value \n",
    "\n",
    "values = le.transform(le.classes_)\n",
    "dictionary = dict(zip(keys, values))\n",
    "dictionary"
   ]
  },
  {
   "cell_type": "markdown",
   "id": "90f6f281",
   "metadata": {},
   "source": [
    "### Normalize the dataset\n",
    "\n"
   ]
  },
  {
   "cell_type": "code",
   "execution_count": 118,
   "id": "8b38a0be",
   "metadata": {},
   "outputs": [],
   "source": [
    "# Lets store the dataset values without the columns titles\n",
    "x = dataset.iloc[:, :-1].values "
   ]
  },
  {
   "cell_type": "code",
   "execution_count": 119,
   "id": "02904444",
   "metadata": {},
   "outputs": [],
   "source": [
    "# Let´s create an instance with the normalice function\n",
    "min_max_scaler = preprocessing.MinMaxScaler()\n",
    "\n",
    "# Let´s fit the normilice function\n",
    "x_scaled = min_max_scaler.fit_transform(x)\n",
    "\n",
    "# Let´s put in the dataframe the values scaled\n",
    "dataset.iloc[:, :-1] = pd.DataFrame(x_scaled)"
   ]
  },
  {
   "cell_type": "code",
   "execution_count": 120,
   "id": "3a78afec",
   "metadata": {
    "scrolled": true
   },
   "outputs": [
    {
     "data": {
      "text/plain": [
       "{'BRCA': 0, 'COAD': 1, 'KIRC': 2, 'LUAD': 3, 'PRAD': 4}"
      ]
     },
     "execution_count": 120,
     "metadata": {},
     "output_type": "execute_result"
    }
   ],
   "source": [
    "dictionary"
   ]
  },
  {
   "cell_type": "markdown",
   "id": "eda57e07",
   "metadata": {},
   "source": [
    "Number of examples of each label:"
   ]
  },
  {
   "cell_type": "code",
   "execution_count": 121,
   "id": "77082b8f",
   "metadata": {},
   "outputs": [
    {
     "data": {
      "text/plain": [
       "0    300\n",
       "2    146\n",
       "3    141\n",
       "4    136\n",
       "1     78\n",
       "Name: Class, dtype: int64"
      ]
     },
     "execution_count": 121,
     "metadata": {},
     "output_type": "execute_result"
    }
   ],
   "source": [
    "dataset.Class.value_counts()"
   ]
  },
  {
   "cell_type": "markdown",
   "id": "a396c428",
   "metadata": {},
   "source": [
    "\n",
    "### Dimensionality reduction:  1.Principal Component Analysis"
   ]
  },
  {
   "cell_type": "code",
   "execution_count": 122,
   "id": "57a8586b",
   "metadata": {},
   "outputs": [],
   "source": [
    "# Create PCA object to keep 95% of variance\n",
    "\n",
    "pca = PCA(0.75)\n",
    "\n",
    "# Apply PCA in input vector\n",
    "pca.fit(dataset.iloc[:,:-1]) \n",
    "\n",
    "# Save results in an np.array\n",
    "reduced = pca.transform(dataset.iloc[:,:-1])\n",
    "\n",
    "# Save labels in an np.array\n",
    "x = dataset['Class'].to_numpy()"
   ]
  },
  {
   "cell_type": "code",
   "execution_count": 123,
   "id": "abc45593",
   "metadata": {},
   "outputs": [],
   "source": [
    "# Create final dataframe with reduced dimensions\n",
    "dataset_reduced_PCA = pd.DataFrame(np.column_stack((reduced, x)))"
   ]
  },
  {
   "cell_type": "markdown",
   "id": "0d296cc9",
   "metadata": {},
   "source": [
    "Number of features in the original dataset: 20532 <br>\n",
    "After applying PCA to the dataset, we end up with:"
   ]
  },
  {
   "cell_type": "code",
   "execution_count": 124,
   "id": "58a0dfd5",
   "metadata": {},
   "outputs": [
    {
     "data": {
      "text/plain": [
       "103"
      ]
     },
     "execution_count": 124,
     "metadata": {},
     "output_type": "execute_result"
    }
   ],
   "source": [
    "dataset_reduced_PCA.shape[1]"
   ]
  },
  {
   "cell_type": "code",
   "execution_count": 125,
   "id": "3689c5e5",
   "metadata": {},
   "outputs": [],
   "source": [
    "# We are going to rename the columns name with the PCA components name\n",
    "\n",
    "for count, column_name in enumerate(dataset_reduced_PCA.columns):\n",
    "    \n",
    "    if count < len(dataset_reduced_PCA.columns)-1:\n",
    "        \n",
    "        dataset_reduced_PCA.rename(columns={column_name : f\"PCA{count+1}\"}, inplace=True)\n",
    "    else:\n",
    "        dataset_reduced_PCA.rename(columns={column_name : \"Label\"}, inplace=True)"
   ]
  },
  {
   "cell_type": "markdown",
   "id": "966a360e",
   "metadata": {},
   "source": [
    "The dataset after applying the PCA analysis has the following form:"
   ]
  },
  {
   "cell_type": "code",
   "execution_count": 126,
   "id": "58ecf304",
   "metadata": {},
   "outputs": [
    {
     "data": {
      "text/html": [
       "<div>\n",
       "<style scoped>\n",
       "    .dataframe tbody tr th:only-of-type {\n",
       "        vertical-align: middle;\n",
       "    }\n",
       "\n",
       "    .dataframe tbody tr th {\n",
       "        vertical-align: top;\n",
       "    }\n",
       "\n",
       "    .dataframe thead th {\n",
       "        text-align: right;\n",
       "    }\n",
       "</style>\n",
       "<table border=\"1\" class=\"dataframe\">\n",
       "  <thead>\n",
       "    <tr style=\"text-align: right;\">\n",
       "      <th></th>\n",
       "      <th>PCA1</th>\n",
       "      <th>PCA2</th>\n",
       "      <th>PCA3</th>\n",
       "      <th>PCA4</th>\n",
       "      <th>PCA5</th>\n",
       "      <th>PCA6</th>\n",
       "      <th>PCA7</th>\n",
       "      <th>PCA8</th>\n",
       "      <th>PCA9</th>\n",
       "      <th>PCA10</th>\n",
       "      <th>...</th>\n",
       "      <th>PCA94</th>\n",
       "      <th>PCA95</th>\n",
       "      <th>PCA96</th>\n",
       "      <th>PCA97</th>\n",
       "      <th>PCA98</th>\n",
       "      <th>PCA99</th>\n",
       "      <th>PCA100</th>\n",
       "      <th>PCA101</th>\n",
       "      <th>PCA102</th>\n",
       "      <th>Label</th>\n",
       "    </tr>\n",
       "  </thead>\n",
       "  <tbody>\n",
       "    <tr>\n",
       "      <th>0</th>\n",
       "      <td>-5.668141</td>\n",
       "      <td>-8.872139</td>\n",
       "      <td>15.853290</td>\n",
       "      <td>-6.659908</td>\n",
       "      <td>3.244882</td>\n",
       "      <td>3.529868</td>\n",
       "      <td>-0.186630</td>\n",
       "      <td>-4.599118</td>\n",
       "      <td>-0.780447</td>\n",
       "      <td>1.000318</td>\n",
       "      <td>...</td>\n",
       "      <td>-0.091763</td>\n",
       "      <td>0.377116</td>\n",
       "      <td>-0.012125</td>\n",
       "      <td>-1.028643</td>\n",
       "      <td>-0.541357</td>\n",
       "      <td>0.640421</td>\n",
       "      <td>-0.258044</td>\n",
       "      <td>0.735037</td>\n",
       "      <td>-0.348108</td>\n",
       "      <td>4.0</td>\n",
       "    </tr>\n",
       "    <tr>\n",
       "      <th>1</th>\n",
       "      <td>-1.470204</td>\n",
       "      <td>10.280182</td>\n",
       "      <td>-1.246634</td>\n",
       "      <td>-1.597277</td>\n",
       "      <td>-5.053639</td>\n",
       "      <td>5.329966</td>\n",
       "      <td>-3.213423</td>\n",
       "      <td>0.646405</td>\n",
       "      <td>-0.092015</td>\n",
       "      <td>-5.155488</td>\n",
       "      <td>...</td>\n",
       "      <td>0.272916</td>\n",
       "      <td>-0.660396</td>\n",
       "      <td>0.238561</td>\n",
       "      <td>-0.612262</td>\n",
       "      <td>-0.117655</td>\n",
       "      <td>0.256274</td>\n",
       "      <td>-1.781133</td>\n",
       "      <td>-0.576626</td>\n",
       "      <td>-0.847453</td>\n",
       "      <td>3.0</td>\n",
       "    </tr>\n",
       "    <tr>\n",
       "      <th>2</th>\n",
       "      <td>-10.845387</td>\n",
       "      <td>-1.345352</td>\n",
       "      <td>4.000770</td>\n",
       "      <td>8.010467</td>\n",
       "      <td>3.520304</td>\n",
       "      <td>6.439937</td>\n",
       "      <td>-2.008366</td>\n",
       "      <td>7.852581</td>\n",
       "      <td>-0.221889</td>\n",
       "      <td>-4.103816</td>\n",
       "      <td>...</td>\n",
       "      <td>-0.789400</td>\n",
       "      <td>-2.298390</td>\n",
       "      <td>0.443170</td>\n",
       "      <td>-0.151047</td>\n",
       "      <td>0.803538</td>\n",
       "      <td>0.055863</td>\n",
       "      <td>0.574898</td>\n",
       "      <td>0.244420</td>\n",
       "      <td>0.034691</td>\n",
       "      <td>4.0</td>\n",
       "    </tr>\n",
       "    <tr>\n",
       "      <th>3</th>\n",
       "      <td>-9.167961</td>\n",
       "      <td>-8.670123</td>\n",
       "      <td>5.481483</td>\n",
       "      <td>5.505311</td>\n",
       "      <td>-0.453232</td>\n",
       "      <td>4.098163</td>\n",
       "      <td>-2.687572</td>\n",
       "      <td>2.294694</td>\n",
       "      <td>-0.065617</td>\n",
       "      <td>-2.497998</td>\n",
       "      <td>...</td>\n",
       "      <td>0.040757</td>\n",
       "      <td>1.105573</td>\n",
       "      <td>-0.350252</td>\n",
       "      <td>0.418292</td>\n",
       "      <td>-1.065557</td>\n",
       "      <td>-0.098885</td>\n",
       "      <td>-0.457159</td>\n",
       "      <td>0.283911</td>\n",
       "      <td>0.846548</td>\n",
       "      <td>4.0</td>\n",
       "    </tr>\n",
       "    <tr>\n",
       "      <th>4</th>\n",
       "      <td>-6.271848</td>\n",
       "      <td>-3.101208</td>\n",
       "      <td>-7.338976</td>\n",
       "      <td>0.433540</td>\n",
       "      <td>4.290824</td>\n",
       "      <td>-0.316748</td>\n",
       "      <td>-0.306964</td>\n",
       "      <td>-1.433246</td>\n",
       "      <td>-3.194915</td>\n",
       "      <td>4.058295</td>\n",
       "      <td>...</td>\n",
       "      <td>-0.966648</td>\n",
       "      <td>-0.663006</td>\n",
       "      <td>-0.299178</td>\n",
       "      <td>1.052884</td>\n",
       "      <td>1.381582</td>\n",
       "      <td>0.461015</td>\n",
       "      <td>0.655713</td>\n",
       "      <td>-0.593092</td>\n",
       "      <td>-0.139704</td>\n",
       "      <td>0.0</td>\n",
       "    </tr>\n",
       "  </tbody>\n",
       "</table>\n",
       "<p>5 rows × 103 columns</p>\n",
       "</div>"
      ],
      "text/plain": [
       "        PCA1       PCA2       PCA3      PCA4      PCA5      PCA6      PCA7  \\\n",
       "0  -5.668141  -8.872139  15.853290 -6.659908  3.244882  3.529868 -0.186630   \n",
       "1  -1.470204  10.280182  -1.246634 -1.597277 -5.053639  5.329966 -3.213423   \n",
       "2 -10.845387  -1.345352   4.000770  8.010467  3.520304  6.439937 -2.008366   \n",
       "3  -9.167961  -8.670123   5.481483  5.505311 -0.453232  4.098163 -2.687572   \n",
       "4  -6.271848  -3.101208  -7.338976  0.433540  4.290824 -0.316748 -0.306964   \n",
       "\n",
       "       PCA8      PCA9     PCA10  ...     PCA94     PCA95     PCA96     PCA97  \\\n",
       "0 -4.599118 -0.780447  1.000318  ... -0.091763  0.377116 -0.012125 -1.028643   \n",
       "1  0.646405 -0.092015 -5.155488  ...  0.272916 -0.660396  0.238561 -0.612262   \n",
       "2  7.852581 -0.221889 -4.103816  ... -0.789400 -2.298390  0.443170 -0.151047   \n",
       "3  2.294694 -0.065617 -2.497998  ...  0.040757  1.105573 -0.350252  0.418292   \n",
       "4 -1.433246 -3.194915  4.058295  ... -0.966648 -0.663006 -0.299178  1.052884   \n",
       "\n",
       "      PCA98     PCA99    PCA100    PCA101    PCA102  Label  \n",
       "0 -0.541357  0.640421 -0.258044  0.735037 -0.348108    4.0  \n",
       "1 -0.117655  0.256274 -1.781133 -0.576626 -0.847453    3.0  \n",
       "2  0.803538  0.055863  0.574898  0.244420  0.034691    4.0  \n",
       "3 -1.065557 -0.098885 -0.457159  0.283911  0.846548    4.0  \n",
       "4  1.381582  0.461015  0.655713 -0.593092 -0.139704    0.0  \n",
       "\n",
       "[5 rows x 103 columns]"
      ]
     },
     "execution_count": 126,
     "metadata": {},
     "output_type": "execute_result"
    }
   ],
   "source": [
    "dataset_reduced_PCA.head()"
   ]
  },
  {
   "cell_type": "markdown",
   "id": "64c9e76f",
   "metadata": {},
   "source": [
    "### Output of preprocesing "
   ]
  },
  {
   "cell_type": "code",
   "execution_count": 127,
   "id": "6d47848a",
   "metadata": {},
   "outputs": [
    {
     "data": {
      "text/plain": [
       "(801, 103)"
      ]
     },
     "execution_count": 127,
     "metadata": {},
     "output_type": "execute_result"
    }
   ],
   "source": [
    "dataset_reduced_PCA.shape"
   ]
  },
  {
   "cell_type": "markdown",
   "id": "45384b73",
   "metadata": {},
   "source": [
    "\n"
   ]
  },
  {
   "cell_type": "markdown",
   "id": "b9e2761e",
   "metadata": {},
   "source": [
    "--------------\n",
    "# Model Implementation:  KNN"
   ]
  },
  {
   "cell_type": "markdown",
   "id": "c800d5a4",
   "metadata": {},
   "source": [
    "###  80% Training data, 20% test data"
   ]
  },
  {
   "cell_type": "code",
   "execution_count": 348,
   "id": "689bdd5c",
   "metadata": {},
   "outputs": [],
   "source": [
    "#For ORIGINAL data as input\n",
    "\n",
    "input_data = dataset.iloc[:,:-1].values\n",
    "label_data = dataset.iloc[:,-1].values"
   ]
  },
  {
   "cell_type": "markdown",
   "id": "b49b4c04",
   "metadata": {},
   "source": [
    "#For REDUCED data as input\n",
    "\n",
    "input_data = dataset_reduced_PCA.iloc[:,:-1].values\n",
    "label_data = dataset_reduced_PCA.iloc[:,-1].values"
   ]
  },
  {
   "cell_type": "code",
   "execution_count": 349,
   "id": "c256fe00",
   "metadata": {},
   "outputs": [],
   "source": [
    "# We split the data  \n",
    "X_train, X_test, y_train, y_test = train_test_split(input_data,label_data, test_size=0.2)"
   ]
  },
  {
   "cell_type": "code",
   "execution_count": 357,
   "id": "b8ac0713",
   "metadata": {},
   "outputs": [],
   "source": [
    "error = []\n",
    "\n",
    "# Calculating error for nº neighbors\n",
    "\n",
    "for i in range(1, 60):\n",
    "    knn = KNeighborsClassifier(n_neighbors=i)\n",
    "    knn.fit(X_train, y_train)\n",
    "    \n",
    "    preds = knn.predict(X_test)\n",
    "    \n",
    "    squared_error = np.power(y_test - preds,2)\n",
    "    error.append(np.mean(squared_error))"
   ]
  },
  {
   "cell_type": "code",
   "execution_count": 358,
   "id": "c7cc1cf0",
   "metadata": {
    "scrolled": true
   },
   "outputs": [
    {
     "data": {
      "text/plain": [
       "Text(0, 0.5, 'Mean Squared Error.')"
      ]
     },
     "execution_count": 358,
     "metadata": {},
     "output_type": "execute_result"
    },
    {
     "data": {
      "image/png": "[encoded data removed]",
      "text/plain": [
       "<Figure size 864x432 with 1 Axes>"
      ]
     },
     "metadata": {
      "needs_background": "light"
     },
     "output_type": "display_data"
    }
   ],
   "source": [
    "plt.figure(figsize=(12, 6))\n",
    "plt.plot(range(1, 60), error, color='blue', marker='o',\n",
    "         markerfacecolor='red', markersize=10)\n",
    "plt.title('Error Rate K Value.')\n",
    "plt.xlabel('K Value (nº neighbors).')\n",
    "plt.ylabel('Mean Squared Error.')\n",
    "#plt.savefig(\"KNN_error_over_multiple_neighbors.png\")"
   ]
  },
  {
   "cell_type": "code",
   "execution_count": 359,
   "id": "73abaa9e",
   "metadata": {},
   "outputs": [
    {
     "data": {
      "text/plain": [
       "KNeighborsClassifier(n_neighbors=10)"
      ]
     },
     "execution_count": 359,
     "metadata": {},
     "output_type": "execute_result"
    }
   ],
   "source": [
    "# Build and train the model with the value selected: k= 10\n",
    "KNN = KNeighborsClassifier(n_neighbors=10)\n",
    "KNN.fit(X_train, y_train)"
   ]
  },
  {
   "cell_type": "code",
   "execution_count": 360,
   "id": "5c4531f8",
   "metadata": {},
   "outputs": [],
   "source": [
    "# We predict the labels of the test data\n",
    "y_pred = KNN.predict(X_test)"
   ]
  },
  {
   "cell_type": "code",
   "execution_count": 361,
   "id": "0f0b63c7",
   "metadata": {},
   "outputs": [
    {
     "data": {
      "image/png": "[encoded data removed]",
      "text/plain": [
       "<Figure size 576x360 with 2 Axes>"
      ]
     },
     "metadata": {
      "needs_background": "light"
     },
     "output_type": "display_data"
    }
   ],
   "source": [
    "#Confusion matrix to evaluate the model \n",
    "plt.figure(figsize=(8,5))\n",
    "confusion_matrix = pd.crosstab(y_test, y_pred, rownames=['Actual'], \n",
    "                               colnames=['Predicted'])\n",
    "\n",
    "sns.heatmap(confusion_matrix, annot=True)\n",
    "#plt.savefig(\"Confusion_Matrix_KNN.png\")\n",
    "plt.show()"
   ]
  },
  {
   "cell_type": "code",
   "execution_count": 362,
   "id": "57aa56f8",
   "metadata": {},
   "outputs": [
    {
     "data": {
      "text/plain": [
       "1.0"
      ]
     },
     "execution_count": 362,
     "metadata": {},
     "output_type": "execute_result"
    }
   ],
   "source": [
    "# Accuracy of the model\n",
    "metrics.accuracy_score(y_test, y_pred)"
   ]
  },
  {
   "cell_type": "code",
   "execution_count": 363,
   "id": "5e7e9a83",
   "metadata": {},
   "outputs": [
    {
     "name": "stdout",
     "output_type": "stream",
     "text": [
      "Accuracy:1.0\n"
     ]
    }
   ],
   "source": [
    "print(f\"Accuracy:{metrics.accuracy_score(y_test, y_pred)}\")"
   ]
  },
  {
   "cell_type": "code",
   "execution_count": 364,
   "id": "d3435db2",
   "metadata": {
    "scrolled": false
   },
   "outputs": [
    {
     "name": "stdout",
     "output_type": "stream",
     "text": [
      "More metrics about the model.\n",
      "\n",
      "              precision    recall  f1-score   support\n",
      "\n",
      "         0.0       1.00      1.00      1.00        57\n",
      "         1.0       1.00      1.00      1.00        19\n",
      "         2.0       1.00      1.00      1.00        34\n",
      "         3.0       1.00      1.00      1.00        28\n",
      "         4.0       1.00      1.00      1.00        23\n",
      "\n",
      "    accuracy                           1.00       161\n",
      "   macro avg       1.00      1.00      1.00       161\n",
      "weighted avg       1.00      1.00      1.00       161\n",
      "\n"
     ]
    }
   ],
   "source": [
    "print(f'More metrics about the model.\\n\\n' \\\n",
    "      f'{metrics.classification_report(y_test, y_pred, labels=[0.0, 1.0, 2.0, 3.0, 4.0])}')"
   ]
  },
  {
   "cell_type": "markdown",
   "id": "86569a93",
   "metadata": {},
   "source": [
    "### Stratified Kfold"
   ]
  },
  {
   "cell_type": "code",
   "execution_count": 365,
   "id": "e2ff9034",
   "metadata": {},
   "outputs": [],
   "source": [
    "#For ORIGINAL data as input\n",
    "\n",
    "input_data = dataset.iloc[:,:-1].values\n",
    "label_data = dataset.iloc[:,-1].values"
   ]
  },
  {
   "cell_type": "markdown",
   "id": "4c4872af",
   "metadata": {},
   "source": [
    "#For REDUCED data as input\n",
    "\n",
    "input_data = dataset_reduced_PCA.iloc[:,:-1].values\n",
    "label_data = dataset_reduced_PCA.iloc[:,-1].values"
   ]
  },
  {
   "cell_type": "code",
   "execution_count": 366,
   "id": "01657781",
   "metadata": {},
   "outputs": [],
   "source": [
    "#Need help to store values and plot Sarandis\n",
    "\n",
    "scores = []\n",
    "error = []\n",
    "\n",
    "def get_score(model, X_train, X_test, y_train, y_test):\n",
    "    model.fit(X_train, y_train)\n",
    "    return model.score(X_test, y_test)\n",
    "\n",
    "for k in range(9, 10):\n",
    "    folds = StratifiedKFold(n_splits=k, shuffle = True, random_state = 100)\n",
    "    \n",
    "    for i in range(9, 10):\n",
    "        knn = KNeighborsClassifier(n_neighbors=i)\n",
    "               \n",
    "        for train_index, test_index in folds.split(input_data,label_data):\n",
    "            X_train, X_test, y_train, y_test = input_data[train_index], input_data[test_index], label_data[train_index], label_data[test_index]\n",
    "            \n",
    "            scores.append(get_score(knn, X_train, X_test, y_train, y_test))\n",
    "            \n",
    "            preds = knn.predict(X_test)\n",
    "            squared_error = np.power(y_test - preds,2)\n",
    "            error.append(np.mean(squared_error))\n",
    "            \n",
    "# Help with the plot"
   ]
  },
  {
   "cell_type": "code",
   "execution_count": 367,
   "id": "b73fe0e1",
   "metadata": {},
   "outputs": [],
   "source": [
    "# After studying the optimal parameters, we run the model with the selected ones\n",
    "\n",
    "knn = KNeighborsClassifier(n_neighbors=10)\n",
    "folds = StratifiedKFold(n_splits=5, shuffle = True, random_state = 100)\n",
    "\n",
    "scores = []\n",
    "\n",
    "def get_score(model, X_train, X_test, y_train, y_test):\n",
    "    model.fit(X_train, y_train)\n",
    "    return model.score(X_test, y_test)\n",
    "\n",
    "# Index of the spliting\n",
    "for train_index, test_index in folds.split(input_data,label_data):\n",
    "    X_train, X_test, y_train, y_test = input_data[train_index], input_data[test_index], label_data[train_index], label_data[test_index]\n",
    "    scores.append(get_score(knn, X_train, X_test, y_train, y_test))\n"
   ]
  },
  {
   "cell_type": "code",
   "execution_count": 368,
   "id": "743cd497",
   "metadata": {},
   "outputs": [],
   "source": [
    "# We predict the labels of the test data (Depending on the fold we have different, how we do it with the confusion matrix)\n",
    "y_pred = knn.predict(X_test)"
   ]
  },
  {
   "cell_type": "code",
   "execution_count": 369,
   "id": "b4deb64a",
   "metadata": {},
   "outputs": [
    {
     "data": {
      "image/png": "[encoded data removed]",
      "text/plain": [
       "<Figure size 576x360 with 2 Axes>"
      ]
     },
     "metadata": {
      "needs_background": "light"
     },
     "output_type": "display_data"
    }
   ],
   "source": [
    "#Confusion matrix to evaluate the model \n",
    "plt.figure(figsize=(8,5))\n",
    "confusion_matrix = pd.crosstab(y_test, y_pred, rownames=['Actual'], \n",
    "                               colnames=['Predicted'])\n",
    "\n",
    "sns.heatmap(confusion_matrix, annot=True)\n",
    "plt.savefig(\"Confusion_Matrix_KNN.png\")\n",
    "plt.show()"
   ]
  },
  {
   "cell_type": "code",
   "execution_count": 370,
   "id": "57aa56f8",
   "metadata": {},
   "outputs": [
    {
     "data": {
      "text/plain": [
       "0.99375"
      ]
     },
     "execution_count": 370,
     "metadata": {},
     "output_type": "execute_result"
    }
   ],
   "source": [
    "# Accuracy of the model\n",
    "metrics.accuracy_score(y_test, y_pred)"
   ]
  },
  {
   "cell_type": "code",
   "execution_count": 371,
   "id": "5e7e9a83",
   "metadata": {},
   "outputs": [
    {
     "name": "stdout",
     "output_type": "stream",
     "text": [
      "Accuracy:0.99375\n"
     ]
    }
   ],
   "source": [
    "print(f\"Accuracy:{metrics.accuracy_score(y_test, y_pred)}\")"
   ]
  },
  {
   "cell_type": "code",
   "execution_count": 372,
   "id": "d3435db2",
   "metadata": {
    "scrolled": true
   },
   "outputs": [
    {
     "name": "stdout",
     "output_type": "stream",
     "text": [
      "More metrics about the model.\n",
      "\n",
      "              precision    recall  f1-score   support\n",
      "\n",
      "         0.0       0.98      1.00      0.99        60\n",
      "         1.0       1.00      1.00      1.00        16\n",
      "         2.0       1.00      1.00      1.00        29\n",
      "         3.0       1.00      0.96      0.98        28\n",
      "         4.0       1.00      1.00      1.00        27\n",
      "\n",
      "    accuracy                           0.99       160\n",
      "   macro avg       1.00      0.99      0.99       160\n",
      "weighted avg       0.99      0.99      0.99       160\n",
      "\n"
     ]
    }
   ],
   "source": [
    "print(f'More metrics about the model.\\n\\n' \\\n",
    "      f'{metrics.classification_report(y_test, y_pred, labels=[0.0, 1.0, 2.0, 3.0, 4.0])}')"
   ]
  },
  {
   "cell_type": "markdown",
   "id": "9dfb55ba",
   "metadata": {},
   "source": [
    "--------\n",
    "# Model Implementation: Logistic regression"
   ]
  },
  {
   "cell_type": "markdown",
   "id": "c800d5a4",
   "metadata": {},
   "source": [
    "###  80% Training data, 20% test data"
   ]
  },
  {
   "cell_type": "markdown",
   "id": "962b3a90",
   "metadata": {},
   "source": [
    "#For ORIGINAL data as input\n",
    "\n",
    "input_data = dataset.iloc[:,:-1].values\n",
    "label_data = dataset.iloc[:,-1].values"
   ]
  },
  {
   "cell_type": "code",
   "execution_count": 373,
   "id": "cb415360",
   "metadata": {},
   "outputs": [],
   "source": [
    "#For REDUCED data as input\n",
    "\n",
    "input_data = dataset_reduced_PCA.iloc[:,:-1].values\n",
    "label_data = dataset_reduced_PCA.iloc[:,-1].values"
   ]
  },
  {
   "cell_type": "code",
   "execution_count": 374,
   "id": "c256fe00",
   "metadata": {},
   "outputs": [],
   "source": [
    "# We split the data  \n",
    "X_train, X_test, y_train, y_test = train_test_split(input_data,label_data, test_size=0.2)"
   ]
  },
  {
   "cell_type": "code",
   "execution_count": 375,
   "id": "b8ac0713",
   "metadata": {},
   "outputs": [
    {
     "data": {
      "text/plain": [
       "LogisticRegression()"
      ]
     },
     "execution_count": 375,
     "metadata": {},
     "output_type": "execute_result"
    }
   ],
   "source": [
    "# Building and training the model\n",
    "LR = LogisticRegression() # Parameters to tune?\n",
    "LR.fit(X_train, y_train)"
   ]
  },
  {
   "cell_type": "code",
   "execution_count": 376,
   "id": "5c4531f8",
   "metadata": {},
   "outputs": [],
   "source": [
    "# We predict the labels of the test data\n",
    "y_pred = LR.predict(X_test)"
   ]
  },
  {
   "cell_type": "code",
   "execution_count": 377,
   "id": "0f0b63c7",
   "metadata": {
    "scrolled": true
   },
   "outputs": [
    {
     "data": {
      "image/png": "[encoded data removed]",
      "text/plain": [
       "<Figure size 576x360 with 2 Axes>"
      ]
     },
     "metadata": {
      "needs_background": "light"
     },
     "output_type": "display_data"
    }
   ],
   "source": [
    "#Confusion matrix to evaluate the model \n",
    "plt.figure(figsize=(8,5))\n",
    "confusion_matrix = pd.crosstab(y_test, y_pred, rownames=['Actual'], \n",
    "                               colnames=['Predicted'])\n",
    "\n",
    "sns.heatmap(confusion_matrix, annot=True)\n",
    "#plt.savefig(\"Confusion_Matrix_KNN.png\")\n",
    "plt.show()"
   ]
  },
  {
   "cell_type": "code",
   "execution_count": 378,
   "id": "57aa56f8",
   "metadata": {},
   "outputs": [
    {
     "data": {
      "text/plain": [
       "1.0"
      ]
     },
     "execution_count": 378,
     "metadata": {},
     "output_type": "execute_result"
    }
   ],
   "source": [
    "# Accuracy of the model\n",
    "metrics.accuracy_score(y_test, y_pred)"
   ]
  },
  {
   "cell_type": "code",
   "execution_count": 379,
   "id": "5e7e9a83",
   "metadata": {},
   "outputs": [
    {
     "name": "stdout",
     "output_type": "stream",
     "text": [
      "Accuracy:1.0\n"
     ]
    }
   ],
   "source": [
    "print(f\"Accuracy:{metrics.accuracy_score(y_test, y_pred)}\")"
   ]
  },
  {
   "cell_type": "code",
   "execution_count": 380,
   "id": "d3435db2",
   "metadata": {
    "scrolled": true
   },
   "outputs": [
    {
     "name": "stdout",
     "output_type": "stream",
     "text": [
      "More metrics about the model.\n",
      "\n",
      "              precision    recall  f1-score   support\n",
      "\n",
      "         0.0       1.00      1.00      1.00        52\n",
      "         1.0       1.00      1.00      1.00        17\n",
      "         2.0       1.00      1.00      1.00        37\n",
      "         3.0       1.00      1.00      1.00        26\n",
      "         4.0       1.00      1.00      1.00        29\n",
      "\n",
      "    accuracy                           1.00       161\n",
      "   macro avg       1.00      1.00      1.00       161\n",
      "weighted avg       1.00      1.00      1.00       161\n",
      "\n"
     ]
    }
   ],
   "source": [
    "print(f'More metrics about the model.\\n\\n' \\\n",
    "      f'{metrics.classification_report(y_test, y_pred, labels=[0.0, 1.0, 2.0, 3.0, 4.0])}')"
   ]
  },
  {
   "cell_type": "markdown",
   "id": "86569a93",
   "metadata": {},
   "source": [
    "### Stratified Kfold"
   ]
  },
  {
   "cell_type": "markdown",
   "id": "34d2e188",
   "metadata": {},
   "source": [
    "#For ORIGINAL data as input\n",
    "\n",
    "input_data = dataset.iloc[:,:-1].values\n",
    "label_data = dataset.iloc[:,-1].values"
   ]
  },
  {
   "cell_type": "code",
   "execution_count": 381,
   "id": "eb33b2cc",
   "metadata": {},
   "outputs": [],
   "source": [
    "#For REDUCED data as input\n",
    "\n",
    "input_data = dataset_reduced_PCA.iloc[:,:-1].values\n",
    "label_data = dataset_reduced_PCA.iloc[:,-1].values"
   ]
  },
  {
   "cell_type": "code",
   "execution_count": 384,
   "id": "8246b86b",
   "metadata": {},
   "outputs": [],
   "source": [
    "score_average = []\n",
    "error_average = []\n",
    "\n",
    "k_values = []\n",
    "\n",
    "def get_score(model, X_train, X_test, y_train, y_test):\n",
    "    model.fit(X_train, y_train)\n",
    "    return model.score(X_test, y_test)\n",
    "\n",
    "LR = LogisticRegression() # Parameters to tune?\n",
    "\n",
    "for k in range(5, 10):\n",
    "    folds = StratifiedKFold(n_splits=k, shuffle = True, random_state = 100)\n",
    "    k_values.append(k)\n",
    "    error = []\n",
    "    scores = []\n",
    "                   \n",
    "    for train_index, test_index in folds.split(input_data,label_data):\n",
    "        X_train, X_test, y_train, y_test = input_data[train_index], input_data[test_index], label_data[train_index], label_data[test_index]\n",
    "        \n",
    "        scores.append(get_score(LR, X_train, X_test, y_train, y_test))\n",
    "        \n",
    "        preds = LR.predict(X_test)\n",
    "        squared_error = np.power(y_test - preds,2)\n",
    "        error.append(np.mean(squared_error))\n",
    "        \n",
    "    error_average.append(np.mean(error))\n",
    "    score_average.append(round(np.mean(scores),4))"
   ]
  },
  {
   "cell_type": "code",
   "execution_count": 385,
   "id": "03473e36",
   "metadata": {},
   "outputs": [
    {
     "name": "stdout",
     "output_type": "stream",
     "text": [
      "0.9987515605493135\n"
     ]
    }
   ],
   "source": [
    "print(np.mean(average_score))"
   ]
  },
  {
   "cell_type": "code",
   "execution_count": 388,
   "id": "bf87a129",
   "metadata": {},
   "outputs": [
    {
     "data": {
      "text/plain": [
       "Text(0, 0.5, 'Mean Score.')"
      ]
     },
     "execution_count": 388,
     "metadata": {},
     "output_type": "execute_result"
    },
    {
     "data": {
      "image/png": "[encoded data removed]",
      "text/plain": [
       "<Figure size 864x432 with 1 Axes>"
      ]
     },
     "metadata": {
      "needs_background": "light"
     },
     "output_type": "display_data"
    }
   ],
   "source": [
    "#SCORE PLOT\n",
    "plt.figure(figsize=(12, 6))\n",
    "#plt.plot(k_values, error_average, color='blue', marker='o',markerfacecolor='red', markersize=10)\n",
    "plt.plot(k_values, score_average, color='red', marker='o', markerfacecolor='green', markersize=10)\n",
    "\n",
    "plt.title('Score value - K Value.')\n",
    "plt.xlabel('K Value.')\n",
    "plt.ylabel('Mean Score.')\n",
    "#plt.savefig(\"KNN_error_over_multiple_neighbors.png\")"
   ]
  },
  {
   "cell_type": "code",
   "execution_count": 389,
   "id": "9b71b85c",
   "metadata": {
    "scrolled": true
   },
   "outputs": [
    {
     "data": {
      "text/plain": [
       "Text(0, 0.5, 'Mean Squared Error.')"
      ]
     },
     "execution_count": 389,
     "metadata": {},
     "output_type": "execute_result"
    },
    {
     "data": {
      "image/png": "[encoded data removed]",
      "text/plain": [
       "<Figure size 864x432 with 1 Axes>"
      ]
     },
     "metadata": {
      "needs_background": "light"
     },
     "output_type": "display_data"
    }
   ],
   "source": [
    "#SQUARE ERROR PLOT\n",
    "plt.figure(figsize=(12, 6))\n",
    "plt.plot(k_values, error_average, color='blue', marker='o',\n",
    "         markerfacecolor='red', markersize=10)\n",
    "#plt.plot(k_values, score_average, color='red', marker='o', markerfacecolor='green', markersize=10)\n",
    "\n",
    "plt.title('Error Rate K Value.')\n",
    "plt.xlabel('K Value.')\n",
    "plt.ylabel('Mean Squared Error.')\n",
    "#plt.savefig(\"KNN_error_over_multiple_neighbors.png\")"
   ]
  },
  {
   "cell_type": "code",
   "execution_count": 391,
   "id": "b73fe0e1",
   "metadata": {},
   "outputs": [
    {
     "name": "stdout",
     "output_type": "stream",
     "text": [
      "0.9987577639751553\n"
     ]
    }
   ],
   "source": [
    "# After studying the optimal parameters, we run the model with the selected ones\n",
    "\n",
    "k = 5\n",
    "\n",
    "LR = LogisticRegression() # Parameters to tune?\n",
    "\n",
    "folds = StratifiedKFold(n_splits=k, shuffle = True, random_state = 100)\n",
    "\n",
    "scores = []\n",
    "\n",
    "def get_score(model, X_train, X_test, y_train, y_test):\n",
    "    model.fit(X_train, y_train)\n",
    "    return model.score(X_test, y_test)\n",
    "\n",
    "# Index of the spliting\n",
    "for train_index, test_index in folds.split(input_data,label_data):\n",
    "    X_train, X_test, y_train, y_test = input_data[train_index], input_data[test_index], label_data[train_index], label_data[test_index]\n",
    "    scores.append(get_score(LR, X_train, X_test, y_train, y_test))\n",
    "\n",
    "print(np.mean(scores))"
   ]
  },
  {
   "cell_type": "code",
   "execution_count": 392,
   "id": "743cd497",
   "metadata": {},
   "outputs": [],
   "source": [
    "# We predict the labels of the test data (Depending on the fold we have different, how we do it with the confusion matrix)\n",
    "y_pred = LR.predict(X_test)"
   ]
  },
  {
   "cell_type": "code",
   "execution_count": 393,
   "id": "0f0b63c7",
   "metadata": {},
   "outputs": [
    {
     "data": {
      "image/png": "[encoded data removed]",
      "text/plain": [
       "<Figure size 576x360 with 2 Axes>"
      ]
     },
     "metadata": {
      "needs_background": "light"
     },
     "output_type": "display_data"
    }
   ],
   "source": [
    "#Confusion matrix to evaluate the model \n",
    "plt.figure(figsize=(8,5))\n",
    "confusion_matrix = pd.crosstab(y_test, y_pred, rownames=['Actual'], \n",
    "                               colnames=['Predicted'])\n",
    "\n",
    "sns.heatmap(confusion_matrix, annot=True)\n",
    "plt.savefig(\"Confusion_Matrix_KNN.png\")\n",
    "plt.show()"
   ]
  },
  {
   "cell_type": "code",
   "execution_count": 394,
   "id": "57aa56f8",
   "metadata": {},
   "outputs": [
    {
     "data": {
      "text/plain": [
       "1.0"
      ]
     },
     "execution_count": 394,
     "metadata": {},
     "output_type": "execute_result"
    }
   ],
   "source": [
    "# Accuracy of the model --> This is just for this iteration, the real score is the mean of all the scores\n",
    "metrics.accuracy_score(y_test, y_pred)"
   ]
  },
  {
   "cell_type": "code",
   "execution_count": 395,
   "id": "5e7e9a83",
   "metadata": {},
   "outputs": [
    {
     "name": "stdout",
     "output_type": "stream",
     "text": [
      "Accuracy:1.0\n"
     ]
    }
   ],
   "source": [
    "print(f\"Accuracy:{metrics.accuracy_score(y_test, y_pred)}\")"
   ]
  },
  {
   "cell_type": "code",
   "execution_count": 396,
   "id": "d3435db2",
   "metadata": {
    "scrolled": false
   },
   "outputs": [
    {
     "name": "stdout",
     "output_type": "stream",
     "text": [
      "More metrics about the model.\n",
      "\n",
      "              precision    recall  f1-score   support\n",
      "\n",
      "         0.0       1.00      1.00      1.00        60\n",
      "         1.0       1.00      1.00      1.00        16\n",
      "         2.0       1.00      1.00      1.00        29\n",
      "         3.0       1.00      1.00      1.00        28\n",
      "         4.0       1.00      1.00      1.00        27\n",
      "\n",
      "    accuracy                           1.00       160\n",
      "   macro avg       1.00      1.00      1.00       160\n",
      "weighted avg       1.00      1.00      1.00       160\n",
      "\n"
     ]
    }
   ],
   "source": [
    "print(f'More metrics about the model.\\n\\n' \\\n",
    "      f'{metrics.classification_report(y_test, y_pred, labels=[0.0, 1.0, 2.0, 3.0, 4.0])}')"
   ]
  },
  {
   "cell_type": "markdown",
   "id": "6b057249",
   "metadata": {},
   "source": [
    "--------------\n",
    "# Model Implementation: Decision Tree"
   ]
  },
  {
   "cell_type": "markdown",
   "id": "c800d5a4",
   "metadata": {},
   "source": [
    "###  80% Training data, 20% test data"
   ]
  },
  {
   "cell_type": "markdown",
   "id": "ece6947e",
   "metadata": {},
   "source": [
    "#For ORIGINAL data as input\n",
    "\n",
    "input_data = dataset.iloc[:,:-1].values\n",
    "label_data = dataset.iloc[:,-1].values"
   ]
  },
  {
   "cell_type": "code",
   "execution_count": 283,
   "id": "0c0652da",
   "metadata": {},
   "outputs": [],
   "source": [
    "#For REDUCED data as input\n",
    "\n",
    "input_data = dataset_reduced_PCA.iloc[:,:-1].values\n",
    "label_data = dataset_reduced_PCA.iloc[:,-1].values"
   ]
  },
  {
   "cell_type": "code",
   "execution_count": 284,
   "id": "c256fe00",
   "metadata": {},
   "outputs": [],
   "source": [
    "# We split the data  \n",
    "X_train, X_test, y_train, y_test = train_test_split(input_data,label_data, test_size=0.2)"
   ]
  },
  {
   "cell_type": "code",
   "execution_count": 288,
   "id": "b8ac0713",
   "metadata": {},
   "outputs": [],
   "source": [
    "# Creating model and predicting output values on testing data.\n",
    "DT = DecisionTreeClassifier()\n",
    "\n",
    "DT.fit(X_train,y_train)\n",
    "\n",
    "y_pred = DT.predict(X_test)"
   ]
  },
  {
   "cell_type": "code",
   "execution_count": 289,
   "id": "5c4531f8",
   "metadata": {},
   "outputs": [],
   "source": [
    "# We predict the labels of the test data\n",
    "y_pred = DT.predict(X_test)"
   ]
  },
  {
   "cell_type": "code",
   "execution_count": 290,
   "id": "0f0b63c7",
   "metadata": {
    "scrolled": true
   },
   "outputs": [
    {
     "data": {
      "image/png": "[encoded data removed]",
      "text/plain": [
       "<Figure size 576x360 with 2 Axes>"
      ]
     },
     "metadata": {
      "needs_background": "light"
     },
     "output_type": "display_data"
    }
   ],
   "source": [
    "#Confusion matrix to evaluate the model \n",
    "plt.figure(figsize=(8,5))\n",
    "confusion_matrix = pd.crosstab(y_test, y_pred, rownames=['Actual'], \n",
    "                               colnames=['Predicted'])\n",
    "\n",
    "sns.heatmap(confusion_matrix, annot=True)\n",
    "#plt.savefig(\"Confusion_Matrix_KNN.png\")\n",
    "plt.show()"
   ]
  },
  {
   "cell_type": "code",
   "execution_count": 291,
   "id": "57aa56f8",
   "metadata": {},
   "outputs": [
    {
     "data": {
      "text/plain": [
       "0.968944099378882"
      ]
     },
     "execution_count": 291,
     "metadata": {},
     "output_type": "execute_result"
    }
   ],
   "source": [
    "# Accuracy of the model\n",
    "metrics.accuracy_score(y_test, y_pred)"
   ]
  },
  {
   "cell_type": "code",
   "execution_count": 292,
   "id": "5e7e9a83",
   "metadata": {},
   "outputs": [
    {
     "name": "stdout",
     "output_type": "stream",
     "text": [
      "Accuracy:0.968944099378882\n"
     ]
    }
   ],
   "source": [
    "print(f\"Accuracy:{metrics.accuracy_score(y_test, y_pred)}\")"
   ]
  },
  {
   "cell_type": "code",
   "execution_count": 293,
   "id": "d3435db2",
   "metadata": {
    "scrolled": true
   },
   "outputs": [
    {
     "name": "stdout",
     "output_type": "stream",
     "text": [
      "More metrics about the model.\n",
      "\n",
      "              precision    recall  f1-score   support\n",
      "\n",
      "         0.0       0.95      0.98      0.97        59\n",
      "         1.0       1.00      0.94      0.97        16\n",
      "         2.0       1.00      1.00      1.00        25\n",
      "         3.0       0.97      0.91      0.94        34\n",
      "         4.0       0.96      1.00      0.98        27\n",
      "\n",
      "    accuracy                           0.97       161\n",
      "   macro avg       0.98      0.97      0.97       161\n",
      "weighted avg       0.97      0.97      0.97       161\n",
      "\n"
     ]
    }
   ],
   "source": [
    "print(f'More metrics about the model.\\n\\n' \\\n",
    "      f'{metrics.classification_report(y_test, y_pred, labels=[0.0, 1.0, 2.0, 3.0, 4.0])}')"
   ]
  },
  {
   "cell_type": "markdown",
   "id": "86569a93",
   "metadata": {},
   "source": [
    "### Stratified Kfold"
   ]
  },
  {
   "cell_type": "markdown",
   "id": "8a968f71",
   "metadata": {},
   "source": [
    "#For ORIGINAL data as input\n",
    "\n",
    "input_data = dataset.iloc[:,:-1].values\n",
    "label_data = dataset.iloc[:,-1].values"
   ]
  },
  {
   "cell_type": "code",
   "execution_count": 400,
   "id": "6fcaa724",
   "metadata": {},
   "outputs": [],
   "source": [
    "#For REDUCED data as input\n",
    "\n",
    "input_data = dataset_reduced_PCA.iloc[:,:-1].values\n",
    "label_data = dataset_reduced_PCA.iloc[:,-1].values"
   ]
  },
  {
   "cell_type": "code",
   "execution_count": 406,
   "id": "3c9fbdcb",
   "metadata": {},
   "outputs": [],
   "source": [
    "error_average = []\n",
    "score_average = []\n",
    "\n",
    "k_values = []\n",
    "\n",
    "\n",
    "def get_score(model, X_train, X_test, y_train, y_test):\n",
    "    model.fit(X_train, y_train)\n",
    "    return model.score(X_test, y_test)\n",
    "\n",
    "DT = DecisionTreeClassifier() # Parameters to tune?\n",
    "\n",
    "for k in range(5, 10):\n",
    "    folds = StratifiedKFold(n_splits=k, shuffle = True, random_state = 100)\n",
    "    k_values.append(k)\n",
    "    error = []\n",
    "    scores = []\n",
    "                   \n",
    "    for train_index, test_index in folds.split(input_data,label_data):\n",
    "        X_train, X_test, y_train, y_test = input_data[train_index], input_data[test_index], label_data[train_index], label_data[test_index]\n",
    "        \n",
    "        scores.append(get_score(DT, X_train, X_test, y_train, y_test))\n",
    "        \n",
    "        preds = DT.predict(X_test)\n",
    "        squared_error = np.power(y_test - preds,2)\n",
    "        error.append(np.mean(squared_error))\n",
    "        \n",
    "    error_average.append(np.mean(error))\n",
    "    score_average.append(round(np.mean(scores),4))\n",
    "    \n"
   ]
  },
  {
   "cell_type": "code",
   "execution_count": 407,
   "id": "0395f172",
   "metadata": {},
   "outputs": [
    {
     "data": {
      "text/plain": [
       "Text(0, 0.5, 'Mean Score.')"
      ]
     },
     "execution_count": 407,
     "metadata": {},
     "output_type": "execute_result"
    },
    {
     "data": {
      "image/png": "[encoded data removed]",
      "text/plain": [
       "<Figure size 864x432 with 1 Axes>"
      ]
     },
     "metadata": {
      "needs_background": "light"
     },
     "output_type": "display_data"
    }
   ],
   "source": [
    "#SCORE PLOT\n",
    "plt.figure(figsize=(12, 6))\n",
    "#plt.plot(k_values, error_average, color='blue', marker='o',markerfacecolor='red', markersize=10)\n",
    "plt.plot(k_values, score_average, color='red', marker='o', markerfacecolor='green', markersize=10)\n",
    "\n",
    "plt.title('Score value - K Value.')\n",
    "plt.xlabel('K Value.')\n",
    "plt.ylabel('Mean Score.')\n",
    "#plt.savefig(\"KNN_error_over_multiple_neighbors.png\")"
   ]
  },
  {
   "cell_type": "code",
   "execution_count": 408,
   "id": "2a53dc86",
   "metadata": {
    "scrolled": true
   },
   "outputs": [
    {
     "data": {
      "text/plain": [
       "Text(0, 0.5, 'Mean Squared Error.')"
      ]
     },
     "execution_count": 408,
     "metadata": {},
     "output_type": "execute_result"
    },
    {
     "data": {
      "image/png": "[encoded data removed]",
      "text/plain": [
       "<Figure size 864x432 with 1 Axes>"
      ]
     },
     "metadata": {
      "needs_background": "light"
     },
     "output_type": "display_data"
    }
   ],
   "source": [
    "#SQUARE ERROR PLOT\n",
    "plt.figure(figsize=(12, 6))\n",
    "plt.plot(k_values, error_average, color='blue', marker='o',\n",
    "         markerfacecolor='red', markersize=10)\n",
    "#plt.plot(k_values, score_average, color='red', marker='o', markerfacecolor='green', markersize=10)\n",
    "\n",
    "plt.title('Error Rate K Value.')\n",
    "plt.xlabel('K Value.')\n",
    "plt.ylabel('Mean Squared Error.')\n",
    "#plt.savefig(\"KNN_error_over_multiple_neighbors.png\")"
   ]
  },
  {
   "cell_type": "code",
   "execution_count": 410,
   "id": "b73fe0e1",
   "metadata": {},
   "outputs": [
    {
     "name": "stdout",
     "output_type": "stream",
     "text": [
      "0.9550925925925926\n"
     ]
    }
   ],
   "source": [
    "# After studying the optimal parameters, we run the model with the selected ones\n",
    "\n",
    "k = 10\n",
    "\n",
    "DT = DecisionTreeClassifier() # Parameters to tune?\n",
    "\n",
    "folds = StratifiedKFold(n_splits=k, shuffle = True, random_state = 100)\n",
    "\n",
    "scores = []\n",
    "\n",
    "def get_score(model, X_train, X_test, y_train, y_test):\n",
    "    model.fit(X_train, y_train)\n",
    "    return model.score(X_test, y_test)\n",
    "\n",
    "# Index of the spliting\n",
    "for train_index, test_index in folds.split(input_data,label_data):\n",
    "    X_train, X_test, y_train, y_test = input_data[train_index], input_data[test_index], label_data[train_index], label_data[test_index]\n",
    "    scores.append(get_score(DT, X_train, X_test, y_train, y_test))\n",
    "\n",
    "print(np.mean(scores))"
   ]
  },
  {
   "cell_type": "code",
   "execution_count": 411,
   "id": "743cd497",
   "metadata": {},
   "outputs": [],
   "source": [
    "# We predict the labels of the test data (Depending on the fold we have different, how we do it with the confusion matrix)\n",
    "y_pred = DT.predict(X_test)"
   ]
  },
  {
   "cell_type": "code",
   "execution_count": 412,
   "id": "0f0b63c7",
   "metadata": {},
   "outputs": [
    {
     "data": {
      "image/png": "[encoded data removed]",
      "text/plain": [
       "<Figure size 576x360 with 2 Axes>"
      ]
     },
     "metadata": {
      "needs_background": "light"
     },
     "output_type": "display_data"
    }
   ],
   "source": [
    "#Confusion matrix to evaluate the model \n",
    "plt.figure(figsize=(8,5))\n",
    "confusion_matrix = pd.crosstab(y_test, y_pred, rownames=['Actual'], \n",
    "                               colnames=['Predicted'])\n",
    "\n",
    "sns.heatmap(confusion_matrix, annot=True)\n",
    "plt.savefig(\"Confusion_Matrix_KNN.png\")\n",
    "plt.show()"
   ]
  },
  {
   "cell_type": "code",
   "execution_count": 413,
   "id": "57aa56f8",
   "metadata": {},
   "outputs": [
    {
     "data": {
      "text/plain": [
       "0.975"
      ]
     },
     "execution_count": 413,
     "metadata": {},
     "output_type": "execute_result"
    }
   ],
   "source": [
    "# Accuracy of the model\n",
    "metrics.accuracy_score(y_test, y_pred)"
   ]
  },
  {
   "cell_type": "code",
   "execution_count": 414,
   "id": "5e7e9a83",
   "metadata": {},
   "outputs": [
    {
     "name": "stdout",
     "output_type": "stream",
     "text": [
      "Accuracy:0.975\n"
     ]
    }
   ],
   "source": [
    "print(f\"Accuracy:{metrics.accuracy_score(y_test, y_pred)}\")"
   ]
  },
  {
   "cell_type": "code",
   "execution_count": 415,
   "id": "d3435db2",
   "metadata": {
    "scrolled": false
   },
   "outputs": [
    {
     "name": "stdout",
     "output_type": "stream",
     "text": [
      "More metrics about the model.\n",
      "\n",
      "              precision    recall  f1-score   support\n",
      "\n",
      "         0.0       1.00      0.93      0.97        30\n",
      "         1.0       0.89      1.00      0.94         8\n",
      "         2.0       1.00      1.00      1.00        15\n",
      "         3.0       0.93      1.00      0.97        14\n",
      "         4.0       1.00      1.00      1.00        13\n",
      "\n",
      "    accuracy                           0.97        80\n",
      "   macro avg       0.96      0.99      0.97        80\n",
      "weighted avg       0.98      0.97      0.98        80\n",
      "\n"
     ]
    }
   ],
   "source": [
    "print(f'More metrics about the model.\\n\\n' \\\n",
    "      f'{metrics.classification_report(y_test, y_pred, labels=[0.0, 1.0, 2.0, 3.0, 4.0])}')"
   ]
  },
  {
   "cell_type": "markdown",
   "id": "e4e8fa79",
   "metadata": {},
   "source": [
    "### Decision Tree layout"
   ]
  },
  {
   "cell_type": "code",
   "execution_count": null,
   "id": "559d5ad2",
   "metadata": {},
   "outputs": [],
   "source": [
    "from sklearn.tree import export_graphviz\n",
    "from six import StringIO\n",
    "from IPython.display import Image  \n",
    "import pydotplus"
   ]
  },
  {
   "cell_type": "code",
   "execution_count": null,
   "id": "f1d54a96",
   "metadata": {},
   "outputs": [],
   "source": [
    "dot_data = StringIO()\n",
    "export_graphviz(clf, out_file=dot_data,  \n",
    "                filled=True, rounded=True,\n",
    "                special_characters=True,feature_names = final_df.columns[:-1], class_names=final_df.Label.unique().astype(str))\n",
    "graph = pydotplus.graph_from_dot_data(dot_data.getvalue())  \n",
    "\n",
    "#Image(graph.create_png())"
   ]
  },
  {
   "cell_type": "code",
   "execution_count": null,
   "id": "7fe96be7",
   "metadata": {},
   "outputs": [],
   "source": [
    "#cf = multilabel_confusion_matrix(y_test, y_pred, labels=[0.0, 1.0, 2.0, 3.0, 4.0])"
   ]
  },
  {
   "cell_type": "code",
   "execution_count": null,
   "id": "49dee6b6",
   "metadata": {},
   "outputs": [],
   "source": [
    "#lda = LinearDiscriminantAnalysis(n_components=3)\n",
    "#x_r2 = lda.fit(final_df.iloc[:, :-1], final_df.Label).transform(dataset.iloc[:, :-1])"
   ]
  },
  {
   "cell_type": "code",
   "execution_count": null,
   "id": "799b4fcb",
   "metadata": {},
   "outputs": [],
   "source": [
    "#corr = dataset.iloc[0:30, 0:30].corr()\n",
    "#f, ax = plt.subplots(figsize=(14, 10))\n",
    "#hm = sns.heatmap(round(corr,2), annot=True, ax=ax, cmap=\"coolwarm\",fmt='.2f',\n",
    "#                 linewidths=.05)"
   ]
  },
  {
   "cell_type": "markdown",
   "id": "9a3f2ed4",
   "metadata": {},
   "source": [
    "\n"
   ]
  }
 ],
 "metadata": {
  "kernelspec": {
   "display_name": "Python 3",
   "language": "python",
   "name": "python3"
  }
 },
 "nbformat": 4,
 "nbformat_minor": 5
}
