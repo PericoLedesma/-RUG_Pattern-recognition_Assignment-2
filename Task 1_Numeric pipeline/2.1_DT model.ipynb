{
 "cells": [
  {
   "cell_type": "markdown",
   "id": "84ea3cac",
   "metadata": {},
   "source": [
    "# Import Libraries"
   ]
  },
  {
   "cell_type": "code",
   "execution_count": 331,
   "id": "6baade51",
   "metadata": {},
   "outputs": [],
   "source": [
    "import numpy as np\n",
    "import pandas as pd\n",
    "import matplotlib.pyplot as plt\n",
    "import seaborn as sns\n",
    "\n",
    "### From sklearn - Preprocesing \n",
    "from sklearn import preprocessing\n",
    "\n",
    "# Dimension reduction \n",
    "from sklearn.decomposition import PCA\n",
    "from sklearn.discriminant_analysis import LinearDiscriminantAnalysis\n",
    "\n",
    "# K-fold\n",
    "from sklearn.model_selection import StratifiedKFold\n",
    "from sklearn.model_selection import KFold, cross_val_score, GridSearchCV\n",
    "\n",
    "# From sklearn - Model creation\n",
    "\n",
    "from sklearn.tree import DecisionTreeClassifier \n",
    "from sklearn.model_selection import train_test_split \n",
    "\n",
    "from sklearn.metrics import multilabel_confusion_matrix\n",
    "from sklearn import metrics "
   ]
  },
  {
   "cell_type": "markdown",
   "id": "bf849a00",
   "metadata": {},
   "source": [
    "# Index\n",
    "\n",
    "1. Reading files and merging features with labels\n",
    "2. Preprocesing phase <br>\n",
    "    2.1 Encoding labels<br>\n",
    "    2.2 Normalization: min_max_scaler<br>\n",
    "    2.3 Search for outliers in dataset<br>\n",
    "3. Model Implementation: Decision Tree\n",
    "        3.1 PCA_80% Training data, 20% test data<br>\n",
    "        3.2 PCA-DT with fixed value<br>\n",
    "        3.3 LDA_80% Training data, 20% test data<br>\n",
    "        3.4 LDA-DT with fixed value<br>\n",
    "        3.5 Stratified Kfold<br>\n",
    "        3.6 Decision tree layout\n",
    "        3.7 K-Fold function\n",
    "        3.8 Grid search Function"
   ]
  },
  {
   "cell_type": "markdown",
   "id": "98a8d2ae",
   "metadata": {},
   "source": [
    "-----\n",
    "# 1. Reading files and merging features with labels"
   ]
  },
  {
   "cell_type": "code",
   "execution_count": 332,
   "id": "a0bac7af",
   "metadata": {},
   "outputs": [],
   "source": [
    "#dataset = pd.read_csv(\"Genes\\data.csv\")\n",
    "dataset = pd.read_csv('/Users/pedrorodriguezdeledesmajimenez/1_Coding/Datasets/RUG_Pattern-recognition_Assignment-2/Task 1/Genres/data.csv')\n",
    "\n",
    "#labels = pd.read_csv(\"Genes\\labels.csv\")\n",
    "dataset_labels =pd.read_csv('/Users/pedrorodriguezdeledesmajimenez/1_Coding/Datasets/RUG_Pattern-recognition_Assignment-2/Task 1/Genres/labels.csv')"
   ]
  },
  {
   "cell_type": "code",
   "execution_count": 333,
   "id": "4c238d5a",
   "metadata": {},
   "outputs": [],
   "source": [
    "# Merging both datasets and removing first column\n",
    "\n",
    "dataset = pd.merge(dataset, dataset_labels, on='Unnamed: 0').drop(\"Unnamed: 0\", axis=1)"
   ]
  },
  {
   "cell_type": "markdown",
   "id": "b3c7f917",
   "metadata": {},
   "source": [
    "----\n",
    "# 2. Preprocesing phase"
   ]
  },
  {
   "cell_type": "markdown",
   "id": "177a57ba",
   "metadata": {},
   "source": [
    "###  2.1 Encoding labels"
   ]
  },
  {
   "cell_type": "code",
   "execution_count": 334,
   "id": "08ac19fd",
   "metadata": {},
   "outputs": [],
   "source": [
    "# Encode the labels and updaate values\n",
    "le = preprocessing.LabelEncoder()\n",
    "dataset[\"Class\"] = le.fit_transform(dataset_labels.drop(\"Unnamed: 0\", axis=1).values.ravel())"
   ]
  },
  {
   "cell_type": "code",
   "execution_count": 335,
   "id": "aa5f0414",
   "metadata": {},
   "outputs": [],
   "source": [
    "# Let´s store all the labels\n",
    "keys = le.classes_\n",
    "\n",
    "# And now store labels with their encoded value \n",
    "values = le.transform(le.classes_)\n",
    "dictionary = dict(zip(keys, values))"
   ]
  },
  {
   "cell_type": "markdown",
   "id": "90f6f281",
   "metadata": {},
   "source": [
    "### 2.2 Normalization: min_max_scaler"
   ]
  },
  {
   "cell_type": "code",
   "execution_count": 336,
   "id": "8b38a0be",
   "metadata": {},
   "outputs": [],
   "source": [
    "# Lets store the dataset values without the columns titles\n",
    "x = dataset.iloc[:, :-1].values \n",
    "\n",
    "# Let´s create an instance with the normalice function\n",
    "min_max_scaler = preprocessing.MinMaxScaler()\n",
    "\n",
    "# Let´s fit the normilice function\n",
    "x_scaled = min_max_scaler.fit_transform(x)\n",
    "\n",
    "# Let´s put in the dataframe the values scaled\n",
    "dataset.iloc[:, :-1] = pd.DataFrame(x_scaled)"
   ]
  },
  {
   "cell_type": "markdown",
   "id": "c91f557b",
   "metadata": {},
   "source": [
    "### 2.3 Search for outliers in dataset"
   ]
  },
  {
   "cell_type": "code",
   "execution_count": 337,
   "id": "dc2c4bab",
   "metadata": {},
   "outputs": [],
   "source": [
    "from sklearn.neighbors import LocalOutlierFactor\n",
    "\n",
    "lof = LocalOutlierFactor()\n",
    "# fit_predict return a numpy array of 1 if not an outlier and -1 if an outlier\n",
    "outliers = lof.fit_predict(dataset.iloc[:,:-1])\n",
    "\n",
    "# select all rows that are not outliers\n",
    "mask = outliers != -1\n",
    "dataset.shape\n",
    "\n",
    "#unpack the mask to keep only non-outlier examples\n",
    "dataset = dataset[[*mask]]\n"
   ]
  },
  {
   "cell_type": "markdown",
   "id": "9c18b02f",
   "metadata": {},
   "source": [
    "#### Output"
   ]
  },
  {
   "cell_type": "code",
   "execution_count": 338,
   "id": "789cff8f",
   "metadata": {},
   "outputs": [
    {
     "data": {
      "text/plain": [
       "(796, 20532)"
      ]
     },
     "execution_count": 338,
     "metadata": {},
     "output_type": "execute_result"
    }
   ],
   "source": [
    "dataset.shape"
   ]
  },
  {
   "cell_type": "markdown",
   "id": "6b057249",
   "metadata": {},
   "source": [
    "--------------\n",
    "# 3. Model Implementation: Decision Tree"
   ]
  },
  {
   "cell_type": "markdown",
   "id": "6ca47350",
   "metadata": {},
   "source": [
    "--------"
   ]
  },
  {
   "cell_type": "markdown",
   "id": "c800d5a4",
   "metadata": {},
   "source": [
    "##  3.1 PCA_80% Training data, 20% test data"
   ]
  },
  {
   "cell_type": "code",
   "execution_count": 339,
   "id": "24444e09",
   "metadata": {},
   "outputs": [],
   "source": [
    "n_components_array_PCA = []\n",
    "score_array = []\n",
    "\n",
    "for n_components_PCA in [2,3,4,5,6,7,8,9,10,11,12,13,14,15]:\n",
    "    \n",
    "    pca = PCA(n_components=n_components_PCA)\n",
    "\n",
    "    # Apply PCA in input vector\n",
    "    pca.fit(dataset.iloc[:,:-1]) \n",
    "\n",
    "    # Save results in an np.array\n",
    "    reduced = pca.transform(dataset.iloc[:,:-1])\n",
    "\n",
    "    # Save labels in an np.array\n",
    "    x = dataset['Class'].to_numpy()\n",
    "\n",
    "    # Create final dataframe with reduced dimensions\n",
    "    dataset_reduced_PCA = pd.DataFrame(np.column_stack((reduced, x)))\n",
    "\n",
    "\n",
    "    input_data = dataset_reduced_PCA.iloc[:,:-1].values\n",
    "    label_data = dataset_reduced_PCA.iloc[:,-1].values\n",
    "\n",
    "    # We split the data  \n",
    "    X_train, X_test, y_train, y_test = train_test_split(input_data,label_data, test_size=0.2, random_state=5)\n",
    "\n",
    "    # Building and training the model\n",
    "    DT = DecisionTreeClassifier(criterion='entropy', random_state=np.random.RandomState(5))\n",
    "    DT = DT.fit(X_train,y_train)\n",
    "\n",
    "    # We predict the labels of the test data\n",
    "    y_pred = DT.predict(X_test)\n",
    "\n",
    "    # Accuracy of the model\n",
    "    metrics.accuracy_score(y_test, y_pred)\n",
    "    \n",
    "    n_components_array_PCA.append(n_components_PCA)\n",
    "    score_array.append(metrics.accuracy_score(y_test, y_pred))\n"
   ]
  },
  {
   "cell_type": "code",
   "execution_count": 340,
   "id": "9029da9b",
   "metadata": {},
   "outputs": [
    {
     "data": {
      "image/png": "[encoded data removed]",
      "text/plain": [
       "<Figure size 432x288 with 1 Axes>"
      ]
     },
     "metadata": {
      "needs_background": "light"
     },
     "output_type": "display_data"
    }
   ],
   "source": [
    "# Plot with regards of components\n",
    "\n",
    "plt.plot(n_components_array_PCA, score_array,label='Model score')\n",
    "#plt.plot(n_components_array_PCA, score_array,'r+')\n",
    "plt.ylabel('Model accuracy')\n",
    "plt.xlabel('Number of features')\n",
    "plt.legend(loc='best')\n",
    "plt.tight_layout()\n",
    "plt.show()"
   ]
  },
  {
   "cell_type": "markdown",
   "id": "61bbb594",
   "metadata": {},
   "source": [
    "## 3.2 PCA-DT with fixed value "
   ]
  },
  {
   "cell_type": "code",
   "execution_count": 341,
   "id": "3433e76a",
   "metadata": {},
   "outputs": [],
   "source": [
    "# Selected value dimension reduction\n",
    "\n",
    "pca = PCA(n_components=0.70)\n",
    "\n",
    "# Apply PCA in input vector\n",
    "pca.fit(dataset.iloc[:,:-1]) \n",
    "\n",
    "# Save results in an np.array\n",
    "reduced = pca.transform(dataset.iloc[:,:-1])\n",
    "\n",
    "# Save labels in an np.array\n",
    "x = dataset['Class'].to_numpy()\n",
    "\n",
    "# Create final dataframe with reduced dimensions\n",
    "dataset_reduced_PCA = pd.DataFrame(np.column_stack((reduced, x)))\n",
    "\n",
    "#For PCA REDUCED data as input\n",
    "#input_data = dataset_reduced_PCA.iloc[:,:-1].values\n",
    "#label_data = dataset_reduced_PCA.iloc[:,-1].values\n",
    "\n",
    "# We split the data  \n",
    "X_train, X_test, y_train, y_test = train_test_split(input_data,label_data, test_size=0.2,random_state=5)"
   ]
  },
  {
   "cell_type": "code",
   "execution_count": 342,
   "id": "b8ac0713",
   "metadata": {
    "scrolled": true
   },
   "outputs": [],
   "source": [
    "#Creating model and predicting output values on testing data.\n",
    "DT = DecisionTreeClassifier(criterion='entropy', random_state=np.random.RandomState(5))\n",
    "DT = DT.fit(X_train,y_train)\n",
    "y_pred = DT.predict(X_test)"
   ]
  },
  {
   "cell_type": "code",
   "execution_count": 343,
   "id": "0f0b63c7",
   "metadata": {
    "scrolled": true
   },
   "outputs": [
    {
     "data": {
      "image/png": "[encoded data removed]",
      "text/plain": [
       "<Figure size 576x360 with 2 Axes>"
      ]
     },
     "metadata": {
      "needs_background": "light"
     },
     "output_type": "display_data"
    }
   ],
   "source": [
    "#Confusion matrix to evaluate the model \n",
    "plt.figure(figsize=(8,5))\n",
    "confusion_matrix = pd.crosstab(y_test, y_pred, rownames=['Actual'], \n",
    "                               colnames=['Predicted'])\n",
    "\n",
    "sns.heatmap(confusion_matrix, annot=True)\n",
    "#plt.savefig(\"Confusion_Matrix_KNN.png\")\n",
    "plt.show()"
   ]
  },
  {
   "cell_type": "code",
   "execution_count": 344,
   "id": "57aa56f8",
   "metadata": {},
   "outputs": [
    {
     "data": {
      "text/plain": [
       "0.94375"
      ]
     },
     "execution_count": 344,
     "metadata": {},
     "output_type": "execute_result"
    }
   ],
   "source": [
    "# Accuracy of the model\n",
    "metrics.accuracy_score(y_test, y_pred)"
   ]
  },
  {
   "cell_type": "code",
   "execution_count": 345,
   "id": "5e7e9a83",
   "metadata": {},
   "outputs": [
    {
     "name": "stdout",
     "output_type": "stream",
     "text": [
      "Accuracy:0.94375\n"
     ]
    }
   ],
   "source": [
    "print(f\"Accuracy:{metrics.accuracy_score(y_test, y_pred)}\")"
   ]
  },
  {
   "cell_type": "code",
   "execution_count": 346,
   "id": "d3435db2",
   "metadata": {
    "scrolled": true
   },
   "outputs": [
    {
     "name": "stdout",
     "output_type": "stream",
     "text": [
      "More metrics about the model.\n",
      "\n",
      "              precision    recall  f1-score   support\n",
      "\n",
      "         0.0       0.92      0.95      0.93        59\n",
      "         1.0       0.92      0.92      0.92        13\n",
      "         2.0       1.00      1.00      1.00        27\n",
      "         3.0       0.94      0.94      0.94        35\n",
      "         4.0       0.96      0.88      0.92        26\n",
      "\n",
      "    accuracy                           0.94       160\n",
      "   macro avg       0.95      0.94      0.94       160\n",
      "weighted avg       0.94      0.94      0.94       160\n",
      "\n"
     ]
    }
   ],
   "source": [
    "print(f'More metrics about the model.\\n\\n' \\\n",
    "      f'{metrics.classification_report(y_test, y_pred, labels=[0.0, 1.0, 2.0, 3.0, 4.0])}')"
   ]
  },
  {
   "cell_type": "markdown",
   "id": "ed834a7a",
   "metadata": {},
   "source": [
    "------------"
   ]
  },
  {
   "cell_type": "markdown",
   "id": "df4249e6",
   "metadata": {},
   "source": [
    "## 3.3 LDA_80% Training data, 20% test data"
   ]
  },
  {
   "cell_type": "code",
   "execution_count": 347,
   "id": "84f748f0",
   "metadata": {},
   "outputs": [],
   "source": [
    "n_components_array_LDA = []\n",
    "score_array = []\n",
    "\n",
    "for n_components_LDA in [1,2,3,4]:\n",
    "    \n",
    "    lda = LinearDiscriminantAnalysis(n_components=n_components_LDA)\n",
    "\n",
    "    # Apply PCA in input vector\n",
    "    lda.fit(dataset.iloc[:,:-1],dataset.iloc[:,-1:].values.ravel()) \n",
    "\n",
    "    # Save results in an np.array\n",
    "    reduced = lda.transform(dataset.iloc[:,:-1].values)\n",
    "\n",
    "    # Save labels in an np.array\n",
    "    x = dataset['Class'].to_numpy()\n",
    "\n",
    "    # Create final dataframe with reduced dimensions\n",
    "    dataset_reduced_LDA = pd.DataFrame(np.column_stack((reduced, x)))\n",
    "\n",
    "\n",
    "    input_data = dataset_reduced_LDA.iloc[:,:-1].values\n",
    "    label_data = dataset_reduced_LDA.iloc[:,-1].values\n",
    "\n",
    "    # We split the data  \n",
    "    X_train, X_test, y_train, y_test = train_test_split(input_data,label_data, test_size=0.2, random_state=5)\n",
    "\n",
    "     # Building and training the model\n",
    "    DT = DecisionTreeClassifier(criterion='entropy', random_state=np.random.RandomState(5))\n",
    "    DT = DT.fit(X_train,y_train)\n",
    "\n",
    "    # We predict the labels of the test data\n",
    "    y_pred = DT.predict(X_test)\n",
    "\n",
    "    # Accuracy of the model\n",
    "    metrics.accuracy_score(y_test, y_pred)\n",
    "    \n",
    "    n_components_array_LDA.append(n_components_LDA)\n",
    "    score_array.append(metrics.accuracy_score(y_test, y_pred))\n"
   ]
  },
  {
   "cell_type": "code",
   "execution_count": 348,
   "id": "e528bdf7",
   "metadata": {},
   "outputs": [
    {
     "data": {
      "image/png": "[encoded data removed]",
      "text/plain": [
       "<Figure size 432x288 with 1 Axes>"
      ]
     },
     "metadata": {
      "needs_background": "light"
     },
     "output_type": "display_data"
    }
   ],
   "source": [
    "# Plot with regards of components\n",
    "\n",
    "plt.plot(n_components_array_LDA, score_array,label='Model score')\n",
    "plt.ylabel('Model accuracy')\n",
    "plt.xlabel('Number of features')\n",
    "plt.legend(loc='best')\n",
    "plt.tight_layout()\n",
    "plt.show()"
   ]
  },
  {
   "cell_type": "markdown",
   "id": "2d1a8000",
   "metadata": {},
   "source": [
    "## 3.4 DT-LDA with fixed values"
   ]
  },
  {
   "cell_type": "code",
   "execution_count": 349,
   "id": "4b8367fa",
   "metadata": {},
   "outputs": [],
   "source": [
    "# Selected value dimension reduction \n",
    "lda = LinearDiscriminantAnalysis(n_components=4)\n",
    "\n",
    "# Apply PCA in input vector\n",
    "lda.fit(dataset.iloc[:,:-1],dataset.iloc[:,-1:].values.ravel()) \n",
    "\n",
    "# Save results in an np.array\n",
    "reduced = lda.transform(dataset.iloc[:,:-1].values)\n",
    "\n",
    "# Save labels in an np.array\n",
    "x = dataset['Class'].to_numpy()\n",
    "\n",
    "# Create final dataframe with reduced dimensions\n",
    "dataset_reduced_LDA = pd.DataFrame(np.column_stack((reduced, x)))\n",
    "\n",
    "input_data = dataset_reduced_LDA.iloc[:,:-1].values\n",
    "label_data = dataset_reduced_LDA.iloc[:,-1].values\n",
    "\n",
    "# We split the data  \n",
    "X_train, X_test, y_train, y_test = train_test_split(input_data,label_data, test_size=0.2, random_state=5)"
   ]
  },
  {
   "cell_type": "code",
   "execution_count": 350,
   "id": "32cf7d0f",
   "metadata": {
    "scrolled": true
   },
   "outputs": [],
   "source": [
    "#Creating model and predicting output values on testing data.\n",
    "DT = DecisionTreeClassifier(criterion='entropy', random_state=np.random.RandomState(5))\n",
    "DT = DT.fit(X_train,y_train)\n",
    "y_pred = DT.predict(X_test)"
   ]
  },
  {
   "cell_type": "code",
   "execution_count": 351,
   "id": "b1419245",
   "metadata": {
    "scrolled": true
   },
   "outputs": [
    {
     "data": {
      "image/png": "[encoded data removed]",
      "text/plain": [
       "<Figure size 576x360 with 2 Axes>"
      ]
     },
     "metadata": {
      "needs_background": "light"
     },
     "output_type": "display_data"
    }
   ],
   "source": [
    "#Confusion matrix to evaluate the model \n",
    "plt.figure(figsize=(8,5))\n",
    "confusion_matrix = pd.crosstab(y_test, y_pred, rownames=['Actual'], \n",
    "                               colnames=['Predicted'])\n",
    "\n",
    "sns.heatmap(confusion_matrix, annot=True)\n",
    "#plt.savefig(\"Confusion_Matrix_KNN.png\")\n",
    "plt.show()"
   ]
  },
  {
   "cell_type": "code",
   "execution_count": 352,
   "id": "6510144f",
   "metadata": {},
   "outputs": [
    {
     "data": {
      "text/plain": [
       "0.99375"
      ]
     },
     "execution_count": 352,
     "metadata": {},
     "output_type": "execute_result"
    }
   ],
   "source": [
    "# Accuracy of the model\n",
    "metrics.accuracy_score(y_test, y_pred)"
   ]
  },
  {
   "cell_type": "code",
   "execution_count": 353,
   "id": "f083248d",
   "metadata": {},
   "outputs": [
    {
     "name": "stdout",
     "output_type": "stream",
     "text": [
      "Accuracy:0.99375\n"
     ]
    }
   ],
   "source": [
    "print(f\"Accuracy:{metrics.accuracy_score(y_test, y_pred)}\")"
   ]
  },
  {
   "cell_type": "code",
   "execution_count": 354,
   "id": "255415f7",
   "metadata": {
    "scrolled": true
   },
   "outputs": [
    {
     "name": "stdout",
     "output_type": "stream",
     "text": [
      "More metrics about the model.\n",
      "\n",
      "              precision    recall  f1-score   support\n",
      "\n",
      "         0.0       0.98      1.00      0.99        59\n",
      "         1.0       1.00      1.00      1.00        13\n",
      "         2.0       1.00      0.96      0.98        27\n",
      "         3.0       1.00      1.00      1.00        35\n",
      "         4.0       1.00      1.00      1.00        26\n",
      "\n",
      "    accuracy                           0.99       160\n",
      "   macro avg       1.00      0.99      0.99       160\n",
      "weighted avg       0.99      0.99      0.99       160\n",
      "\n"
     ]
    }
   ],
   "source": [
    "print(f'More metrics about the model.\\n\\n' \\\n",
    "      f'{metrics.classification_report(y_test, y_pred, labels=[0.0, 1.0, 2.0, 3.0, 4.0])}')"
   ]
  },
  {
   "cell_type": "markdown",
   "id": "86569a93",
   "metadata": {},
   "source": [
    "## 3.5 Stratified Kfold"
   ]
  },
  {
   "cell_type": "code",
   "execution_count": 355,
   "id": "431fe1c1",
   "metadata": {},
   "outputs": [],
   "source": [
    "input_data = dataset_reduced_LDA.iloc[:,:-1].values\n",
    "label_data = dataset_reduced_LDA.iloc[:,-1].values"
   ]
  },
  {
   "cell_type": "code",
   "execution_count": 356,
   "id": "3c9fbdcb",
   "metadata": {},
   "outputs": [],
   "source": [
    "error_average = []\n",
    "score_average = []\n",
    "\n",
    "k_values = []\n",
    "\n",
    "\n",
    "def get_score(model, X_train, X_test, y_train, y_test):\n",
    "    model.fit(X_train, y_train)\n",
    "    return model.score(X_test, y_test)\n",
    "\n",
    "DT = DecisionTreeClassifier(criterion='entropy', random_state=np.random.RandomState(5))\n",
    "\n",
    "for k in [3,5,7]:\n",
    "    folds = StratifiedKFold(n_splits=k, shuffle = True, random_state = 100)\n",
    "    k_values.append(k)\n",
    "    error = []\n",
    "    scores = []\n",
    "                   \n",
    "    for train_index, test_index in folds.split(input_data,label_data):\n",
    "        X_train, X_test, y_train, y_test = input_data[train_index], input_data[test_index], label_data[train_index], label_data[test_index]\n",
    "        \n",
    "        scores.append(get_score(DT, X_train, X_test, y_train, y_test))\n",
    "        \n",
    "        preds = DT.predict(X_test)\n",
    "        squared_error = np.power(y_test - preds,2)\n",
    "        error.append(np.mean(squared_error))\n",
    "        \n",
    "    error_average.append(np.mean(error))\n",
    "    score_average.append(round(np.mean(scores),4))\n",
    "    \n"
   ]
  },
  {
   "cell_type": "code",
   "execution_count": 357,
   "id": "85ec376a",
   "metadata": {},
   "outputs": [
    {
     "data": {
      "text/plain": [
       "[0.9937, 0.995, 0.995]"
      ]
     },
     "execution_count": 357,
     "metadata": {},
     "output_type": "execute_result"
    }
   ],
   "source": [
    "# Scores with k = [3,5,7]\n",
    "score_average"
   ]
  },
  {
   "cell_type": "markdown",
   "id": "e4e8fa79",
   "metadata": {},
   "source": [
    "## 3.7 Decision Tree layout"
   ]
  },
  {
   "cell_type": "code",
   "execution_count": 358,
   "id": "559d5ad2",
   "metadata": {},
   "outputs": [],
   "source": [
    "from sklearn.tree import export_graphviz\n",
    "from six import StringIO\n",
    "from IPython.display import Image  \n",
    "import pydotplus\n",
    "\n"
   ]
  },
  {
   "cell_type": "code",
   "execution_count": 359,
   "id": "4d1d6f05",
   "metadata": {},
   "outputs": [],
   "source": [
    "from sklearn.tree import export_graphviz\n",
    "from six import StringIO\n",
    "from IPython.display import Image  \n",
    "import pydotplus\n",
    "from graphviz import Source"
   ]
  },
  {
   "cell_type": "code",
   "execution_count": 360,
   "id": "2a2591fb",
   "metadata": {},
   "outputs": [
    {
     "data": {
      "text/html": [
       "<div>\n",
       "<style scoped>\n",
       "    .dataframe tbody tr th:only-of-type {\n",
       "        vertical-align: middle;\n",
       "    }\n",
       "\n",
       "    .dataframe tbody tr th {\n",
       "        vertical-align: top;\n",
       "    }\n",
       "\n",
       "    .dataframe thead th {\n",
       "        text-align: right;\n",
       "    }\n",
       "</style>\n",
       "<table border=\"1\" class=\"dataframe\">\n",
       "  <thead>\n",
       "    <tr style=\"text-align: right;\">\n",
       "      <th></th>\n",
       "      <th>0</th>\n",
       "      <th>1</th>\n",
       "      <th>2</th>\n",
       "      <th>3</th>\n",
       "      <th>4</th>\n",
       "    </tr>\n",
       "  </thead>\n",
       "  <tbody>\n",
       "    <tr>\n",
       "      <th>0</th>\n",
       "      <td>-8.179250</td>\n",
       "      <td>-10.990670</td>\n",
       "      <td>1.923807</td>\n",
       "      <td>0.583537</td>\n",
       "      <td>4.0</td>\n",
       "    </tr>\n",
       "    <tr>\n",
       "      <th>1</th>\n",
       "      <td>-0.309773</td>\n",
       "      <td>2.860503</td>\n",
       "      <td>-3.986629</td>\n",
       "      <td>-7.957477</td>\n",
       "      <td>3.0</td>\n",
       "    </tr>\n",
       "    <tr>\n",
       "      <th>2</th>\n",
       "      <td>-7.187733</td>\n",
       "      <td>-10.311444</td>\n",
       "      <td>3.515797</td>\n",
       "      <td>-0.374297</td>\n",
       "      <td>4.0</td>\n",
       "    </tr>\n",
       "    <tr>\n",
       "      <th>3</th>\n",
       "      <td>-2.672219</td>\n",
       "      <td>4.828713</td>\n",
       "      <td>2.912493</td>\n",
       "      <td>2.183071</td>\n",
       "      <td>0.0</td>\n",
       "    </tr>\n",
       "    <tr>\n",
       "      <th>4</th>\n",
       "      <td>-8.511667</td>\n",
       "      <td>-11.663387</td>\n",
       "      <td>2.189177</td>\n",
       "      <td>1.065183</td>\n",
       "      <td>4.0</td>\n",
       "    </tr>\n",
       "    <tr>\n",
       "      <th>...</th>\n",
       "      <td>...</td>\n",
       "      <td>...</td>\n",
       "      <td>...</td>\n",
       "      <td>...</td>\n",
       "      <td>...</td>\n",
       "    </tr>\n",
       "    <tr>\n",
       "      <th>791</th>\n",
       "      <td>-2.277786</td>\n",
       "      <td>6.508529</td>\n",
       "      <td>4.700316</td>\n",
       "      <td>1.371296</td>\n",
       "      <td>0.0</td>\n",
       "    </tr>\n",
       "    <tr>\n",
       "      <th>792</th>\n",
       "      <td>0.188331</td>\n",
       "      <td>2.002431</td>\n",
       "      <td>-4.122410</td>\n",
       "      <td>-7.649997</td>\n",
       "      <td>3.0</td>\n",
       "    </tr>\n",
       "    <tr>\n",
       "      <th>793</th>\n",
       "      <td>-1.353870</td>\n",
       "      <td>0.548043</td>\n",
       "      <td>-10.010119</td>\n",
       "      <td>4.119403</td>\n",
       "      <td>1.0</td>\n",
       "    </tr>\n",
       "    <tr>\n",
       "      <th>794</th>\n",
       "      <td>-8.006905</td>\n",
       "      <td>-12.072980</td>\n",
       "      <td>1.808983</td>\n",
       "      <td>0.263770</td>\n",
       "      <td>4.0</td>\n",
       "    </tr>\n",
       "    <tr>\n",
       "      <th>795</th>\n",
       "      <td>-7.471327</td>\n",
       "      <td>-7.381183</td>\n",
       "      <td>1.050608</td>\n",
       "      <td>-0.612279</td>\n",
       "      <td>4.0</td>\n",
       "    </tr>\n",
       "  </tbody>\n",
       "</table>\n",
       "<p>796 rows × 5 columns</p>\n",
       "</div>"
      ],
      "text/plain": [
       "            0          1          2         3    4\n",
       "0   -8.179250 -10.990670   1.923807  0.583537  4.0\n",
       "1   -0.309773   2.860503  -3.986629 -7.957477  3.0\n",
       "2   -7.187733 -10.311444   3.515797 -0.374297  4.0\n",
       "3   -2.672219   4.828713   2.912493  2.183071  0.0\n",
       "4   -8.511667 -11.663387   2.189177  1.065183  4.0\n",
       "..        ...        ...        ...       ...  ...\n",
       "791 -2.277786   6.508529   4.700316  1.371296  0.0\n",
       "792  0.188331   2.002431  -4.122410 -7.649997  3.0\n",
       "793 -1.353870   0.548043 -10.010119  4.119403  1.0\n",
       "794 -8.006905 -12.072980   1.808983  0.263770  4.0\n",
       "795 -7.471327  -7.381183   1.050608 -0.612279  4.0\n",
       "\n",
       "[796 rows x 5 columns]"
      ]
     },
     "execution_count": 360,
     "metadata": {},
     "output_type": "execute_result"
    }
   ],
   "source": [
    "dataset_reduced_LDA"
   ]
  },
  {
   "cell_type": "code",
   "execution_count": 361,
   "id": "f1d54a96",
   "metadata": {},
   "outputs": [
    {
     "data": {
      "image/png": "[encoded data removed]",
      "text/plain": [
       "<IPython.core.display.Image object>"
      ]
     },
     "execution_count": 361,
     "metadata": {},
     "output_type": "execute_result"
    }
   ],
   "source": [
    "\n",
    "dt = StringIO()\n",
    "export_graphviz(DT, out_file=dt, feature_names = dataset_reduced_LDA.columns[:-1], \n",
    "                class_names=dataset_reduced_LDA.iloc[:,-1].unique().astype(str))\n",
    "graph = pydotplus.graph_from_dot_data(dt.getvalue()) \n",
    "graph.write_png(\"Decision_Tree_layout.png\")\n",
    "Image(graph.create_png())"
   ]
  },
  {
   "cell_type": "markdown",
   "id": "c08bf46a",
   "metadata": {},
   "source": [
    "## 3.7 K-Fold function"
   ]
  },
  {
   "cell_type": "code",
   "execution_count": 362,
   "id": "3f307623",
   "metadata": {},
   "outputs": [],
   "source": [
    "def k_fold(folds):\n",
    "    split_data = KFold(n_splits = folds, shuffle = True, random_state = np.random.RandomState(5))\n",
    "    return split_data, folds"
   ]
  },
  {
   "cell_type": "code",
   "execution_count": 363,
   "id": "bd5f3310",
   "metadata": {},
   "outputs": [
    {
     "name": "stdout",
     "output_type": "stream",
     "text": [
      "Average accuracy from 3 folds: 0.9974890055326998\n",
      "\n",
      "Average accuracy from 5 folds: 0.9949764150943397\n"
     ]
    }
   ],
   "source": [
    "dt_k, dt_folds = k_fold(3)\n",
    "dt_k_, dt_folds_ = k_fold(5)\n",
    "\n",
    "input_data = dataset_reduced_LDA.iloc[:,:-1]\n",
    "label_data = dataset_reduced_LDA.iloc[:,-1]\n",
    "\n",
    "result = cross_val_score(DT , input_data, label_data, cv = dt_k)\n",
    "print(f\"Average accuracy from 3 folds: {result.mean()}\\n\")\n",
    "result_ = cross_val_score(DT , input_data, label_data, cv = dt_k_)\n",
    "print(f\"Average accuracy from 5 folds: {result_.mean()}\")\n"
   ]
  },
  {
   "cell_type": "markdown",
   "id": "9541ed62",
   "metadata": {},
   "source": [
    "## 3.8 Grid search Function"
   ]
  },
  {
   "cell_type": "code",
   "execution_count": 364,
   "id": "6a980fc6",
   "metadata": {},
   "outputs": [],
   "source": [
    "def grid_search(model, hyper_params, score, folds):\n",
    "    gs = GridSearchCV(estimator = model,\n",
    "    param_grid = hyper_params,\n",
    "    scoring = score,\n",
    "    cv = folds,\n",
    "    return_train_score = True)\n",
    "    return gs    "
   ]
  },
  {
   "cell_type": "code",
   "execution_count": 365,
   "id": "8d3835be",
   "metadata": {},
   "outputs": [
    {
     "data": {
      "text/plain": [
       "GridSearchCV(cv=KFold(n_splits=5, random_state=RandomState(MT19937) at 0x7F89917CD040,\n",
       "   shuffle=True),\n",
       "             estimator=DecisionTreeClassifier(criterion='entropy',\n",
       "                                              random_state=RandomState(MT19937) at 0x7F8999193840),\n",
       "             param_grid=[{'criterion': ['entropy'],\n",
       "                          'max_depth': [3, 4, 5, 6, 7, None],\n",
       "                          'splitter': ['best', 'random']}],\n",
       "             return_train_score=True, scoring='accuracy')"
      ]
     },
     "execution_count": 365,
     "metadata": {},
     "output_type": "execute_result"
    }
   ],
   "source": [
    "#Search for optimal Decision Tree parameters\n",
    "dt_hp = [{'criterion': ['entropy'],\n",
    "       'splitter': ['best', 'random'],\n",
    "       'max_depth': [3,4,5,6,7,None]}]\n",
    "\n",
    "model_gs_ = grid_search(DT, dt_hp, 'accuracy', dt_k_)\n",
    "model_gs_.fit(input_data, label_data)"
   ]
  },
  {
   "cell_type": "code",
   "execution_count": 366,
   "id": "12f0d971",
   "metadata": {},
   "outputs": [
    {
     "name": "stdout",
     "output_type": "stream",
     "text": [
      "Model best parameter with 5 folds are: {'criterion': 'entropy', 'max_depth': 6, 'splitter': 'random'}\n"
     ]
    }
   ],
   "source": [
    "print(f\"Model best parameter with {dt_folds_} folds are: {model_gs_.best_params_}\")"
   ]
  },
  {
   "cell_type": "code",
   "execution_count": 367,
   "id": "2af70c22",
   "metadata": {},
   "outputs": [
    {
     "name": "stdout",
     "output_type": "stream",
     "text": [
      "Decision tree accuracy score with 5 and optimal parameters: 0.9911504424778761\n"
     ]
    }
   ],
   "source": [
    "#Rest parameters are default in class object.\n",
    "DT_best_ = DecisionTreeClassifier(criterion='entropy')\n",
    "DT_best_ = DT_best_.fit(X_train,y_train)\n",
    "y_pred_ = DT_best_.predict(X_test)\n",
    "print(f'Decision tree accuracy score with {dt_folds_} and optimal parameters: {metrics.accuracy_score(y_test, y_pred_)}')"
   ]
  }
 ],
 "metadata": {
  "kernelspec": {
   "display_name": "Python 3",
   "language": "python",
   "name": "python3"
  },
  "language_info": {
   "codemirror_mode": {
    "name": "ipython",
    "version": 3
   },
   "file_extension": ".py",
   "mimetype": "text/x-python",
   "name": "python",
   "nbconvert_exporter": "python",
   "pygments_lexer": "ipython3",
   "version": "3.8.2"
  }
 },
 "nbformat": 4,
 "nbformat_minor": 5
}
