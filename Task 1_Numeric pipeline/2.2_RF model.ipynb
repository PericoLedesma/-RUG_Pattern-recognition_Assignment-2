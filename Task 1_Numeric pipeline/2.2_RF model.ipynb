{
 "cells": [
  {
   "cell_type": "markdown",
   "id": "84ea3cac",
   "metadata": {},
   "source": [
    "# Import Libraries"
   ]
  },
  {
   "cell_type": "code",
   "execution_count": 63,
   "id": "6baade51",
   "metadata": {},
   "outputs": [],
   "source": [
    "import numpy as np\n",
    "import pandas as pd\n",
    "import matplotlib.pyplot as plt\n",
    "import seaborn as sns\n",
    "\n",
    "### From sklearn - Preprocesing \n",
    "from sklearn import preprocessing\n",
    "from sklearn.neighbors import LocalOutlierFactor\n",
    "\n",
    "# Dimension reduction \n",
    "from sklearn.decomposition import PCA\n",
    "from sklearn.discriminant_analysis import LinearDiscriminantAnalysis\n",
    "\n",
    "# K-fold\n",
    "from sklearn.model_selection import StratifiedKFold\n",
    "from sklearn.model_selection import KFold, cross_val_score, GridSearchCV\n",
    "\n",
    "# From sklearn - Model creation\n",
    "from sklearn.model_selection import train_test_split \n",
    "from sklearn.ensemble import RandomForestClassifier\n",
    "\n",
    "from sklearn.metrics import multilabel_confusion_matrix\n",
    "from sklearn import metrics "
   ]
  },
  {
   "cell_type": "markdown",
   "id": "e7862ce5",
   "metadata": {},
   "source": [
    "# Index\n",
    "\n",
    "1. Reading files and merging features with labels\n",
    "2. Preprocesing phase <br>\n",
    "    2.1 Encoding labels<br>\n",
    "    2.2 Normalization: min_max_scaler<br>\n",
    "3. Model Implementation: Decision Tree\n",
    "        3.1 PCA-RF: 80% Training data, 20% test data<br>\n",
    "        3.2 PCA-RF with fixed value<br>\n",
    "        3.3 LDA-RF: 80% Training data, 20% test data<br>\n",
    "        3.4 LDA-RF with fixed value<br>\n",
    "        3.5 Stratified Kfold<br>\n",
    "        3.6 K-Fold function\n",
    "        3.7 Grid search Function"
   ]
  },
  {
   "cell_type": "markdown",
   "id": "98a8d2ae",
   "metadata": {},
   "source": [
    "-----\n",
    "# 1. Reading files and merging features with labels"
   ]
  },
  {
   "cell_type": "code",
   "execution_count": 64,
   "id": "a0bac7af",
   "metadata": {},
   "outputs": [],
   "source": [
    "#dataset = pd.read_csv(\"Genes\\data.csv\")\n",
    "dataset = pd.read_csv('/Users/pedrorodriguezdeledesmajimenez/1_Coding/Datasets/RUG_Pattern-recognition_Assignment-2/Task 1/Genres/data.csv')\n",
    "\n",
    "#labels = pd.read_csv(\"Genes\\labels.csv\")\n",
    "dataset_labels =pd.read_csv('/Users/pedrorodriguezdeledesmajimenez/1_Coding/Datasets/RUG_Pattern-recognition_Assignment-2/Task 1/Genres/labels.csv')"
   ]
  },
  {
   "cell_type": "code",
   "execution_count": 65,
   "id": "4c238d5a",
   "metadata": {},
   "outputs": [],
   "source": [
    "# Merging both datasets and removing first column\n",
    "dataset = pd.merge(dataset, dataset_labels, on='Unnamed: 0').drop(\"Unnamed: 0\", axis=1)"
   ]
  },
  {
   "cell_type": "markdown",
   "id": "b3c7f917",
   "metadata": {},
   "source": [
    "----\n",
    "# 2. Preprocesing data"
   ]
  },
  {
   "cell_type": "markdown",
   "id": "177a57ba",
   "metadata": {},
   "source": [
    "##  2.1 Encoding labels"
   ]
  },
  {
   "cell_type": "code",
   "execution_count": 66,
   "id": "08ac19fd",
   "metadata": {},
   "outputs": [],
   "source": [
    "# Encode the labels and updaate values\n",
    "le = preprocessing.LabelEncoder()\n",
    "dataset[\"Class\"] = le.fit_transform(dataset_labels.drop(\"Unnamed: 0\", axis=1).values.ravel())"
   ]
  },
  {
   "cell_type": "code",
   "execution_count": 67,
   "id": "aa5f0414",
   "metadata": {},
   "outputs": [],
   "source": [
    "# Let´s store all the labels\n",
    "keys = le.classes_\n",
    "\n",
    "# And now store labels with their encoded value \n",
    "values = le.transform(le.classes_)\n",
    "dictionary = dict(zip(keys, values))"
   ]
  },
  {
   "cell_type": "markdown",
   "id": "90f6f281",
   "metadata": {},
   "source": [
    "## 2.2 Normalization: min_max_scaler"
   ]
  },
  {
   "cell_type": "code",
   "execution_count": 68,
   "id": "8b38a0be",
   "metadata": {},
   "outputs": [],
   "source": [
    "# Lets store the dataset values without the columns titles\n",
    "x = dataset.iloc[:, :-1].values \n",
    "\n",
    "# Let´s create an instance with the normalice function\n",
    "min_max_scaler = preprocessing.MinMaxScaler()\n",
    "\n",
    "# Let´s fit the normilice function\n",
    "x_scaled = min_max_scaler.fit_transform(x)\n",
    "\n",
    "# Let´s put in the dataframe the values scaled\n",
    "dataset.iloc[:, :-1] = pd.DataFrame(x_scaled)"
   ]
  },
  {
   "cell_type": "markdown",
   "id": "9c18b02f",
   "metadata": {},
   "source": [
    "#### Output"
   ]
  },
  {
   "cell_type": "code",
   "execution_count": 69,
   "id": "789cff8f",
   "metadata": {},
   "outputs": [
    {
     "data": {
      "text/plain": [
       "(801, 20532)"
      ]
     },
     "execution_count": 69,
     "metadata": {},
     "output_type": "execute_result"
    }
   ],
   "source": [
    "dataset.shape"
   ]
  },
  {
   "cell_type": "markdown",
   "id": "6b057249",
   "metadata": {},
   "source": [
    "--------------\n",
    "# 3. Model Implementation: Random Forest"
   ]
  },
  {
   "cell_type": "markdown",
   "id": "6ca47350",
   "metadata": {},
   "source": [
    "--------"
   ]
  },
  {
   "cell_type": "markdown",
   "id": "c800d5a4",
   "metadata": {},
   "source": [
    "##  3.1 PCA_80% Training data, 20% test data"
   ]
  },
  {
   "cell_type": "code",
   "execution_count": 70,
   "id": "24444e09",
   "metadata": {},
   "outputs": [],
   "source": [
    "n_components_array_PCA = []\n",
    "score_array = []\n",
    "\n",
    "for n_components_PCA in [2,3,4,5,6,7,8,9,10,11,12,13,14,15]:\n",
    "    \n",
    "    pca = PCA(n_components=n_components_PCA)\n",
    "\n",
    "    # Apply PCA in input vector\n",
    "    pca.fit(dataset.iloc[:,:-1]) \n",
    "\n",
    "    # Save results in an np.array\n",
    "    reduced = pca.transform(dataset.iloc[:,:-1])\n",
    "\n",
    "    # Save labels in an np.array\n",
    "    x = dataset['Class'].to_numpy()\n",
    "\n",
    "    # Create final dataframe with reduced dimensions\n",
    "    dataset_reduced_PCA = pd.DataFrame(np.column_stack((reduced, x)))\n",
    "    \n",
    "    #For PCA REDUCED dataset as input\n",
    "    input_data = dataset_reduced_PCA.iloc[:,:-1].values\n",
    "    label_data = dataset_reduced_PCA.iloc[:,-1].values\n",
    "\n",
    "    # We split the data  \n",
    "    X_train, X_test, y_train, y_test = train_test_split(input_data,label_data, test_size=0.2)\n",
    "\n",
    "    RF = RandomForestClassifier(n_estimators=100, random_state=np.random.RandomState(5))\n",
    "    RF.fit(X_train,y_train)\n",
    "    y_pred=RF.predict(X_test)\n",
    "\n",
    "    # Accuracy of the model\n",
    "    metrics.accuracy_score(y_test, y_pred)\n",
    "    \n",
    "    n_components_array_PCA.append(n_components_PCA)\n",
    "    score_array.append(metrics.accuracy_score(y_test, y_pred))\n"
   ]
  },
  {
   "cell_type": "code",
   "execution_count": 71,
   "id": "9029da9b",
   "metadata": {},
   "outputs": [
    {
     "data": {
      "image/png": "[encoded data removed]",
      "text/plain": [
       "<Figure size 432x288 with 1 Axes>"
      ]
     },
     "metadata": {
      "needs_background": "light"
     },
     "output_type": "display_data"
    }
   ],
   "source": [
    "# Plot with regards of components\n",
    "\n",
    "plt.plot(n_components_array_PCA, score_array,label='Model score')\n",
    "plt.ylabel('Model accuracy')\n",
    "plt.xlabel('Number of features')\n",
    "plt.legend(loc='best')\n",
    "plt.tight_layout()\n",
    "plt.show()"
   ]
  },
  {
   "cell_type": "markdown",
   "id": "61bbb594",
   "metadata": {},
   "source": [
    "## 3.2 PCA-RF with fixed value "
   ]
  },
  {
   "cell_type": "code",
   "execution_count": 72,
   "id": "3433e76a",
   "metadata": {},
   "outputs": [],
   "source": [
    "# Selected value dimension reduction\n",
    "\n",
    "pca = PCA(n_components=0.70)\n",
    "\n",
    "# Apply PCA in input vector\n",
    "pca.fit(dataset.iloc[:,:-1]) \n",
    "\n",
    "# Save results in an np.array\n",
    "reduced = pca.transform(dataset.iloc[:,:-1])\n",
    "\n",
    "# Save labels in an np.array\n",
    "x = dataset['Class'].to_numpy()\n",
    "\n",
    "# Create final dataframe with reduced dimensions\n",
    "dataset_reduced_PCA = pd.DataFrame(np.column_stack((reduced, x)))\n",
    "\n",
    "#For PCA REDUCED data as input\n",
    "input_data = dataset_reduced_PCA.iloc[:,:-1].values\n",
    "label_data = dataset_reduced_PCA.iloc[:,-1].values\n",
    "\n",
    "#For ORIGINAL data as input\n",
    "#input_data = dataset_reduced_PCA.iloc[:,:-1].values\n",
    "#label_data = dataset_reduced_PCA.iloc[:,-1].values\n",
    "\n",
    "# We split the data  \n",
    "X_train, X_test, y_train, y_test = train_test_split(input_data,label_data, test_size=0.2)"
   ]
  },
  {
   "cell_type": "code",
   "execution_count": 73,
   "id": "b8ac0713",
   "metadata": {
    "scrolled": true
   },
   "outputs": [],
   "source": [
    "RF = RandomForestClassifier(n_estimators=100, random_state=np.random.RandomState(5))\n",
    "RF.fit(X_train,y_train)\n",
    "y_pred=RF.predict(X_test)"
   ]
  },
  {
   "cell_type": "code",
   "execution_count": 74,
   "id": "0f0b63c7",
   "metadata": {
    "scrolled": true
   },
   "outputs": [
    {
     "data": {
      "image/png": "[encoded data removed]",
      "text/plain": [
       "<Figure size 576x360 with 2 Axes>"
      ]
     },
     "metadata": {
      "needs_background": "light"
     },
     "output_type": "display_data"
    }
   ],
   "source": [
    "#Confusion matrix to evaluate the model \n",
    "plt.figure(figsize=(8,5))\n",
    "confusion_matrix = pd.crosstab(y_test, y_pred, rownames=['Actual'], \n",
    "                               colnames=['Predicted'])\n",
    "\n",
    "sns.heatmap(confusion_matrix, annot=True)\n",
    "#plt.savefig(\"Confusion_Matrix.png\")\n",
    "plt.show()"
   ]
  },
  {
   "cell_type": "code",
   "execution_count": 75,
   "id": "57aa56f8",
   "metadata": {},
   "outputs": [
    {
     "data": {
      "text/plain": [
       "0.9751552795031055"
      ]
     },
     "execution_count": 75,
     "metadata": {},
     "output_type": "execute_result"
    }
   ],
   "source": [
    "# Accuracy of the model\n",
    "metrics.accuracy_score(y_test, y_pred)"
   ]
  },
  {
   "cell_type": "code",
   "execution_count": 76,
   "id": "5e7e9a83",
   "metadata": {},
   "outputs": [
    {
     "name": "stdout",
     "output_type": "stream",
     "text": [
      "Accuracy:0.9751552795031055\n"
     ]
    }
   ],
   "source": [
    "print(f\"Accuracy:{metrics.accuracy_score(y_test, y_pred)}\")"
   ]
  },
  {
   "cell_type": "code",
   "execution_count": 77,
   "id": "d3435db2",
   "metadata": {
    "scrolled": false
   },
   "outputs": [
    {
     "name": "stdout",
     "output_type": "stream",
     "text": [
      "More metrics about the model.\n",
      "\n",
      "              precision    recall  f1-score   support\n",
      "\n",
      "         0.0       0.95      1.00      0.98        60\n",
      "         1.0       1.00      0.94      0.97        16\n",
      "         2.0       1.00      1.00      1.00        27\n",
      "         3.0       0.96      0.96      0.96        28\n",
      "         4.0       1.00      0.93      0.97        30\n",
      "\n",
      "    accuracy                           0.98       161\n",
      "   macro avg       0.98      0.97      0.97       161\n",
      "weighted avg       0.98      0.98      0.98       161\n",
      "\n"
     ]
    }
   ],
   "source": [
    "print(f'More metrics about the model.\\n\\n' \\\n",
    "      f'{metrics.classification_report(y_test, y_pred, labels=[0.0, 1.0, 2.0, 3.0, 4.0])}')"
   ]
  },
  {
   "cell_type": "markdown",
   "id": "ed834a7a",
   "metadata": {},
   "source": [
    "------------"
   ]
  },
  {
   "cell_type": "markdown",
   "id": "df4249e6",
   "metadata": {},
   "source": [
    "## 3.3 LDA_80% Training data, 20% test data"
   ]
  },
  {
   "cell_type": "code",
   "execution_count": 78,
   "id": "323b5c74",
   "metadata": {},
   "outputs": [],
   "source": [
    "n_components_array_LDA = []\n",
    "score_array = []\n",
    "\n",
    "for n_components_LDA in [1,2,3,4]:\n",
    "    \n",
    "    lda = LinearDiscriminantAnalysis(n_components=n_components_LDA)\n",
    "\n",
    "    # Apply PCA in input vector\n",
    "    lda.fit(dataset.iloc[:,:-1],dataset.iloc[:,-1]) \n",
    "\n",
    "    # Save results in an np.array\n",
    "    reduced = lda.transform(dataset.iloc[:,:-1])\n",
    "\n",
    "    # Save labels in an np.array\n",
    "    x = dataset['Class'].to_numpy()\n",
    "\n",
    "    # Create final dataframe with reduced dimensions\n",
    "    dataset_reduced_LDA = pd.DataFrame(np.column_stack((reduced, x)))\n",
    "\n",
    "\n",
    "    input_data = dataset_reduced_LDA.iloc[:,:-1].values\n",
    "    label_data = dataset_reduced_LDA.iloc[:,-1].values\n",
    "\n",
    "    # We split the data  \n",
    "    X_train, X_test, y_train, y_test = train_test_split(input_data,label_data, test_size=0.2)\n",
    "\n",
    "    RF = RandomForestClassifier(n_estimators=100, random_state=np.random.RandomState(5))\n",
    "    RF.fit(X_train,y_train)\n",
    "    y_pred=RF.predict(X_test)\n",
    "\n",
    "    # We predict the labels of the test data\n",
    "    y_pred = RF.predict(X_test)\n",
    "\n",
    "    # Accuracy of the model\n",
    "    metrics.accuracy_score(y_test, y_pred)\n",
    "    \n",
    "    n_components_array_LDA.append(n_components_LDA)\n",
    "    score_array.append(metrics.accuracy_score(y_test, y_pred))\n"
   ]
  },
  {
   "cell_type": "code",
   "execution_count": 79,
   "id": "87fdffea",
   "metadata": {},
   "outputs": [
    {
     "data": {
      "image/png": "[encoded data removed]",
      "text/plain": [
       "<Figure size 432x288 with 1 Axes>"
      ]
     },
     "metadata": {
      "needs_background": "light"
     },
     "output_type": "display_data"
    }
   ],
   "source": [
    "# Plot with regards of components\n",
    "\n",
    "plt.plot(n_components_array_LDA, score_array,label='Model score')\n",
    "plt.ylabel('Model accuracy')\n",
    "plt.xlabel('Number of features')\n",
    "plt.legend(loc='best')\n",
    "plt.tight_layout()\n",
    "plt.show()"
   ]
  },
  {
   "cell_type": "markdown",
   "id": "52da8fbf",
   "metadata": {},
   "source": [
    "## 3.3 DT-LDA with fixed values"
   ]
  },
  {
   "cell_type": "code",
   "execution_count": 80,
   "id": "d2509176",
   "metadata": {},
   "outputs": [],
   "source": [
    "# Selected value dimension reduction \n",
    "lda = LinearDiscriminantAnalysis(n_components=4)\n",
    "\n",
    "# Apply PCA in input vector\n",
    "lda.fit(dataset.iloc[:,:-1],dataset.iloc[:,-1:].values.ravel()) \n",
    "\n",
    "# Save results in an np.array\n",
    "reduced = lda.transform(dataset.iloc[:,:-1])\n",
    "\n",
    "# Save labels in an np.array\n",
    "x = dataset['Class'].to_numpy()\n",
    "\n",
    "# Create final dataframe with reduced dimensions\n",
    "dataset_reduced_LDA = pd.DataFrame(np.column_stack((reduced, x)))\n",
    "\n",
    "lof = LocalOutlierFactor()\n",
    "# fit_predict return a numpy array of 1 if not an outlier and -1 if an outlier\n",
    "outliers = lof.fit_predict(dataset_reduced_PCA.iloc[:,:-1])\n",
    "\n",
    "# select all rows that are not outliers\n",
    "mask = outliers != -1\n",
    "\n",
    "#unpack the mask to keep only non-outlier examples\n",
    "dataset_reduced_PCA = dataset_reduced_PCA[[*mask]]\n",
    "\n",
    "input_data = dataset_reduced_LDA.iloc[:,:-1].values\n",
    "label_data = dataset_reduced_LDA.iloc[:,-1].values\n",
    "\n",
    "# We split the data  \n",
    "X_train, X_test, y_train, y_test = train_test_split(input_data,label_data, test_size=0.2)"
   ]
  },
  {
   "cell_type": "code",
   "execution_count": 81,
   "id": "356f1e6e",
   "metadata": {
    "scrolled": true
   },
   "outputs": [],
   "source": [
    "RF = RandomForestClassifier(n_estimators=100, random_state=np.random.RandomState(5))\n",
    "RF.fit(X_train,y_train)\n",
    "y_pred=RF.predict(X_test)"
   ]
  },
  {
   "cell_type": "code",
   "execution_count": 82,
   "id": "42ee5e63",
   "metadata": {
    "scrolled": true
   },
   "outputs": [
    {
     "data": {
      "image/png": "[encoded data removed]",
      "text/plain": [
       "<Figure size 576x360 with 2 Axes>"
      ]
     },
     "metadata": {
      "needs_background": "light"
     },
     "output_type": "display_data"
    }
   ],
   "source": [
    "#Confusion matrix to evaluate the model \n",
    "plt.figure(figsize=(8,5))\n",
    "confusion_matrix = pd.crosstab(y_test, y_pred, rownames=['Actual'], \n",
    "                               colnames=['Predicted'])\n",
    "\n",
    "sns.heatmap(confusion_matrix, annot=True)\n",
    "#plt.savefig(\"Confusion_Matrix_KNN.png\")\n",
    "plt.show()"
   ]
  },
  {
   "cell_type": "code",
   "execution_count": 83,
   "id": "488d79d4",
   "metadata": {},
   "outputs": [
    {
     "data": {
      "text/plain": [
       "1.0"
      ]
     },
     "execution_count": 83,
     "metadata": {},
     "output_type": "execute_result"
    }
   ],
   "source": [
    "# Accuracy of the model\n",
    "metrics.accuracy_score(y_test, y_pred)"
   ]
  },
  {
   "cell_type": "code",
   "execution_count": 84,
   "id": "20eb9f75",
   "metadata": {},
   "outputs": [
    {
     "name": "stdout",
     "output_type": "stream",
     "text": [
      "Accuracy:1.0\n"
     ]
    }
   ],
   "source": [
    "print(f\"Accuracy:{metrics.accuracy_score(y_test, y_pred)}\")"
   ]
  },
  {
   "cell_type": "code",
   "execution_count": 85,
   "id": "7af08d4a",
   "metadata": {
    "scrolled": true
   },
   "outputs": [
    {
     "name": "stdout",
     "output_type": "stream",
     "text": [
      "More metrics about the model.\n",
      "\n",
      "              precision    recall  f1-score   support\n",
      "\n",
      "         0.0       1.00      1.00      1.00        56\n",
      "         1.0       1.00      1.00      1.00        16\n",
      "         2.0       1.00      1.00      1.00        25\n",
      "         3.0       1.00      1.00      1.00        32\n",
      "         4.0       1.00      1.00      1.00        32\n",
      "\n",
      "    accuracy                           1.00       161\n",
      "   macro avg       1.00      1.00      1.00       161\n",
      "weighted avg       1.00      1.00      1.00       161\n",
      "\n"
     ]
    }
   ],
   "source": [
    "print(f'More metrics about the model.\\n\\n' \\\n",
    "      f'{metrics.classification_report(y_test, y_pred, labels=[0.0, 1.0, 2.0, 3.0, 4.0])}')"
   ]
  },
  {
   "cell_type": "markdown",
   "id": "86569a93",
   "metadata": {},
   "source": [
    "## 3.5 Stratified Kfold"
   ]
  },
  {
   "cell_type": "code",
   "execution_count": 86,
   "id": "b93b54c2",
   "metadata": {},
   "outputs": [],
   "source": [
    "input_data = dataset_reduced_LDA.iloc[:,:-1].values\n",
    "label_data = dataset_reduced_LDA.iloc[:,-1].values"
   ]
  },
  {
   "cell_type": "code",
   "execution_count": 87,
   "id": "3c9fbdcb",
   "metadata": {},
   "outputs": [],
   "source": [
    "error_average = []\n",
    "score_average = []\n",
    "\n",
    "k_values = []\n",
    "\n",
    "\n",
    "def get_score(model, X_train, X_test, y_train, y_test):\n",
    "    model.fit(X_train, y_train)\n",
    "    return model.score(X_test, y_test)\n",
    "\n",
    "RF = RandomForestClassifier(random_state=np.random.RandomState(5))\n",
    "\n",
    "for k in [3,5,7]:\n",
    "    folds = StratifiedKFold(n_splits=k, shuffle = True, random_state = 100)\n",
    "    k_values.append(k)\n",
    "    error = []\n",
    "    scores = []\n",
    "                   \n",
    "    for train_index, test_index in folds.split(input_data,label_data):\n",
    "        X_train, X_test, y_train, y_test = input_data[train_index], input_data[test_index], label_data[train_index], label_data[test_index]\n",
    "        \n",
    "        scores.append(get_score(RF, X_train, X_test, y_train, y_test))\n",
    "        \n",
    "        preds = RF.predict(X_test)\n",
    "        squared_error = np.power(y_test - preds,2)\n",
    "        error.append(np.mean(squared_error))\n",
    "        \n",
    "    error_average.append(np.mean(error))\n",
    "    score_average.append(round(np.mean(scores),4))\n",
    "    \n"
   ]
  },
  {
   "cell_type": "code",
   "execution_count": 88,
   "id": "ce7db79b",
   "metadata": {},
   "outputs": [
    {
     "data": {
      "text/plain": [
       "[0.9963, 0.9988, 0.9988]"
      ]
     },
     "execution_count": 88,
     "metadata": {},
     "output_type": "execute_result"
    }
   ],
   "source": [
    "# Scores with k = [3,5,7]\n",
    "score_average"
   ]
  },
  {
   "cell_type": "markdown",
   "id": "c08bf46a",
   "metadata": {},
   "source": [
    "## 3.6 K-Fold function"
   ]
  },
  {
   "cell_type": "code",
   "execution_count": 89,
   "id": "3f307623",
   "metadata": {},
   "outputs": [],
   "source": [
    "def k_fold(folds):\n",
    "    split_data = KFold(n_splits = folds, shuffle = True, random_state = np.random.RandomState(5))\n",
    "    return split_data, folds"
   ]
  },
  {
   "cell_type": "code",
   "execution_count": 90,
   "id": "bd5f3310",
   "metadata": {},
   "outputs": [
    {
     "name": "stdout",
     "output_type": "stream",
     "text": [
      "Average accuracy from 3 folds: 0.99625468164794\n",
      "\n",
      "Average accuracy from 5 folds: 0.99875\n"
     ]
    }
   ],
   "source": [
    "rf_k, rf_folds = k_fold(3)\n",
    "rf_k_, rf_folds_ = k_fold(5)\n",
    "\n",
    "input_data = dataset_reduced_LDA.iloc[:,:-1]\n",
    "label_data = dataset_reduced_LDA.iloc[:,-1]\n",
    "\n",
    "result = cross_val_score(RF , input_data, label_data, cv = rf_k)\n",
    "print(f\"Average accuracy from 3 folds: {result.mean()}\\n\")\n",
    "result_ = cross_val_score(RF , input_data, label_data, cv = rf_k_)\n",
    "print(f\"Average accuracy from 5 folds: {result_.mean()}\")"
   ]
  },
  {
   "cell_type": "markdown",
   "id": "9541ed62",
   "metadata": {},
   "source": [
    "## 3.7 Grid search Function"
   ]
  },
  {
   "cell_type": "code",
   "execution_count": 91,
   "id": "6a980fc6",
   "metadata": {},
   "outputs": [],
   "source": [
    "def grid_search(model, hyper_params, score, folds):\n",
    "    gs = GridSearchCV(estimator = model,\n",
    "    param_grid = hyper_params,\n",
    "    scoring = score,\n",
    "    cv = folds,\n",
    "    return_train_score = True)\n",
    "    return gs    "
   ]
  },
  {
   "cell_type": "code",
   "execution_count": null,
   "id": "15fed55e",
   "metadata": {},
   "outputs": [],
   "source": [
    "rf_hp = [{'n_estimators': [100, 200, 300, 400, 500],\n",
    "          'criterion': ['entropy'],\n",
    "          'max_depth': [5,6,7,None],\n",
    "          'min_samples_split' :[2,4,6],\n",
    "          'min_samples_leaf': [1,2,3],\n",
    "          'random_state': [np.random.RandomState(5)]}]\n",
    "\n",
    "model_gs_ = grid_search(RF, rf_hp, 'accuracy', rf_k_)\n",
    "model_gs_.fit(input_data, label_data)\n",
    "print(f\"Model best parameter with {rf_folds_} folds are: {model_gs_.best_params_}\")"
   ]
  },
  {
   "cell_type": "code",
   "execution_count": null,
   "id": "2af70c22",
   "metadata": {},
   "outputs": [],
   "source": [
    "#Rest parameters are default in the class object.\n",
    "RF_best_ = RandomForestClassifier(criterion='entropy',\n",
    "                                  n_estimators = 400,\n",
    "                                  max_depth = None, \n",
    "                                  min_samples_split=4,\n",
    "                                  random_state=np.random.RandomState(5))\n",
    "RF_best_ = RF_best_.fit(X_train,y_train)\n",
    "y_pred_ = RF_best_.predict(X_test)\n",
    "print(f'Decision tree accuracy score with {dt_folds_} and optimal parameters: {metrics.accuracy_score(y_test, y_pred_)}')"
   ]
  }
 ],
 "metadata": {
  "kernelspec": {
   "display_name": "Python 3 (ipykernel)",
   "language": "python",
   "name": "python3"
  },
  "language_info": {
   "codemirror_mode": {
    "name": "ipython",
    "version": 3
   },
   "file_extension": ".py",
   "mimetype": "text/x-python",
   "name": "python",
   "nbconvert_exporter": "python",
   "pygments_lexer": "ipython3",
   "version": "3.9.7"
  }
 },
 "nbformat": 4,
 "nbformat_minor": 5
}
