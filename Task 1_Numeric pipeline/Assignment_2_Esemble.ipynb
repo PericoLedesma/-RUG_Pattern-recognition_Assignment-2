{
 "cells": [
  {
   "cell_type": "markdown",
   "id": "84ea3cac",
   "metadata": {},
   "source": [
    "# Import Libraries"
   ]
  },
  {
   "cell_type": "code",
   "execution_count": 1,
   "id": "6baade51",
   "metadata": {},
   "outputs": [],
   "source": [
    "import numpy as np\n",
    "import pandas as pd\n",
    "import matplotlib.pyplot as plt\n",
    "import seaborn as sns\n",
    "\n",
    "### From sklearn - Preprocesing \n",
    "\n",
    "from sklearn import preprocessing\n",
    "\n",
    "# Dimension reduction \n",
    "from sklearn.decomposition import PCA\n",
    "from sklearn.decomposition import TruncatedSVD\n",
    "\n",
    "# Clustering \n",
    "from sklearn.manifold import TSNE\n",
    "\n",
    "# K-fold\n",
    "from sklearn.model_selection import StratifiedKFold\n",
    "from sklearn.model_selection import KFold, cross_val_score, GridSearchCV\n",
    "\n",
    "# From sklearn - Model creation\n",
    "\n",
    "from sklearn.tree import DecisionTreeClassifier \n",
    "from sklearn.model_selection import train_test_split \n",
    "from sklearn.ensemble import RandomForestClassifier\n",
    "from sklearn.neighbors import KNeighborsClassifier\n",
    "from sklearn.linear_model import LogisticRegression\n",
    "\n",
    "from sklearn.metrics import multilabel_confusion_matrix\n",
    "\n",
    "from sklearn import metrics \n",
    "from sklearn.discriminant_analysis import LinearDiscriminantAnalysis"
   ]
  },
  {
   "cell_type": "markdown",
   "id": "98a8d2ae",
   "metadata": {},
   "source": [
    "-----\n",
    "# Reading files and merging features with labels"
   ]
  },
  {
   "cell_type": "code",
   "execution_count": 2,
   "id": "a0bac7af",
   "metadata": {},
   "outputs": [],
   "source": [
    "#dataset = pd.read_csv(\"Genes\\data.csv\")\n",
    "dataset = pd.read_csv('/Users/pedrorodriguezdeledesmajimenez/1_Coding/Datasets/RUG_Pattern-recognition_Assignment-2/Task 1/Genres/data.csv')\n",
    "\n",
    "#labels = pd.read_csv(\"Genes\\labels.csv\")\n",
    "dataset_labels =pd.read_csv('/Users/pedrorodriguezdeledesmajimenez/1_Coding/Datasets/RUG_Pattern-recognition_Assignment-2/Task 1/Genres/labels.csv')"
   ]
  },
  {
   "cell_type": "code",
   "execution_count": 3,
   "id": "4c238d5a",
   "metadata": {},
   "outputs": [],
   "source": [
    "# Merging both datasets and removing first column\n",
    "\n",
    "dataset = pd.merge(dataset, dataset_labels, on='Unnamed: 0').drop(\"Unnamed: 0\", axis=1)"
   ]
  },
  {
   "cell_type": "code",
   "execution_count": 4,
   "id": "624784db",
   "metadata": {},
   "outputs": [
    {
     "name": "stdout",
     "output_type": "stream",
     "text": [
      "Dataset consists of 801 input sample vectors, each vector has 20532 gene features.\n",
      "Also the availbale classes are 5. The possible choises are PRAD, LUAD, BRCA, KIRC, COAD.\n",
      "As we can see, we have class imbalance.\n",
      "\n",
      "BRCA    300\n",
      "KIRC    146\n",
      "LUAD    141\n",
      "PRAD    136\n",
      "COAD     78\n"
     ]
    }
   ],
   "source": [
    "print(f'Dataset consists of {dataset.shape[0]} input sample vectors, each vector has {dataset.shape[1]} '\\\n",
    "      f'gene features.\\nAlso the availbale classes are {len(dataset[\"Class\"].unique())}.'\\\n",
    "      f' The possible choises are {\", \".join(val for val in dataset.Class.unique())}.')\n",
    "class_counts = dataset.Class.value_counts()\n",
    "print(f'As we can see, we have class imbalance.\\n\\n{class_counts.to_string()}')"
   ]
  },
  {
   "cell_type": "markdown",
   "id": "b3c7f917",
   "metadata": {},
   "source": [
    "----\n",
    "# Analizing data"
   ]
  },
  {
   "cell_type": "markdown",
   "id": "177a57ba",
   "metadata": {},
   "source": [
    "###  Encode the labels of the dataset"
   ]
  },
  {
   "cell_type": "code",
   "execution_count": 5,
   "id": "08ac19fd",
   "metadata": {},
   "outputs": [],
   "source": [
    "# Encode the labels and updaate values\n",
    "\n",
    "le = preprocessing.LabelEncoder()\n",
    "\n",
    "dataset[\"Class\"] = le.fit_transform(dataset_labels.drop(\"Unnamed: 0\", axis=1).values.ravel())"
   ]
  },
  {
   "cell_type": "code",
   "execution_count": 6,
   "id": "aa5f0414",
   "metadata": {},
   "outputs": [
    {
     "data": {
      "text/plain": [
       "{'BRCA': 0, 'COAD': 1, 'KIRC': 2, 'LUAD': 3, 'PRAD': 4}"
      ]
     },
     "execution_count": 6,
     "metadata": {},
     "output_type": "execute_result"
    }
   ],
   "source": [
    "# Let´s store all the labels\n",
    "\n",
    "keys = le.classes_\n",
    "\n",
    "# And now store labels with their encoded value \n",
    "\n",
    "values = le.transform(le.classes_)\n",
    "dictionary = dict(zip(keys, values))\n",
    "dictionary"
   ]
  },
  {
   "cell_type": "markdown",
   "id": "90f6f281",
   "metadata": {},
   "source": [
    "### Normalize the dataset\n",
    "\n"
   ]
  },
  {
   "cell_type": "code",
   "execution_count": 7,
   "id": "8b38a0be",
   "metadata": {},
   "outputs": [],
   "source": [
    "# Lets store the dataset values without the columns titles\n",
    "x = dataset.iloc[:, :-1].values "
   ]
  },
  {
   "cell_type": "code",
   "execution_count": 8,
   "id": "02904444",
   "metadata": {},
   "outputs": [],
   "source": [
    "# Let´s create an instance with the normalice function\n",
    "min_max_scaler = preprocessing.MinMaxScaler()\n",
    "\n",
    "# Let´s fit the normilice function\n",
    "x_scaled = min_max_scaler.fit_transform(x)\n",
    "\n",
    "# Let´s put in the dataframe the values scaled\n",
    "dataset.iloc[:, :-1] = pd.DataFrame(x_scaled)"
   ]
  },
  {
   "cell_type": "code",
   "execution_count": 9,
   "id": "3a78afec",
   "metadata": {
    "scrolled": true
   },
   "outputs": [
    {
     "data": {
      "text/plain": [
       "{'BRCA': 0, 'COAD': 1, 'KIRC': 2, 'LUAD': 3, 'PRAD': 4}"
      ]
     },
     "execution_count": 9,
     "metadata": {},
     "output_type": "execute_result"
    }
   ],
   "source": [
    "dictionary"
   ]
  },
  {
   "cell_type": "markdown",
   "id": "eda57e07",
   "metadata": {},
   "source": [
    "Number of examples of each label:"
   ]
  },
  {
   "cell_type": "code",
   "execution_count": 10,
   "id": "77082b8f",
   "metadata": {},
   "outputs": [
    {
     "data": {
      "text/plain": [
       "0    300\n",
       "2    146\n",
       "3    141\n",
       "4    136\n",
       "1     78\n",
       "Name: Class, dtype: int64"
      ]
     },
     "execution_count": 10,
     "metadata": {},
     "output_type": "execute_result"
    }
   ],
   "source": [
    "dataset.Class.value_counts()"
   ]
  },
  {
   "cell_type": "markdown",
   "id": "a396c428",
   "metadata": {},
   "source": [
    "-----------\n",
    "## Dimensionality reduction:  1.Principal Component Analysis"
   ]
  },
  {
   "cell_type": "code",
   "execution_count": 11,
   "id": "57a8586b",
   "metadata": {},
   "outputs": [],
   "source": [
    "# Create PCA object to keep 95% of variance\n",
    "\n",
    "pca = PCA(0.75)\n",
    "\n",
    "# Apply PCA in input vector\n",
    "pca.fit(dataset.iloc[:,:-1]) \n",
    "\n",
    "# Save results in an np.array\n",
    "reduced = pca.transform(dataset.iloc[:,:-1])\n",
    "\n",
    "# Save labels in an np.array\n",
    "x = dataset['Class'].to_numpy()"
   ]
  },
  {
   "cell_type": "code",
   "execution_count": 12,
   "id": "abc45593",
   "metadata": {},
   "outputs": [],
   "source": [
    "# Create final dataframe with reduced dimensions\n",
    "dataset_reduced_PCA = pd.DataFrame(np.column_stack((reduced, x)))"
   ]
  },
  {
   "cell_type": "markdown",
   "id": "0d296cc9",
   "metadata": {},
   "source": [
    "Number of features in the original dataset: 20532 <br>\n",
    "After applying PCA to the dataset, we end up with:"
   ]
  },
  {
   "cell_type": "code",
   "execution_count": 13,
   "id": "58a0dfd5",
   "metadata": {},
   "outputs": [
    {
     "data": {
      "text/plain": [
       "103"
      ]
     },
     "execution_count": 13,
     "metadata": {},
     "output_type": "execute_result"
    }
   ],
   "source": [
    "dataset_reduced_PCA.shape[1]"
   ]
  },
  {
   "cell_type": "code",
   "execution_count": 14,
   "id": "3689c5e5",
   "metadata": {},
   "outputs": [],
   "source": [
    "# We are going to rename the columns name with the PCA components name\n",
    "\n",
    "for count, column_name in enumerate(dataset_reduced_PCA.columns):\n",
    "    \n",
    "    if count < len(dataset_reduced_PCA.columns)-1:\n",
    "        \n",
    "        dataset_reduced_PCA.rename(columns={column_name : f\"PCA{count+1}\"}, inplace=True)\n",
    "    else:\n",
    "        dataset_reduced_PCA.rename(columns={column_name : \"Label\"}, inplace=True)"
   ]
  },
  {
   "cell_type": "markdown",
   "id": "966a360e",
   "metadata": {},
   "source": [
    "The dataset after applying the PCA analysis has the following form:"
   ]
  },
  {
   "cell_type": "code",
   "execution_count": 15,
   "id": "58ecf304",
   "metadata": {},
   "outputs": [
    {
     "data": {
      "text/html": [
       "<div>\n",
       "<style scoped>\n",
       "    .dataframe tbody tr th:only-of-type {\n",
       "        vertical-align: middle;\n",
       "    }\n",
       "\n",
       "    .dataframe tbody tr th {\n",
       "        vertical-align: top;\n",
       "    }\n",
       "\n",
       "    .dataframe thead th {\n",
       "        text-align: right;\n",
       "    }\n",
       "</style>\n",
       "<table border=\"1\" class=\"dataframe\">\n",
       "  <thead>\n",
       "    <tr style=\"text-align: right;\">\n",
       "      <th></th>\n",
       "      <th>PCA1</th>\n",
       "      <th>PCA2</th>\n",
       "      <th>PCA3</th>\n",
       "      <th>PCA4</th>\n",
       "      <th>PCA5</th>\n",
       "      <th>PCA6</th>\n",
       "      <th>PCA7</th>\n",
       "      <th>PCA8</th>\n",
       "      <th>PCA9</th>\n",
       "      <th>PCA10</th>\n",
       "      <th>...</th>\n",
       "      <th>PCA94</th>\n",
       "      <th>PCA95</th>\n",
       "      <th>PCA96</th>\n",
       "      <th>PCA97</th>\n",
       "      <th>PCA98</th>\n",
       "      <th>PCA99</th>\n",
       "      <th>PCA100</th>\n",
       "      <th>PCA101</th>\n",
       "      <th>PCA102</th>\n",
       "      <th>Label</th>\n",
       "    </tr>\n",
       "  </thead>\n",
       "  <tbody>\n",
       "    <tr>\n",
       "      <th>0</th>\n",
       "      <td>-5.668141</td>\n",
       "      <td>-8.872139</td>\n",
       "      <td>15.853290</td>\n",
       "      <td>-6.659908</td>\n",
       "      <td>3.244882</td>\n",
       "      <td>3.529868</td>\n",
       "      <td>-0.186630</td>\n",
       "      <td>-4.599118</td>\n",
       "      <td>-0.780447</td>\n",
       "      <td>1.000318</td>\n",
       "      <td>...</td>\n",
       "      <td>-0.091763</td>\n",
       "      <td>0.377116</td>\n",
       "      <td>-0.012125</td>\n",
       "      <td>-1.028643</td>\n",
       "      <td>-0.541357</td>\n",
       "      <td>0.640421</td>\n",
       "      <td>-0.258044</td>\n",
       "      <td>0.735037</td>\n",
       "      <td>-0.348108</td>\n",
       "      <td>4.0</td>\n",
       "    </tr>\n",
       "    <tr>\n",
       "      <th>1</th>\n",
       "      <td>-1.470204</td>\n",
       "      <td>10.280182</td>\n",
       "      <td>-1.246634</td>\n",
       "      <td>-1.597277</td>\n",
       "      <td>-5.053639</td>\n",
       "      <td>5.329966</td>\n",
       "      <td>-3.213423</td>\n",
       "      <td>0.646405</td>\n",
       "      <td>-0.092015</td>\n",
       "      <td>-5.155488</td>\n",
       "      <td>...</td>\n",
       "      <td>0.272916</td>\n",
       "      <td>-0.660396</td>\n",
       "      <td>0.238561</td>\n",
       "      <td>-0.612262</td>\n",
       "      <td>-0.117655</td>\n",
       "      <td>0.256274</td>\n",
       "      <td>-1.781133</td>\n",
       "      <td>-0.576626</td>\n",
       "      <td>-0.847453</td>\n",
       "      <td>3.0</td>\n",
       "    </tr>\n",
       "    <tr>\n",
       "      <th>2</th>\n",
       "      <td>-10.845387</td>\n",
       "      <td>-1.345352</td>\n",
       "      <td>4.000770</td>\n",
       "      <td>8.010467</td>\n",
       "      <td>3.520304</td>\n",
       "      <td>6.439937</td>\n",
       "      <td>-2.008366</td>\n",
       "      <td>7.852581</td>\n",
       "      <td>-0.221889</td>\n",
       "      <td>-4.103816</td>\n",
       "      <td>...</td>\n",
       "      <td>-0.789400</td>\n",
       "      <td>-2.298390</td>\n",
       "      <td>0.443170</td>\n",
       "      <td>-0.151047</td>\n",
       "      <td>0.803538</td>\n",
       "      <td>0.055863</td>\n",
       "      <td>0.574898</td>\n",
       "      <td>0.244420</td>\n",
       "      <td>0.034691</td>\n",
       "      <td>4.0</td>\n",
       "    </tr>\n",
       "    <tr>\n",
       "      <th>3</th>\n",
       "      <td>-9.167961</td>\n",
       "      <td>-8.670123</td>\n",
       "      <td>5.481483</td>\n",
       "      <td>5.505311</td>\n",
       "      <td>-0.453232</td>\n",
       "      <td>4.098163</td>\n",
       "      <td>-2.687572</td>\n",
       "      <td>2.294694</td>\n",
       "      <td>-0.065617</td>\n",
       "      <td>-2.497998</td>\n",
       "      <td>...</td>\n",
       "      <td>0.040757</td>\n",
       "      <td>1.105573</td>\n",
       "      <td>-0.350252</td>\n",
       "      <td>0.418292</td>\n",
       "      <td>-1.065557</td>\n",
       "      <td>-0.098885</td>\n",
       "      <td>-0.457159</td>\n",
       "      <td>0.283911</td>\n",
       "      <td>0.846548</td>\n",
       "      <td>4.0</td>\n",
       "    </tr>\n",
       "    <tr>\n",
       "      <th>4</th>\n",
       "      <td>-6.271848</td>\n",
       "      <td>-3.101208</td>\n",
       "      <td>-7.338976</td>\n",
       "      <td>0.433540</td>\n",
       "      <td>4.290824</td>\n",
       "      <td>-0.316748</td>\n",
       "      <td>-0.306964</td>\n",
       "      <td>-1.433246</td>\n",
       "      <td>-3.194915</td>\n",
       "      <td>4.058295</td>\n",
       "      <td>...</td>\n",
       "      <td>-0.966648</td>\n",
       "      <td>-0.663006</td>\n",
       "      <td>-0.299178</td>\n",
       "      <td>1.052884</td>\n",
       "      <td>1.381582</td>\n",
       "      <td>0.461015</td>\n",
       "      <td>0.655713</td>\n",
       "      <td>-0.593092</td>\n",
       "      <td>-0.139704</td>\n",
       "      <td>0.0</td>\n",
       "    </tr>\n",
       "  </tbody>\n",
       "</table>\n",
       "<p>5 rows × 103 columns</p>\n",
       "</div>"
      ],
      "text/plain": [
       "        PCA1       PCA2       PCA3      PCA4      PCA5      PCA6      PCA7  \\\n",
       "0  -5.668141  -8.872139  15.853290 -6.659908  3.244882  3.529868 -0.186630   \n",
       "1  -1.470204  10.280182  -1.246634 -1.597277 -5.053639  5.329966 -3.213423   \n",
       "2 -10.845387  -1.345352   4.000770  8.010467  3.520304  6.439937 -2.008366   \n",
       "3  -9.167961  -8.670123   5.481483  5.505311 -0.453232  4.098163 -2.687572   \n",
       "4  -6.271848  -3.101208  -7.338976  0.433540  4.290824 -0.316748 -0.306964   \n",
       "\n",
       "       PCA8      PCA9     PCA10  ...     PCA94     PCA95     PCA96     PCA97  \\\n",
       "0 -4.599118 -0.780447  1.000318  ... -0.091763  0.377116 -0.012125 -1.028643   \n",
       "1  0.646405 -0.092015 -5.155488  ...  0.272916 -0.660396  0.238561 -0.612262   \n",
       "2  7.852581 -0.221889 -4.103816  ... -0.789400 -2.298390  0.443170 -0.151047   \n",
       "3  2.294694 -0.065617 -2.497998  ...  0.040757  1.105573 -0.350252  0.418292   \n",
       "4 -1.433246 -3.194915  4.058295  ... -0.966648 -0.663006 -0.299178  1.052884   \n",
       "\n",
       "      PCA98     PCA99    PCA100    PCA101    PCA102  Label  \n",
       "0 -0.541357  0.640421 -0.258044  0.735037 -0.348108    4.0  \n",
       "1 -0.117655  0.256274 -1.781133 -0.576626 -0.847453    3.0  \n",
       "2  0.803538  0.055863  0.574898  0.244420  0.034691    4.0  \n",
       "3 -1.065557 -0.098885 -0.457159  0.283911  0.846548    4.0  \n",
       "4  1.381582  0.461015  0.655713 -0.593092 -0.139704    0.0  \n",
       "\n",
       "[5 rows x 103 columns]"
      ]
     },
     "execution_count": 15,
     "metadata": {},
     "output_type": "execute_result"
    }
   ],
   "source": [
    "dataset_reduced_PCA.head()"
   ]
  },
  {
   "cell_type": "markdown",
   "id": "c024150c",
   "metadata": {},
   "source": [
    "#### Lets display the explained variance of each PCA component"
   ]
  },
  {
   "cell_type": "code",
   "execution_count": 16,
   "id": "003cc3ef",
   "metadata": {},
   "outputs": [
    {
     "data": {
      "text/plain": [
       "(102,)"
      ]
     },
     "execution_count": 16,
     "metadata": {},
     "output_type": "execute_result"
    }
   ],
   "source": [
    "pca.explained_variance_ratio_.shape"
   ]
  },
  {
   "cell_type": "code",
   "execution_count": 17,
   "id": "dbed9416",
   "metadata": {},
   "outputs": [
    {
     "data": {
      "text/plain": [
       "(102,)"
      ]
     },
     "execution_count": 17,
     "metadata": {},
     "output_type": "execute_result"
    }
   ],
   "source": [
    "# To see the percentage of variation thaat each principal components accounts for\n",
    "\n",
    "per_var = np.round(pca.explained_variance_ratio_*100, decimals=1)\n",
    "per_var.shape"
   ]
  },
  {
   "cell_type": "code",
   "execution_count": 18,
   "id": "59e74804",
   "metadata": {},
   "outputs": [
    {
     "data": {
      "image/png": "[encoded data removed]",
      "text/plain": [
       "<Figure size 432x288 with 1 Axes>"
      ]
     },
     "metadata": {
      "needs_background": "light"
     },
     "output_type": "display_data"
    }
   ],
   "source": [
    "labels = ['PC' + str(x) for x in range(1, len(per_var)+1)]\n",
    "\n",
    "plt.bar(x=range(1,len(per_var)+1),height=per_var, tick_label=labels)\n",
    "plt.ylabel('Percentage of Explained Variance')\n",
    "plt.xlabel('Principal Component')\n",
    "plt.title('Percentage of explained variance of each PCA ')\n",
    "plt.show()"
   ]
  },
  {
   "cell_type": "code",
   "execution_count": 19,
   "id": "11a6c1a4",
   "metadata": {},
   "outputs": [
    {
     "data": {
      "text/plain": [
       "(102,)"
      ]
     },
     "execution_count": 19,
     "metadata": {},
     "output_type": "execute_result"
    }
   ],
   "source": [
    "# Here we calculate the cumulative sum of the variance so we can plot and see how the variance of the PCA evolute \n",
    "\n",
    "cum_sum_eigenvalues = np.cumsum(pca.explained_variance_ratio_)\n",
    "cum_sum_eigenvalues.shape"
   ]
  },
  {
   "cell_type": "code",
   "execution_count": 20,
   "id": "b23e65ae",
   "metadata": {},
   "outputs": [
    {
     "data": {
      "text/plain": [
       "0.7508083419601685"
      ]
     },
     "execution_count": 20,
     "metadata": {},
     "output_type": "execute_result"
    }
   ],
   "source": [
    "# Let´s see the cummulative variance\n",
    "cum_sum_eigenvalues[101]"
   ]
  },
  {
   "cell_type": "code",
   "execution_count": 21,
   "id": "0ebd2228",
   "metadata": {},
   "outputs": [
    {
     "data": {
      "image/png": "[encoded data removed]",
      "text/plain": [
       "<Figure size 432x288 with 1 Axes>"
      ]
     },
     "metadata": {
      "needs_background": "light"
     },
     "output_type": "display_data"
    }
   ],
   "source": [
    "# Plot with regards of components\n",
    "\n",
    "#plt.bar(range(0,len(exp_var_pca[:150])), exp_var_pca[:150], alpha=0.5, align='center', label='Individual explained variance')\n",
    "plt.step(range(0,len(cum_sum_eigenvalues)), cum_sum_eigenvalues, where='mid',label='Cumulative explained variance')\n",
    "plt.ylabel('Explained variance ratio')\n",
    "plt.xlabel('Principal component index')\n",
    "plt.legend(loc='best')\n",
    "plt.tight_layout()\n",
    "plt.show()"
   ]
  },
  {
   "cell_type": "code",
   "execution_count": 22,
   "id": "8469dcaf",
   "metadata": {},
   "outputs": [],
   "source": [
    "#Final dataset after feature extraction and further process\n",
    "\n",
    "final_df = dataset_reduced_PCA"
   ]
  },
  {
   "cell_type": "markdown",
   "id": "c44ddeb5",
   "metadata": {},
   "source": [
    "After further elimination of features we end up with the final form of the data."
   ]
  },
  {
   "cell_type": "code",
   "execution_count": 23,
   "id": "f34ed2e8",
   "metadata": {},
   "outputs": [
    {
     "data": {
      "text/plain": [
       "(801, 103)"
      ]
     },
     "execution_count": 23,
     "metadata": {},
     "output_type": "execute_result"
    }
   ],
   "source": [
    "final_df.shape"
   ]
  },
  {
   "cell_type": "markdown",
   "id": "dbb06461",
   "metadata": {},
   "source": [
    "Finally, we have 102 PCA to represent the dataset.\n",
    "\n",
    "Final dataset after preprocesing: final_df"
   ]
  },
  {
   "cell_type": "code",
   "execution_count": 24,
   "id": "df44de42",
   "metadata": {},
   "outputs": [
    {
     "data": {
      "text/html": [
       "<div>\n",
       "<style scoped>\n",
       "    .dataframe tbody tr th:only-of-type {\n",
       "        vertical-align: middle;\n",
       "    }\n",
       "\n",
       "    .dataframe tbody tr th {\n",
       "        vertical-align: top;\n",
       "    }\n",
       "\n",
       "    .dataframe thead th {\n",
       "        text-align: right;\n",
       "    }\n",
       "</style>\n",
       "<table border=\"1\" class=\"dataframe\">\n",
       "  <thead>\n",
       "    <tr style=\"text-align: right;\">\n",
       "      <th></th>\n",
       "      <th>PCA1</th>\n",
       "      <th>PCA2</th>\n",
       "      <th>PCA3</th>\n",
       "      <th>PCA4</th>\n",
       "      <th>PCA5</th>\n",
       "      <th>PCA6</th>\n",
       "      <th>PCA7</th>\n",
       "      <th>PCA8</th>\n",
       "      <th>PCA9</th>\n",
       "      <th>PCA10</th>\n",
       "      <th>...</th>\n",
       "      <th>PCA94</th>\n",
       "      <th>PCA95</th>\n",
       "      <th>PCA96</th>\n",
       "      <th>PCA97</th>\n",
       "      <th>PCA98</th>\n",
       "      <th>PCA99</th>\n",
       "      <th>PCA100</th>\n",
       "      <th>PCA101</th>\n",
       "      <th>PCA102</th>\n",
       "      <th>Label</th>\n",
       "    </tr>\n",
       "  </thead>\n",
       "  <tbody>\n",
       "    <tr>\n",
       "      <th>0</th>\n",
       "      <td>-5.668141</td>\n",
       "      <td>-8.872139</td>\n",
       "      <td>15.853290</td>\n",
       "      <td>-6.659908</td>\n",
       "      <td>3.244882</td>\n",
       "      <td>3.529868</td>\n",
       "      <td>-0.186630</td>\n",
       "      <td>-4.599118</td>\n",
       "      <td>-0.780447</td>\n",
       "      <td>1.000318</td>\n",
       "      <td>...</td>\n",
       "      <td>-0.091763</td>\n",
       "      <td>0.377116</td>\n",
       "      <td>-0.012125</td>\n",
       "      <td>-1.028643</td>\n",
       "      <td>-0.541357</td>\n",
       "      <td>0.640421</td>\n",
       "      <td>-0.258044</td>\n",
       "      <td>0.735037</td>\n",
       "      <td>-0.348108</td>\n",
       "      <td>4.0</td>\n",
       "    </tr>\n",
       "    <tr>\n",
       "      <th>1</th>\n",
       "      <td>-1.470204</td>\n",
       "      <td>10.280182</td>\n",
       "      <td>-1.246634</td>\n",
       "      <td>-1.597277</td>\n",
       "      <td>-5.053639</td>\n",
       "      <td>5.329966</td>\n",
       "      <td>-3.213423</td>\n",
       "      <td>0.646405</td>\n",
       "      <td>-0.092015</td>\n",
       "      <td>-5.155488</td>\n",
       "      <td>...</td>\n",
       "      <td>0.272916</td>\n",
       "      <td>-0.660396</td>\n",
       "      <td>0.238561</td>\n",
       "      <td>-0.612262</td>\n",
       "      <td>-0.117655</td>\n",
       "      <td>0.256274</td>\n",
       "      <td>-1.781133</td>\n",
       "      <td>-0.576626</td>\n",
       "      <td>-0.847453</td>\n",
       "      <td>3.0</td>\n",
       "    </tr>\n",
       "    <tr>\n",
       "      <th>2</th>\n",
       "      <td>-10.845387</td>\n",
       "      <td>-1.345352</td>\n",
       "      <td>4.000770</td>\n",
       "      <td>8.010467</td>\n",
       "      <td>3.520304</td>\n",
       "      <td>6.439937</td>\n",
       "      <td>-2.008366</td>\n",
       "      <td>7.852581</td>\n",
       "      <td>-0.221889</td>\n",
       "      <td>-4.103816</td>\n",
       "      <td>...</td>\n",
       "      <td>-0.789400</td>\n",
       "      <td>-2.298390</td>\n",
       "      <td>0.443170</td>\n",
       "      <td>-0.151047</td>\n",
       "      <td>0.803538</td>\n",
       "      <td>0.055863</td>\n",
       "      <td>0.574898</td>\n",
       "      <td>0.244420</td>\n",
       "      <td>0.034691</td>\n",
       "      <td>4.0</td>\n",
       "    </tr>\n",
       "    <tr>\n",
       "      <th>3</th>\n",
       "      <td>-9.167961</td>\n",
       "      <td>-8.670123</td>\n",
       "      <td>5.481483</td>\n",
       "      <td>5.505311</td>\n",
       "      <td>-0.453232</td>\n",
       "      <td>4.098163</td>\n",
       "      <td>-2.687572</td>\n",
       "      <td>2.294694</td>\n",
       "      <td>-0.065617</td>\n",
       "      <td>-2.497998</td>\n",
       "      <td>...</td>\n",
       "      <td>0.040757</td>\n",
       "      <td>1.105573</td>\n",
       "      <td>-0.350252</td>\n",
       "      <td>0.418292</td>\n",
       "      <td>-1.065557</td>\n",
       "      <td>-0.098885</td>\n",
       "      <td>-0.457159</td>\n",
       "      <td>0.283911</td>\n",
       "      <td>0.846548</td>\n",
       "      <td>4.0</td>\n",
       "    </tr>\n",
       "    <tr>\n",
       "      <th>4</th>\n",
       "      <td>-6.271848</td>\n",
       "      <td>-3.101208</td>\n",
       "      <td>-7.338976</td>\n",
       "      <td>0.433540</td>\n",
       "      <td>4.290824</td>\n",
       "      <td>-0.316748</td>\n",
       "      <td>-0.306964</td>\n",
       "      <td>-1.433246</td>\n",
       "      <td>-3.194915</td>\n",
       "      <td>4.058295</td>\n",
       "      <td>...</td>\n",
       "      <td>-0.966648</td>\n",
       "      <td>-0.663006</td>\n",
       "      <td>-0.299178</td>\n",
       "      <td>1.052884</td>\n",
       "      <td>1.381582</td>\n",
       "      <td>0.461015</td>\n",
       "      <td>0.655713</td>\n",
       "      <td>-0.593092</td>\n",
       "      <td>-0.139704</td>\n",
       "      <td>0.0</td>\n",
       "    </tr>\n",
       "  </tbody>\n",
       "</table>\n",
       "<p>5 rows × 103 columns</p>\n",
       "</div>"
      ],
      "text/plain": [
       "        PCA1       PCA2       PCA3      PCA4      PCA5      PCA6      PCA7  \\\n",
       "0  -5.668141  -8.872139  15.853290 -6.659908  3.244882  3.529868 -0.186630   \n",
       "1  -1.470204  10.280182  -1.246634 -1.597277 -5.053639  5.329966 -3.213423   \n",
       "2 -10.845387  -1.345352   4.000770  8.010467  3.520304  6.439937 -2.008366   \n",
       "3  -9.167961  -8.670123   5.481483  5.505311 -0.453232  4.098163 -2.687572   \n",
       "4  -6.271848  -3.101208  -7.338976  0.433540  4.290824 -0.316748 -0.306964   \n",
       "\n",
       "       PCA8      PCA9     PCA10  ...     PCA94     PCA95     PCA96     PCA97  \\\n",
       "0 -4.599118 -0.780447  1.000318  ... -0.091763  0.377116 -0.012125 -1.028643   \n",
       "1  0.646405 -0.092015 -5.155488  ...  0.272916 -0.660396  0.238561 -0.612262   \n",
       "2  7.852581 -0.221889 -4.103816  ... -0.789400 -2.298390  0.443170 -0.151047   \n",
       "3  2.294694 -0.065617 -2.497998  ...  0.040757  1.105573 -0.350252  0.418292   \n",
       "4 -1.433246 -3.194915  4.058295  ... -0.966648 -0.663006 -0.299178  1.052884   \n",
       "\n",
       "      PCA98     PCA99    PCA100    PCA101    PCA102  Label  \n",
       "0 -0.541357  0.640421 -0.258044  0.735037 -0.348108    4.0  \n",
       "1 -0.117655  0.256274 -1.781133 -0.576626 -0.847453    3.0  \n",
       "2  0.803538  0.055863  0.574898  0.244420  0.034691    4.0  \n",
       "3 -1.065557 -0.098885 -0.457159  0.283911  0.846548    4.0  \n",
       "4  1.381582  0.461015  0.655713 -0.593092 -0.139704    0.0  \n",
       "\n",
       "[5 rows x 103 columns]"
      ]
     },
     "execution_count": 24,
     "metadata": {},
     "output_type": "execute_result"
    }
   ],
   "source": [
    "final_df.head()"
   ]
  },
  {
   "cell_type": "markdown",
   "id": "64c9e76f",
   "metadata": {},
   "source": [
    "### Output of preprocesing "
   ]
  },
  {
   "cell_type": "code",
   "execution_count": 25,
   "id": "6d47848a",
   "metadata": {},
   "outputs": [
    {
     "data": {
      "text/plain": [
       "(801, 103)"
      ]
     },
     "execution_count": 25,
     "metadata": {},
     "output_type": "execute_result"
    }
   ],
   "source": [
    "dataset_reduced_PCA.shape"
   ]
  },
  {
   "cell_type": "markdown",
   "id": "b9e2761e",
   "metadata": {},
   "source": [
    "--------------\n",
    "# Model Implementation:  Esemble methods "
   ]
  },
  {
   "cell_type": "markdown",
   "id": "876478f3",
   "metadata": {},
   "source": [
    "###  80% Training data, 20% test data"
   ]
  },
  {
   "cell_type": "markdown",
   "id": "122019b4",
   "metadata": {},
   "source": [
    "#For ORIGINAL data as input\n",
    "\n",
    "input_data = dataset.iloc[:,:-1].values\n",
    "label_data = dataset.iloc[:,-1].values"
   ]
  },
  {
   "cell_type": "code",
   "execution_count": 55,
   "id": "c2de1869",
   "metadata": {},
   "outputs": [],
   "source": [
    "#For REDUCED data as input\n",
    "\n",
    "input_data = dataset_reduced_PCA.iloc[:,:-1].values\n",
    "label_data = dataset_reduced_PCA.iloc[:,-1].values"
   ]
  },
  {
   "cell_type": "code",
   "execution_count": 56,
   "id": "f3e19ae8",
   "metadata": {},
   "outputs": [],
   "source": [
    "# We split the data  \n",
    "X_train, X_test, y_train, y_test = train_test_split(input_data,label_data, test_size=0.2)"
   ]
  },
  {
   "cell_type": "code",
   "execution_count": 57,
   "id": "6675e838",
   "metadata": {},
   "outputs": [],
   "source": [
    "from sklearn.pipeline import Pipeline\n",
    "\n",
    "# Pipeline 1: inside we are giving a list of tuples \n",
    "pipeline_lr = Pipeline([('lr_classifier', LogisticRegression())])\n",
    "\n",
    "# Pipeline 2\n",
    "pipeline_dt = Pipeline([('dt_classifier', DecisionTreeClassifier())])\n",
    "\n",
    "# Pipeline 3\n",
    "pipeline_randomforest = Pipeline([('rf_classifier', RandomForestClassifier())])"
   ]
  },
  {
   "cell_type": "code",
   "execution_count": 58,
   "id": "ed656e9c",
   "metadata": {},
   "outputs": [],
   "source": [
    "## Lets make a list of pipelines\n",
    "pipelines = [pipeline_lr, pipeline_dt, pipeline_randomforest]"
   ]
  },
  {
   "cell_type": "code",
   "execution_count": 59,
   "id": "9d5de1e7",
   "metadata": {},
   "outputs": [],
   "source": [
    "# Variable declaration\n",
    "\n",
    "best_accuracy = 0.0\n",
    "best_classifier = 0 \n",
    "best_pipeline = \"\""
   ]
  },
  {
   "cell_type": "code",
   "execution_count": 60,
   "id": "a0009bdd",
   "metadata": {},
   "outputs": [],
   "source": [
    "# Dictionary of pipelines and classifier types for ease of reference\n",
    "\n",
    "pipe_dict = {0: 'Logistic Regression', 1: 'Decision Tree', 2: 'RandomForest'}"
   ]
  },
  {
   "cell_type": "code",
   "execution_count": 61,
   "id": "9ccfcd11",
   "metadata": {},
   "outputs": [],
   "source": [
    "# Fit the pipelines\n",
    "for pipe in pipelines:\n",
    "    pipe.fit(X_train, y_train)\n",
    "    "
   ]
  },
  {
   "cell_type": "code",
   "execution_count": 62,
   "id": "7d5a6a3b",
   "metadata": {},
   "outputs": [
    {
     "name": "stdout",
     "output_type": "stream",
     "text": [
      "Logistic Regression Test accuracy: 1.0\n",
      "Decision Tree Test accuracy: 0.9440993788819876\n",
      "RandomForest Test accuracy: 0.968944099378882\n"
     ]
    }
   ],
   "source": [
    "# Display\n",
    "\n",
    "for i, model in enumerate(pipelines):\n",
    "    print(\"{} Test accuracy: {}\".format(pipe_dict[i], model.score(X_test,y_test)))"
   ]
  },
  {
   "cell_type": "code",
   "execution_count": 72,
   "id": "2714d0eb",
   "metadata": {},
   "outputs": [
    {
     "name": "stdout",
     "output_type": "stream",
     "text": [
      "Classifier with the best accuracy: Logistic Regression\n"
     ]
    }
   ],
   "source": [
    "for i, model in enumerate(pipelines):\n",
    "    if model.score(X_test, y_test) > best_accuracy:\n",
    "        best_accuracy = model.score(X_test, y_test)\n",
    "        best_pipeline = model\n",
    "        best_classifier = i\n",
    "        \n",
    "print('Classifier with the best accuracy: {}' .format(pipe_dict[best_classifier]))   "
   ]
  },
  {
   "cell_type": "code",
   "execution_count": 84,
   "id": "c3be8c8e",
   "metadata": {},
   "outputs": [],
   "source": [
    "lr = LogisticRegression()\n",
    "dt = DecisionTreeClassifier()\n",
    "rf = RandomForestClassifier()\n",
    "\n",
    "labels = ['Logistic Regression', 'Decision Tree', 'Random Forest']"
   ]
  },
  {
   "cell_type": "code",
   "execution_count": null,
   "id": "9b17b467",
   "metadata": {},
   "outputs": [],
   "source": [
    "\n",
    " "
   ]
  },
  {
   "cell_type": "code",
   "execution_count": null,
   "id": "57bbf430",
   "metadata": {},
   "outputs": [],
   "source": [
    " "
   ]
  },
  {
   "cell_type": "code",
   "execution_count": null,
   "id": "a31f46f8",
   "metadata": {},
   "outputs": [],
   "source": []
  },
  {
   "cell_type": "code",
   "execution_count": 92,
   "id": "4c560f0e",
   "metadata": {},
   "outputs": [
    {
     "data": {
      "text/plain": [
       "VotingClassifier(estimators=[('LR', LogisticRegression()),\n",
       "                             ('DT', DecisionTreeClassifier()),\n",
       "                             ('RF', RandomForestClassifier())])"
      ]
     },
     "execution_count": 92,
     "metadata": {},
     "output_type": "execute_result"
    }
   ],
   "source": [
    "from sklearn.ensemble import VotingClassifier\n",
    "\n",
    "evc = VotingClassifier(estimators = [(labels[0],lr),('labels[1], dt), (labels[2], rf)], voting = 'hard')\n",
    "\n",
    "evc.fit(X_train, y_train)"
   ]
  },
  {
   "cell_type": "code",
   "execution_count": 93,
   "id": "98b8c95d",
   "metadata": {},
   "outputs": [
    {
     "data": {
      "text/plain": [
       "0.9813664596273292"
      ]
     },
     "execution_count": 93,
     "metadata": {},
     "output_type": "execute_result"
    }
   ],
   "source": [
    "evc.score(X_test, y_test)"
   ]
  },
  {
   "cell_type": "code",
   "execution_count": 105,
   "id": "a7a4dfc1",
   "metadata": {},
   "outputs": [
    {
     "data": {
      "text/plain": [
       "0.9912655279503106"
      ]
     },
     "execution_count": 105,
     "metadata": {},
     "output_type": "execute_result"
    }
   ],
   "source": [
    "cross_val_score(evc,input_data,label_data, cv=5).mean()"
   ]
  },
  {
   "cell_type": "code",
   "execution_count": null,
   "id": "1f4d744a",
   "metadata": {},
   "outputs": [],
   "source": []
  },
  {
   "cell_type": "code",
   "execution_count": null,
   "id": "cf5ea77b",
   "metadata": {},
   "outputs": [],
   "source": []
  },
  {
   "cell_type": "code",
   "execution_count": null,
   "id": "8e7335f3",
   "metadata": {},
   "outputs": [],
   "source": []
  },
  {
   "cell_type": "code",
   "execution_count": null,
   "id": "3c25f3cb",
   "metadata": {},
   "outputs": [],
   "source": []
  }
 ],
 "metadata": {
  "kernelspec": {
   "display_name": "Python 3",
   "language": "python",
   "name": "python3"
  },
  "language_info": {
   "codemirror_mode": {
    "name": "ipython",
    "version": 3
   },
   "file_extension": ".py",
   "mimetype": "text/x-python",
   "name": "python",
   "nbconvert_exporter": "python",
   "pygments_lexer": "ipython3",
   "version": "3.8.2"
  }
 },
 "nbformat": 4,
 "nbformat_minor": 5
}
