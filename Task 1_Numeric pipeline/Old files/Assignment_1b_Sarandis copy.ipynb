{
 "cells": [
  {
   "cell_type": "markdown",
   "id": "84ea3cac",
   "metadata": {},
   "source": [
    "### Import Libraries"
   ]
  },
  {
   "cell_type": "code",
   "execution_count": 1,
   "id": "6baade51",
   "metadata": {},
   "outputs": [],
   "source": [
    "import numpy as np\n",
    "import pandas as pd\n",
    "import matplotlib.pyplot as plt\n",
    "import seaborn as sns\n",
    "import warnings\n",
    "warnings.filterwarnings(\"ignore\")\n",
    "\n",
    "from sklearn import preprocessing\n",
    "from sklearn.decomposition import PCA\n",
    "from sklearn.neighbors import LocalOutlierFactor\n",
    "from sklearn.manifold import TSNE\n",
    "from sklearn.model_selection import KFold, cross_val_score, GridSearchCV\n",
    "\n",
    "from sklearn.tree import DecisionTreeClassifier \n",
    "from sklearn.ensemble import RandomForestClassifier\n",
    "from sklearn.model_selection import train_test_split\n",
    "from sklearn import metrics "
   ]
  },
  {
   "cell_type": "markdown",
   "id": "45a7b210",
   "metadata": {},
   "source": [
    "# Data Description and visualization"
   ]
  },
  {
   "cell_type": "code",
   "execution_count": 5,
   "id": "a0bac7af",
   "metadata": {},
   "outputs": [
    {
     "name": "stdout",
     "output_type": "stream",
     "text": [
      "Dataset consists of 801 input sample vectors, each vector has 20532 gene features.\n",
      "Also the availbale classes are 5. The possible choises are PRAD, LUAD, BRCA, KIRC, COAD.\n",
      "As we can see, we have class imbalance.\n",
      "\n",
      "BRCA    300\n",
      "KIRC    146\n",
      "LUAD    141\n",
      "PRAD    136\n",
      "COAD     78\n"
     ]
    }
   ],
   "source": [
    "# Reading files and merging features with labels\n",
    "#dataset = pd.read_csv(\"Genes\\data.csv\")\n",
    "#dataset_labels = pd.read_csv(\"Genes\\labels.csv\")\n",
    "\n",
    "#dataset = pd.read_csv(\"Genes\\data.csv\")\n",
    "dataset = pd.read_csv('/Users/pedrorodriguezdeledesmajimenez/1_Coding/Datasets/RUG_Pattern-recognition_Assignment-2/Task 1/Genres/data.csv')\n",
    "\n",
    "#labels = pd.read_csv(\"Genes\\labels.csv\")\n",
    "dataset_labels =pd.read_csv('/Users/pedrorodriguezdeledesmajimenez/1_Coding/Datasets/RUG_Pattern-recognition_Assignment-2/Task 1/Genres/labels.csv')\n",
    "\n",
    "\n",
    "dataset = pd.merge(dataset, dataset_labels, on='Unnamed: 0').drop(\"Unnamed: 0\", axis=1)\n",
    "\n",
    "\n",
    "# Normalize tha features except tha labels\n",
    "x = dataset.iloc[:, :-1].values\n",
    "standard_scaler = preprocessing.StandardScaler()\n",
    "x_scaled = standard_scaler.fit_transform(x)\n",
    "dataset.iloc[:, :-1] = pd.DataFrame(x_scaled)\n",
    "\n",
    "print(f'Dataset consists of {dataset.shape[0]} input sample vectors, each vector has {dataset.shape[1]} '\\\n",
    "      f'gene features.\\nAlso the availbale classes are {len(dataset[\"Class\"].unique())}.'\\\n",
    "      f' The possible choises are {\", \".join(val for val in dataset.Class.unique())}.')\n",
    "class_counts = dataset.Class.value_counts()\n",
    "print(f'As we can see, we have class imbalance.\\n\\n{class_counts.to_string()}')"
   ]
  },
  {
   "cell_type": "markdown",
   "id": "ac0f03f8",
   "metadata": {},
   "source": [
    "### a) Apply PCA"
   ]
  },
  {
   "cell_type": "code",
   "execution_count": 6,
   "id": "fcbe7359",
   "metadata": {},
   "outputs": [
    {
     "name": "stdout",
     "output_type": "stream",
     "text": [
      "Data size after PCA is: (801, 531).\n",
      "Still, there are many features, but with no significance at all. We intend to keep a minimal number of\n",
      "features while keeping the variance/information as high as possible\n",
      "\n"
     ]
    }
   ],
   "source": [
    "# Create PCA object to keep 95% of variance\n",
    "pca = PCA(0.95)\n",
    "\n",
    "# Apply PCA in input vector\n",
    "pca.fit(dataset.iloc[:,:-1])\n",
    "\n",
    "# Save results in an np.array\n",
    "reduced = pca.transform(dataset.iloc[:,:-1])\n",
    "\n",
    "#Save labels in an np.array\n",
    "x = dataset['Class'].to_numpy()\n",
    "\n",
    "# Create final dataframe with reduced dimensions\n",
    "decomposed = pd.DataFrame(np.column_stack((reduced, x)))\n",
    "\n",
    "#Rename columns\n",
    "for column in decomposed.columns:\n",
    "    if column<len(decomposed.columns)-1:\n",
    "        decomposed.rename(columns={column : f\"PCA{column+1}\"}, inplace=True)\n",
    "    else:\n",
    "        decomposed.rename(columns={column : \"Label\"}, inplace=True)\n",
    "        \n",
    "print(f'Data size after PCA is: {decomposed.shape}.')\n",
    "\n",
    "print(f'Still, there are many features, but with no significance at all. We intend to keep a minimal number of\\n' \\\n",
    "      f'features while keeping the variance/information as high as possible\\n')"
   ]
  },
  {
   "cell_type": "markdown",
   "id": "fc06c897",
   "metadata": {},
   "source": [
    "## b) Further reduction of dimensions"
   ]
  },
  {
   "cell_type": "code",
   "execution_count": 7,
   "id": "55f7e14d",
   "metadata": {},
   "outputs": [
    {
     "data": {
      "image/png": "[encoded data removed]",
      "text/plain": [
       "<Figure size 864x432 with 1 Axes>"
      ]
     },
     "metadata": {
      "needs_background": "light"
     },
     "output_type": "display_data"
    },
    {
     "name": "stdout",
     "output_type": "stream",
     "text": [
      "We decided to keep 100 components. This translates to about 71% information kept.\n",
      "\n",
      "After further elimination of features we end up with the final form of the data.\n",
      "\n",
      "        PCA1       PCA2       PCA3       PCA4       PCA5       PCA6  \\\n",
      "0 -57.446987  95.410981  74.301543 -12.166781   7.981831  36.157573   \n",
      "1  -16.91943    0.73247   -64.0729  -2.095308  -25.42643  27.784178   \n",
      "2 -70.345218 -19.303327   20.48824  48.102893  24.437757   17.46251   \n",
      "3 -49.161591  -9.227586   61.24377  37.805744   1.038889  23.240002   \n",
      "4 -18.132534 -51.327797  16.598116 -17.699201   26.38913  -1.551573   \n",
      "\n",
      "        PCA7       PCA8       PCA9      PCA10  ...     PCA92     PCA93  \\\n",
      "0  -7.668542  19.951444   0.142216    3.03524  ...  1.866729  2.585724   \n",
      "1 -16.132765 -17.031383 -22.023874 -27.923308  ...  2.576452  0.750836   \n",
      "2  20.706772 -47.626817 -28.647648 -12.784676  ... -4.530058 -3.410437   \n",
      "3  -4.801039 -21.554809 -15.375067 -12.881511  ...  3.226909 -4.726473   \n",
      "4  -6.266101  12.336677  -4.233837  28.804476  ...   1.61744 -3.004658   \n",
      "\n",
      "      PCA94      PCA95     PCA96     PCA97      PCA98     PCA99    PCA100  \\\n",
      "0  -3.13514   1.044765  9.835743 -8.856135   1.295599 -6.276291 -4.757604   \n",
      "1  4.512147   1.158561 -0.123879 -5.128551  -6.446831 -4.391277 -2.951738   \n",
      "2 -5.086425   4.250798  -3.16508  1.429796  -2.117258 -8.402494 -3.594203   \n",
      "3  0.811566  10.831135   3.27236  6.824684  10.011065 -3.791431 -1.936233   \n",
      "4  1.658939  -1.221157 -3.915028  4.608089  -0.757179  6.579847 -2.013851   \n",
      "\n",
      "  Label  \n",
      "0  PRAD  \n",
      "1  LUAD  \n",
      "2  PRAD  \n",
      "3  PRAD  \n",
      "4  BRCA  \n",
      "\n",
      "[5 rows x 101 columns]\n"
     ]
    }
   ],
   "source": [
    "#Calculating variance ration of each component and cummulative sum.  \n",
    "\n",
    "exp_var_pca = pca.explained_variance_ratio_\n",
    "\n",
    "cum_sum_eigenvalues = np.cumsum(exp_var_pca)\n",
    "\n",
    "# Plot with regards of components\n",
    "plt.figure(figsize=(12, 6))\n",
    "plt.bar(range(0,len(exp_var_pca[:150])), exp_var_pca[:150], alpha=0.5, \n",
    "        align='center', label='Individual explained variance')\n",
    "plt.step(range(0,len(cum_sum_eigenvalues[:150])), cum_sum_eigenvalues[0:150], \n",
    "         where='mid',label='Cumulative explained variance')\n",
    "plt.ylabel('Explained variance ratio')\n",
    "plt.xlabel('Principal component index')\n",
    "plt.legend(loc='best')\n",
    "plt.tight_layout()\n",
    "plt.savefig(\"Explained_variance_VS_Cumulative_sum.png\")\n",
    "plt.show()\n",
    "\n",
    "print(f'We decided to keep 100 components. This translates to about 71% information kept.')\n",
    "\n",
    "#Pick only the first 100 componets which combine for 71% of information\n",
    "\n",
    "decomposed = pd.concat([decomposed.iloc[:,:100],decomposed.iloc[:,-1]], axis=1)\n",
    "\n",
    "print(f'\\nAfter further elimination of features we end up with the final form of the data.\\n\\n{decomposed.head()}')"
   ]
  },
  {
   "cell_type": "markdown",
   "id": "28860663",
   "metadata": {},
   "source": [
    "### c) Finding outliers"
   ]
  },
  {
   "cell_type": "code",
   "execution_count": 8,
   "id": "eb434c4d",
   "metadata": {},
   "outputs": [
    {
     "name": "stdout",
     "output_type": "stream",
     "text": [
      "Data size after removing outliers is: (773, 101).\n"
     ]
    }
   ],
   "source": [
    "#Search for outliers in dataset\n",
    "lof = LocalOutlierFactor()\n",
    "# fit_predict return a numpy array of 1 if not an outlier and -1 if an outlier\n",
    "outliers = lof.fit_predict(decomposed.iloc[:,:-1])\n",
    "\n",
    "# select all rows that are not outliers\n",
    "mask = outliers != -1\n",
    "\n",
    "#unpack the mask to keep only non-outlier examples\n",
    "decomposed = decomposed[[*mask]]\n",
    "\n",
    "print(f'Data size after removing outliers is: {decomposed.shape}.')"
   ]
  },
  {
   "cell_type": "markdown",
   "id": "3b438a11",
   "metadata": {},
   "source": [
    "### d) T-sne for visualization of the remainig dataset in two dimensions"
   ]
  },
  {
   "cell_type": "code",
   "execution_count": 9,
   "id": "da9e85b0",
   "metadata": {},
   "outputs": [
    {
     "data": {
      "image/png": "[encoded data removed]",
      "text/plain": [
       "<Figure size 432x288 with 1 Axes>"
      ]
     },
     "metadata": {
      "needs_background": "light"
     },
     "output_type": "display_data"
    }
   ],
   "source": [
    "m = TSNE(n_components = 2, learning_rate=20)\n",
    "tsne_features = m.fit_transform(decomposed.drop('Label', axis=1))\n",
    "\n",
    "decomposed.loc[:,'x'] = tsne_features[:,0]\n",
    "decomposed.loc[:,'y'] = tsne_features[:,1]\n",
    "sns.scatterplot(x=\"x\", y=\"y\", hue='Label', data=decomposed)\n",
    "plt.savefig(\"TSNE_visualization_algorithm.png\")\n",
    "plt.show()\n",
    "decomposed.drop(['x', 'y'], axis=1, inplace=True)"
   ]
  },
  {
   "cell_type": "markdown",
   "id": "6b057249",
   "metadata": {},
   "source": [
    "# Model Implementation: Decision Tree"
   ]
  },
  {
   "cell_type": "code",
   "execution_count": 10,
   "id": "70db7489",
   "metadata": {},
   "outputs": [
    {
     "name": "stdout",
     "output_type": "stream",
     "text": [
      "We used Label encoding to work with numerical values instead of categorical.\n",
      "The labels now are: {'BRCA': 0, 'COAD': 1, 'KIRC': 2, 'LUAD': 3, 'PRAD': 4}.\n",
      "Also each column has been normalized ans scaled.\n"
     ]
    },
    {
     "data": {
      "image/png": "[encoded data removed]",
      "text/plain": [
       "<Figure size 576x360 with 2 Axes>"
      ]
     },
     "metadata": {
      "needs_background": "light"
     },
     "output_type": "display_data"
    },
    {
     "name": "stdout",
     "output_type": "stream",
     "text": [
      "Accuracy:0.9612903225806452\n",
      "\n",
      "\n",
      "More metrics about the model.\n",
      "\n",
      "              precision    recall  f1-score   support\n",
      "\n",
      "         0.0       0.98      0.96      0.97        54\n",
      "         1.0       0.90      0.90      0.90        21\n",
      "         2.0       1.00      1.00      1.00        26\n",
      "         3.0       0.96      0.96      0.96        24\n",
      "         4.0       0.94      0.97      0.95        30\n",
      "\n",
      "    accuracy                           0.96       155\n",
      "   macro avg       0.96      0.96      0.96       155\n",
      "weighted avg       0.96      0.96      0.96       155\n",
      "\n",
      "\n",
      "Area Under Curve score: 0.9757700244902011\n"
     ]
    }
   ],
   "source": [
    "# Encode the labels and updaate values\n",
    "\n",
    "le = preprocessing.LabelEncoder()\n",
    "decomposed[\"Label\"] = le.fit_transform(decomposed.iloc[:,-1].values.ravel())\n",
    "keys = le.classes_\n",
    "values = le.transform(le.classes_)\n",
    "dictionary = dict(zip(keys, values))\n",
    "\n",
    "print(f'We used Label encoding to work with numerical values instead of categorical.\\n'\\\n",
    "      f'The labels now are: {dictionary}.\\nAlso each column has been normalized ans scaled.')\n",
    "\n",
    "#Splitting dataset into train and test\n",
    "X_train, X_test, y_train, y_test = train_test_split(decomposed.iloc[:,:-1],\n",
    "                                                    decomposed.Label, test_size=0.2, \n",
    "                                                    random_state=np.random.RandomState(5))\n",
    "\n",
    "#Creating model and predicting output values on testing data.\n",
    "DT = DecisionTreeClassifier(criterion='entropy', random_state=np.random.RandomState(5))\n",
    "DT = DT.fit(X_train,y_train)\n",
    "y_pred = DT.predict(X_test)\n",
    "\n",
    "\n",
    "#Confusion matrix\n",
    "plt.figure(figsize=(8,5))\n",
    "confusion_matrix = pd.crosstab(y_test, y_pred, rownames=['Actual'], \n",
    "                               colnames=['Predicted'])\n",
    "sns.heatmap(confusion_matrix, annot=True)\n",
    "plt.savefig(\"Confusion_Matrix_DT.png\")\n",
    "plt.show()\n",
    "\n",
    "print(f\"Accuracy:{metrics.accuracy_score(y_test, y_pred)}\\n\\n\")\n",
    "print(f'More metrics about the model.\\n\\n' \\\n",
    "      f'{metrics.classification_report(y_test, y_pred, labels=[0.0, 1.0, 2.0, 3.0, 4.0])}\\n')\n",
    "roc_dt = metrics.roc_auc_score(y_test, DT.predict_proba(X_test), average = 'weighted', multi_class='ovr')\n",
    "print(f'Area Under Curve score: {roc_dt}')"
   ]
  },
  {
   "cell_type": "markdown",
   "id": "b068bdf6",
   "metadata": {},
   "source": [
    "# Decision Tree layout"
   ]
  },
  {
   "cell_type": "code",
   "execution_count": 11,
   "id": "dec24730",
   "metadata": {},
   "outputs": [
    {
     "data": {
      "text/html": [
       "<div>\n",
       "<style scoped>\n",
       "    .dataframe tbody tr th:only-of-type {\n",
       "        vertical-align: middle;\n",
       "    }\n",
       "\n",
       "    .dataframe tbody tr th {\n",
       "        vertical-align: top;\n",
       "    }\n",
       "\n",
       "    .dataframe thead th {\n",
       "        text-align: right;\n",
       "    }\n",
       "</style>\n",
       "<table border=\"1\" class=\"dataframe\">\n",
       "  <thead>\n",
       "    <tr style=\"text-align: right;\">\n",
       "      <th></th>\n",
       "      <th>PCA1</th>\n",
       "      <th>PCA2</th>\n",
       "      <th>PCA3</th>\n",
       "      <th>PCA4</th>\n",
       "      <th>PCA5</th>\n",
       "      <th>PCA6</th>\n",
       "      <th>PCA7</th>\n",
       "      <th>PCA8</th>\n",
       "      <th>PCA9</th>\n",
       "      <th>PCA10</th>\n",
       "      <th>...</th>\n",
       "      <th>PCA92</th>\n",
       "      <th>PCA93</th>\n",
       "      <th>PCA94</th>\n",
       "      <th>PCA95</th>\n",
       "      <th>PCA96</th>\n",
       "      <th>PCA97</th>\n",
       "      <th>PCA98</th>\n",
       "      <th>PCA99</th>\n",
       "      <th>PCA100</th>\n",
       "      <th>Label</th>\n",
       "    </tr>\n",
       "  </thead>\n",
       "  <tbody>\n",
       "    <tr>\n",
       "      <th>0</th>\n",
       "      <td>-57.446987</td>\n",
       "      <td>95.410981</td>\n",
       "      <td>74.301543</td>\n",
       "      <td>-12.166781</td>\n",
       "      <td>7.981831</td>\n",
       "      <td>36.157573</td>\n",
       "      <td>-7.668542</td>\n",
       "      <td>19.951444</td>\n",
       "      <td>0.142216</td>\n",
       "      <td>3.03524</td>\n",
       "      <td>...</td>\n",
       "      <td>1.866729</td>\n",
       "      <td>2.585724</td>\n",
       "      <td>-3.13514</td>\n",
       "      <td>1.044765</td>\n",
       "      <td>9.835743</td>\n",
       "      <td>-8.856135</td>\n",
       "      <td>1.295599</td>\n",
       "      <td>-6.276291</td>\n",
       "      <td>-4.757604</td>\n",
       "      <td>4</td>\n",
       "    </tr>\n",
       "    <tr>\n",
       "      <th>1</th>\n",
       "      <td>-16.91943</td>\n",
       "      <td>0.73247</td>\n",
       "      <td>-64.0729</td>\n",
       "      <td>-2.095308</td>\n",
       "      <td>-25.42643</td>\n",
       "      <td>27.784178</td>\n",
       "      <td>-16.132765</td>\n",
       "      <td>-17.031383</td>\n",
       "      <td>-22.023874</td>\n",
       "      <td>-27.923308</td>\n",
       "      <td>...</td>\n",
       "      <td>2.576452</td>\n",
       "      <td>0.750836</td>\n",
       "      <td>4.512147</td>\n",
       "      <td>1.158561</td>\n",
       "      <td>-0.123879</td>\n",
       "      <td>-5.128551</td>\n",
       "      <td>-6.446831</td>\n",
       "      <td>-4.391277</td>\n",
       "      <td>-2.951738</td>\n",
       "      <td>3</td>\n",
       "    </tr>\n",
       "    <tr>\n",
       "      <th>3</th>\n",
       "      <td>-49.161591</td>\n",
       "      <td>-9.227586</td>\n",
       "      <td>61.24377</td>\n",
       "      <td>37.805744</td>\n",
       "      <td>1.038889</td>\n",
       "      <td>23.240002</td>\n",
       "      <td>-4.801039</td>\n",
       "      <td>-21.554809</td>\n",
       "      <td>-15.375067</td>\n",
       "      <td>-12.881511</td>\n",
       "      <td>...</td>\n",
       "      <td>3.226909</td>\n",
       "      <td>-4.726473</td>\n",
       "      <td>0.811566</td>\n",
       "      <td>10.831135</td>\n",
       "      <td>3.27236</td>\n",
       "      <td>6.824684</td>\n",
       "      <td>10.011065</td>\n",
       "      <td>-3.791431</td>\n",
       "      <td>-1.936233</td>\n",
       "      <td>4</td>\n",
       "    </tr>\n",
       "    <tr>\n",
       "      <th>4</th>\n",
       "      <td>-18.132534</td>\n",
       "      <td>-51.327797</td>\n",
       "      <td>16.598116</td>\n",
       "      <td>-17.699201</td>\n",
       "      <td>26.38913</td>\n",
       "      <td>-1.551573</td>\n",
       "      <td>-6.266101</td>\n",
       "      <td>12.336677</td>\n",
       "      <td>-4.233837</td>\n",
       "      <td>28.804476</td>\n",
       "      <td>...</td>\n",
       "      <td>1.61744</td>\n",
       "      <td>-3.004658</td>\n",
       "      <td>1.658939</td>\n",
       "      <td>-1.221157</td>\n",
       "      <td>-3.915028</td>\n",
       "      <td>4.608089</td>\n",
       "      <td>-0.757179</td>\n",
       "      <td>6.579847</td>\n",
       "      <td>-2.013851</td>\n",
       "      <td>0</td>\n",
       "    </tr>\n",
       "    <tr>\n",
       "      <th>5</th>\n",
       "      <td>-19.174994</td>\n",
       "      <td>23.71842</td>\n",
       "      <td>62.802576</td>\n",
       "      <td>14.861267</td>\n",
       "      <td>-4.028201</td>\n",
       "      <td>21.770214</td>\n",
       "      <td>19.477589</td>\n",
       "      <td>15.38751</td>\n",
       "      <td>4.935198</td>\n",
       "      <td>-14.260737</td>\n",
       "      <td>...</td>\n",
       "      <td>-1.125525</td>\n",
       "      <td>0.321257</td>\n",
       "      <td>4.069447</td>\n",
       "      <td>-3.967711</td>\n",
       "      <td>-1.349032</td>\n",
       "      <td>0.870008</td>\n",
       "      <td>-7.401394</td>\n",
       "      <td>3.824443</td>\n",
       "      <td>0.630161</td>\n",
       "      <td>4</td>\n",
       "    </tr>\n",
       "  </tbody>\n",
       "</table>\n",
       "<p>5 rows × 101 columns</p>\n",
       "</div>"
      ],
      "text/plain": [
       "        PCA1       PCA2       PCA3       PCA4      PCA5       PCA6       PCA7  \\\n",
       "0 -57.446987  95.410981  74.301543 -12.166781  7.981831  36.157573  -7.668542   \n",
       "1  -16.91943    0.73247   -64.0729  -2.095308 -25.42643  27.784178 -16.132765   \n",
       "3 -49.161591  -9.227586   61.24377  37.805744  1.038889  23.240002  -4.801039   \n",
       "4 -18.132534 -51.327797  16.598116 -17.699201  26.38913  -1.551573  -6.266101   \n",
       "5 -19.174994   23.71842  62.802576  14.861267 -4.028201  21.770214  19.477589   \n",
       "\n",
       "        PCA8       PCA9      PCA10  ...     PCA92     PCA93     PCA94  \\\n",
       "0  19.951444   0.142216    3.03524  ...  1.866729  2.585724  -3.13514   \n",
       "1 -17.031383 -22.023874 -27.923308  ...  2.576452  0.750836  4.512147   \n",
       "3 -21.554809 -15.375067 -12.881511  ...  3.226909 -4.726473  0.811566   \n",
       "4  12.336677  -4.233837  28.804476  ...   1.61744 -3.004658  1.658939   \n",
       "5   15.38751   4.935198 -14.260737  ... -1.125525  0.321257  4.069447   \n",
       "\n",
       "       PCA95     PCA96     PCA97      PCA98     PCA99    PCA100 Label  \n",
       "0   1.044765  9.835743 -8.856135   1.295599 -6.276291 -4.757604     4  \n",
       "1   1.158561 -0.123879 -5.128551  -6.446831 -4.391277 -2.951738     3  \n",
       "3  10.831135   3.27236  6.824684  10.011065 -3.791431 -1.936233     4  \n",
       "4  -1.221157 -3.915028  4.608089  -0.757179  6.579847 -2.013851     0  \n",
       "5  -3.967711 -1.349032  0.870008  -7.401394  3.824443  0.630161     4  \n",
       "\n",
       "[5 rows x 101 columns]"
      ]
     },
     "execution_count": 11,
     "metadata": {},
     "output_type": "execute_result"
    }
   ],
   "source": [
    "decomposed.head()"
   ]
  },
  {
   "cell_type": "code",
   "execution_count": null,
   "id": "02302f2a",
   "metadata": {},
   "outputs": [],
   "source": [
    "from sklearn.tree import export_graphviz\n",
    "from six import StringIO\n",
    "from IPython.display import Image  \n",
    "import pydotplus\n",
    "from graphviz import Source\n",
    "\n",
    "dt = StringIO()\n",
    "export_graphviz(DT, out_file=dt, feature_names = decomposed.columns[:-1], \n",
    "                class_names=decomposed.Label.unique().astype(str))\n",
    "graph = pydotplus.graph_from_dot_data(dt.getvalue()) \n",
    "graph.write_png(\"Decision_Tree_layout.png\")\n",
    "Image(graph.create_png())\n"
   ]
  },
  {
   "cell_type": "markdown",
   "id": "62bbf8ae",
   "metadata": {},
   "source": [
    "# KNN implementation "
   ]
  },
  {
   "cell_type": "code",
   "execution_count": null,
   "id": "e3867e25",
   "metadata": {},
   "outputs": [],
   "source": [
    "from sklearn.neighbors import KNeighborsClassifier\n",
    "KNN = KNeighborsClassifier(n_neighbors=9)\n",
    "KNN.fit(X_train, y_train)\n",
    "y_pred = KNN.predict(X_test)\n",
    "\n",
    "#Confusion matrix\n",
    "plt.figure(figsize=(8,5))\n",
    "confusion_matrix = pd.crosstab(y_test, y_pred, rownames=['Actual'], \n",
    "                               colnames=['Predicted'])\n",
    "sns.heatmap(confusion_matrix, annot=True)\n",
    "plt.savefig(\"Confusion_Matrix_KNN.png\")\n",
    "plt.show()\n",
    "\n",
    "print(f\"Accuracy:{metrics.accuracy_score(y_test, y_pred)}\\n\\n\")\n",
    "\n",
    "print(f'More metrics about the model.\\n\\n' \\\n",
    "      f'{metrics.classification_report(y_test, y_pred, labels=[0.0, 1.0, 2.0, 3.0, 4.0])}')\n",
    "roc_knn = metrics.roc_auc_score(y_test, KNN.predict_proba(X_test), average = 'weighted', multi_class='ovr')\n",
    "print(f'Area Under Curve score: {roc_knn}')"
   ]
  },
  {
   "cell_type": "markdown",
   "id": "c08bf46a",
   "metadata": {},
   "source": [
    "# K-Fold function"
   ]
  },
  {
   "cell_type": "code",
   "execution_count": null,
   "id": "3f307623",
   "metadata": {},
   "outputs": [],
   "source": [
    "def k_fold(folds):\n",
    "    split_data = KFold(n_splits = folds, shuffle = True, random_state = np.random.RandomState(5))\n",
    "    return split_data, folds"
   ]
  },
  {
   "cell_type": "code",
   "execution_count": null,
   "id": "bd5f3310",
   "metadata": {},
   "outputs": [],
   "source": [
    "dt_k, dt_folds = k_fold(3)\n",
    "dt_k_, dt_folds_ = k_fold(5)\n",
    "input_data = decomposed.iloc[:,:-1]\n",
    "label_data = decomposed.Label\n",
    "result = cross_val_score(DT , input_data, label_data, cv = dt_k)\n",
    "print(f\"Average accuracy from 3 folds: {result.mean()}\\n\")\n",
    "result_ = cross_val_score(DT , input_data, label_data, cv = dt_k_)\n",
    "print(f\"Average accuracy from 5 folds: {result_.mean()}\")\n"
   ]
  },
  {
   "cell_type": "markdown",
   "id": "9541ed62",
   "metadata": {},
   "source": [
    "# Grid search Function"
   ]
  },
  {
   "cell_type": "code",
   "execution_count": null,
   "id": "6a980fc6",
   "metadata": {},
   "outputs": [],
   "source": [
    "def grid_search(model, hyper_params, score, folds):\n",
    "    gs = GridSearchCV(estimator = model,\n",
    "    param_grid = hyper_params,\n",
    "    scoring = score,\n",
    "    cv = folds,\n",
    "    return_train_score = True)\n",
    "    return gs    "
   ]
  },
  {
   "cell_type": "code",
   "execution_count": null,
   "id": "8d3835be",
   "metadata": {},
   "outputs": [],
   "source": [
    "#Search for optimal Decision Tree parameters\n",
    "dt_hp = [{'criterion': ['entropy'],\n",
    "       'splitter': ['best', 'random'],\n",
    "       'max_depth': [3,4,5,6,7,None]}]\n",
    "\n",
    "model_gs_ = grid_search(DT, dt_hp, 'accuracy', dt_k_)\n",
    "model_gs_.fit(input_data, label_data)"
   ]
  },
  {
   "cell_type": "code",
   "execution_count": null,
   "id": "12f0d971",
   "metadata": {},
   "outputs": [],
   "source": [
    "print(f\"Model best parameter with {dt_folds_} folds are: {model_gs_.best_params_}\")"
   ]
  },
  {
   "cell_type": "code",
   "execution_count": null,
   "id": "2af70c22",
   "metadata": {},
   "outputs": [],
   "source": [
    "#Rest parameters are default in class object.\n",
    "DT_best_ = DecisionTreeClassifier(criterion='entropy')\n",
    "DT_best_ = DT_best_.fit(X_train,y_train)\n",
    "y_pred_ = DT_best_.predict(X_test)\n",
    "print(f'Decision tree accuracy score with {dt_folds_} and optimal parameters: {metrics.accuracy_score(y_test, y_pred_)}')"
   ]
  },
  {
   "cell_type": "markdown",
   "id": "a4ac3158",
   "metadata": {},
   "source": [
    "# Model Implementation: Random Forest"
   ]
  },
  {
   "cell_type": "code",
   "execution_count": null,
   "id": "e4758204",
   "metadata": {
    "scrolled": false
   },
   "outputs": [],
   "source": [
    "RF = RandomForestClassifier(random_state=np.random.RandomState(5))\n",
    "RF.fit(X_train,y_train)\n",
    "y_pred=RF.predict(X_test)\n",
    "plt.figure(figsize=(7, 5))\n",
    "confusion_matrix = pd.crosstab(y_test, y_pred, rownames=['Actual'], \n",
    "                               colnames=['Predicted'])\n",
    "sns.heatmap(confusion_matrix, annot=True)\n",
    "plt.savefig(\"Confusion_matrix_RF\")\n",
    "plt.show()\n",
    "print(f\"Accuracy:{metrics.accuracy_score(y_test, y_pred)}\\n\\n\")\n",
    "print(f'More metrics about the model.\\n\\n' \\\n",
    "      f'{metrics.classification_report(y_test, y_pred, labels=[0.0, 1.0, 2.0, 3.0, 4.0])}')\n",
    "roc = metrics.roc_auc_score(y_test, DT.predict_proba(X_test), average = 'weighted', multi_class='ovr')\n",
    "print(f'Area Under Curve score: {roc}')"
   ]
  },
  {
   "cell_type": "code",
   "execution_count": null,
   "id": "6702ce46",
   "metadata": {},
   "outputs": [],
   "source": [
    "rf_k, rf_folds = k_fold(3)\n",
    "rf_k_, rf_folds_ = k_fold(5)\n",
    "result = cross_val_score(RF , input_data, label_data, cv = rf_k)\n",
    "print(f\"Average accuracy from 3 folds: {result.mean()}\\n\")\n",
    "result_ = cross_val_score(RF , input_data, label_data, cv = rf_k_)\n",
    "print(f\"Average accuracy from 5 folds: {result_.mean()}\")"
   ]
  },
  {
   "cell_type": "code",
   "execution_count": null,
   "id": "9aeb4b9e",
   "metadata": {},
   "outputs": [],
   "source": [
    "rf_hp = [{'n_estimators': [100, 200, 300, 400, 500],\n",
    "          'criterion': ['entropy'],\n",
    "          'max_depth': [5,6,7,None],\n",
    "          'min_samples_split' :[2,4,6],\n",
    "          'min_samples_leaf': [1,2,3],\n",
    "          'random_state': [np.random.RandomState(5)]}]\n",
    "\n",
    "model_gs_ = grid_search(RF, rf_hp, 'accuracy', rf_k_)\n",
    "model_gs_.fit(input_data, label_data)\n",
    "print(f\"Model best parameter with {rf_folds_} folds are: {model_gs_.best_params_}\")"
   ]
  },
  {
   "cell_type": "code",
   "execution_count": null,
   "id": "53d9ca06",
   "metadata": {},
   "outputs": [],
   "source": [
    "#Rest parameters are default in the class object.\n",
    "RF_best_ = RandomForestClassifier(criterion='entropy',\n",
    "                                  n_estimators = 400,\n",
    "                                  max_depth = None, \n",
    "                                  min_samples_split=4,\n",
    "                                  random_state=np.random.RandomState(5))\n",
    "RF_best_ = RF_best_.fit(X_train,y_train)\n",
    "y_pred_ = RF_best_.predict(X_test)\n",
    "print(f'Decision tree accuracy score with {dt_folds_} and optimal parameters: {metrics.accuracy_score(y_test, y_pred_)}')"
   ]
  },
  {
   "cell_type": "code",
   "execution_count": null,
   "id": "bd4c2e43",
   "metadata": {},
   "outputs": [],
   "source": []
  },
  {
   "cell_type": "code",
   "execution_count": null,
   "id": "519b2263",
   "metadata": {},
   "outputs": [],
   "source": []
  },
  {
   "cell_type": "code",
   "execution_count": null,
   "id": "a700eeaf",
   "metadata": {},
   "outputs": [],
   "source": []
  },
  {
   "cell_type": "code",
   "execution_count": null,
   "id": "601b92b3",
   "metadata": {},
   "outputs": [],
   "source": []
  },
  {
   "cell_type": "code",
   "execution_count": null,
   "id": "8ddcaa7c",
   "metadata": {},
   "outputs": [],
   "source": []
  }
 ],
 "metadata": {
  "kernelspec": {
   "display_name": "Python 3",
   "language": "python",
   "name": "python3"
  },
  "language_info": {
   "codemirror_mode": {
    "name": "ipython",
    "version": 3
   },
   "file_extension": ".py",
   "mimetype": "text/x-python",
   "name": "python",
   "nbconvert_exporter": "python",
   "pygments_lexer": "ipython3",
   "version": "3.8.2"
  }
 },
 "nbformat": 4,
 "nbformat_minor": 5
}
